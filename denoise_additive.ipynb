{
  "nbformat": 4,
  "nbformat_minor": 0,
  "metadata": {
    "colab": {
      "name": "Untitled3.ipynb",
      "version": "0.3.2",
      "provenance": [],
      "include_colab_link": true
    },
    "kernelspec": {
      "name": "python2",
      "display_name": "Python 2"
    },
    "accelerator": "GPU"
  },
  "cells": [
    {
      "cell_type": "markdown",
      "metadata": {
        "id": "view-in-github",
        "colab_type": "text"
      },
      "source": [
        "<a href=\"https://colab.research.google.com/github/AlexMontgomerie/deepLearning/blob/master/denoise_additive.ipynb\" target=\"_parent\"><img src=\"https://colab.research.google.com/assets/colab-badge.svg\" alt=\"Open In Colab\"/></a>"
      ]
    },
    {
      "metadata": {
        "id": "hjTIqmNec40a",
        "colab_type": "code",
        "outputId": "6648baa2-042a-420d-c876-5ada22a140f5",
        "colab": {
          "base_uri": "https://localhost:8080/",
          "height": 493
        }
      },
      "cell_type": "code",
      "source": [
        "%cd /content\n",
        "#!rm -rf deepLearning\n",
        "!git clone https://github.com/AlexMontgomerie/deepLearning\n",
        "%cd deepLearning\n",
        "!git pull origin master\n",
        "!pip install gputil\n",
        "!pip install psutil\n",
        "!pip install humanize\n",
        "# Taken from\n",
        "# https://stackoverflow.com/questions/48750199/google-colaboratory-misleading-information-about-its-gpu-only-5-ram-available\n",
        "# memory footprint support libraries/code\n",
        "!ln -sf /opt/bin/nvidia-smi /usr/bin/nvidia-smi\n",
        "!pip install gputil\n",
        "!pip install psutil\n",
        "!pip install humanize\n",
        "import psutil\n",
        "import humanize\n",
        "import os\n",
        "import GPUtil as GPU\n",
        "GPUs = GPU.getGPUs()\n",
        "# Colab only provides one GPU and it is not always guaranteed\n",
        "gpu = GPUs[0]\n",
        "def printm():\n",
        "  process = psutil.Process(os.getpid())\n",
        "  print(\"RAM Free: \" + humanize.naturalsize( psutil.virtual_memory().available ), \" | Proc size: \" + humanize.naturalsize( process.memory_info().rss))\n",
        "  print(\"GPU RAM Free: {0:.0f}MB | Used: {1:.0f}MB | Util {2:3.0f}% | Total {3:.0f}MB\".format(gpu.memoryFree, gpu.memoryUsed, gpu.memoryUtil*100, gpu.memoryTotal))\n",
        "printm()"
      ],
      "execution_count": 2,
      "outputs": [
        {
          "output_type": "stream",
          "text": [
            "/content\n",
            "Cloning into 'deepLearning'...\n",
            "remote: Enumerating objects: 88, done.\u001b[K\n",
            "remote: Counting objects: 100% (88/88), done.\u001b[K\n",
            "remote: Compressing objects: 100% (73/73), done.\u001b[K\n",
            "remote: Total 333 (delta 45), reused 35 (delta 14), pack-reused 245\u001b[K\n",
            "Receiving objects: 100% (333/333), 150.54 MiB | 19.45 MiB/s, done.\n",
            "Resolving deltas: 100% (128/128), done.\n",
            "Checking out files: 100% (103/103), done.\n",
            "/content/deepLearning\n",
            "From https://github.com/AlexMontgomerie/deepLearning\n",
            " * branch            master     -> FETCH_HEAD\n",
            "Already up to date.\n",
            "Collecting gputil\n",
            "  Downloading https://files.pythonhosted.org/packages/ed/0e/5c61eedde9f6c87713e89d794f01e378cfd9565847d4576fa627d758c554/GPUtil-1.4.0.tar.gz\n",
            "Building wheels for collected packages: gputil\n",
            "  Building wheel for gputil (setup.py) ... \u001b[?25ldone\n",
            "\u001b[?25h  Stored in directory: /root/.cache/pip/wheels/3d/77/07/80562de4bb0786e5ea186911a2c831fdd0018bda69beab71fd\n",
            "Successfully built gputil\n",
            "Installing collected packages: gputil\n",
            "Successfully installed gputil-1.4.0\n",
            "Requirement already satisfied: psutil in /usr/local/lib/python2.7/dist-packages (5.4.8)\n",
            "Requirement already satisfied: humanize in /usr/local/lib/python2.7/dist-packages (0.5.1)\n",
            "Requirement already satisfied: gputil in /usr/local/lib/python2.7/dist-packages (1.4.0)\n",
            "Requirement already satisfied: psutil in /usr/local/lib/python2.7/dist-packages (5.4.8)\n",
            "Requirement already satisfied: humanize in /usr/local/lib/python2.7/dist-packages (0.5.1)\n",
            "('RAM Free: 12.9 GB', ' | Proc size: 154.0 MB')\n",
            "GPU RAM Free: 11441MB | Used: 0MB | Util   0% | Total 11441MB\n"
          ],
          "name": "stdout"
        }
      ]
    },
    {
      "metadata": {
        "id": "lPQ7XCWvdZ6H",
        "colab_type": "code",
        "outputId": "bd6671af-96da-4625-b016-4f0d484e87d1",
        "colab": {
          "base_uri": "https://localhost:8080/",
          "height": 479
        }
      },
      "cell_type": "code",
      "source": [
        "from common import *\n",
        "!./setup.sh"
      ],
      "execution_count": 3,
      "outputs": [
        {
          "output_type": "stream",
          "text": [
            "Using TensorFlow backend.\n"
          ],
          "name": "stderr"
        },
        {
          "output_type": "stream",
          "text": [
            "--2019-03-12 00:56:40--  https://imperialcollegelondon.box.com/shared/static/ah40eq7cxpwq4a6l4f62efzdyt8rm3ha.zip\n",
            "Resolving imperialcollegelondon.box.com (imperialcollegelondon.box.com)... 185.235.236.197\n",
            "Connecting to imperialcollegelondon.box.com (imperialcollegelondon.box.com)|185.235.236.197|:443... connected.\n",
            "HTTP request sent, awaiting response... 301 Moved Permanently\n",
            "Location: /public/static/ah40eq7cxpwq4a6l4f62efzdyt8rm3ha.zip [following]\n",
            "--2019-03-12 00:56:40--  https://imperialcollegelondon.box.com/public/static/ah40eq7cxpwq4a6l4f62efzdyt8rm3ha.zip\n",
            "Reusing existing connection to imperialcollegelondon.box.com:443.\n",
            "HTTP request sent, awaiting response... 301 Moved Permanently\n",
            "Location: https://imperialcollegelondon.app.box.com/public/static/ah40eq7cxpwq4a6l4f62efzdyt8rm3ha.zip [following]\n",
            "--2019-03-12 00:56:40--  https://imperialcollegelondon.app.box.com/public/static/ah40eq7cxpwq4a6l4f62efzdyt8rm3ha.zip\n",
            "Resolving imperialcollegelondon.app.box.com (imperialcollegelondon.app.box.com)... 185.235.236.199\n",
            "Connecting to imperialcollegelondon.app.box.com (imperialcollegelondon.app.box.com)|185.235.236.199|:443... connected.\n",
            "HTTP request sent, awaiting response... 302 Found\n",
            "Location: https://public.boxcloud.com/d/1/b1!Bk3agOqF_NE1Bd3QJK6uj_CVCiKdOD_IR88wROXWb6Zf48SW7d98ofTLBL5PEaLnBgqoC4r4DTVzTPOggHHZblwNajCNMNdBInHdvXhpYGP_QNEtKALsZALcHZnp-cVuTh-OW48Jw1rpHPqDzWw89Gavt5XkxKYR4igCZcTkt9dukPES4c3bfOqCnAE3wX8kS-1djeJPnpsnPeYnf3BlcwC5qiMG4eRkbGSOaLlCT0jcIug6A1PKYxkg5yHYVXcvWMSSRd7nCT8PhFaM5-0UgNt_x_rHfclhXO4mWUMhhQc8jjL0jdtl1y4qgvk2GzSYXy_CuyCOpw0UppM3Y_Um1uFEZq6bB2vAcagYkHeAtG63ATPBv35rQfr09aqjWJpWOkYMfN_SJn5E7iuNCf3zO37Kep3_w6vJqHhIwCcGnMXa7x48x_QmhwBANSxGuOTmytfA0i3znwbJLC0Go5o9jjrAOFT6K32mQiiPqR60g6b4GOyYZrSvm8MYZqrVyADBEyqUAR_DCuIGDADj6n48QqY_MDOOk0zgH-zFCQyhAkavucerL488yDh8CjkGbL6MMEkgVNcirFGqO27Ggq1UU6JAi7QqFIy5Bnvul1eXTF_DV2tkV8Z1rFGZ2BB0gRgmqSg6O3R9MRoB2SPT3LGegzGUPZC8YLrTo5RTq3zTTxaX14CaQP4n_ZgMO1CZpB8wpv-04jNnXUAGWBHh68h6ENyyLK335n8hv1eHHoG7qpuOUFI_MtByLFxdIA00FQyadLBU8qcQAnmAONbueszBgwqZYKaZGU-m0m8MJpW9xlIFDc-wkBvxwsMpALzN02Uf_0r_vyAWUh-yRxSO8L5Gd6NurR21X4Fy1-TslmM83ljj03j0MkPDH6MHz8yaxwuMugDtNsCdsLNmBDzPpwWB6NmQD_nntXt3Pjsrchom0OcqgAZVI7wTvG3ztkmSVVZ5_VIxGVCjpRE6czARFh75Nn7IEeYoErL6AR8VoeWrlqkMy-GAZwAHnDz1dayeHJeWQUrmlEf2SkcChYKX1vZAq_dIpxsvKnDT9uhWQ4zAqZD1hjkqaZ3hq-x8R_JLKOrq3QNB0Sgnjn8dA-w6vuy6uA6Gl9b9n_-Tgdu8oZdWtEVFh7HTeHUtpe4S4raaZ9tOy25uA1I7IcqEW1aTxi_WQiTHqQ6XKbPQpNzLLi50iIQjylgRSCfZcCPcjm5COTndsVuWDyvkaTMMKkZf63kqnyV1hDYfBuEswWeLt0wkXSYFjm8F26bRT5-1SgHa8uDBg8r0_LAkhZYPjcVkhMcdc8lQLWpPp_n6hy1fWNgH1W4hQeV1dzSmeUWQFfwPSL6KwQUr9nK7XzmxZuyDhLv5_bZHmcnfWr1MKiatuV563lNVFPL8REKlCLJnTXA3Qxq7LFZ7IkuxkzTfn_C9-bBc8BGlThBDmHZAOc4CFVBXnCOzQhV5UjZj6xDif9Dz0HbYvFelZw-dfRHxQo3m5Td5ZM3Reeat0g../download [following]\n",
            "--2019-03-12 00:56:41--  https://public.boxcloud.com/d/1/b1!Bk3agOqF_NE1Bd3QJK6uj_CVCiKdOD_IR88wROXWb6Zf48SW7d98ofTLBL5PEaLnBgqoC4r4DTVzTPOggHHZblwNajCNMNdBInHdvXhpYGP_QNEtKALsZALcHZnp-cVuTh-OW48Jw1rpHPqDzWw89Gavt5XkxKYR4igCZcTkt9dukPES4c3bfOqCnAE3wX8kS-1djeJPnpsnPeYnf3BlcwC5qiMG4eRkbGSOaLlCT0jcIug6A1PKYxkg5yHYVXcvWMSSRd7nCT8PhFaM5-0UgNt_x_rHfclhXO4mWUMhhQc8jjL0jdtl1y4qgvk2GzSYXy_CuyCOpw0UppM3Y_Um1uFEZq6bB2vAcagYkHeAtG63ATPBv35rQfr09aqjWJpWOkYMfN_SJn5E7iuNCf3zO37Kep3_w6vJqHhIwCcGnMXa7x48x_QmhwBANSxGuOTmytfA0i3znwbJLC0Go5o9jjrAOFT6K32mQiiPqR60g6b4GOyYZrSvm8MYZqrVyADBEyqUAR_DCuIGDADj6n48QqY_MDOOk0zgH-zFCQyhAkavucerL488yDh8CjkGbL6MMEkgVNcirFGqO27Ggq1UU6JAi7QqFIy5Bnvul1eXTF_DV2tkV8Z1rFGZ2BB0gRgmqSg6O3R9MRoB2SPT3LGegzGUPZC8YLrTo5RTq3zTTxaX14CaQP4n_ZgMO1CZpB8wpv-04jNnXUAGWBHh68h6ENyyLK335n8hv1eHHoG7qpuOUFI_MtByLFxdIA00FQyadLBU8qcQAnmAONbueszBgwqZYKaZGU-m0m8MJpW9xlIFDc-wkBvxwsMpALzN02Uf_0r_vyAWUh-yRxSO8L5Gd6NurR21X4Fy1-TslmM83ljj03j0MkPDH6MHz8yaxwuMugDtNsCdsLNmBDzPpwWB6NmQD_nntXt3Pjsrchom0OcqgAZVI7wTvG3ztkmSVVZ5_VIxGVCjpRE6czARFh75Nn7IEeYoErL6AR8VoeWrlqkMy-GAZwAHnDz1dayeHJeWQUrmlEf2SkcChYKX1vZAq_dIpxsvKnDT9uhWQ4zAqZD1hjkqaZ3hq-x8R_JLKOrq3QNB0Sgnjn8dA-w6vuy6uA6Gl9b9n_-Tgdu8oZdWtEVFh7HTeHUtpe4S4raaZ9tOy25uA1I7IcqEW1aTxi_WQiTHqQ6XKbPQpNzLLi50iIQjylgRSCfZcCPcjm5COTndsVuWDyvkaTMMKkZf63kqnyV1hDYfBuEswWeLt0wkXSYFjm8F26bRT5-1SgHa8uDBg8r0_LAkhZYPjcVkhMcdc8lQLWpPp_n6hy1fWNgH1W4hQeV1dzSmeUWQFfwPSL6KwQUr9nK7XzmxZuyDhLv5_bZHmcnfWr1MKiatuV563lNVFPL8REKlCLJnTXA3Qxq7LFZ7IkuxkzTfn_C9-bBc8BGlThBDmHZAOc4CFVBXnCOzQhV5UjZj6xDif9Dz0HbYvFelZw-dfRHxQo3m5Td5ZM3Reeat0g../download\n",
            "Resolving public.boxcloud.com (public.boxcloud.com)... 185.235.236.200\n",
            "Connecting to public.boxcloud.com (public.boxcloud.com)|185.235.236.200|:443... connected.\n",
            "HTTP request sent, awaiting response... 200 OK\n",
            "Length: 4088106554 (3.8G) [application/zip]\n",
            "Saving to: ‘hpatches_data.zip’\n",
            "\n",
            "hpatches_data.zip   100%[===================>]   3.81G  20.4MB/s    in 3m 24s  \n",
            "\n",
            "2019-03-12 01:00:05 (19.2 MB/s) - ‘hpatches_data.zip’ saved [4088106554/4088106554]\n",
            "\n"
          ],
          "name": "stdout"
        }
      ]
    },
    {
      "metadata": {
        "id": "9tKQ2MRffaFR",
        "colab_type": "code",
        "outputId": "85aaf908-8063-46ad-d201-09c654cce1c8",
        "colab": {
          "base_uri": "https://localhost:8080/",
          "height": 51
        }
      },
      "cell_type": "code",
      "source": [
        "from denoise_network import *\n",
        "from get_data import get_data\n",
        "\n",
        "EPOCHS = 50\n",
        "\n",
        "seqs_train, seqs_test = get_data()\n",
        "\n",
        "# get traning data\n",
        "\n",
        "denoise_generator     = DenoiseHPatches(seqs_train, batch_size=500)\n",
        "denoise_generator_val = DenoiseHPatches(seqs_test, batch_size=500)"
      ],
      "execution_count": 4,
      "outputs": [
        {
          "output_type": "stream",
          "text": [
            "100%|██████████| 76/76 [01:10<00:00,  1.09s/it]\n",
            "100%|██████████| 40/40 [00:43<00:00,  1.03it/s]\n"
          ],
          "name": "stderr"
        }
      ]
    },
    {
      "metadata": {
        "id": "-BV5WKqNdfgo",
        "colab_type": "code",
        "colab": {}
      },
      "cell_type": "code",
      "source": [
        "\n",
        "import sys\n",
        "import json\n",
        "import os\n",
        "import glob\n",
        "import keras\n",
        "from keras import regularizers\n",
        "from keras import backend as K\n",
        "from keras.models import Sequential, Model\n",
        "from keras.layers import Dense, Dropout, Activation, Flatten, Input, Lambda, Reshape\n",
        "from keras.layers import Conv2D, MaxPooling2D, BatchNormalization\n",
        "from keras.layers import Input, UpSampling2D, concatenate, Subtract\n",
        "import time\n",
        "import tensorflow as tf\n",
        "import numpy as np\n",
        "import cv2\n",
        "import random\n",
        "from read_data import HPatches, DataGeneratorDesc, hpatches_sequence_folder, DenoiseHPatches, tps\n",
        "from utils import generate_desc_csv, plot_denoise, plot_triplet\n",
        "import matplotlib.pyplot as plt\n",
        "\n",
        "def get_denoise_model_additive(shape):\n",
        "\n",
        "  inputs  = Input(shape)\n",
        "  depth1  = 16\n",
        "  conv1_1 = Conv2D(depth1, 1, padding = 'same', kernel_initializer = 'he_normal', name='denoise_in')(inputs)\n",
        "  \n",
        "  # convolution layers\n",
        "  conv1_2  = Conv2D(depth1, 2 , activation = 'relu', padding = 'same', kernel_initializer = 'he_normal', name='denoise_1_2' )(conv1_1)\n",
        "  conv1_3  = Conv2D(depth1, 3 , activation = 'relu', padding = 'same', kernel_initializer = 'he_normal', name='denoise_1_3' )(conv1_1)\n",
        "  conv1_5  = Conv2D(depth1, 5 , activation = 'relu', padding = 'same', kernel_initializer = 'he_normal', name='denoise_1_5' )(conv1_1)\n",
        "  conv1_7  = Conv2D(depth1, 7 , activation = 'relu', padding = 'same', kernel_initializer = 'he_normal', name='denoise_1_7' )(conv1_1)\n",
        "  conv1_9  = Conv2D(depth1, 9 , activation = 'relu', padding = 'same', kernel_initializer = 'he_normal', name='denoise_1_9' )(conv1_1)\n",
        "  conv1_11 = Conv2D(depth1, 11, activation = 'relu', padding = 'same', kernel_initializer = 'he_normal', name='denoise_1_11')(conv1_1)\n",
        "  \n",
        "  # network\n",
        "  net1 = Subtract()([conv1_1, conv1_2])\n",
        "  net1 = BatchNormalization()(net1)\n",
        "  net1 = Subtract()([conv1_1, conv1_3])\n",
        "  net1 = BatchNormalization()(net1)\n",
        "  net1 = Subtract()([conv1_1, conv1_5])\n",
        "  net1 = BatchNormalization()(net1)\n",
        "  net1 = Subtract()([conv1_1, conv1_7])\n",
        "  net1 = BatchNormalization()(net1)\n",
        "  net1 = Subtract()([conv1_1, conv1_9])\n",
        "  net1 = BatchNormalization()(net1)\n",
        "  net1 = Subtract()([conv1_1, conv1_11])\n",
        "  net1 = BatchNormalization()(net1)  \n",
        "  \n",
        "  # convolution layers\n",
        "  depth2 = 16\n",
        "  #conv2_1  = Conv2D(depth2, 1, padding = 'same', kernel_initializer = 'he_normal')(net1)\n",
        "  conv2_2  = Conv2D(depth2, 2 , activation = 'relu', padding = 'same', kernel_initializer = 'he_normal', name='denoise_2_2' )(net1)\n",
        "  conv2_3  = Conv2D(depth2, 3 , activation = 'relu', padding = 'same', kernel_initializer = 'he_normal', name='denoise_2_3' )(net1)\n",
        "  conv2_5  = Conv2D(depth2, 5 , activation = 'relu', padding = 'same', kernel_initializer = 'he_normal', name='denoise_2_5' )(net1)\n",
        "  conv2_7  = Conv2D(depth2, 7 , activation = 'relu', padding = 'same', kernel_initializer = 'he_normal', name='denoise_2_7' )(net1)\n",
        "  conv2_9  = Conv2D(depth2, 9 , activation = 'relu', padding = 'same', kernel_initializer = 'he_normal', name='denoise_2_9' )(net1)\n",
        "  conv2_11 = Conv2D(depth2, 11, activation = 'relu', padding = 'same', kernel_initializer = 'he_normal', name='denoise_2_11')(net1)\n",
        "  \n",
        "  # network\n",
        "  net2 = Subtract()([net1, conv2_2])\n",
        "  net2 = BatchNormalization()(net2)\n",
        "  net2 = Subtract()([net1, conv2_3])\n",
        "  net2 = BatchNormalization()(net2)\n",
        "  net2 = Subtract()([net1, conv2_5])\n",
        "  net2 = BatchNormalization()(net2)\n",
        "  net2 = Subtract()([net1, conv2_7])\n",
        "  net2 = BatchNormalization()(net2)\n",
        "  net2 = Subtract()([net1, conv2_9])\n",
        "  net2 = BatchNormalization()(net2)\n",
        "  net2 = Subtract()([net1, conv2_11])\n",
        "  net2 = BatchNormalization()(net2)  \n",
        "  \n",
        "  # convolution layers\n",
        "  depth3 = 16\n",
        "  #conv3_1  = Conv2D(depth3, 1, padding = 'same', kernel_initializer = 'he_normal')(net1)\n",
        "  conv3_2  = Conv2D(depth3, 2 , activation = 'relu', padding = 'same', kernel_initializer = 'he_normal', name='denoise_3_2' )(net2)\n",
        "  conv3_3  = Conv2D(depth3, 3 , activation = 'relu', padding = 'same', kernel_initializer = 'he_normal', name='denoise_3_3' )(net2)\n",
        "  conv3_5  = Conv2D(depth3, 5 , activation = 'relu', padding = 'same', kernel_initializer = 'he_normal', name='denoise_3_5' )(net2)\n",
        "  conv3_7  = Conv2D(depth3, 7 , activation = 'relu', padding = 'same', kernel_initializer = 'he_normal', name='denoise_3_7' )(net2)\n",
        "  conv3_9  = Conv2D(depth3, 9 , activation = 'relu', padding = 'same', kernel_initializer = 'he_normal', name='denoise_3_9' )(net2)\n",
        "  conv3_11 = Conv2D(depth3, 11, activation = 'relu', padding = 'same', kernel_initializer = 'he_normal', name='denoise_3_11')(net2)\n",
        "  \n",
        "  # network\n",
        "  net3 = Subtract()([net2, conv3_2])\n",
        "  net3 = BatchNormalization()(net3)\n",
        "  net3 = Subtract()([net2, conv3_3])\n",
        "  net3 = BatchNormalization()(net3)\n",
        "  net3 = Subtract()([net2, conv3_5])\n",
        "  net3 = BatchNormalization()(net3)\n",
        "  net3 = Subtract()([net2, conv3_7])\n",
        "  net3 = BatchNormalization()(net3)\n",
        "  net3 = Subtract()([net2, conv3_9])\n",
        "  net3 = BatchNormalization()(net3)\n",
        "  net3 = Subtract()([net2, conv3_11])\n",
        "  net3 = BatchNormalization()(net3)  \n",
        "  \n",
        "  net = Conv2D(1, 1, activation = 'relu', padding = 'same', kernel_initializer = 'he_normal', name='denoise_out' )(net3)\n",
        "  \n",
        "  return Model(inputs = inputs, outputs = net)\n",
        "\n",
        "# optimiser\n",
        "opt  = opt = keras.optimizers.nadam()\n",
        "\n",
        "# train network\n",
        "def ssim_loss(clean,noisy):\n",
        "  return 1 - tf.image.ssim(clean, noisy, max_val=1.0)\n",
        "\n",
        "def snr_loss(clean,noisy):\n",
        "  tmp = tf.image.psnr(clean, noisy, max_val=1.0)\n",
        "  print(tmp)\n",
        "  return - tmp"
      ],
      "execution_count": 0,
      "outputs": []
    },
    {
      "metadata": {
        "id": "F0wHO0InfUpf",
        "colab_type": "code",
        "outputId": "d2e53149-f581-4e0b-bc35-125f38ca7e98",
        "colab": {
          "base_uri": "https://localhost:8080/",
          "height": 1326
        }
      },
      "cell_type": "code",
      "source": [
        "# get model\n",
        "shape = (32, 32, 1)\n",
        "denoise_model = get_denoise_model_additive(shape)\n",
        "\n",
        "# callbacks\n",
        "callbacks = [\n",
        "    keras.callbacks.EarlyStopping(monitor = 'val_loss', patience = 5, verbose = 3, mode= 'auto'),\n",
        "    keras.callbacks.ModelCheckpoint('data/denoise_model_mae.weights.{epoch:02d}-{val_loss:.2f}.hdf5', verbose=1, save_best_only=True)\n",
        "]\n",
        "\n",
        "denoise_model.compile(loss='mean_absolute_error', optimizer=opt, metrics=['accuracy'])\n",
        "denoise_history = denoise_model.fit_generator(generator=denoise_generator, epochs=EPOCHS, callbacks=callbacks,\n",
        "                                              verbose=1, validation_data=denoise_generator_val)"
      ],
      "execution_count": 14,
      "outputs": [
        {
          "output_type": "stream",
          "text": [
            "Epoch 1/50\n",
            "3117/3117 [==============================] - 522s 168ms/step - loss: 22.0756 - acc: 0.0429 - val_loss: 5.9900 - val_acc: 0.0655\n",
            "\n",
            "Epoch 00001: val_loss improved from inf to 5.98998, saving model to data/denoise_model_mae.weights.01-5.99.hdf5\n",
            "Epoch 2/50\n",
            "3117/3117 [==============================] - 520s 167ms/step - loss: 6.4310 - acc: 0.0582 - val_loss: 5.9043 - val_acc: 0.0659\n",
            "\n",
            "Epoch 00002: val_loss improved from 5.98998 to 5.90428, saving model to data/denoise_model_mae.weights.02-5.90.hdf5\n",
            "Epoch 3/50\n",
            "3117/3117 [==============================] - 520s 167ms/step - loss: 6.2954 - acc: 0.0596 - val_loss: 5.9019 - val_acc: 0.0659\n",
            "\n",
            "Epoch 00003: val_loss improved from 5.90428 to 5.90191, saving model to data/denoise_model_mae.weights.03-5.90.hdf5\n",
            "Epoch 4/50\n",
            "3117/3117 [==============================] - 520s 167ms/step - loss: 6.1477 - acc: 0.0613 - val_loss: 5.6397 - val_acc: 0.0696\n",
            "\n",
            "Epoch 00004: val_loss improved from 5.90191 to 5.63970, saving model to data/denoise_model_mae.weights.04-5.64.hdf5\n",
            "Epoch 5/50\n",
            "3117/3117 [==============================] - 519s 167ms/step - loss: 5.9104 - acc: 0.0649 - val_loss: 6.1423 - val_acc: 0.0574\n",
            "\n",
            "Epoch 00005: val_loss did not improve from 5.63970\n",
            "Epoch 6/50\n",
            "3117/3117 [==============================] - 520s 167ms/step - loss: 5.8187 - acc: 0.0668 - val_loss: 5.7384 - val_acc: 0.0671\n",
            "\n",
            "Epoch 00006: val_loss did not improve from 5.63970\n",
            "Epoch 7/50\n",
            "3117/3117 [==============================] - 520s 167ms/step - loss: 5.8095 - acc: 0.0675 - val_loss: 5.5225 - val_acc: 0.0717\n",
            "\n",
            "Epoch 00007: val_loss improved from 5.63970 to 5.52246, saving model to data/denoise_model_mae.weights.07-5.52.hdf5\n",
            "Epoch 8/50\n",
            "3117/3117 [==============================] - 520s 167ms/step - loss: 5.6851 - acc: 0.0697 - val_loss: 5.9447 - val_acc: 0.0614\n",
            "\n",
            "Epoch 00008: val_loss did not improve from 5.52246\n",
            "Epoch 9/50\n",
            "3117/3117 [==============================] - 520s 167ms/step - loss: 5.8038 - acc: 0.0679 - val_loss: 6.8219 - val_acc: 0.0570\n",
            "\n",
            "Epoch 00009: val_loss did not improve from 5.52246\n",
            "Epoch 10/50\n",
            "3117/3117 [==============================] - 520s 167ms/step - loss: 5.7935 - acc: 0.0675 - val_loss: 5.3843 - val_acc: 0.0789\n",
            "\n",
            "Epoch 00010: val_loss improved from 5.52246 to 5.38426, saving model to data/denoise_model_mae.weights.10-5.38.hdf5\n",
            "Epoch 11/50\n",
            "3117/3117 [==============================] - 519s 167ms/step - loss: 5.6359 - acc: 0.0710 - val_loss: 5.5109 - val_acc: 0.0704\n",
            "\n",
            "Epoch 00011: val_loss did not improve from 5.38426\n",
            "Epoch 12/50\n",
            "3117/3117 [==============================] - 520s 167ms/step - loss: 5.6090 - acc: 0.0717 - val_loss: 5.3623 - val_acc: 0.0785\n",
            "\n",
            "Epoch 00012: val_loss improved from 5.38426 to 5.36227, saving model to data/denoise_model_mae.weights.12-5.36.hdf5\n",
            "Epoch 13/50\n",
            "3117/3117 [==============================] - 522s 167ms/step - loss: 5.6250 - acc: 0.0715 - val_loss: 5.3707 - val_acc: 0.0766\n",
            "\n",
            "Epoch 00013: val_loss did not improve from 5.36227\n",
            "Epoch 14/50\n",
            "3117/3117 [==============================] - 521s 167ms/step - loss: 5.5799 - acc: 0.0726 - val_loss: 5.3531 - val_acc: 0.0768\n",
            "\n",
            "Epoch 00014: val_loss improved from 5.36227 to 5.35310, saving model to data/denoise_model_mae.weights.14-5.35.hdf5\n",
            "Epoch 15/50\n",
            "3117/3117 [==============================] - 522s 167ms/step - loss: 5.5694 - acc: 0.0729 - val_loss: 5.4240 - val_acc: 0.0751\n",
            "\n",
            "Epoch 00015: val_loss did not improve from 5.35310\n",
            "Epoch 16/50\n",
            "3117/3117 [==============================] - 522s 167ms/step - loss: 5.7220 - acc: 0.0705 - val_loss: 6.0318 - val_acc: 0.0630\n",
            "\n",
            "Epoch 00016: val_loss did not improve from 5.35310\n",
            "Epoch 17/50\n",
            "3117/3117 [==============================] - 522s 168ms/step - loss: 5.8668 - acc: 0.0661 - val_loss: 5.8977 - val_acc: 0.0650\n",
            "\n",
            "Epoch 00017: val_loss did not improve from 5.35310\n",
            "Epoch 18/50\n",
            "3117/3117 [==============================] - 522s 168ms/step - loss: 5.6325 - acc: 0.0708 - val_loss: 5.3986 - val_acc: 0.0749\n",
            "\n",
            "Epoch 00018: val_loss did not improve from 5.35310\n",
            "Epoch 19/50\n",
            "3117/3117 [==============================] - 523s 168ms/step - loss: 5.5472 - acc: 0.0732 - val_loss: 5.3746 - val_acc: 0.0781\n",
            "\n",
            "Epoch 00019: val_loss did not improve from 5.35310\n",
            "Epoch 00019: early stopping\n"
          ],
          "name": "stdout"
        }
      ]
    },
    {
      "metadata": {
        "id": "AR2ZbS_2dNlE",
        "colab_type": "code",
        "colab": {
          "base_uri": "https://localhost:8080/",
          "height": 559
        },
        "outputId": "efda0a9e-9d5b-4dac-d5be-6f7f0b5ab04e"
      },
      "cell_type": "code",
      "source": [
        "plot_denoise(denoise_model)\n",
        "plt.plot(denoise_history.history['loss'])\n",
        "plt.plot(denoise_history.history['val_loss'])\n",
        "plt.title('model loss')\n",
        "plt.ylabel('loss')\n",
        "plt.xlabel('epoch')\n",
        "plt.legend(['train', 'test'], loc='upper right')\n",
        "plt.show()"
      ],
      "execution_count": 16,
      "outputs": [
        {
          "output_type": "stream",
          "text": [
            "100%|██████████| 1/1 [00:00<00:00,  1.65it/s]\n"
          ],
          "name": "stderr"
        },
        {
          "output_type": "display_data",
          "data": {
            "image/png": "[encoded data removed]",
            "text/plain": [
              "<Figure size 576x396 with 3 Axes>"
            ]
          },
          "metadata": {
            "tags": []
          }
        },
        {
          "output_type": "display_data",
          "data": {
            "image/png": "[encoded data removed]",
            "text/plain": [
              "<Figure size 576x396 with 1 Axes>"
            ]
          },
          "metadata": {
            "tags": []
          }
        }
      ]
    }
  ]
}