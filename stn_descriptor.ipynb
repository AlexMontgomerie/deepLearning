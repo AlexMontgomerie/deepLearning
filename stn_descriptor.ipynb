{
  "nbformat": 4,
  "nbformat_minor": 0,
  "metadata": {
    "colab": {
      "name": "Baseline_code.ipynb",
      "version": "0.3.2",
      "provenance": [],
      "collapsed_sections": [],
      "include_colab_link": true
    },
    "kernelspec": {
      "display_name": "Python 2",
      "name": "python2"
    },
    "accelerator": "GPU"
  },
  "cells": [
    {
      "cell_type": "markdown",
      "metadata": {
        "id": "view-in-github",
        "colab_type": "text"
      },
      "source": [
        "<a href=\"https://colab.research.google.com/github/AlexMontgomerie/deepLearning/blob/master/stn_descriptor.ipynb\" target=\"_parent\"><img src=\"https://colab.research.google.com/assets/colab-badge.svg\" alt=\"Open In Colab\"/></a>"
      ]
    },
    {
      "metadata": {
        "id": "Wy_53YaTgF3_",
        "colab_type": "code",
        "colab": {
          "base_uri": "https://localhost:8080/",
          "height": 377
        },
        "outputId": "1bddb09b-64ed-4da7-ca43-e1e9b7fd1da7"
      },
      "cell_type": "code",
      "source": [
        "%cd /content\n",
        "#!rm -rf deepLearning\n",
        "!git clone https://github.com/AlexMontgomerie/deepLearning\n",
        "%cd deepLearning\n",
        "!git pull origin master\n",
        "\n",
        "# Taken from\n",
        "# https://stackoverflow.com/questions/48750199/google-colaboratory-misleading-information-about-its-gpu-only-5-ram-available\n",
        "# memory footprint support libraries/code\n",
        "!ln -sf /opt/bin/nvidia-smi /usr/bin/nvidia-smi\n",
        "!pip install gputil\n",
        "!pip install psutil\n",
        "!pip install humanize\n",
        "import psutil\n",
        "import humanize\n",
        "import os\n",
        "import GPUtil as GPU\n",
        "GPUs = GPU.getGPUs()\n",
        "# Colab only provides one GPU and it is not always guaranteed\n",
        "gpu = GPUs[0]\n",
        "def printm():\n",
        "  process = psutil.Process(os.getpid())\n",
        "  print(\"RAM Free: \" + humanize.naturalsize( psutil.virtual_memory().available ), \" | Proc size: \" + humanize.naturalsize( process.memory_info().rss))\n",
        "  print(\"GPU RAM Free: {0:.0f}MB | Used: {1:.0f}MB | Util {2:3.0f}% | Total {3:.0f}MB\".format(gpu.memoryFree, gpu.memoryUsed, gpu.memoryUtil*100, gpu.memoryTotal))\n",
        "printm()\n"
      ],
      "execution_count": 1,
      "outputs": [
        {
          "output_type": "stream",
          "text": [
            "/content\n",
            "fatal: destination path 'deepLearning' already exists and is not an empty directory.\n",
            "/content/deepLearning\n",
            "remote: Enumerating objects: 5, done.\u001b[K\n",
            "remote: Counting objects: 100% (5/5), done.\u001b[K\n",
            "remote: Compressing objects: 100% (1/1), done.\u001b[K\n",
            "remote: Total 3 (delta 2), reused 3 (delta 2), pack-reused 0\u001b[K\n",
            "Unpacking objects: 100% (3/3), done.\n",
            "From https://github.com/AlexMontgomerie/deepLearning\n",
            " * branch            master     -> FETCH_HEAD\n",
            "   c5f0470..b7965e6  master     -> origin/master\n",
            "Updating c5f0470..b7965e6\n",
            "Fast-forward\n",
            " read_data.py | 2 \u001b[32m+\u001b[m\u001b[31m-\u001b[m\n",
            " 1 file changed, 1 insertion(+), 1 deletion(-)\n",
            "Requirement already satisfied: gputil in /usr/local/lib/python2.7/dist-packages (1.4.0)\n",
            "Requirement already satisfied: psutil in /usr/local/lib/python2.7/dist-packages (5.4.8)\n",
            "Requirement already satisfied: humanize in /usr/local/lib/python2.7/dist-packages (0.5.1)\n",
            "('RAM Free: 12.8 GB', ' | Proc size: 153.9 MB')\n",
            "GPU RAM Free: 11441MB | Used: 0MB | Util   0% | Total 11441MB\n"
          ],
          "name": "stdout"
        }
      ]
    },
    {
      "metadata": {
        "id": "zLh6FesVgF4F",
        "colab_type": "code",
        "colab": {
          "base_uri": "https://localhost:8080/",
          "height": 34
        },
        "outputId": "55dfd496-d7d5-4aec-9868-84552bcd5d65"
      },
      "cell_type": "code",
      "source": [
        "from common import *\n",
        "!./setup.sh"
      ],
      "execution_count": 2,
      "outputs": [
        {
          "output_type": "stream",
          "text": [
            "Using TensorFlow backend.\n"
          ],
          "name": "stderr"
        }
      ]
    },
    {
      "metadata": {
        "colab_type": "code",
        "id": "W6QbkHnbuIUD",
        "colab": {}
      },
      "cell_type": "code",
      "source": [
        "import sys\n",
        "import json\n",
        "import os\n",
        "import glob\n",
        "import keras\n",
        "from keras import regularizers\n",
        "from keras import backend as K\n",
        "from keras.models import Sequential, Model\n",
        "from keras.layers import Dense, Dropout, Activation, Flatten, Input, Lambda, Reshape\n",
        "from keras.layers import Conv2D, MaxPooling2D, BatchNormalization\n",
        "from keras.layers import Input, UpSampling2D, concatenate\n",
        "import time\n",
        "import tensorflow as tf\n",
        "import numpy as np\n",
        "import cv2\n",
        "import random\n",
        "from read_data import HPatches, DataGeneratorDesc, hpatches_sequence_folder, DenoiseHPatches, STNHPatches, tps\n",
        "from utils import generate_desc_csv, plot_denoise, plot_triplet\n",
        "import matplotlib.pyplot as plt\n",
        "from layers import BilinearInterpolation\n",
        "\n",
        "def get_initial_weights(output_size):\n",
        "    b = np.zeros((2, 3), dtype='float32')\n",
        "    b[0, 0] = 1\n",
        "    b[1, 1] = 1\n",
        "    W = np.zeros((output_size, 6), dtype='float32')\n",
        "    weights = [W, b.flatten()]\n",
        "    return weights\n",
        "  \n",
        "def get_stn_model(shape):\n",
        "    init_weights = keras.initializers.he_normal()\n",
        "    inputs = Input(shape)\n",
        "    locnet = MaxPooling2D(pool_size=(2, 2))(inputs)\n",
        "    locnet = Conv2D(32, 3, activation='relu', padding='same', kernel_initializer=init_weights)(locnet)\n",
        "    locnet = MaxPooling2D(pool_size=(2, 2))(locnet)\n",
        "    locnet = Conv2D(64, 3, activation='relu', padding='same', kernel_initializer=init_weights)(locnet)\n",
        "    locnet = MaxPooling2D(pool_size=(2, 2))(locnet)\n",
        "    locnet = Conv2D(128, 3, activation='relu', padding='same', kernel_initializer=init_weights)(locnet)\n",
        "    locnet = Flatten()(locnet)\n",
        "    locnet = Dense(100)(locnet)\n",
        "    locnet = Activation('sigmoid')(locnet)\n",
        "    weights = get_initial_weights(100)\n",
        "    locnet = Dense(6, weights=weights)(locnet)\n",
        "    stn    = BilinearInterpolation(shape[:-1])([inputs, locnet])\n",
        "    return Model(inputs=inputs, outputs=stn)"
      ],
      "execution_count": 0,
      "outputs": []
    },
    {
      "metadata": {
        "id": "ciK2bzUiMqZj",
        "colab_type": "code",
        "colab": {
          "base_uri": "https://localhost:8080/",
          "height": 85
        },
        "outputId": "8fca495a-a152-4d6e-af80-5824cb44fd6b"
      },
      "cell_type": "code",
      "source": [
        "%cd /content/deepLearning\n",
        "!git pull origin master"
      ],
      "execution_count": 4,
      "outputs": [
        {
          "output_type": "stream",
          "text": [
            "/content/deepLearning\n",
            "From https://github.com/AlexMontgomerie/deepLearning\n",
            " * branch            master     -> FETCH_HEAD\n",
            "Already up to date.\n"
          ],
          "name": "stdout"
        }
      ]
    },
    {
      "metadata": {
        "id": "7OHNwH_XgF4T",
        "colab_type": "code",
        "colab": {
          "base_uri": "https://localhost:8080/",
          "height": 51
        },
        "outputId": "70a96705-8d10-41e7-fc73-d282dd568cdf"
      },
      "cell_type": "code",
      "source": [
        "from get_data import get_data\n",
        "from read_data import STNHPatches\n",
        "\n",
        "seqs_train, seqs_test = get_data()\n",
        "\n",
        "denoise_generator     = STNHPatches(seqs_train, batch_size=500)\n",
        "denoise_generator_val = STNHPatches(seqs_test, batch_size=500)"
      ],
      "execution_count": 5,
      "outputs": [
        {
          "output_type": "stream",
          "text": [
            "100%|██████████| 76/76 [00:27<00:00,  3.73it/s]\n",
            "100%|██████████| 40/40 [00:15<00:00,  2.01it/s]\n"
          ],
          "name": "stderr"
        }
      ]
    },
    {
      "metadata": {
        "id": "yTLGGPLvHIAP",
        "colab_type": "code",
        "colab": {
          "base_uri": "https://localhost:8080/",
          "height": 3437
        },
        "outputId": "693ac918-81dd-40d3-ffc0-43b64694b835"
      },
      "cell_type": "code",
      "source": [
        "# get model\n",
        "shape = (32, 32, 1)\n",
        "stn_model = get_stn_model(shape)\n",
        "\n",
        "# optimiser\n",
        "opt  = opt = keras.optimizers.nadam()\n",
        "\n",
        "# loss\n",
        "loss = 'mean_squared_error'\n",
        "\n",
        "# train network\n",
        "def ssim_loss(a,p):\n",
        "  return 1 - tf.image.ssim(a, p, max_val=1.0)\n",
        "\n",
        "# callbacks\n",
        "callbacks = [\n",
        "    #keras.callbacks.EarlyStopping(monitor = 'val_loss', patience = 5, verbose = 3, mode= 'auto'),\n",
        "    keras.callbacks.ModelCheckpoint('data/denoise_model.weights.{epoch:02d}-{val_loss:.2f}.hdf5', verbose=1, save_best_only=True)\n",
        "]\n",
        "\n",
        "stn_model.compile(loss=loss, optimizer=opt, metrics=['accuracy'])\n",
        "stn_history = stn_model.fit_generator(generator=denoise_generator, epochs=50, callbacks=callbacks,\n",
        "                                              verbose=1, validation_data=denoise_generator_val)"
      ],
      "execution_count": 26,
      "outputs": [
        {
          "output_type": "stream",
          "text": [
            "Epoch 1/50\n",
            "1169/1169 [==============================] - 76s 65ms/step - loss: 2026.9877 - acc: 0.0586 - val_loss: 2216.6406 - val_acc: 0.0596\n",
            "\n",
            "Epoch 00001: val_loss improved from inf to 2216.64057, saving model to data/denoise_model.weights.01-2216.64.hdf5\n",
            "Epoch 2/50\n",
            "1169/1169 [==============================] - 75s 64ms/step - loss: 2008.1603 - acc: 0.0615 - val_loss: 1857.4938 - val_acc: 0.0667\n",
            "\n",
            "Epoch 00002: val_loss improved from 2216.64057 to 1857.49379, saving model to data/denoise_model.weights.02-1857.49.hdf5\n",
            "Epoch 3/50\n",
            "1169/1169 [==============================] - 75s 64ms/step - loss: 1989.5813 - acc: 0.0641 - val_loss: 1341.7738 - val_acc: 0.0767\n",
            "\n",
            "Epoch 00003: val_loss improved from 1857.49379 to 1341.77384, saving model to data/denoise_model.weights.03-1341.77.hdf5\n",
            "Epoch 4/50\n",
            "1169/1169 [==============================] - 75s 64ms/step - loss: 2006.4245 - acc: 0.0656 - val_loss: 1812.7652 - val_acc: 0.0592\n",
            "\n",
            "Epoch 00004: val_loss did not improve from 1341.77384\n",
            "Epoch 5/50\n",
            "1169/1169 [==============================] - 75s 64ms/step - loss: 1973.8669 - acc: 0.0660 - val_loss: 1564.8647 - val_acc: 0.0757\n",
            "\n",
            "Epoch 00005: val_loss did not improve from 1341.77384\n",
            "Epoch 6/50\n",
            "1169/1169 [==============================] - 75s 64ms/step - loss: 1975.9782 - acc: 0.0667 - val_loss: 1515.0419 - val_acc: 0.0755\n",
            "\n",
            "Epoch 00006: val_loss did not improve from 1341.77384\n",
            "Epoch 7/50\n",
            "1169/1169 [==============================] - 76s 65ms/step - loss: 1965.4817 - acc: 0.0670 - val_loss: 1856.9369 - val_acc: 0.0602\n",
            "\n",
            "Epoch 00007: val_loss did not improve from 1341.77384\n",
            "Epoch 8/50\n",
            "1169/1169 [==============================] - 75s 64ms/step - loss: 1943.8668 - acc: 0.0670 - val_loss: 1341.4046 - val_acc: 0.0666\n",
            "\n",
            "Epoch 00008: val_loss improved from 1341.77384 to 1341.40461, saving model to data/denoise_model.weights.08-1341.40.hdf5\n",
            "Epoch 9/50\n",
            "1169/1169 [==============================] - 75s 64ms/step - loss: 1943.3672 - acc: 0.0674 - val_loss: 1450.4576 - val_acc: 0.0638\n",
            "\n",
            "Epoch 00009: val_loss did not improve from 1341.40461\n",
            "Epoch 10/50\n",
            "1169/1169 [==============================] - 77s 66ms/step - loss: 1951.3316 - acc: 0.0668 - val_loss: 1696.2285 - val_acc: 0.0743\n",
            "\n",
            "Epoch 00010: val_loss did not improve from 1341.40461\n",
            "Epoch 11/50\n",
            "1169/1169 [==============================] - 75s 64ms/step - loss: 1840.5804 - acc: 0.0655 - val_loss: 1337.3884 - val_acc: 0.0559\n",
            "\n",
            "Epoch 00011: val_loss improved from 1341.40461 to 1337.38845, saving model to data/denoise_model.weights.11-1337.39.hdf5\n",
            "Epoch 12/50\n",
            "1169/1169 [==============================] - 75s 64ms/step - loss: 1890.8890 - acc: 0.0644 - val_loss: 1340.1428 - val_acc: 0.0637\n",
            "\n",
            "Epoch 00012: val_loss did not improve from 1337.38845\n",
            "Epoch 13/50\n",
            "1169/1169 [==============================] - 75s 64ms/step - loss: 1864.6674 - acc: 0.0635 - val_loss: 1416.8343 - val_acc: 0.0688\n",
            "\n",
            "Epoch 00013: val_loss did not improve from 1337.38845\n",
            "Epoch 14/50\n",
            "1169/1169 [==============================] - 75s 64ms/step - loss: 1752.8238 - acc: 0.0626 - val_loss: 1697.1356 - val_acc: 0.0632\n",
            "\n",
            "Epoch 00014: val_loss did not improve from 1337.38845\n",
            "Epoch 15/50\n",
            "1169/1169 [==============================] - 75s 64ms/step - loss: 1939.9548 - acc: 0.0638 - val_loss: 1339.7659 - val_acc: 0.0723\n",
            "\n",
            "Epoch 00015: val_loss did not improve from 1337.38845\n",
            "Epoch 16/50\n",
            "1169/1169 [==============================] - 75s 64ms/step - loss: 1856.4921 - acc: 0.0631 - val_loss: 1340.7195 - val_acc: 0.0513\n",
            "\n",
            "Epoch 00016: val_loss did not improve from 1337.38845\n",
            "Epoch 17/50\n",
            "1169/1169 [==============================] - 75s 64ms/step - loss: 1715.4172 - acc: 0.0629 - val_loss: 1336.0517 - val_acc: 0.0615\n",
            "\n",
            "Epoch 00017: val_loss improved from 1337.38845 to 1336.05174, saving model to data/denoise_model.weights.17-1336.05.hdf5\n",
            "Epoch 18/50\n",
            "1169/1169 [==============================] - 77s 66ms/step - loss: 1718.9120 - acc: 0.0621 - val_loss: 1336.7935 - val_acc: 0.0655\n",
            "\n",
            "Epoch 00018: val_loss did not improve from 1336.05174\n",
            "Epoch 19/50\n",
            "1169/1169 [==============================] - 77s 66ms/step - loss: 1662.8922 - acc: 0.0621 - val_loss: 1858.2714 - val_acc: 0.0837\n",
            "\n",
            "Epoch 00019: val_loss did not improve from 1336.05174\n",
            "Epoch 20/50\n",
            "1169/1169 [==============================] - 77s 66ms/step - loss: 1704.4005 - acc: 0.0624 - val_loss: 1339.7291 - val_acc: 0.0493\n",
            "\n",
            "Epoch 00020: val_loss did not improve from 1336.05174\n",
            "Epoch 21/50\n",
            "1169/1169 [==============================] - 77s 65ms/step - loss: 1688.3218 - acc: 0.0620 - val_loss: 1337.1275 - val_acc: 0.0604\n",
            "\n",
            "Epoch 00021: val_loss did not improve from 1336.05174\n",
            "Epoch 22/50\n",
            "1169/1169 [==============================] - 76s 65ms/step - loss: 1727.4059 - acc: 0.0629 - val_loss: 1337.0234 - val_acc: 0.0618\n",
            "\n",
            "Epoch 00022: val_loss did not improve from 1336.05174\n",
            "Epoch 23/50\n",
            "1169/1169 [==============================] - 75s 65ms/step - loss: 1652.6018 - acc: 0.0612 - val_loss: 1337.2108 - val_acc: 0.0586\n",
            "\n",
            "Epoch 00023: val_loss did not improve from 1336.05174\n",
            "Epoch 24/50\n",
            "1169/1169 [==============================] - 76s 65ms/step - loss: 1787.5799 - acc: 0.0627 - val_loss: 1336.5400 - val_acc: 0.0660\n",
            "\n",
            "Epoch 00024: val_loss did not improve from 1336.05174\n",
            "Epoch 25/50\n",
            "1169/1169 [==============================] - 76s 65ms/step - loss: 1882.5826 - acc: 0.0628 - val_loss: 1854.6208 - val_acc: 0.0667\n",
            "\n",
            "Epoch 00025: val_loss did not improve from 1336.05174\n",
            "Epoch 26/50\n",
            "1169/1169 [==============================] - 76s 65ms/step - loss: 1726.7895 - acc: 0.0621 - val_loss: 1648.2076 - val_acc: 0.0715\n",
            "\n",
            "Epoch 00026: val_loss did not improve from 1336.05174\n",
            "Epoch 27/50\n",
            "1169/1169 [==============================] - 79s 68ms/step - loss: 1842.3214 - acc: 0.0633 - val_loss: 1339.9525 - val_acc: 0.0496\n",
            "\n",
            "Epoch 00027: val_loss did not improve from 1336.05174\n",
            "Epoch 28/50\n",
            "1169/1169 [==============================] - 81s 69ms/step - loss: 1637.4469 - acc: 0.0609 - val_loss: 1497.7552 - val_acc: 0.0766\n",
            "\n",
            "Epoch 00028: val_loss did not improve from 1336.05174\n",
            "Epoch 29/50\n",
            "1169/1169 [==============================] - 81s 69ms/step - loss: 1821.2796 - acc: 0.0610 - val_loss: 1337.0515 - val_acc: 0.0621\n",
            "\n",
            "Epoch 00029: val_loss did not improve from 1336.05174\n",
            "Epoch 30/50\n",
            "1169/1169 [==============================] - 81s 69ms/step - loss: 1764.4041 - acc: 0.0633 - val_loss: 1563.1417 - val_acc: 0.0654\n",
            "\n",
            "Epoch 00030: val_loss did not improve from 1336.05174\n",
            "Epoch 31/50\n",
            "1169/1169 [==============================] - 75s 64ms/step - loss: 1725.6604 - acc: 0.0625 - val_loss: 1857.0737 - val_acc: 0.0563\n",
            "\n",
            "Epoch 00031: val_loss did not improve from 1336.05174\n",
            "Epoch 32/50\n",
            "1169/1169 [==============================] - 75s 65ms/step - loss: 1892.5288 - acc: 0.0622 - val_loss: 1852.9523 - val_acc: 0.0605\n",
            "\n",
            "Epoch 00032: val_loss did not improve from 1336.05174\n",
            "Epoch 33/50\n",
            "1169/1169 [==============================] - 79s 68ms/step - loss: 1739.0429 - acc: 0.0615 - val_loss: 1338.2030 - val_acc: 0.0628\n",
            "\n",
            "Epoch 00033: val_loss did not improve from 1336.05174\n",
            "Epoch 34/50\n",
            "1169/1169 [==============================] - 79s 68ms/step - loss: 1809.5412 - acc: 0.0635 - val_loss: 1713.5492 - val_acc: 0.0722\n",
            "\n",
            "Epoch 00034: val_loss did not improve from 1336.05174\n",
            "Epoch 35/50\n",
            "1169/1169 [==============================] - 80s 68ms/step - loss: 1739.1219 - acc: 0.0617 - val_loss: 1338.7560 - val_acc: 0.0633\n",
            "\n",
            "Epoch 00035: val_loss did not improve from 1336.05174\n",
            "Epoch 36/50\n",
            "1169/1169 [==============================] - 78s 67ms/step - loss: 1661.0015 - acc: 0.0614 - val_loss: 1336.4579 - val_acc: 0.0570\n",
            "\n",
            "Epoch 00036: val_loss did not improve from 1336.05174\n",
            "Epoch 37/50\n",
            "1169/1169 [==============================] - 74s 63ms/step - loss: 1731.8426 - acc: 0.0612 - val_loss: 1336.2112 - val_acc: 0.0590\n",
            "\n",
            "Epoch 00037: val_loss did not improve from 1336.05174\n",
            "Epoch 38/50\n",
            "1169/1169 [==============================] - 74s 63ms/step - loss: 1658.9234 - acc: 0.0618 - val_loss: 1336.3675 - val_acc: 0.0602\n",
            "\n",
            "Epoch 00038: val_loss did not improve from 1336.05174\n",
            "Epoch 39/50\n",
            "1169/1169 [==============================] - 74s 63ms/step - loss: 1640.3018 - acc: 0.0613 - val_loss: 1711.0991 - val_acc: 0.0718\n",
            "\n",
            "Epoch 00039: val_loss did not improve from 1336.05174\n",
            "Epoch 40/50\n",
            "1169/1169 [==============================] - 73s 63ms/step - loss: 1642.5571 - acc: 0.0611 - val_loss: 1336.4266 - val_acc: 0.0613\n",
            "\n",
            "Epoch 00040: val_loss did not improve from 1336.05174\n",
            "Epoch 41/50\n",
            "1169/1169 [==============================] - 74s 63ms/step - loss: 1744.6758 - acc: 0.0627 - val_loss: 1335.8035 - val_acc: 0.0567\n",
            "\n",
            "Epoch 00041: val_loss improved from 1336.05174 to 1335.80349, saving model to data/denoise_model.weights.41-1335.80.hdf5\n",
            "Epoch 42/50\n",
            "1169/1169 [==============================] - 74s 63ms/step - loss: 1843.2056 - acc: 0.0623 - val_loss: 1854.9119 - val_acc: 0.0643\n",
            "\n",
            "Epoch 00042: val_loss did not improve from 1335.80349\n",
            "Epoch 43/50\n",
            "1169/1169 [==============================] - 74s 63ms/step - loss: 1823.3888 - acc: 0.0633 - val_loss: 1339.0902 - val_acc: 0.0506\n",
            "\n",
            "Epoch 00043: val_loss did not improve from 1335.80349\n",
            "Epoch 44/50\n",
            "1169/1169 [==============================] - 74s 63ms/step - loss: 1649.5408 - acc: 0.0612 - val_loss: 1337.7075 - val_acc: 0.0609\n",
            "\n",
            "Epoch 00044: val_loss did not improve from 1335.80349\n",
            "Epoch 45/50\n",
            "1169/1169 [==============================] - 73s 63ms/step - loss: 1718.1809 - acc: 0.0615 - val_loss: 1336.9299 - val_acc: 0.0602\n",
            "\n",
            "Epoch 00045: val_loss did not improve from 1335.80349\n",
            "Epoch 46/50\n",
            "1169/1169 [==============================] - 74s 63ms/step - loss: 1740.2610 - acc: 0.0618 - val_loss: 1337.7116 - val_acc: 0.0569\n",
            "\n",
            "Epoch 00046: val_loss did not improve from 1335.80349\n",
            "Epoch 47/50\n",
            "1169/1169 [==============================] - 74s 64ms/step - loss: 1631.3027 - acc: 0.0608 - val_loss: 1337.5207 - val_acc: 0.0568\n",
            "\n",
            "Epoch 00047: val_loss did not improve from 1335.80349\n",
            "Epoch 48/50\n",
            "1169/1169 [==============================] - 74s 63ms/step - loss: 1628.8492 - acc: 0.0607 - val_loss: 1339.5773 - val_acc: 0.0503\n",
            "\n",
            "Epoch 00048: val_loss did not improve from 1335.80349\n",
            "Epoch 49/50\n",
            "1169/1169 [==============================] - 74s 64ms/step - loss: 1628.8042 - acc: 0.0607 - val_loss: 1336.9311 - val_acc: 0.0571\n",
            "\n",
            "Epoch 00049: val_loss did not improve from 1335.80349\n",
            "Epoch 50/50\n",
            "1169/1169 [==============================] - 74s 63ms/step - loss: 1630.2383 - acc: 0.0607 - val_loss: 1340.6966 - val_acc: 0.0537\n",
            "\n",
            "Epoch 00050: val_loss did not improve from 1335.80349\n"
          ],
          "name": "stdout"
        }
      ]
    },
    {
      "metadata": {
        "id": "aikyKw4-tRJJ",
        "colab_type": "code",
        "colab": {
          "base_uri": "https://localhost:8080/",
          "height": 376
        },
        "outputId": "90afdf2e-b955-4b60-aa62-4604a41df55f"
      },
      "cell_type": "code",
      "source": [
        "\n",
        "plt.plot(stn_history.history['loss'])\n",
        "plt.plot(stn_history.history['val_loss'])\n",
        "plt.title('model loss')\n",
        "plt.ylabel('loss')\n",
        "plt.xlabel('epoch')\n",
        "plt.legend(['train', 'test'], loc='upper left')\n",
        "plt.show()"
      ],
      "execution_count": 27,
      "outputs": [
        {
          "output_type": "display_data",
          "data": {
            "image/png": "[encoded data removed]",
            "text/plain": [
              "<Figure size 576x396 with 1 Axes>"
            ]
          },
          "metadata": {
            "tags": []
          }
        }
      ]
    }
  ]
}