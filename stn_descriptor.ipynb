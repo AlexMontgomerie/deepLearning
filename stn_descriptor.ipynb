{
  "nbformat": 4,
  "nbformat_minor": 0,
  "metadata": {
    "colab": {
      "name": "Baseline_code.ipynb",
      "version": "0.3.2",
      "provenance": [],
      "collapsed_sections": [],
      "include_colab_link": true
    },
    "kernelspec": {
      "display_name": "Python 2",
      "name": "python2"
    },
    "accelerator": "GPU"
  },
  "cells": [
    {
      "cell_type": "markdown",
      "metadata": {
        "id": "view-in-github",
        "colab_type": "text"
      },
      "source": [
        "<a href=\"https://colab.research.google.com/github/AlexMontgomerie/deepLearning/blob/master/stn_descriptor.ipynb\" target=\"_parent\"><img src=\"https://colab.research.google.com/assets/colab-badge.svg\" alt=\"Open In Colab\"/></a>"
      ]
    },
    {
      "metadata": {
        "id": "Wy_53YaTgF3_",
        "colab_type": "code",
        "outputId": "c23c4c84-62e0-4c8a-cc39-14646141659f",
        "colab": {
          "base_uri": "https://localhost:8080/",
          "height": 442
        }
      },
      "cell_type": "code",
      "source": [
        "%cd /content\n",
        "#!rm -rf deepLearning\n",
        "!git clone https://github.com/AlexMontgomerie/deepLearning\n",
        "%cd deepLearning\n",
        "!git pull origin master\n",
        "\n",
        "# Taken from\n",
        "# https://stackoverflow.com/questions/48750199/google-colaboratory-misleading-information-about-its-gpu-only-5-ram-available\n",
        "# memory footprint support libraries/code\n",
        "!ln -sf /opt/bin/nvidia-smi /usr/bin/nvidia-smi\n",
        "!pip install gputil\n",
        "!pip install psutil\n",
        "!pip install humanize\n",
        "import psutil\n",
        "import humanize\n",
        "import os\n",
        "import GPUtil as GPU\n",
        "GPUs = GPU.getGPUs()\n",
        "# Colab only provides one GPU and it is not always guaranteed\n",
        "gpu = GPUs[0]\n",
        "def printm():\n",
        "  process = psutil.Process(os.getpid())\n",
        "  print(\"RAM Free: \" + humanize.naturalsize( psutil.virtual_memory().available ), \" | Proc size: \" + humanize.naturalsize( process.memory_info().rss))\n",
        "  print(\"GPU RAM Free: {0:.0f}MB | Used: {1:.0f}MB | Util {2:3.0f}% | Total {3:.0f}MB\".format(gpu.memoryFree, gpu.memoryUsed, gpu.memoryUtil*100, gpu.memoryTotal))\n",
        "printm()\n"
      ],
      "execution_count": 1,
      "outputs": [
        {
          "output_type": "stream",
          "text": [
            "/content\n",
            "Cloning into 'deepLearning'...\n",
            "remote: Enumerating objects: 127, done.\u001b[K\n",
            "remote: Counting objects: 100% (127/127), done.\u001b[K\n",
            "remote: Compressing objects: 100% (105/105), done.\u001b[K\n",
            "remote: Total 372 (delta 64), reused 51 (delta 21), pack-reused 245\u001b[K\n",
            "Receiving objects: 100% (372/372), 152.13 MiB | 20.13 MiB/s, done.\n",
            "Resolving deltas: 100% (147/147), done.\n",
            "Checking out files: 100% (107/107), done.\n",
            "/content/deepLearning\n",
            "From https://github.com/AlexMontgomerie/deepLearning\n",
            " * branch            master     -> FETCH_HEAD\n",
            "Already up to date.\n",
            "Collecting gputil\n",
            "  Downloading https://files.pythonhosted.org/packages/ed/0e/5c61eedde9f6c87713e89d794f01e378cfd9565847d4576fa627d758c554/GPUtil-1.4.0.tar.gz\n",
            "Building wheels for collected packages: gputil\n",
            "  Building wheel for gputil (setup.py) ... \u001b[?25ldone\n",
            "\u001b[?25h  Stored in directory: /root/.cache/pip/wheels/3d/77/07/80562de4bb0786e5ea186911a2c831fdd0018bda69beab71fd\n",
            "Successfully built gputil\n",
            "Installing collected packages: gputil\n",
            "Successfully installed gputil-1.4.0\n",
            "Requirement already satisfied: psutil in /usr/local/lib/python2.7/dist-packages (5.4.8)\n",
            "Requirement already satisfied: humanize in /usr/local/lib/python2.7/dist-packages (0.5.1)\n",
            "('RAM Free: 12.9 GB', ' | Proc size: 152.9 MB')\n",
            "GPU RAM Free: 11441MB | Used: 0MB | Util   0% | Total 11441MB\n"
          ],
          "name": "stdout"
        }
      ]
    },
    {
      "metadata": {
        "id": "zLh6FesVgF4F",
        "colab_type": "code",
        "outputId": "9326f9c6-fb74-438d-93eb-7224692bf21e",
        "colab": {
          "base_uri": "https://localhost:8080/",
          "height": 462
        }
      },
      "cell_type": "code",
      "source": [
        "from common import *\n",
        "!chmod +x setup.sh\n",
        "!./setup.sh"
      ],
      "execution_count": 5,
      "outputs": [
        {
          "output_type": "stream",
          "text": [
            "--2019-03-13 10:41:40--  https://imperialcollegelondon.box.com/shared/static/ah40eq7cxpwq4a6l4f62efzdyt8rm3ha.zip\n",
            "Resolving imperialcollegelondon.box.com (imperialcollegelondon.box.com)... 107.152.27.197\n",
            "Connecting to imperialcollegelondon.box.com (imperialcollegelondon.box.com)|107.152.27.197|:443... connected.\n",
            "HTTP request sent, awaiting response... 301 Moved Permanently\n",
            "Location: /public/static/ah40eq7cxpwq4a6l4f62efzdyt8rm3ha.zip [following]\n",
            "--2019-03-13 10:41:40--  https://imperialcollegelondon.box.com/public/static/ah40eq7cxpwq4a6l4f62efzdyt8rm3ha.zip\n",
            "Reusing existing connection to imperialcollegelondon.box.com:443.\n",
            "HTTP request sent, awaiting response... 301 Moved Permanently\n",
            "Location: https://imperialcollegelondon.app.box.com/public/static/ah40eq7cxpwq4a6l4f62efzdyt8rm3ha.zip [following]\n",
            "--2019-03-13 10:41:41--  https://imperialcollegelondon.app.box.com/public/static/ah40eq7cxpwq4a6l4f62efzdyt8rm3ha.zip\n",
            "Resolving imperialcollegelondon.app.box.com (imperialcollegelondon.app.box.com)... 107.152.24.199, 107.152.25.199\n",
            "Connecting to imperialcollegelondon.app.box.com (imperialcollegelondon.app.box.com)|107.152.24.199|:443... connected.\n",
            "HTTP request sent, awaiting response... 302 Found\n",
            "Location: https://public.boxcloud.com/d/1/b1!CXcSSgETllC-e_X2h_pTxpiUhYlJw5sczuu8fGzVi_aFnch881tklA36UUOjbsqoFZ2P5rY_MB2gYIKuo04OESz25D3Mi8Py7hFVnYzXloHqnCZRa05fYjHdesscUT6u94VXBWlviY-iktDebQK7XVvDRKnBQ0yHSytqOCw1DUh7XoaNNDRf90oz_JgebM5W6FdeqxBmWikstFKlVje57WfVLWHBSdSXWreYLmGTKbFFJCjxKk0mdtuhh5GFCR8kLJJKcVXZmeBZ7uGvx-TXDOYI3I-q_hJqtqfRhx0bBDtvpVyTqKciDLkyuQgXI294IA6j_lvb8bQwNUN7OBd52_eGIV18mgvSZ4tR_kuJctoxJ7qVnPdvbtNOvk51WZV89RPuWQ_IPD57KpyJsZll363A7xq3De7pMtETug-cdHG2ALWVlq4FWtTF5e3JtNeZWxGa09ub2XI9ovSLw6jB2ke343cACN7rI6pLtsWEjuhYsVFkHHN4FclBzUlizJswi3glKaivZQk1FeL9KNm-qNxXuanlA1ZrHCwHVPYIa4hx2UWaMn76Tn8pnmS0MrvVeLLuDztz-VsrakLo4wnIcMEeENuc7ekflrngqOMCUgORqN40lnlWZgXJbUYlH8DOTTlW-bCu1VLEmZ7OSnbDCmlY7bShnT9G2inhqjjED4ikaGDyomhGZL1MxvqzvcXyOT90Do8XuQqg8awV3LJgMKF98slYYn50zw6MTt36Q-gIJqUxB2kjEtZccJqNqukQlX5K9FkDPAL2YElyQDda_UqF6IPv3hiF95n7FNsOjpn-5tUkfmRGz2y1ukaQQ7HPd4hLioh2bAlyb-dsfBPo2rY2iURwCTVdWtt-gij0mYrrLHUvuK7T9h_te6VZvGhinnZGiZ-lof-wRXQIZ24gLjFk2mN9kjG60pF3Ds8-RcstBI5om7t4JgjUGzvYPtQ95UR2bb9XaKIlvDRaHEyzfEcRvwoHLixFbAVgk0mP77hVve9c5av72vM2tzsYdsd5uZCJ35Qu8PUx2-3Rox5OUTusxXGYe3VrdI6FmRMo3UL6YqskJZy3W5DLnqQDPbNCzWJReoQsoaRYarn2j08q6P_lYUC_icpG06tcTnMiHTuw6tHBna3xCUAlQQyJvRa2YMw5zgRDTNConea6F3iQ8XHbDA2poVNDmGs6_1Ldv5Yv9UH9Oo49JZTLRSOIFhcmWEEemzKkD0RZo3w4Vm6DVg3uBAONYYVR4Yns93zAZJbhI-IhENZxyMoJCO6A-RQXndyoI6yss3SGj7p1UWldY2lpHZOkLULd25iGjbKtubKfd6xA4eQkT3mYDAg6LKfxe7sjrpS8Y9N29NSiKW9Qp1QqbHx9wq6JIX4Mszxj6BDdz4-G7PmL14Qid-0IetN1H_kLwvX2wocPlRYZWn-76sOOD-y1l2nOHLf67EO0lpw9sb1HcWfU9gzbVaKrBjkGTRB7uiCqr8h4Q5j0g9FiqomPT65Pt09F0EzPKw../download [following]\n",
            "--2019-03-13 10:41:41--  https://public.boxcloud.com/d/1/b1!CXcSSgETllC-e_X2h_pTxpiUhYlJw5sczuu8fGzVi_aFnch881tklA36UUOjbsqoFZ2P5rY_MB2gYIKuo04OESz25D3Mi8Py7hFVnYzXloHqnCZRa05fYjHdesscUT6u94VXBWlviY-iktDebQK7XVvDRKnBQ0yHSytqOCw1DUh7XoaNNDRf90oz_JgebM5W6FdeqxBmWikstFKlVje57WfVLWHBSdSXWreYLmGTKbFFJCjxKk0mdtuhh5GFCR8kLJJKcVXZmeBZ7uGvx-TXDOYI3I-q_hJqtqfRhx0bBDtvpVyTqKciDLkyuQgXI294IA6j_lvb8bQwNUN7OBd52_eGIV18mgvSZ4tR_kuJctoxJ7qVnPdvbtNOvk51WZV89RPuWQ_IPD57KpyJsZll363A7xq3De7pMtETug-cdHG2ALWVlq4FWtTF5e3JtNeZWxGa09ub2XI9ovSLw6jB2ke343cACN7rI6pLtsWEjuhYsVFkHHN4FclBzUlizJswi3glKaivZQk1FeL9KNm-qNxXuanlA1ZrHCwHVPYIa4hx2UWaMn76Tn8pnmS0MrvVeLLuDztz-VsrakLo4wnIcMEeENuc7ekflrngqOMCUgORqN40lnlWZgXJbUYlH8DOTTlW-bCu1VLEmZ7OSnbDCmlY7bShnT9G2inhqjjED4ikaGDyomhGZL1MxvqzvcXyOT90Do8XuQqg8awV3LJgMKF98slYYn50zw6MTt36Q-gIJqUxB2kjEtZccJqNqukQlX5K9FkDPAL2YElyQDda_UqF6IPv3hiF95n7FNsOjpn-5tUkfmRGz2y1ukaQQ7HPd4hLioh2bAlyb-dsfBPo2rY2iURwCTVdWtt-gij0mYrrLHUvuK7T9h_te6VZvGhinnZGiZ-lof-wRXQIZ24gLjFk2mN9kjG60pF3Ds8-RcstBI5om7t4JgjUGzvYPtQ95UR2bb9XaKIlvDRaHEyzfEcRvwoHLixFbAVgk0mP77hVve9c5av72vM2tzsYdsd5uZCJ35Qu8PUx2-3Rox5OUTusxXGYe3VrdI6FmRMo3UL6YqskJZy3W5DLnqQDPbNCzWJReoQsoaRYarn2j08q6P_lYUC_icpG06tcTnMiHTuw6tHBna3xCUAlQQyJvRa2YMw5zgRDTNConea6F3iQ8XHbDA2poVNDmGs6_1Ldv5Yv9UH9Oo49JZTLRSOIFhcmWEEemzKkD0RZo3w4Vm6DVg3uBAONYYVR4Yns93zAZJbhI-IhENZxyMoJCO6A-RQXndyoI6yss3SGj7p1UWldY2lpHZOkLULd25iGjbKtubKfd6xA4eQkT3mYDAg6LKfxe7sjrpS8Y9N29NSiKW9Qp1QqbHx9wq6JIX4Mszxj6BDdz4-G7PmL14Qid-0IetN1H_kLwvX2wocPlRYZWn-76sOOD-y1l2nOHLf67EO0lpw9sb1HcWfU9gzbVaKrBjkGTRB7uiCqr8h4Q5j0g9FiqomPT65Pt09F0EzPKw../download\n",
            "Resolving public.boxcloud.com (public.boxcloud.com)... 107.152.24.200, 107.152.25.200\n",
            "Connecting to public.boxcloud.com (public.boxcloud.com)|107.152.24.200|:443... connected.\n",
            "HTTP request sent, awaiting response... 200 OK\n",
            "Length: 4088106554 (3.8G) [application/zip]\n",
            "Saving to: ‘hpatches_data.zip’\n",
            "\n",
            "hpatches_data.zip   100%[===================>]   3.81G  20.8MB/s    in 3m 8s   \n",
            "\n",
            "2019-03-13 10:44:50 (20.7 MB/s) - ‘hpatches_data.zip’ saved [4088106554/4088106554]\n",
            "\n"
          ],
          "name": "stdout"
        }
      ]
    },
    {
      "metadata": {
        "colab_type": "code",
        "id": "W6QbkHnbuIUD",
        "colab": {}
      },
      "cell_type": "code",
      "source": [
        "import sys\n",
        "import json\n",
        "import os\n",
        "import glob\n",
        "import keras\n",
        "from keras import regularizers\n",
        "from keras import backend as K\n",
        "from keras.models import Sequential, Model\n",
        "from keras.layers import Dense, Dropout, Activation, Flatten, Input, Lambda, Reshape\n",
        "from keras.layers import Conv2D, MaxPooling2D, BatchNormalization\n",
        "from keras.layers import Input, UpSampling2D, concatenate\n",
        "import time\n",
        "import tensorflow as tf\n",
        "import numpy as np\n",
        "import cv2\n",
        "import random\n",
        "from read_data import HPatches, DataGeneratorDesc, hpatches_sequence_folder, DenoiseHPatches, STNHPatches, tps\n",
        "from utils import generate_desc_csv, plot_denoise, plot_triplet, plot_stn\n",
        "import matplotlib.pyplot as plt\n",
        "from layers import BilinearInterpolation\n",
        "\n",
        "random.seed(1234)\n",
        "np.random.seed(1234)\n",
        "tf.set_random_seed(1234)\n",
        "\n",
        "def get_initial_weights(output_size):\n",
        "    b = np.zeros((2, 3), dtype='float32')\n",
        "    b[0, 0] = 1\n",
        "    b[1, 1] = 1\n",
        "    W = np.zeros((output_size, 6), dtype='float32')\n",
        "    weights = [W, b.flatten()]\n",
        "    return weights\n",
        "  \n",
        "def get_stn_model(shape):\n",
        "    init_weights = keras.initializers.he_normal()\n",
        "    inputs = Input(shape)\n",
        "    locnet = Conv2D(16, 3, activation='relu', padding='same', kernel_initializer=init_weights, name='stn_1')(inputs) # 32\n",
        "    locnet = BatchNormalization(axis = -1)(locnet)\n",
        "    locnet = MaxPooling2D(pool_size=(2, 2))(locnet)\n",
        "    \n",
        "    locnet = Conv2D(32, 3, activation='relu', padding='same', kernel_initializer=init_weights, name='stn_2')(locnet) # 32\n",
        "    locnet = BatchNormalization(axis = -1)(locnet)\n",
        "    locnet = MaxPooling2D(pool_size=(2, 2))(locnet)\n",
        "    \n",
        "    locnet = Conv2D(64, 3, activation='relu', padding='same', kernel_initializer=init_weights, name='stn_3')(locnet)  # 64\n",
        "    locnet = BatchNormalization(axis = -1)(locnet)\n",
        "    locnet = MaxPooling2D(pool_size=(2, 2))(locnet)\n",
        "    \n",
        "    locnet = Conv2D(128, 3, activation='relu', padding='same', kernel_initializer=init_weights, name='stn_4')(locnet)  # 128\n",
        "    locnet = BatchNormalization(axis = -1)(locnet)\n",
        "    locnet = MaxPooling2D(pool_size=(2, 2))(locnet)\n",
        "    \n",
        "    locnet = Flatten()(locnet)\n",
        "    locnet = Dense(256, name='stn_5')(locnet)\n",
        "    locnet =  Dropout(0.25)(locnet)\n",
        "    locnet = Activation('softmax')(locnet)\n",
        "    weights = get_initial_weights(256)\n",
        "    locnet = Dense(6, weights=weights, name='stn_6')(locnet)\n",
        "    stn    = BilinearInterpolation(shape[:-1])([inputs, locnet])\n",
        "    #stn = BatchNormalization(axis = -1)(stn)\n",
        "\n",
        "    return Model(inputs=inputs, outputs=stn)"
      ],
      "execution_count": 0,
      "outputs": []
    },
    {
      "metadata": {
        "id": "ciK2bzUiMqZj",
        "colab_type": "code",
        "outputId": "05c1ce4e-8fd2-4ed9-958a-6e289e6bacad",
        "colab": {
          "base_uri": "https://localhost:8080/",
          "height": 238
        }
      },
      "cell_type": "code",
      "source": [
        "%cd /content/deepLearning\n",
        "!git pull origin master"
      ],
      "execution_count": 0,
      "outputs": [
        {
          "output_type": "stream",
          "text": [
            "/content/deepLearning\n",
            "remote: Enumerating objects: 5, done.\u001b[K\n",
            "remote: Counting objects: 100% (5/5), done.\u001b[K\n",
            "remote: Compressing objects: 100% (1/1), done.\u001b[K\n",
            "remote: Total 3 (delta 2), reused 3 (delta 2), pack-reused 0\u001b[K\n",
            "Unpacking objects: 100% (3/3), done.\n",
            "From https://github.com/AlexMontgomerie/deepLearning\n",
            " * branch            master     -> FETCH_HEAD\n",
            "   c2c4011..0caff34  master     -> origin/master\n",
            "Updating c2c4011..0caff34\n",
            "Fast-forward\n",
            " utils.py | 42 \u001b[32m+++++++++++++++++++++++++++++++++++\u001b[m\u001b[31m-------\u001b[m\n",
            " 1 file changed, 35 insertions(+), 7 deletions(-)\n"
          ],
          "name": "stdout"
        }
      ]
    },
    {
      "metadata": {
        "id": "7OHNwH_XgF4T",
        "colab_type": "code",
        "outputId": "528d350f-4bf6-4ded-b9ab-a5f8d218f7cf",
        "colab": {
          "base_uri": "https://localhost:8080/",
          "height": 2023
        }
      },
      "cell_type": "code",
      "source": [
        "from get_data import get_data\n",
        "from read_data import STNHPatches\n",
        "\n",
        "seqs_train, seqs_test = get_data()\n",
        "\n",
        "denoise_generator     = STNHPatches(seqs_train, batch_size=500)\n",
        "denoise_generator_val = STNHPatches(seqs_test, batch_size=500)"
      ],
      "execution_count": 9,
      "outputs": [
        {
          "output_type": "stream",
          "text": [
            "\n",
            "  0%|          | 0/76 [00:00<?, ?it/s]\u001b[A\n",
            "  1%|▏         | 1/76 [00:00<00:15,  4.80it/s]\u001b[A\n",
            "  3%|▎         | 2/76 [00:00<00:20,  3.57it/s]\u001b[A\n",
            "  4%|▍         | 3/76 [00:01<00:24,  3.04it/s]\u001b[A\n",
            "  5%|▌         | 4/76 [00:01<00:28,  2.49it/s]\u001b[A\n",
            "  7%|▋         | 5/76 [00:02<00:30,  2.33it/s]\u001b[A\n",
            "  8%|▊         | 6/76 [00:02<00:25,  2.75it/s]\u001b[A\n",
            "  9%|▉         | 7/76 [00:02<00:28,  2.46it/s]\u001b[A\n",
            " 11%|█         | 8/76 [00:03<00:24,  2.75it/s]\u001b[A\n",
            " 12%|█▏        | 9/76 [00:03<00:21,  3.14it/s]\u001b[A\n",
            " 13%|█▎        | 10/76 [00:03<00:17,  3.69it/s]\u001b[A\n",
            " 14%|█▍        | 11/76 [00:03<00:15,  4.16it/s]\u001b[A\n",
            " 16%|█▌        | 12/76 [00:03<00:16,  3.84it/s]\u001b[A\n",
            " 17%|█▋        | 13/76 [00:04<00:16,  3.86it/s]\u001b[A\n",
            " 18%|█▊        | 14/76 [00:04<00:15,  4.07it/s]\u001b[A\n",
            " 20%|█▉        | 15/76 [00:04<00:15,  4.00it/s]\u001b[A\n",
            " 22%|██▏       | 17/76 [00:05<00:16,  3.66it/s]\u001b[A\n",
            " 24%|██▎       | 18/76 [00:05<00:15,  3.69it/s]\u001b[A\n",
            " 25%|██▌       | 19/76 [00:06<00:20,  2.82it/s]\u001b[A\n",
            " 26%|██▋       | 20/76 [00:06<00:19,  2.93it/s]\u001b[A\n",
            " 28%|██▊       | 21/76 [00:06<00:15,  3.54it/s]\u001b[A\n",
            " 29%|██▉       | 22/76 [00:06<00:14,  3.71it/s]\u001b[A\n",
            " 30%|███       | 23/76 [00:07<00:12,  4.10it/s]\u001b[A\n",
            " 32%|███▏      | 24/76 [00:07<00:14,  3.59it/s]\u001b[A\n",
            " 33%|███▎      | 25/76 [00:07<00:16,  3.10it/s]\u001b[A\n",
            " 34%|███▍      | 26/76 [00:08<00:13,  3.58it/s]\u001b[A\n",
            " 36%|███▌      | 27/76 [00:08<00:13,  3.64it/s]\u001b[A\n",
            " 37%|███▋      | 28/76 [00:08<00:17,  2.69it/s]\u001b[A\n",
            " 38%|███▊      | 29/76 [00:09<00:15,  2.94it/s]\u001b[A\n",
            " 39%|███▉      | 30/76 [00:09<00:18,  2.45it/s]\u001b[A\n",
            " 41%|████      | 31/76 [00:10<00:20,  2.19it/s]\u001b[A\n",
            " 42%|████▏     | 32/76 [00:10<00:16,  2.72it/s]\u001b[A\n",
            " 43%|████▎     | 33/76 [00:11<00:18,  2.35it/s]\u001b[A\n",
            " 45%|████▍     | 34/76 [00:11<00:16,  2.53it/s]\u001b[A\n",
            " 46%|████▌     | 35/76 [00:11<00:17,  2.39it/s]\u001b[A\n",
            " 47%|████▋     | 36/76 [00:12<00:15,  2.57it/s]\u001b[A\n",
            " 49%|████▊     | 37/76 [00:12<00:15,  2.48it/s]\u001b[A\n",
            " 50%|█████     | 38/76 [00:13<00:17,  2.21it/s]\u001b[A\n",
            " 51%|█████▏    | 39/76 [00:13<00:14,  2.59it/s]\u001b[A\n",
            " 53%|█████▎    | 40/76 [00:13<00:11,  3.16it/s]\u001b[A\n",
            " 54%|█████▍    | 41/76 [00:14<00:13,  2.55it/s]\u001b[A\n",
            " 55%|█████▌    | 42/76 [00:14<00:15,  2.22it/s]\u001b[A\n",
            " 57%|█████▋    | 43/76 [00:15<00:16,  2.04it/s]\u001b[A\n",
            " 58%|█████▊    | 44/76 [00:15<00:16,  1.94it/s]\u001b[A\n",
            " 59%|█████▉    | 45/76 [00:16<00:15,  1.98it/s]\u001b[A\n",
            " 61%|██████    | 46/76 [00:16<00:16,  1.86it/s]\u001b[A\n",
            " 62%|██████▏   | 47/76 [00:17<00:13,  2.14it/s]\u001b[A\n",
            " 63%|██████▎   | 48/76 [00:17<00:10,  2.65it/s]\u001b[A\n",
            " 64%|██████▍   | 49/76 [00:17<00:08,  3.03it/s]\u001b[A\n",
            " 66%|██████▌   | 50/76 [00:17<00:08,  2.98it/s]\u001b[A\n",
            " 67%|██████▋   | 51/76 [00:18<00:09,  2.71it/s]\u001b[A\n",
            " 68%|██████▊   | 52/76 [00:18<00:10,  2.33it/s]\u001b[A\n",
            " 70%|██████▉   | 53/76 [00:19<00:08,  2.60it/s]\u001b[A\n",
            " 71%|███████   | 54/76 [00:19<00:07,  2.88it/s]\u001b[A\n",
            " 72%|███████▏  | 55/76 [00:19<00:07,  2.77it/s]\u001b[A\n",
            " 74%|███████▎  | 56/76 [00:20<00:08,  2.36it/s]\u001b[A\n",
            " 75%|███████▌  | 57/76 [00:20<00:06,  2.84it/s]\u001b[A\n",
            " 76%|███████▋  | 58/76 [00:21<00:06,  2.78it/s]\u001b[A\n",
            " 78%|███████▊  | 59/76 [00:21<00:07,  2.38it/s]\u001b[A\n",
            " 79%|███████▉  | 60/76 [00:21<00:05,  2.93it/s]\u001b[A\n",
            " 80%|████████  | 61/76 [00:22<00:05,  2.84it/s]\u001b[A\n",
            " 82%|████████▏ | 62/76 [00:22<00:04,  2.90it/s]\u001b[A\n",
            " 83%|████████▎ | 63/76 [00:23<00:05,  2.43it/s]\u001b[A\n",
            " 84%|████████▍ | 64/76 [00:23<00:05,  2.16it/s]\u001b[A\n",
            " 86%|████████▌ | 65/76 [00:24<00:05,  2.01it/s]\u001b[A\n",
            " 87%|████████▋ | 66/76 [00:24<00:04,  2.12it/s]\u001b[A\n",
            " 88%|████████▊ | 67/76 [00:25<00:04,  2.01it/s]\u001b[A\n",
            " 89%|████████▉ | 68/76 [00:25<00:03,  2.42it/s]\u001b[A\n",
            " 91%|█████████ | 69/76 [00:25<00:03,  2.33it/s]\u001b[A\n",
            " 92%|█████████▏| 70/76 [00:26<00:02,  2.75it/s]\u001b[A\n",
            " 93%|█████████▎| 71/76 [00:26<00:01,  3.08it/s]\u001b[A\n",
            " 95%|█████████▍| 72/76 [00:26<00:01,  2.54it/s]\u001b[A\n",
            " 96%|█████████▌| 73/76 [00:27<00:00,  3.01it/s]\u001b[A\n",
            " 97%|█████████▋| 74/76 [00:27<00:00,  2.47it/s]\u001b[A\n",
            " 99%|█████████▊| 75/76 [00:27<00:00,  2.98it/s]\u001b[A\n",
            "100%|██████████| 76/76 [00:28<00:00,  2.55it/s]\u001b[A\n",
            "\u001b[A\n",
            "  0%|          | 0/40 [00:00<?, ?it/s]\u001b[A\n",
            "  2%|▎         | 1/40 [00:00<00:17,  2.27it/s]\u001b[A\n",
            "  5%|▌         | 2/40 [00:00<00:15,  2.48it/s]\u001b[A\n",
            "  8%|▊         | 3/40 [00:01<00:15,  2.35it/s]\u001b[A\n",
            " 10%|█         | 4/40 [00:01<00:16,  2.16it/s]\u001b[A\n",
            " 12%|█▎        | 5/40 [00:02<00:16,  2.12it/s]\u001b[A\n",
            " 15%|█▌        | 6/40 [00:02<00:17,  2.00it/s]\u001b[A\n",
            " 18%|█▊        | 7/40 [00:03<00:16,  1.95it/s]\u001b[A\n",
            " 20%|██        | 8/40 [00:03<00:15,  2.01it/s]\u001b[A\n",
            " 22%|██▎       | 9/40 [00:03<00:11,  2.63it/s]\u001b[A\n",
            " 25%|██▌       | 10/40 [00:04<00:13,  2.21it/s]\u001b[A\n",
            " 28%|██▊       | 11/40 [00:05<00:13,  2.15it/s]\u001b[A\n",
            " 30%|███       | 12/40 [00:05<00:13,  2.00it/s]\u001b[A\n",
            " 32%|███▎      | 13/40 [00:05<00:10,  2.58it/s]\u001b[A\n",
            " 35%|███▌      | 14/40 [00:06<00:11,  2.30it/s]\u001b[A\n",
            " 38%|███▊      | 15/40 [00:06<00:12,  2.08it/s]\u001b[A\n",
            " 40%|████      | 16/40 [00:07<00:11,  2.01it/s]\u001b[A\n",
            " 42%|████▎     | 17/40 [00:08<00:12,  1.91it/s]\u001b[A\n",
            " 45%|████▌     | 18/40 [00:08<00:12,  1.81it/s]\u001b[A\n",
            " 48%|████▊     | 19/40 [00:08<00:10,  2.08it/s]\u001b[A\n",
            " 50%|█████     | 20/40 [00:09<00:08,  2.34it/s]\u001b[A\n",
            " 52%|█████▎    | 21/40 [00:09<00:09,  2.10it/s]\u001b[A\n",
            " 55%|█████▌    | 22/40 [00:10<00:08,  2.05it/s]\u001b[A\n",
            " 57%|█████▊    | 23/40 [00:10<00:08,  1.93it/s]\u001b[A\n",
            " 60%|██████    | 24/40 [00:11<00:07,  2.21it/s]\u001b[A\n",
            " 62%|██████▎   | 25/40 [00:11<00:07,  2.07it/s]\u001b[A\n",
            " 65%|██████▌   | 26/40 [00:11<00:05,  2.62it/s]\u001b[A\n",
            " 68%|██████▊   | 27/40 [00:12<00:04,  2.95it/s]\u001b[A\n",
            " 70%|███████   | 28/40 [00:12<00:03,  3.29it/s]\u001b[A\n",
            " 72%|███████▎  | 29/40 [00:12<00:02,  3.72it/s]\u001b[A\n",
            " 75%|███████▌  | 30/40 [00:13<00:03,  2.75it/s]\u001b[A\n",
            " 78%|███████▊  | 31/40 [00:13<00:03,  2.55it/s]\u001b[A\n",
            " 80%|████████  | 32/40 [00:13<00:02,  3.15it/s]\u001b[A\n",
            " 82%|████████▎ | 33/40 [00:14<00:02,  2.50it/s]\u001b[A\n",
            " 85%|████████▌ | 34/40 [00:14<00:02,  2.22it/s]\u001b[A\n",
            " 90%|█████████ | 36/40 [00:15<00:01,  2.42it/s]\u001b[A\n",
            " 92%|█████████▎| 37/40 [00:15<00:01,  2.83it/s]\u001b[A\n",
            " 95%|█████████▌| 38/40 [00:16<00:00,  2.39it/s]\u001b[A\n",
            " 98%|█████████▊| 39/40 [00:16<00:00,  2.29it/s]\u001b[A\n",
            "100%|██████████| 40/40 [00:17<00:00,  2.18it/s]\u001b[A\n",
            "\u001b[A"
          ],
          "name": "stderr"
        }
      ]
    },
    {
      "metadata": {
        "id": "yTLGGPLvHIAP",
        "colab_type": "code",
        "outputId": "78df81ed-aa4f-4e32-a690-8d96958fa254",
        "colab": {
          "base_uri": "https://localhost:8080/",
          "height": 1833
        }
      },
      "cell_type": "code",
      "source": [
        "# get model\n",
        "shape = (32, 32, 1)\n",
        "stn_model = get_stn_model(shape)\n",
        "\n",
        "# optimiser\n",
        "opt  = opt = keras.optimizers.nadam()\n",
        "\n",
        "# loss\n",
        "loss = 'mean_absolute_error'\n",
        "\n",
        "# train network\n",
        "def ssim_loss(a,p):\n",
        "  return 1 - tf.image.ssim(a, p, max_val=1.0)\n",
        "\n",
        "# callbacks\n",
        "callbacks = [\n",
        "    #keras.callbacks.EarlyStopping(monitor = 'val_loss', patience = 5, verbose = 3, mode= 'auto'),\n",
        "    keras.callbacks.ModelCheckpoint('data/stn_model.weights.{epoch:02d}-{val_loss:.2f}.hdf5', verbose=1, save_best_only=True)\n",
        "]\n",
        "\n",
        "stn_model.compile(loss=loss, optimizer=opt, metrics=['accuracy'])\n",
        "stn_history = stn_model.fit_generator(generator=denoise_generator, epochs=25, callbacks=callbacks,\n",
        "                                              verbose=1, validation_data=denoise_generator_val)"
      ],
      "execution_count": 44,
      "outputs": [
        {
          "output_type": "stream",
          "text": [
            "Epoch 1/25\n",
            "1169/1169 [==============================] - 118s 101ms/step - loss: 26.6732 - acc: 0.1514 - val_loss: 23.2482 - val_acc: 0.1625\n",
            "\n",
            "Epoch 00001: val_loss improved from inf to 23.24818, saving model to data/stn_model.weights.01-23.25.hdf5\n",
            "Epoch 2/25\n",
            "1169/1169 [==============================] - 116s 99ms/step - loss: 26.6492 - acc: 0.1559 - val_loss: 26.0048 - val_acc: 0.1477\n",
            "\n",
            "Epoch 00002: val_loss did not improve from 23.24818\n",
            "Epoch 3/25\n",
            "1169/1169 [==============================] - 116s 99ms/step - loss: 26.7086 - acc: 0.1564 - val_loss: 23.6767 - val_acc: 0.1651\n",
            "\n",
            "Epoch 00003: val_loss did not improve from 23.24818\n",
            "Epoch 4/25\n",
            "1169/1169 [==============================] - 113s 97ms/step - loss: 26.8017 - acc: 0.1594 - val_loss: 25.1562 - val_acc: 0.1739\n",
            "\n",
            "Epoch 00004: val_loss did not improve from 23.24818\n",
            "Epoch 5/25\n",
            "1169/1169 [==============================] - 114s 97ms/step - loss: 26.8632 - acc: 0.1605 - val_loss: 26.2761 - val_acc: 0.1093\n",
            "\n",
            "Epoch 00005: val_loss did not improve from 23.24818\n",
            "Epoch 6/25\n",
            "1169/1169 [==============================] - 115s 98ms/step - loss: 26.8796 - acc: 0.1609 - val_loss: 23.7750 - val_acc: 0.1661\n",
            "\n",
            "Epoch 00006: val_loss did not improve from 23.24818\n",
            "Epoch 7/25\n",
            "1169/1169 [==============================] - 114s 97ms/step - loss: 26.8998 - acc: 0.1618 - val_loss: 24.7510 - val_acc: 0.1337\n",
            "\n",
            "Epoch 00007: val_loss did not improve from 23.24818\n",
            "Epoch 8/25\n",
            "1169/1169 [==============================] - 113s 96ms/step - loss: 26.9373 - acc: 0.1580 - val_loss: 23.5640 - val_acc: 0.1707\n",
            "\n",
            "Epoch 00008: val_loss did not improve from 23.24818\n",
            "Epoch 9/25\n",
            "1169/1169 [==============================] - 113s 96ms/step - loss: 27.1285 - acc: 0.1655 - val_loss: 26.3210 - val_acc: 0.1485\n",
            "\n",
            "Epoch 00009: val_loss did not improve from 23.24818\n",
            "Epoch 10/25\n",
            "1169/1169 [==============================] - 116s 99ms/step - loss: 27.2167 - acc: 0.1674 - val_loss: 24.7371 - val_acc: 0.1727\n",
            "\n",
            "Epoch 00010: val_loss did not improve from 23.24818\n",
            "Epoch 11/25\n",
            "1169/1169 [==============================] - 114s 97ms/step - loss: 27.2779 - acc: 0.1687 - val_loss: 24.3204 - val_acc: 0.1613\n",
            "\n",
            "Epoch 00011: val_loss did not improve from 23.24818\n",
            "Epoch 12/25\n",
            " 113/1169 [=>............................] - ETA: 1:25 - loss: 27.3629 - acc: 0.1681"
          ],
          "name": "stdout"
        },
        {
          "output_type": "error",
          "ename": "KeyboardInterrupt",
          "evalue": "ignored",
          "traceback": [
            "\u001b[0;31m\u001b[0m",
            "\u001b[0;31mKeyboardInterrupt\u001b[0mTraceback (most recent call last)",
            "\u001b[0;32m<ipython-input-44-214d0814590f>\u001b[0m in \u001b[0;36m<module>\u001b[0;34m()\u001b[0m\n\u001b[1;32m     20\u001b[0m \u001b[0mstn_model\u001b[0m\u001b[0;34m.\u001b[0m\u001b[0mcompile\u001b[0m\u001b[0;34m(\u001b[0m\u001b[0mloss\u001b[0m\u001b[0;34m=\u001b[0m\u001b[0mloss\u001b[0m\u001b[0;34m,\u001b[0m \u001b[0moptimizer\u001b[0m\u001b[0;34m=\u001b[0m\u001b[0mopt\u001b[0m\u001b[0;34m,\u001b[0m \u001b[0mmetrics\u001b[0m\u001b[0;34m=\u001b[0m\u001b[0;34m[\u001b[0m\u001b[0;34m'accuracy'\u001b[0m\u001b[0;34m]\u001b[0m\u001b[0;34m)\u001b[0m\u001b[0;34m\u001b[0m\u001b[0m\n\u001b[1;32m     21\u001b[0m stn_history = stn_model.fit_generator(generator=denoise_generator, epochs=25, callbacks=callbacks,\n\u001b[0;32m---> 22\u001b[0;31m                                               verbose=1, validation_data=denoise_generator_val)\n\u001b[0m",
            "\u001b[0;32m/usr/local/lib/python2.7/dist-packages/keras/legacy/interfaces.pyc\u001b[0m in \u001b[0;36mwrapper\u001b[0;34m(*args, **kwargs)\u001b[0m\n\u001b[1;32m     89\u001b[0m                 warnings.warn('Update your `' + object_name + '` call to the ' +\n\u001b[1;32m     90\u001b[0m                               'Keras 2 API: ' + signature, stacklevel=2)\n\u001b[0;32m---> 91\u001b[0;31m             \u001b[0;32mreturn\u001b[0m \u001b[0mfunc\u001b[0m\u001b[0;34m(\u001b[0m\u001b[0;34m*\u001b[0m\u001b[0margs\u001b[0m\u001b[0;34m,\u001b[0m \u001b[0;34m**\u001b[0m\u001b[0mkwargs\u001b[0m\u001b[0;34m)\u001b[0m\u001b[0;34m\u001b[0m\u001b[0m\n\u001b[0m\u001b[1;32m     92\u001b[0m         \u001b[0mwrapper\u001b[0m\u001b[0;34m.\u001b[0m\u001b[0m_original_function\u001b[0m \u001b[0;34m=\u001b[0m \u001b[0mfunc\u001b[0m\u001b[0;34m\u001b[0m\u001b[0m\n\u001b[1;32m     93\u001b[0m         \u001b[0;32mreturn\u001b[0m \u001b[0mwrapper\u001b[0m\u001b[0;34m\u001b[0m\u001b[0m\n",
            "\u001b[0;32m/usr/local/lib/python2.7/dist-packages/keras/engine/training.pyc\u001b[0m in \u001b[0;36mfit_generator\u001b[0;34m(self, generator, steps_per_epoch, epochs, verbose, callbacks, validation_data, validation_steps, class_weight, max_queue_size, workers, use_multiprocessing, shuffle, initial_epoch)\u001b[0m\n\u001b[1;32m   1416\u001b[0m             \u001b[0muse_multiprocessing\u001b[0m\u001b[0;34m=\u001b[0m\u001b[0muse_multiprocessing\u001b[0m\u001b[0;34m,\u001b[0m\u001b[0;34m\u001b[0m\u001b[0m\n\u001b[1;32m   1417\u001b[0m             \u001b[0mshuffle\u001b[0m\u001b[0;34m=\u001b[0m\u001b[0mshuffle\u001b[0m\u001b[0;34m,\u001b[0m\u001b[0;34m\u001b[0m\u001b[0m\n\u001b[0;32m-> 1418\u001b[0;31m             initial_epoch=initial_epoch)\n\u001b[0m\u001b[1;32m   1419\u001b[0m \u001b[0;34m\u001b[0m\u001b[0m\n\u001b[1;32m   1420\u001b[0m     \u001b[0;34m@\u001b[0m\u001b[0minterfaces\u001b[0m\u001b[0;34m.\u001b[0m\u001b[0mlegacy_generator_methods_support\u001b[0m\u001b[0;34m\u001b[0m\u001b[0m\n",
            "\u001b[0;32m/usr/local/lib/python2.7/dist-packages/keras/engine/training_generator.pyc\u001b[0m in \u001b[0;36mfit_generator\u001b[0;34m(model, generator, steps_per_epoch, epochs, verbose, callbacks, validation_data, validation_steps, class_weight, max_queue_size, workers, use_multiprocessing, shuffle, initial_epoch)\u001b[0m\n\u001b[1;32m    215\u001b[0m                 outs = model.train_on_batch(x, y,\n\u001b[1;32m    216\u001b[0m                                             \u001b[0msample_weight\u001b[0m\u001b[0;34m=\u001b[0m\u001b[0msample_weight\u001b[0m\u001b[0;34m,\u001b[0m\u001b[0;34m\u001b[0m\u001b[0m\n\u001b[0;32m--> 217\u001b[0;31m                                             class_weight=class_weight)\n\u001b[0m\u001b[1;32m    218\u001b[0m \u001b[0;34m\u001b[0m\u001b[0m\n\u001b[1;32m    219\u001b[0m                 \u001b[0mouts\u001b[0m \u001b[0;34m=\u001b[0m \u001b[0mto_list\u001b[0m\u001b[0;34m(\u001b[0m\u001b[0mouts\u001b[0m\u001b[0;34m)\u001b[0m\u001b[0;34m\u001b[0m\u001b[0m\n",
            "\u001b[0;32m/usr/local/lib/python2.7/dist-packages/keras/engine/training.pyc\u001b[0m in \u001b[0;36mtrain_on_batch\u001b[0;34m(self, x, y, sample_weight, class_weight)\u001b[0m\n\u001b[1;32m   1215\u001b[0m             \u001b[0mins\u001b[0m \u001b[0;34m=\u001b[0m \u001b[0mx\u001b[0m \u001b[0;34m+\u001b[0m \u001b[0my\u001b[0m \u001b[0;34m+\u001b[0m \u001b[0msample_weights\u001b[0m\u001b[0;34m\u001b[0m\u001b[0m\n\u001b[1;32m   1216\u001b[0m         \u001b[0mself\u001b[0m\u001b[0;34m.\u001b[0m\u001b[0m_make_train_function\u001b[0m\u001b[0;34m(\u001b[0m\u001b[0;34m)\u001b[0m\u001b[0;34m\u001b[0m\u001b[0m\n\u001b[0;32m-> 1217\u001b[0;31m         \u001b[0moutputs\u001b[0m \u001b[0;34m=\u001b[0m \u001b[0mself\u001b[0m\u001b[0;34m.\u001b[0m\u001b[0mtrain_function\u001b[0m\u001b[0;34m(\u001b[0m\u001b[0mins\u001b[0m\u001b[0;34m)\u001b[0m\u001b[0;34m\u001b[0m\u001b[0m\n\u001b[0m\u001b[1;32m   1218\u001b[0m         \u001b[0;32mreturn\u001b[0m \u001b[0munpack_singleton\u001b[0m\u001b[0;34m(\u001b[0m\u001b[0moutputs\u001b[0m\u001b[0;34m)\u001b[0m\u001b[0;34m\u001b[0m\u001b[0m\n\u001b[1;32m   1219\u001b[0m \u001b[0;34m\u001b[0m\u001b[0m\n",
            "\u001b[0;32m/usr/local/lib/python2.7/dist-packages/keras/backend/tensorflow_backend.pyc\u001b[0m in \u001b[0;36m__call__\u001b[0;34m(self, inputs)\u001b[0m\n\u001b[1;32m   2713\u001b[0m                 \u001b[0;32mreturn\u001b[0m \u001b[0mself\u001b[0m\u001b[0;34m.\u001b[0m\u001b[0m_legacy_call\u001b[0m\u001b[0;34m(\u001b[0m\u001b[0minputs\u001b[0m\u001b[0;34m)\u001b[0m\u001b[0;34m\u001b[0m\u001b[0m\n\u001b[1;32m   2714\u001b[0m \u001b[0;34m\u001b[0m\u001b[0m\n\u001b[0;32m-> 2715\u001b[0;31m             \u001b[0;32mreturn\u001b[0m \u001b[0mself\u001b[0m\u001b[0;34m.\u001b[0m\u001b[0m_call\u001b[0m\u001b[0;34m(\u001b[0m\u001b[0minputs\u001b[0m\u001b[0;34m)\u001b[0m\u001b[0;34m\u001b[0m\u001b[0m\n\u001b[0m\u001b[1;32m   2716\u001b[0m         \u001b[0;32melse\u001b[0m\u001b[0;34m:\u001b[0m\u001b[0;34m\u001b[0m\u001b[0m\n\u001b[1;32m   2717\u001b[0m             \u001b[0;32mif\u001b[0m \u001b[0mpy_any\u001b[0m\u001b[0;34m(\u001b[0m\u001b[0mis_tensor\u001b[0m\u001b[0;34m(\u001b[0m\u001b[0mx\u001b[0m\u001b[0;34m)\u001b[0m \u001b[0;32mfor\u001b[0m \u001b[0mx\u001b[0m \u001b[0;32min\u001b[0m \u001b[0minputs\u001b[0m\u001b[0;34m)\u001b[0m\u001b[0;34m:\u001b[0m\u001b[0;34m\u001b[0m\u001b[0m\n",
            "\u001b[0;32m/usr/local/lib/python2.7/dist-packages/keras/backend/tensorflow_backend.pyc\u001b[0m in \u001b[0;36m_call\u001b[0;34m(self, inputs)\u001b[0m\n\u001b[1;32m   2673\u001b[0m             \u001b[0mfetched\u001b[0m \u001b[0;34m=\u001b[0m \u001b[0mself\u001b[0m\u001b[0;34m.\u001b[0m\u001b[0m_callable_fn\u001b[0m\u001b[0;34m(\u001b[0m\u001b[0;34m*\u001b[0m\u001b[0marray_vals\u001b[0m\u001b[0;34m,\u001b[0m \u001b[0mrun_metadata\u001b[0m\u001b[0;34m=\u001b[0m\u001b[0mself\u001b[0m\u001b[0;34m.\u001b[0m\u001b[0mrun_metadata\u001b[0m\u001b[0;34m)\u001b[0m\u001b[0;34m\u001b[0m\u001b[0m\n\u001b[1;32m   2674\u001b[0m         \u001b[0;32melse\u001b[0m\u001b[0;34m:\u001b[0m\u001b[0;34m\u001b[0m\u001b[0m\n\u001b[0;32m-> 2675\u001b[0;31m             \u001b[0mfetched\u001b[0m \u001b[0;34m=\u001b[0m \u001b[0mself\u001b[0m\u001b[0;34m.\u001b[0m\u001b[0m_callable_fn\u001b[0m\u001b[0;34m(\u001b[0m\u001b[0;34m*\u001b[0m\u001b[0marray_vals\u001b[0m\u001b[0;34m)\u001b[0m\u001b[0;34m\u001b[0m\u001b[0m\n\u001b[0m\u001b[1;32m   2676\u001b[0m         \u001b[0;32mreturn\u001b[0m \u001b[0mfetched\u001b[0m\u001b[0;34m[\u001b[0m\u001b[0;34m:\u001b[0m\u001b[0mlen\u001b[0m\u001b[0;34m(\u001b[0m\u001b[0mself\u001b[0m\u001b[0;34m.\u001b[0m\u001b[0moutputs\u001b[0m\u001b[0;34m)\u001b[0m\u001b[0;34m]\u001b[0m\u001b[0;34m\u001b[0m\u001b[0m\n\u001b[1;32m   2677\u001b[0m \u001b[0;34m\u001b[0m\u001b[0m\n",
            "\u001b[0;32m/usr/local/lib/python2.7/dist-packages/tensorflow/python/client/session.pyc\u001b[0m in \u001b[0;36m__call__\u001b[0;34m(self, *args, **kwargs)\u001b[0m\n\u001b[1;32m   1437\u001b[0m           ret = tf_session.TF_SessionRunCallable(\n\u001b[1;32m   1438\u001b[0m               \u001b[0mself\u001b[0m\u001b[0;34m.\u001b[0m\u001b[0m_session\u001b[0m\u001b[0;34m.\u001b[0m\u001b[0m_session\u001b[0m\u001b[0;34m,\u001b[0m \u001b[0mself\u001b[0m\u001b[0;34m.\u001b[0m\u001b[0m_handle\u001b[0m\u001b[0;34m,\u001b[0m \u001b[0margs\u001b[0m\u001b[0;34m,\u001b[0m \u001b[0mstatus\u001b[0m\u001b[0;34m,\u001b[0m\u001b[0;34m\u001b[0m\u001b[0m\n\u001b[0;32m-> 1439\u001b[0;31m               run_metadata_ptr)\n\u001b[0m\u001b[1;32m   1440\u001b[0m         \u001b[0;32mif\u001b[0m \u001b[0mrun_metadata\u001b[0m\u001b[0;34m:\u001b[0m\u001b[0;34m\u001b[0m\u001b[0m\n\u001b[1;32m   1441\u001b[0m           \u001b[0mproto_data\u001b[0m \u001b[0;34m=\u001b[0m \u001b[0mtf_session\u001b[0m\u001b[0;34m.\u001b[0m\u001b[0mTF_GetBuffer\u001b[0m\u001b[0;34m(\u001b[0m\u001b[0mrun_metadata_ptr\u001b[0m\u001b[0;34m)\u001b[0m\u001b[0;34m\u001b[0m\u001b[0m\n",
            "\u001b[0;31mKeyboardInterrupt\u001b[0m: "
          ]
        }
      ]
    },
    {
      "metadata": {
        "id": "aikyKw4-tRJJ",
        "colab_type": "code",
        "outputId": "a303a182-0fc6-44d3-e266-5c521300e2ca",
        "colab": {
          "base_uri": "https://localhost:8080/",
          "height": 449
        }
      },
      "cell_type": "code",
      "source": [
        "from utils import plot_stn\n",
        "\n",
        "plot_stn(stn_model)\n",
        "plt.plot(stn_history.history['loss'])\n",
        "plt.plot(stn_history.history['val_loss'])\n",
        "plt.title('model loss')\n",
        "plt.ylabel('loss')\n",
        "plt.xlabel('epoch')\n",
        "plt.legend(['train', 'test'], loc='upper left')\n",
        "plt.show()"
      ],
      "execution_count": 49,
      "outputs": [
        {
          "output_type": "stream",
          "text": [
            "\n",
            "  0%|          | 0/1 [00:00<?, ?it/s]\u001b[A\n",
            "100%|██████████| 1/1 [00:00<00:00,  3.95it/s]\u001b[A\n",
            "\u001b[A"
          ],
          "name": "stderr"
        },
        {
          "output_type": "display_data",
          "data": {
            "image/png": "[encoded data removed]",
            "text/plain": [
              "<Figure size 576x396 with 3 Axes>"
            ]
          },
          "metadata": {
            "tags": []
          }
        },
        {
          "output_type": "error",
          "ename": "NameError",
          "evalue": "ignored",
          "traceback": [
            "\u001b[0;31m\u001b[0m",
            "\u001b[0;31mNameError\u001b[0mTraceback (most recent call last)",
            "\u001b[0;32m<ipython-input-49-b310d1198353>\u001b[0m in \u001b[0;36m<module>\u001b[0;34m()\u001b[0m\n\u001b[1;32m      2\u001b[0m \u001b[0;34m\u001b[0m\u001b[0m\n\u001b[1;32m      3\u001b[0m \u001b[0mplot_stn\u001b[0m\u001b[0;34m(\u001b[0m\u001b[0mstn_model\u001b[0m\u001b[0;34m)\u001b[0m\u001b[0;34m\u001b[0m\u001b[0m\n\u001b[0;32m----> 4\u001b[0;31m \u001b[0mplt\u001b[0m\u001b[0;34m.\u001b[0m\u001b[0mplot\u001b[0m\u001b[0;34m(\u001b[0m\u001b[0mstn_history\u001b[0m\u001b[0;34m.\u001b[0m\u001b[0mhistory\u001b[0m\u001b[0;34m[\u001b[0m\u001b[0;34m'loss'\u001b[0m\u001b[0;34m]\u001b[0m\u001b[0;34m)\u001b[0m\u001b[0;34m\u001b[0m\u001b[0m\n\u001b[0m\u001b[1;32m      5\u001b[0m \u001b[0mplt\u001b[0m\u001b[0;34m.\u001b[0m\u001b[0mplot\u001b[0m\u001b[0;34m(\u001b[0m\u001b[0mstn_history\u001b[0m\u001b[0;34m.\u001b[0m\u001b[0mhistory\u001b[0m\u001b[0;34m[\u001b[0m\u001b[0;34m'val_loss'\u001b[0m\u001b[0;34m]\u001b[0m\u001b[0;34m)\u001b[0m\u001b[0;34m\u001b[0m\u001b[0m\n\u001b[1;32m      6\u001b[0m \u001b[0mplt\u001b[0m\u001b[0;34m.\u001b[0m\u001b[0mtitle\u001b[0m\u001b[0;34m(\u001b[0m\u001b[0;34m'model loss'\u001b[0m\u001b[0;34m)\u001b[0m\u001b[0;34m\u001b[0m\u001b[0m\n",
            "\u001b[0;31mNameError\u001b[0m: name 'stn_history' is not defined"
          ]
        }
      ]
    }
  ]
}