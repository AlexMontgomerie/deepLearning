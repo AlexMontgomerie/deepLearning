{
  "nbformat": 4,
  "nbformat_minor": 0,
  "metadata": {
    "colab": {
      "name": "Baseline_code.ipynb",
      "version": "0.3.2",
      "provenance": [],
      "collapsed_sections": [],
      "include_colab_link": true
    },
    "kernelspec": {
      "display_name": "Python 2",
      "name": "python2"
    },
    "accelerator": "GPU"
  },
  "cells": [
    {
      "cell_type": "markdown",
      "metadata": {
        "id": "view-in-github",
        "colab_type": "text"
      },
      "source": [
        "<a href=\"https://colab.research.google.com/github/AlexMontgomerie/deepLearning/blob/master/stn_descriptor.ipynb\" target=\"_parent\"><img src=\"https://colab.research.google.com/assets/colab-badge.svg\" alt=\"Open In Colab\"/></a>"
      ]
    },
    {
      "metadata": {
        "id": "Wy_53YaTgF3_",
        "colab_type": "code",
        "outputId": "1725c2f9-3760-4d2e-c82e-a288aea6ec90",
        "colab": {
          "base_uri": "https://localhost:8080/",
          "height": 204
        }
      },
      "cell_type": "code",
      "source": [
        "%cd /content\n",
        "#!rm -rf deepLearning\n",
        "!git clone https://github.com/AlexMontgomerie/deepLearning\n",
        "%cd deepLearning\n",
        "!git pull origin master\n",
        "\n",
        "# Taken from\n",
        "# https://stackoverflow.com/questions/48750199/google-colaboratory-misleading-information-about-its-gpu-only-5-ram-available\n",
        "# memory footprint support libraries/code\n",
        "!ln -sf /opt/bin/nvidia-smi /usr/bin/nvidia-smi\n",
        "!pip install gputil\n",
        "!pip install psutil\n",
        "!pip install humanize\n",
        "import psutil\n",
        "import humanize\n",
        "import os\n",
        "import GPUtil as GPU\n",
        "GPUs = GPU.getGPUs()\n",
        "# Colab only provides one GPU and it is not always guaranteed\n",
        "gpu = GPUs[0]\n",
        "def printm():\n",
        "  process = psutil.Process(os.getpid())\n",
        "  print(\"RAM Free: \" + humanize.naturalsize( psutil.virtual_memory().available ), \" | Proc size: \" + humanize.naturalsize( process.memory_info().rss))\n",
        "  print(\"GPU RAM Free: {0:.0f}MB | Used: {1:.0f}MB | Util {2:3.0f}% | Total {3:.0f}MB\".format(gpu.memoryFree, gpu.memoryUsed, gpu.memoryUtil*100, gpu.memoryTotal))\n",
        "printm()\n"
      ],
      "execution_count": 3,
      "outputs": [
        {
          "output_type": "stream",
          "text": [
            "/content\n",
            "fatal: destination path 'deepLearning' already exists and is not an empty directory.\n",
            "/content/deepLearning\n",
            "From https://github.com/AlexMontgomerie/deepLearning\n",
            " * branch            master     -> FETCH_HEAD\n",
            "Already up to date.\n",
            "Requirement already satisfied: gputil in /usr/local/lib/python2.7/dist-packages (1.4.0)\n",
            "Requirement already satisfied: psutil in /usr/local/lib/python2.7/dist-packages (5.4.8)\n",
            "Requirement already satisfied: humanize in /usr/local/lib/python2.7/dist-packages (0.5.1)\n",
            "('RAM Free: 12.9 GB', ' | Proc size: 153.7 MB')\n",
            "GPU RAM Free: 11441MB | Used: 0MB | Util   0% | Total 11441MB\n"
          ],
          "name": "stdout"
        }
      ]
    },
    {
      "metadata": {
        "id": "zLh6FesVgF4F",
        "colab_type": "code",
        "outputId": "f0597301-35a6-43b7-eb3b-96bf04fab312",
        "colab": {
          "base_uri": "https://localhost:8080/",
          "height": 479
        }
      },
      "cell_type": "code",
      "source": [
        "from common import *\n",
        "!./setup.sh"
      ],
      "execution_count": 2,
      "outputs": [
        {
          "output_type": "stream",
          "text": [
            "Using TensorFlow backend.\n"
          ],
          "name": "stderr"
        },
        {
          "output_type": "stream",
          "text": [
            "--2019-03-11 17:32:59--  https://imperialcollegelondon.box.com/shared/static/ah40eq7cxpwq4a6l4f62efzdyt8rm3ha.zip\n",
            "Resolving imperialcollegelondon.box.com (imperialcollegelondon.box.com)... 107.152.27.197, 107.152.26.197\n",
            "Connecting to imperialcollegelondon.box.com (imperialcollegelondon.box.com)|107.152.27.197|:443... connected.\n",
            "HTTP request sent, awaiting response... 301 Moved Permanently\n",
            "Location: /public/static/ah40eq7cxpwq4a6l4f62efzdyt8rm3ha.zip [following]\n",
            "--2019-03-11 17:32:59--  https://imperialcollegelondon.box.com/public/static/ah40eq7cxpwq4a6l4f62efzdyt8rm3ha.zip\n",
            "Reusing existing connection to imperialcollegelondon.box.com:443.\n",
            "HTTP request sent, awaiting response... 301 Moved Permanently\n",
            "Location: https://imperialcollegelondon.app.box.com/public/static/ah40eq7cxpwq4a6l4f62efzdyt8rm3ha.zip [following]\n",
            "--2019-03-11 17:33:00--  https://imperialcollegelondon.app.box.com/public/static/ah40eq7cxpwq4a6l4f62efzdyt8rm3ha.zip\n",
            "Resolving imperialcollegelondon.app.box.com (imperialcollegelondon.app.box.com)... 107.152.27.199\n",
            "Connecting to imperialcollegelondon.app.box.com (imperialcollegelondon.app.box.com)|107.152.27.199|:443... connected.\n",
            "HTTP request sent, awaiting response... 302 Found\n",
            "Location: https://public.boxcloud.com/d/1/b1!Ay6bvsIYcSTyZMueXerZKh4EI86XV4S-V_B0RsaJDt_nM7awCfwGaC88fK2VnVKX06QwMackOVNbap3nZMeZ-n0600eyEAY0YzIKv665FLOoxXIWTOPflI7rEiLZFQFigFKe0_X-vE3vFWojLVtMqAcK0f8W8cudjf3gMLUvY_XoOfi7GsqnaOKwjRTu-cswJjlUbRA5LNQUf2mnd7ueh1PYvULDhB17E30arfOtHCFWdv48gQvBYKV8Rjb03EjwPbWH07HhpZfggM6m4FxiVCGiazRlkDPKxYiTX7M5cgXlfjTKLUS2x27x-moGifEJq4fYCAie_GlJnn-dRkr_n3GZ1wln3vhFeo0ml_z7opaWBALVftkyWPK2WxitWbuacAuEQRMhiTx9TEVtoiX77wcIgSimMVr8YojJOEUEUUvBwONSkYWe7h0dKZDLj5kKdm1gtnmT87rSE4lcPFn0g26zyyjU7q61f9zLZ5U11U9focG7lKtC1JrN8y4PQorC0Mjk88d7k9-DQeqfV86RReoOcUNpsukltyTe2XQsl3uQBkpG5CaUrJ2d_OHCAfjSjLfcJQJ8B8S1eCIVdSAACJsrTEhTvbaaCJs12tfoG_6NsF4V3jTKyIyXczMFW7tYsjr3vziVBpY1ayC3wPYAZcm1hU7u2WIfI7O3dxWUa-M7BNx4gO_4kqva_RCW3guZCEPsLNlR0p-AiiYD8fWvno-gs6SF01oZFGggL5oZZ1PC22zlYYc78S-cRgCGpa-RjPd9NQETtgaNC_z6Js5NsJ4pB3vhwpTEDDytzhWE8fqy0sVWql9rPYRhPoRgm8UFYp-IxMnHdrMYlL3quk5OHVKsSHprGx1ZogPhy1Am_0vloPeIlh3QKBRHayjhfucYfvvNh3lhgox1Q40etXXtonV7Vm5Nj9qYJnRtNatdjV3IkS1siNCt9UIr47hWzx4Hj2J2GfnGSQdEooPhmZunPyLuPaKnEuvsJiPx-0IqszoZmp6zu-1dCVAluaRabHhe3EocGiWkT2B5TtgCiUdIJP9MkC1I-bCCpJvqH4Iro-vIwISA6vluT2BjY9My6f9Ek6X3M5GgTTLFD4IDq9dSOHdsT0emA7H8r62G_-MvENFDlCqW1RwFG8seH55paMV2LRp-DUOGBmUUv8YTL47lYDYqrs00zHfGCwztfy4mK5yMdVfP9e-PiIbST-LbQ7egvtb-iqdpBXOtFARGTJ_pNiYKytT2KMcbsrnzQY6KPB1rTD2oq0c7FaEFMvn6oxaBBn_5Mh5_DZXs71buoDIJfAEXW729jx1JL11XbNLRd7UTVAe1-IfI84DNeaSJvVDm_vq3q33Ee6-GLHQLu9wufkpVks3j1VpaLwvCO80oF9qGaSJpZfeKGWquXG-AvHrNDxWUJAdok_U4fur2UkljbOQJPqH9uNhRPXRsn1508ybvti0uiTbYkSbZVLI5zMPbVmioDaCvcNJNELm3kFoBA6sHLFYgeg../download [following]\n",
            "--2019-03-11 17:33:01--  https://public.boxcloud.com/d/1/b1!Ay6bvsIYcSTyZMueXerZKh4EI86XV4S-V_B0RsaJDt_nM7awCfwGaC88fK2VnVKX06QwMackOVNbap3nZMeZ-n0600eyEAY0YzIKv665FLOoxXIWTOPflI7rEiLZFQFigFKe0_X-vE3vFWojLVtMqAcK0f8W8cudjf3gMLUvY_XoOfi7GsqnaOKwjRTu-cswJjlUbRA5LNQUf2mnd7ueh1PYvULDhB17E30arfOtHCFWdv48gQvBYKV8Rjb03EjwPbWH07HhpZfggM6m4FxiVCGiazRlkDPKxYiTX7M5cgXlfjTKLUS2x27x-moGifEJq4fYCAie_GlJnn-dRkr_n3GZ1wln3vhFeo0ml_z7opaWBALVftkyWPK2WxitWbuacAuEQRMhiTx9TEVtoiX77wcIgSimMVr8YojJOEUEUUvBwONSkYWe7h0dKZDLj5kKdm1gtnmT87rSE4lcPFn0g26zyyjU7q61f9zLZ5U11U9focG7lKtC1JrN8y4PQorC0Mjk88d7k9-DQeqfV86RReoOcUNpsukltyTe2XQsl3uQBkpG5CaUrJ2d_OHCAfjSjLfcJQJ8B8S1eCIVdSAACJsrTEhTvbaaCJs12tfoG_6NsF4V3jTKyIyXczMFW7tYsjr3vziVBpY1ayC3wPYAZcm1hU7u2WIfI7O3dxWUa-M7BNx4gO_4kqva_RCW3guZCEPsLNlR0p-AiiYD8fWvno-gs6SF01oZFGggL5oZZ1PC22zlYYc78S-cRgCGpa-RjPd9NQETtgaNC_z6Js5NsJ4pB3vhwpTEDDytzhWE8fqy0sVWql9rPYRhPoRgm8UFYp-IxMnHdrMYlL3quk5OHVKsSHprGx1ZogPhy1Am_0vloPeIlh3QKBRHayjhfucYfvvNh3lhgox1Q40etXXtonV7Vm5Nj9qYJnRtNatdjV3IkS1siNCt9UIr47hWzx4Hj2J2GfnGSQdEooPhmZunPyLuPaKnEuvsJiPx-0IqszoZmp6zu-1dCVAluaRabHhe3EocGiWkT2B5TtgCiUdIJP9MkC1I-bCCpJvqH4Iro-vIwISA6vluT2BjY9My6f9Ek6X3M5GgTTLFD4IDq9dSOHdsT0emA7H8r62G_-MvENFDlCqW1RwFG8seH55paMV2LRp-DUOGBmUUv8YTL47lYDYqrs00zHfGCwztfy4mK5yMdVfP9e-PiIbST-LbQ7egvtb-iqdpBXOtFARGTJ_pNiYKytT2KMcbsrnzQY6KPB1rTD2oq0c7FaEFMvn6oxaBBn_5Mh5_DZXs71buoDIJfAEXW729jx1JL11XbNLRd7UTVAe1-IfI84DNeaSJvVDm_vq3q33Ee6-GLHQLu9wufkpVks3j1VpaLwvCO80oF9qGaSJpZfeKGWquXG-AvHrNDxWUJAdok_U4fur2UkljbOQJPqH9uNhRPXRsn1508ybvti0uiTbYkSbZVLI5zMPbVmioDaCvcNJNELm3kFoBA6sHLFYgeg../download\n",
            "Resolving public.boxcloud.com (public.boxcloud.com)... 107.152.26.200\n",
            "Connecting to public.boxcloud.com (public.boxcloud.com)|107.152.26.200|:443... connected.\n",
            "HTTP request sent, awaiting response... 200 OK\n",
            "Length: 4088106554 (3.8G) [application/zip]\n",
            "Saving to: ‘hpatches_data.zip’\n",
            "\n",
            "hpatches_data.zip   100%[===================>]   3.81G  20.0MB/s    in 3m 13s  \n",
            "\n",
            "2019-03-11 17:36:15 (20.2 MB/s) - ‘hpatches_data.zip’ saved [4088106554/4088106554]\n",
            "\n"
          ],
          "name": "stdout"
        }
      ]
    },
    {
      "metadata": {
        "colab_type": "code",
        "id": "W6QbkHnbuIUD",
        "colab": {}
      },
      "cell_type": "code",
      "source": [
        "import sys\n",
        "import json\n",
        "import os\n",
        "import glob\n",
        "import keras\n",
        "from keras import regularizers\n",
        "from keras import backend as K\n",
        "from keras.models import Sequential, Model\n",
        "from keras.layers import Dense, Dropout, Activation, Flatten, Input, Lambda, Reshape\n",
        "from keras.layers import Conv2D, MaxPooling2D, BatchNormalization\n",
        "from keras.layers import Input, UpSampling2D, concatenate\n",
        "import time\n",
        "import tensorflow as tf\n",
        "import numpy as np\n",
        "import cv2\n",
        "import random\n",
        "from read_data import HPatches, DataGeneratorDesc, hpatches_sequence_folder, DenoiseHPatches, STNHPatches, tps\n",
        "from utils import generate_desc_csv, plot_denoise, plot_triplet, plot_stn\n",
        "import matplotlib.pyplot as plt\n",
        "from layers import BilinearInterpolation\n",
        "\n",
        "random.seed(1234)\n",
        "np.random.seed(1234)\n",
        "tf.set_random_seed(1234)\n",
        "\n",
        "def get_initial_weights(output_size):\n",
        "    b = np.zeros((2, 3), dtype='float32')\n",
        "    b[0, 0] = 1\n",
        "    b[1, 1] = 1\n",
        "    W = np.zeros((output_size, 6), dtype='float32')\n",
        "    weights = [W, b.flatten()]\n",
        "    return weights\n",
        "  \n",
        "def get_stn_model(shape):\n",
        "    init_weights = keras.initializers.he_normal()\n",
        "    inputs = Input(shape)\n",
        "    locnet = Conv2D(16, 3, activation='relu', padding='same', kernel_initializer=init_weights, name='stn_1')(inputs) # 32\n",
        "    locnet = BatchNormalization(axis = -1)(locnet)\n",
        "    locnet = MaxPooling2D(pool_size=(2, 2))(locnet)\n",
        "    \n",
        "    locnet = Conv2D(32, 3, activation='relu', padding='same', kernel_initializer=init_weights, name='stn_2')(locnet) # 32\n",
        "    locnet = BatchNormalization(axis = -1)(locnet)\n",
        "    locnet = MaxPooling2D(pool_size=(2, 2))(locnet)\n",
        "    \n",
        "    locnet = Conv2D(64, 3, activation='relu', padding='same', kernel_initializer=init_weights, name='stn_3')(locnet)  # 64\n",
        "    locnet = BatchNormalization(axis = -1)(locnet)\n",
        "    locnet = MaxPooling2D(pool_size=(2, 2))(locnet)\n",
        "    \n",
        "    locnet = Conv2D(128, 3, activation='relu', padding='same', kernel_initializer=init_weights, name='stn_4')(locnet)  # 128\n",
        "    locnet = BatchNormalization(axis = -1)(locnet)\n",
        "    \n",
        "    locnet = Flatten()(locnet)\n",
        "    locnet = Dense(256, name='stn_5')(locnet)\n",
        "    locnet = Activation('tanh')(locnet)\n",
        "    weights = get_initial_weights(256)\n",
        "    locnet = Dense(6, weights=weights, name='stn_6')(locnet)\n",
        "    stn    = BilinearInterpolation(shape[:-1])([inputs, locnet])\n",
        "    return Model(inputs=inputs, outputs=stn)"
      ],
      "execution_count": 0,
      "outputs": []
    },
    {
      "metadata": {
        "id": "ciK2bzUiMqZj",
        "colab_type": "code",
        "outputId": "05c1ce4e-8fd2-4ed9-958a-6e289e6bacad",
        "colab": {
          "base_uri": "https://localhost:8080/",
          "height": 238
        }
      },
      "cell_type": "code",
      "source": [
        "%cd /content/deepLearning\n",
        "!git pull origin master"
      ],
      "execution_count": 4,
      "outputs": [
        {
          "output_type": "stream",
          "text": [
            "/content/deepLearning\n",
            "remote: Enumerating objects: 5, done.\u001b[K\n",
            "remote: Counting objects: 100% (5/5), done.\u001b[K\n",
            "remote: Compressing objects: 100% (1/1), done.\u001b[K\n",
            "remote: Total 3 (delta 2), reused 3 (delta 2), pack-reused 0\u001b[K\n",
            "Unpacking objects: 100% (3/3), done.\n",
            "From https://github.com/AlexMontgomerie/deepLearning\n",
            " * branch            master     -> FETCH_HEAD\n",
            "   c2c4011..0caff34  master     -> origin/master\n",
            "Updating c2c4011..0caff34\n",
            "Fast-forward\n",
            " utils.py | 42 \u001b[32m+++++++++++++++++++++++++++++++++++\u001b[m\u001b[31m-------\u001b[m\n",
            " 1 file changed, 35 insertions(+), 7 deletions(-)\n"
          ],
          "name": "stdout"
        }
      ]
    },
    {
      "metadata": {
        "id": "7OHNwH_XgF4T",
        "colab_type": "code",
        "outputId": "4e0e579c-0cc5-4129-fdd3-57b48a2501b1",
        "colab": {
          "base_uri": "https://localhost:8080/",
          "height": 51
        }
      },
      "cell_type": "code",
      "source": [
        "from get_data import get_data\n",
        "from read_data import STNHPatches\n",
        "\n",
        "seqs_train, seqs_test = get_data()\n",
        "\n",
        "denoise_generator     = STNHPatches(seqs_train, batch_size=500)\n",
        "denoise_generator_val = STNHPatches(seqs_test, batch_size=500)"
      ],
      "execution_count": 48,
      "outputs": [
        {
          "output_type": "stream",
          "text": [
            "100%|██████████| 76/76 [00:25<00:00,  2.57it/s]\n",
            "100%|██████████| 40/40 [00:15<00:00,  2.80it/s]\n"
          ],
          "name": "stderr"
        }
      ]
    },
    {
      "metadata": {
        "id": "yTLGGPLvHIAP",
        "colab_type": "code",
        "outputId": "cdb0fbcd-2aa2-446a-9541-7b46c7bd3890",
        "colab": {
          "base_uri": "https://localhost:8080/",
          "height": 714
        }
      },
      "cell_type": "code",
      "source": [
        "# get model\n",
        "shape = (32, 32, 1)\n",
        "stn_model = get_stn_model(shape)\n",
        "\n",
        "# optimiser\n",
        "opt  = opt = keras.optimizers.nadam()\n",
        "\n",
        "# loss\n",
        "loss = 'mean_absolute_error'\n",
        "\n",
        "# train network\n",
        "def ssim_loss(a,p):\n",
        "  return 1 - tf.image.ssim(a, p, max_val=1.0)\n",
        "\n",
        "# callbacks\n",
        "callbacks = [\n",
        "    keras.callbacks.EarlyStopping(monitor = 'val_loss', patience = 5, verbose = 3, mode= 'auto'),\n",
        "    keras.callbacks.ModelCheckpoint('data/stn_model.weights.{epoch:02d}-{val_loss:.2f}.hdf5', verbose=1, save_best_only=True)\n",
        "]\n",
        "\n",
        "stn_model.compile(loss=loss, optimizer=opt, metrics=['accuracy'])\n",
        "stn_history = stn_model.fit_generator(generator=denoise_generator, epochs=50, callbacks=callbacks,\n",
        "                                              verbose=1, validation_data=denoise_generator_val)"
      ],
      "execution_count": 50,
      "outputs": [
        {
          "output_type": "stream",
          "text": [
            "Epoch 1/50\n",
            "1169/1169 [==============================] - 105s 90ms/step - loss: 27.9566 - acc: 0.0879 - val_loss: 26.1146 - val_acc: 0.0868\n",
            "\n",
            "Epoch 00001: val_loss improved from inf to 26.11457, saving model to data/stn_model.weights.01-26.11.hdf5\n",
            "Epoch 2/50\n",
            "1169/1169 [==============================] - 103s 88ms/step - loss: 27.8775 - acc: 0.0967 - val_loss: 26.0617 - val_acc: 0.0706\n",
            "\n",
            "Epoch 00002: val_loss improved from 26.11457 to 26.06171, saving model to data/stn_model.weights.02-26.06.hdf5\n",
            "Epoch 3/50\n",
            "1169/1169 [==============================] - 101s 86ms/step - loss: 27.8068 - acc: 0.0983 - val_loss: 26.8327 - val_acc: 0.0588\n",
            "\n",
            "Epoch 00003: val_loss did not improve from 26.06171\n",
            "Epoch 4/50\n",
            "1169/1169 [==============================] - 100s 86ms/step - loss: 27.9274 - acc: 0.0994 - val_loss: 26.1085 - val_acc: 0.1112\n",
            "\n",
            "Epoch 00004: val_loss did not improve from 26.06171\n",
            "Epoch 5/50\n",
            "1169/1169 [==============================] - 102s 87ms/step - loss: 27.8747 - acc: 0.1034 - val_loss: 24.4825 - val_acc: 0.1146\n",
            "\n",
            "Epoch 00005: val_loss improved from 26.06171 to 24.48248, saving model to data/stn_model.weights.05-24.48.hdf5\n",
            "Epoch 6/50\n",
            "1169/1169 [==============================] - 100s 86ms/step - loss: 27.9023 - acc: 0.1054 - val_loss: 25.4483 - val_acc: 0.0878\n",
            "\n",
            "Epoch 00006: val_loss did not improve from 24.48248\n",
            "Epoch 7/50\n",
            "1169/1169 [==============================] - 100s 85ms/step - loss: 27.9290 - acc: 0.1070 - val_loss: 27.0374 - val_acc: 0.1013\n",
            "\n",
            "Epoch 00007: val_loss did not improve from 24.48248\n",
            "Epoch 8/50\n",
            "1169/1169 [==============================] - 101s 86ms/step - loss: 27.8984 - acc: 0.1111 - val_loss: 25.8188 - val_acc: 0.1112\n",
            "\n",
            "Epoch 00008: val_loss did not improve from 24.48248\n",
            "Epoch 9/50\n",
            "1169/1169 [==============================] - 100s 86ms/step - loss: 27.9211 - acc: 0.1107 - val_loss: 26.1568 - val_acc: 0.0972\n",
            "\n",
            "Epoch 00009: val_loss did not improve from 24.48248\n",
            "Epoch 10/50\n",
            "1169/1169 [==============================] - 101s 87ms/step - loss: 28.0337 - acc: 0.1120 - val_loss: 27.1569 - val_acc: 0.1211\n",
            "\n",
            "Epoch 00010: val_loss did not improve from 24.48248\n",
            "Epoch 00010: early stopping\n"
          ],
          "name": "stdout"
        }
      ]
    },
    {
      "metadata": {
        "id": "aikyKw4-tRJJ",
        "colab_type": "code",
        "outputId": "bffc7449-b9f8-42db-8dcd-e0a90bd02fa7",
        "colab": {
          "base_uri": "https://localhost:8080/",
          "height": 559
        }
      },
      "cell_type": "code",
      "source": [
        "from utils import plot_stn\n",
        "\n",
        "plot_stn(stn_model)\n",
        "plt.plot(stn_history.history['loss'])\n",
        "plt.plot(stn_history.history['val_loss'])\n",
        "plt.title('model loss')\n",
        "plt.ylabel('loss')\n",
        "plt.xlabel('epoch')\n",
        "plt.legend(['train', 'test'], loc='upper left')\n",
        "plt.show()"
      ],
      "execution_count": 58,
      "outputs": [
        {
          "output_type": "stream",
          "text": [
            "100%|██████████| 1/1 [00:00<00:00,  4.38it/s]\n"
          ],
          "name": "stderr"
        },
        {
          "output_type": "display_data",
          "data": {
            "image/png": "[encoded data removed]",
            "text/plain": [
              "<Figure size 576x396 with 3 Axes>"
            ]
          },
          "metadata": {
            "tags": []
          }
        },
        {
          "output_type": "display_data",
          "data": {
            "image/png": "[encoded data removed]",
            "text/plain": [
              "<Figure size 576x396 with 1 Axes>"
            ]
          },
          "metadata": {
            "tags": []
          }
        }
      ]
    }
  ]
}