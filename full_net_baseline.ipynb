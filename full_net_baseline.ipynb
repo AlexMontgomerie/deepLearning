{
  "nbformat": 4,
  "nbformat_minor": 0,
  "metadata": {
    "colab": {
      "name": "Untitled5.ipynb",
      "version": "0.3.2",
      "provenance": [],
      "include_colab_link": true
    },
    "kernelspec": {
      "display_name": "Python 3",
      "language": "python",
      "name": "python3"
    },
    "accelerator": "GPU"
  },
  "cells": [
    {
      "cell_type": "markdown",
      "metadata": {
        "id": "view-in-github",
        "colab_type": "text"
      },
      "source": [
        "<a href=\"https://colab.research.google.com/github/AlexMontgomerie/deepLearning/blob/master/full_net_baseline.ipynb\" target=\"_parent\"><img src=\"https://colab.research.google.com/assets/colab-badge.svg\" alt=\"Open In Colab\"/></a>"
      ]
    },
    {
      "metadata": {
        "colab_type": "code",
        "id": "tSMVa8-rncVS",
        "outputId": "c8aa2686-e7ed-4957-d970-11b3d91cb0e6",
        "colab": {
          "base_uri": "https://localhost:8080/",
          "height": 391
        }
      },
      "cell_type": "code",
      "source": [
        "%cd /content\n",
        "#!rm -rf deepLearning\n",
        "!git clone https://github.com/AlexMontgomerie/deepLearning\n",
        "%cd deepLearning\n",
        "# Taken from\n",
        "# https://stackoverflow.com/questions/48750199/google-colaboratory-misleading-information-about-its-gpu-only-5-ram-available\n",
        "# memory footprint support libraries/code\n",
        "!ln -sf /opt/bin/nvidia-smi /usr/bin/nvidia-smi\n",
        "!pip install gputil\n",
        "!pip install psutil\n",
        "!pip install humanize\n",
        "import psutil\n",
        "import humanize\n",
        "import os\n",
        "import GPUtil as GPU\n",
        "GPUs = GPU.getGPUs()\n",
        "# Colab only provides one GPU and it is not always guaranteed\n",
        "gpu = GPUs[0]\n",
        "def printm():\n",
        "  process = psutil.Process(os.getpid())\n",
        "  print(\"RAM Free: \" + humanize.naturalsize( psutil.virtual_memory().available ), \" | Proc size: \" + humanize.naturalsize( process.memory_info().rss))\n",
        "  print(\"GPU RAM Free: {0:.0f}MB | Used: {1:.0f}MB | Util {2:3.0f}% | Total {3:.0f}MB\".format(gpu.memoryFree, gpu.memoryUsed, gpu.memoryUtil*100, gpu.memoryTotal))\n",
        "printm()"
      ],
      "execution_count": 1,
      "outputs": [
        {
          "output_type": "stream",
          "text": [
            "/content\n",
            "Cloning into 'deepLearning'...\n",
            "remote: Enumerating objects: 136, done.\u001b[K\n",
            "remote: Counting objects: 100% (136/136), done.\u001b[K\n",
            "remote: Compressing objects: 100% (114/114), done.\u001b[K\n",
            "remote: Total 381 (delta 68), reused 51 (delta 21), pack-reused 245\u001b[K\n",
            "Receiving objects: 100% (381/381), 152.26 MiB | 22.32 MiB/s, done.\n",
            "Resolving deltas: 100% (151/151), done.\n",
            "Checking out files: 100% (108/108), done.\n",
            "/content/deepLearning\n",
            "Collecting gputil\n",
            "  Downloading https://files.pythonhosted.org/packages/ed/0e/5c61eedde9f6c87713e89d794f01e378cfd9565847d4576fa627d758c554/GPUtil-1.4.0.tar.gz\n",
            "Building wheels for collected packages: gputil\n",
            "  Building wheel for gputil (setup.py) ... \u001b[?25ldone\n",
            "\u001b[?25h  Stored in directory: /root/.cache/pip/wheels/3d/77/07/80562de4bb0786e5ea186911a2c831fdd0018bda69beab71fd\n",
            "Successfully built gputil\n",
            "Installing collected packages: gputil\n",
            "Successfully installed gputil-1.4.0\n",
            "Requirement already satisfied: psutil in /usr/local/lib/python3.6/dist-packages (5.4.8)\n",
            "Requirement already satisfied: humanize in /usr/local/lib/python3.6/dist-packages (0.5.1)\n",
            "RAM Free: 12.9 GB  | Proc size: 142.9 MB\n",
            "GPU RAM Free: 11441MB | Used: 0MB | Util   0% | Total 11441MB\n"
          ],
          "name": "stdout"
        }
      ]
    },
    {
      "metadata": {
        "colab_type": "code",
        "id": "eWqnNDkSnqfz",
        "outputId": "70d630ff-34c4-48aa-e1a3-41e9194e1cfe",
        "colab": {
          "base_uri": "https://localhost:8080/",
          "height": 479
        }
      },
      "cell_type": "code",
      "source": [
        "from common import *\n",
        "!chmod +x setup.sh\n",
        "!./setup.sh"
      ],
      "execution_count": 2,
      "outputs": [
        {
          "output_type": "stream",
          "text": [
            "Using TensorFlow backend.\n"
          ],
          "name": "stderr"
        },
        {
          "output_type": "stream",
          "text": [
            "--2019-03-14 09:21:17--  https://imperialcollegelondon.box.com/shared/static/ah40eq7cxpwq4a6l4f62efzdyt8rm3ha.zip\n",
            "Resolving imperialcollegelondon.box.com (imperialcollegelondon.box.com)... 107.152.26.197\n",
            "Connecting to imperialcollegelondon.box.com (imperialcollegelondon.box.com)|107.152.26.197|:443... connected.\n",
            "HTTP request sent, awaiting response... 301 Moved Permanently\n",
            "Location: /public/static/ah40eq7cxpwq4a6l4f62efzdyt8rm3ha.zip [following]\n",
            "--2019-03-14 09:21:17--  https://imperialcollegelondon.box.com/public/static/ah40eq7cxpwq4a6l4f62efzdyt8rm3ha.zip\n",
            "Reusing existing connection to imperialcollegelondon.box.com:443.\n",
            "HTTP request sent, awaiting response... 301 Moved Permanently\n",
            "Location: https://imperialcollegelondon.app.box.com/public/static/ah40eq7cxpwq4a6l4f62efzdyt8rm3ha.zip [following]\n",
            "--2019-03-14 09:21:17--  https://imperialcollegelondon.app.box.com/public/static/ah40eq7cxpwq4a6l4f62efzdyt8rm3ha.zip\n",
            "Resolving imperialcollegelondon.app.box.com (imperialcollegelondon.app.box.com)... 107.152.27.199\n",
            "Connecting to imperialcollegelondon.app.box.com (imperialcollegelondon.app.box.com)|107.152.27.199|:443... connected.\n",
            "HTTP request sent, awaiting response... 302 Found\n",
            "Location: https://public.boxcloud.com/d/1/b1!OaxbtxuP8JNfKCelMAxI1fyLRI_saEtd908NcJT9Y4zNFJlG4QovPgz3v2cAm_zFkeRhaAlnalZRR7chyQvV4es3Ew8fuNXPObsr4O5Dt1eINQEMEw_QP2uU6HBEYp2AYM3VwjFTnZhiYxYgRXsja4LIFbevsELPGftsR_FOKGo7mFtNACr30ExoVjUb5J7RIakjU01S2PyScJDtjtEcqTtpgbtdUpUwKpR1Xd375h-Q43U_DHTs21M06VbTioibmGA_T_2KehSDkjWzRIQdIDZlK_RiFWqxicvEUSS-QfnKvhLa3obCLiF0wl_W2wuhUJ607Qvs7wOD5Uf4zuiDigpz9cwK3NaiNGBWAaYkxXdBI49HTSIUlJILNq9XopAovBNB0sv9M2EQShedNKaS47rpwFvkrL2pAFWQWkY7FEgTfJV9a4Z3KJewqlNx0pGRFnpjZN2L2CKzxg76P3VADDP_I52xggvTdhnk-hGhAuhTUnm4ObrRjY5d2YCxPHc6rVe-m1RlINnpt9kNzfAUi4NGrZJ1km5NYr4H5fPvs2IT2PpR4urnyIUnkae29h9l9KRojPXszBFswKF4RbCK2iBsz4oMZxm2-2FVBO6OoowVHb75pgbDv7rJwlOJIwv1xWyo4eOTgPRWr4_RlFAdPNWeJ-Th2C_LEerTAtkqBrT9grUENGwSI8VSC4UfWUMm7yUedX-gU3fc6IN1dQuTJf3N74Z8M5sesxlHQbjMrFh0zDLsOY0MIF-RdcdZPismyLojkWpZEGiF_hk8vUyeJa-FgkluIqAvVR9orJm_Z1nPpRxwmtvljNDo07z3Ec8TYiU1VhjltwZrJ1A4j4BbQoiGzsCwr1gRztLIrI-HP886ZkueF9xMVxbi7i7NyFlV94NpDK6ShDjYTyJ3MKjvKILp6YGVeGktpXguPsG1XceNueokiCX8Wn5oDhNJ4NPlRtHds2lcYM0lsC7HvLxcgF9OE9zGXXvG2OccCTkOk63l7KfshYVNU5tBzdQiaOFqQKRynvSxME8q4aQht_xxDmU0RU9d9xpe7xu93hN7EduvFb3PbcYk9mAelYDcjqkesK1xixkG2HDsGwURlClgk8BSkerafLrOUBp_kURlkw7g1yiOTL7FE2izqY1hotKG-GU26WbK7XSSsLEKegRjgkHJYHyduVPKmirynDqwe9qAH9kLV03sOy5dd0OPf1SYAiS5GuBD7P1aXpSGHvUQP-nBfFWutUWUFgCejjj_wFEVKgqChx0YEbN4ltCVQXtRA6_GaqaqWW3rpP6WvOFKkQDtSJfhYzBySnczLVzr3Jjh5u-Veec2GXmAo7jW_scGf9LUOFQMzDgs5XBd0KznpSYZCmgxmdKcBkYKZdeirDOtoTNhw0Ro1DE5pdToxN5o0w-8z7m-0axZrK9dazypr4IyusNvsSQCSVE_JSoJbyplAiFNoVaHZ3ayKfhVGyHtzJbfFU1iUrDqkK3nLh2gE78XrqRZQ7w1/download [following]\n",
            "--2019-03-14 09:21:18--  https://public.boxcloud.com/d/1/b1!OaxbtxuP8JNfKCelMAxI1fyLRI_saEtd908NcJT9Y4zNFJlG4QovPgz3v2cAm_zFkeRhaAlnalZRR7chyQvV4es3Ew8fuNXPObsr4O5Dt1eINQEMEw_QP2uU6HBEYp2AYM3VwjFTnZhiYxYgRXsja4LIFbevsELPGftsR_FOKGo7mFtNACr30ExoVjUb5J7RIakjU01S2PyScJDtjtEcqTtpgbtdUpUwKpR1Xd375h-Q43U_DHTs21M06VbTioibmGA_T_2KehSDkjWzRIQdIDZlK_RiFWqxicvEUSS-QfnKvhLa3obCLiF0wl_W2wuhUJ607Qvs7wOD5Uf4zuiDigpz9cwK3NaiNGBWAaYkxXdBI49HTSIUlJILNq9XopAovBNB0sv9M2EQShedNKaS47rpwFvkrL2pAFWQWkY7FEgTfJV9a4Z3KJewqlNx0pGRFnpjZN2L2CKzxg76P3VADDP_I52xggvTdhnk-hGhAuhTUnm4ObrRjY5d2YCxPHc6rVe-m1RlINnpt9kNzfAUi4NGrZJ1km5NYr4H5fPvs2IT2PpR4urnyIUnkae29h9l9KRojPXszBFswKF4RbCK2iBsz4oMZxm2-2FVBO6OoowVHb75pgbDv7rJwlOJIwv1xWyo4eOTgPRWr4_RlFAdPNWeJ-Th2C_LEerTAtkqBrT9grUENGwSI8VSC4UfWUMm7yUedX-gU3fc6IN1dQuTJf3N74Z8M5sesxlHQbjMrFh0zDLsOY0MIF-RdcdZPismyLojkWpZEGiF_hk8vUyeJa-FgkluIqAvVR9orJm_Z1nPpRxwmtvljNDo07z3Ec8TYiU1VhjltwZrJ1A4j4BbQoiGzsCwr1gRztLIrI-HP886ZkueF9xMVxbi7i7NyFlV94NpDK6ShDjYTyJ3MKjvKILp6YGVeGktpXguPsG1XceNueokiCX8Wn5oDhNJ4NPlRtHds2lcYM0lsC7HvLxcgF9OE9zGXXvG2OccCTkOk63l7KfshYVNU5tBzdQiaOFqQKRynvSxME8q4aQht_xxDmU0RU9d9xpe7xu93hN7EduvFb3PbcYk9mAelYDcjqkesK1xixkG2HDsGwURlClgk8BSkerafLrOUBp_kURlkw7g1yiOTL7FE2izqY1hotKG-GU26WbK7XSSsLEKegRjgkHJYHyduVPKmirynDqwe9qAH9kLV03sOy5dd0OPf1SYAiS5GuBD7P1aXpSGHvUQP-nBfFWutUWUFgCejjj_wFEVKgqChx0YEbN4ltCVQXtRA6_GaqaqWW3rpP6WvOFKkQDtSJfhYzBySnczLVzr3Jjh5u-Veec2GXmAo7jW_scGf9LUOFQMzDgs5XBd0KznpSYZCmgxmdKcBkYKZdeirDOtoTNhw0Ro1DE5pdToxN5o0w-8z7m-0axZrK9dazypr4IyusNvsSQCSVE_JSoJbyplAiFNoVaHZ3ayKfhVGyHtzJbfFU1iUrDqkK3nLh2gE78XrqRZQ7w1/download\n",
            "Resolving public.boxcloud.com (public.boxcloud.com)... 107.152.27.200\n",
            "Connecting to public.boxcloud.com (public.boxcloud.com)|107.152.27.200|:443... connected.\n",
            "HTTP request sent, awaiting response... 200 OK\n",
            "Length: 4088106554 (3.8G) [application/zip]\n",
            "Saving to: ‘hpatches_data.zip’\n",
            "\n",
            "hpatches_data.zip   100%[===================>]   3.81G  21.4MB/s    in 3m 12s  \n",
            "\n",
            "2019-03-14 09:24:30 (20.3 MB/s) - ‘hpatches_data.zip’ saved [4088106554/4088106554]\n",
            "\n"
          ],
          "name": "stdout"
        }
      ]
    },
    {
      "metadata": {
        "colab_type": "code",
        "id": "0YF2io-cnthT",
        "colab": {}
      },
      "cell_type": "code",
      "source": [
        "import sys\n",
        "import json\n",
        "import os\n",
        "import glob\n",
        "import keras\n",
        "from keras import regularizers\n",
        "from keras import backend as K\n",
        "from keras.models import Sequential, Model\n",
        "from keras.layers import Dense, Dropout, Activation, Flatten, Input, Lambda, Reshape\n",
        "from keras.layers import Conv2D, MaxPooling2D, BatchNormalization\n",
        "from keras.layers import Input, UpSampling2D, concatenate, Subtract\n",
        "import time\n",
        "import tensorflow as tf\n",
        "import numpy as np\n",
        "import cv2\n",
        "import random\n",
        "from read_data import HPatches, DataGeneratorDesc, hpatches_sequence_folder, DenoiseHPatches, STNHPatches, tps\n",
        "from utils import generate_desc_csv, plot_denoise, plot_triplet\n",
        "import matplotlib.pyplot as plt\n",
        "from layers import BilinearInterpolation\n",
        "from keras.layers import Layer, Lambda\n",
        "\n",
        "random.seed(1234)\n",
        "np.random.seed(1234)\n",
        "tf.set_random_seed(1234)\n",
        "\n",
        "def run_sobel(image):\n",
        "  tmp = tf.image.sobel_edges(image)[:,:,:,0]\n",
        "  tmp = tf.multiply(tmp[:,:,:,0],tmp[:,:,:,1])\n",
        "  return tf.expand_dims(tmp,3)\n",
        "  #return tf.image.sobel_edges(image)[:,:,:,0]\n",
        "      \n",
        "\n",
        "def get_initial_weights(output_size):\n",
        "    b = np.zeros((2, 3), dtype='float32')\n",
        "    b[0, 0] = 1\n",
        "    b[1, 1] = 1\n",
        "    W = np.zeros((output_size, 6), dtype='float32')\n",
        "    weights = [W, b.flatten()]\n",
        "    return weights\n",
        "  \n",
        "def get_full_model(shape,denoise_init=None,stn_init=None):  \n",
        "    #shape = (32, 32, 1)\n",
        "\n",
        "    init_weights = keras.initializers.he_normal()\n",
        "    # input \n",
        "    inputs = Input(shape)\n",
        "    \n",
        "    # denoise network\n",
        "    depth1  = 16\n",
        "    conv1_1 = Conv2D(depth1, 1, padding = 'same', kernel_initializer = 'he_normal', name='denoise_in')(inputs)\n",
        "\n",
        "    # convolution layers\n",
        "    conv1_2  = Conv2D(depth1, 2 , activation = 'relu', padding = 'same', kernel_initializer = 'he_normal', name='denoise_1_2' )(conv1_1)\n",
        "    conv1_3  = Conv2D(depth1, 3 , activation = 'relu', padding = 'same', kernel_initializer = 'he_normal', name='denoise_1_3' )(conv1_1)\n",
        "    conv1_5  = Conv2D(depth1, 5 , activation = 'relu', padding = 'same', kernel_initializer = 'he_normal', name='denoise_1_5' )(conv1_1)\n",
        "    conv1_7  = Conv2D(depth1, 7 , activation = 'relu', padding = 'same', kernel_initializer = 'he_normal', name='denoise_1_7' )(conv1_1)\n",
        "    conv1_9  = Conv2D(depth1, 9 , activation = 'relu', padding = 'same', kernel_initializer = 'he_normal', name='denoise_1_9' )(conv1_1)\n",
        "    conv1_11 = Conv2D(depth1, 11, activation = 'relu', padding = 'same', kernel_initializer = 'he_normal', name='denoise_1_11')(conv1_1)\n",
        "\n",
        "    # network\n",
        "    net1 = Subtract()([conv1_1, conv1_2])\n",
        "    net1 = BatchNormalization()(net1)\n",
        "    net1 = Subtract()([conv1_1, conv1_3])\n",
        "    net1 = BatchNormalization()(net1)\n",
        "    net1 = Subtract()([conv1_1, conv1_5])\n",
        "    net1 = BatchNormalization()(net1)\n",
        "    net1 = Subtract()([conv1_1, conv1_7])\n",
        "    net1 = BatchNormalization()(net1)\n",
        "    net1 = Subtract()([conv1_1, conv1_9])\n",
        "    net1 = BatchNormalization()(net1)\n",
        "    net1 = Subtract()([conv1_1, conv1_11])\n",
        "    net1 = BatchNormalization()(net1)  \n",
        "\n",
        "    # convolution layers\n",
        "    depth2 = 16\n",
        "    #conv2_1  = Conv2D(depth2, 1, padding = 'same', kernel_initializer = 'he_normal')(net1)\n",
        "    conv2_2  = Conv2D(depth2, 2 , activation = 'relu', padding = 'same', kernel_initializer = 'he_normal', name='denoise_2_2' )(net1)\n",
        "    conv2_3  = Conv2D(depth2, 3 , activation = 'relu', padding = 'same', kernel_initializer = 'he_normal', name='denoise_2_3' )(net1)\n",
        "    conv2_5  = Conv2D(depth2, 5 , activation = 'relu', padding = 'same', kernel_initializer = 'he_normal', name='denoise_2_5' )(net1)\n",
        "    conv2_7  = Conv2D(depth2, 7 , activation = 'relu', padding = 'same', kernel_initializer = 'he_normal', name='denoise_2_7' )(net1)\n",
        "    conv2_9  = Conv2D(depth2, 9 , activation = 'relu', padding = 'same', kernel_initializer = 'he_normal', name='denoise_2_9' )(net1)\n",
        "    conv2_11 = Conv2D(depth2, 11, activation = 'relu', padding = 'same', kernel_initializer = 'he_normal', name='denoise_2_11')(net1)\n",
        "\n",
        "    # network\n",
        "    net2 = Subtract()([net1, conv2_2])\n",
        "    net2 = BatchNormalization()(net2)\n",
        "    net2 = Subtract()([net1, conv2_3])\n",
        "    net2 = BatchNormalization()(net2)\n",
        "    net2 = Subtract()([net1, conv2_5])\n",
        "    net2 = BatchNormalization()(net2)\n",
        "    net2 = Subtract()([net1, conv2_7])\n",
        "    net2 = BatchNormalization()(net2)\n",
        "    net2 = Subtract()([net1, conv2_9])\n",
        "    net2 = BatchNormalization()(net2)\n",
        "    net2 = Subtract()([net1, conv2_11])\n",
        "    net2 = BatchNormalization()(net2)  \n",
        "\n",
        "    # convolution layers\n",
        "    depth3 = 16\n",
        "    #conv3_1  = Conv2D(depth3, 1, padding = 'same', kernel_initializer = 'he_normal')(net1)\n",
        "    conv3_2  = Conv2D(depth3, 2 , activation = 'relu', padding = 'same', kernel_initializer = 'he_normal', name='denoise_3_2' )(net2)\n",
        "    conv3_3  = Conv2D(depth3, 3 , activation = 'relu', padding = 'same', kernel_initializer = 'he_normal', name='denoise_3_3' )(net2)\n",
        "    conv3_5  = Conv2D(depth3, 5 , activation = 'relu', padding = 'same', kernel_initializer = 'he_normal', name='denoise_3_5' )(net2)\n",
        "    conv3_7  = Conv2D(depth3, 7 , activation = 'relu', padding = 'same', kernel_initializer = 'he_normal', name='denoise_3_7' )(net2)\n",
        "    conv3_9  = Conv2D(depth3, 9 , activation = 'relu', padding = 'same', kernel_initializer = 'he_normal', name='denoise_3_9' )(net2)\n",
        "    conv3_11 = Conv2D(depth3, 11, activation = 'relu', padding = 'same', kernel_initializer = 'he_normal', name='denoise_3_11')(net2)\n",
        "\n",
        "    # network\n",
        "    net3 = Subtract()([net2, conv3_2])\n",
        "    net3 = BatchNormalization()(net3)\n",
        "    net3 = Subtract()([net2, conv3_3])\n",
        "    net3 = BatchNormalization()(net3)\n",
        "    net3 = Subtract()([net2, conv3_5])\n",
        "    net3 = BatchNormalization()(net3)\n",
        "    net3 = Subtract()([net2, conv3_7])\n",
        "    net3 = BatchNormalization()(net3)\n",
        "    net3 = Subtract()([net2, conv3_9])\n",
        "    net3 = BatchNormalization()(net3)\n",
        "    net3 = Subtract()([net2, conv3_11])\n",
        "    net3 = BatchNormalization()(net3)  \n",
        "\n",
        "    net3 = Conv2D(1, 1, activation = 'relu', padding = 'same', kernel_initializer = 'he_normal', name='denoise_out' )(net3)\n",
        "    \n",
        "    # stn network    \n",
        "    locnet = Conv2D(16, 3, activation='relu', padding='same', kernel_initializer=init_weights, name='stn_1')(net3) # 32\n",
        "    locnet = BatchNormalization(axis = -1)(locnet)\n",
        "    locnet = MaxPooling2D(pool_size=(2, 2))(locnet)\n",
        "    \n",
        "    locnet = Conv2D(32, 3, activation='relu', padding='same', kernel_initializer=init_weights, name='stn_2')(locnet) # 32\n",
        "    locnet = BatchNormalization(axis = -1)(locnet)\n",
        "    locnet = MaxPooling2D(pool_size=(2, 2))(locnet)\n",
        "    \n",
        "    locnet = Conv2D(64, 3, activation='relu', padding='same', kernel_initializer=init_weights, name='stn_3')(locnet)  # 64\n",
        "    locnet = BatchNormalization(axis = -1)(locnet)\n",
        "    locnet = MaxPooling2D(pool_size=(2, 2))(locnet)\n",
        "    \n",
        "    locnet = Conv2D(128, 3, activation='relu', padding='same', kernel_initializer=init_weights, name='stn_4')(locnet)  # 128\n",
        "    locnet = BatchNormalization(axis = -1)(locnet)\n",
        "    locnet = MaxPooling2D(pool_size=(2, 2))(locnet)\n",
        "    \n",
        "    locnet = Flatten(name='stn_4.1')(locnet)\n",
        "    locnet = Dense(256, name='stn_5')(locnet)\n",
        "    locnet =  Dropout(0.25, name='stn_5.1')(locnet)\n",
        "    locnet = Activation('softmax')(locnet)\n",
        "    weights = get_initial_weights(256)\n",
        "    locnet = Dense(6, weights=weights, name='stn_6')(locnet)\n",
        "    stn    = BilinearInterpolation(shape[:-1])([net3, locnet])\n",
        "      \n",
        "    # sobel\n",
        "    sobel = Lambda(run_sobel)(net3)\n",
        "    \n",
        "    # features in\n",
        "    l2net = concatenate([ net3, stn , sobel ], axis = -1)\n",
        "    \n",
        "    # L2 Net    \n",
        "    l2net = Conv2D(32, 3, padding='same', input_shape=shape, use_bias = True, kernel_initializer=init_weights)(l2net)\n",
        "    l2net = BatchNormalization(axis = -1, epsilon=0.0001, scale=False, center=False)(l2net)\n",
        "    l2net = Activation('relu')(l2net)\n",
        "    \n",
        "    l2net = Conv2D(32, 3, padding='same', input_shape=shape, use_bias = True, kernel_initializer=init_weights)(l2net)\n",
        "    l2net = BatchNormalization(axis = -1, epsilon=0.0001, scale=False, center=False)(l2net)\n",
        "    l2net = Activation('relu')(l2net)\n",
        "    \n",
        "    l2net = Conv2D(64, 3, padding='same', input_shape=shape, strides=2, use_bias = True, kernel_initializer=init_weights)(l2net)\n",
        "    l2net = BatchNormalization(axis = -1, epsilon=0.0001, scale=False, center=False)(l2net)\n",
        "    l2net = Activation('relu')(l2net)\n",
        "    \n",
        "    l2net = Conv2D(64, 3, padding='same', input_shape=shape, use_bias = True, kernel_initializer=init_weights)(l2net)\n",
        "    l2net = BatchNormalization(axis = -1, epsilon=0.0001, scale=False, center=False)(l2net)\n",
        "    l2net = Activation('relu')(l2net)\n",
        "    \n",
        "    l2net = Conv2D(128, 3, padding='same', input_shape=shape, strides=2, use_bias = True, kernel_initializer=init_weights)(l2net)\n",
        "    l2net = BatchNormalization(axis = -1, epsilon=0.0001, scale=False, center=False)(l2net)\n",
        "    l2net = Activation('relu')(l2net)\n",
        "    \n",
        "    l2net = Conv2D(128, 3, padding='same', input_shape=shape, use_bias = True, kernel_initializer=init_weights)(l2net)\n",
        "    l2net = BatchNormalization(axis = -1, epsilon=0.0001, scale=False, center=False)(l2net)\n",
        "    l2net = Activation('relu')(l2net)\n",
        "    \n",
        "    l2net = Conv2D(128, 8, padding='valid', input_shape=shape, use_bias = True, kernel_initializer=init_weights)(l2net)\n",
        "    l2net = BatchNormalization(axis = -1)(l2net)\n",
        "\n",
        "    l2net = Reshape((128,))(l2net)\n",
        "  \n",
        "    l2net = Model(inputs = inputs, outputs = l2net)\n",
        "    \n",
        "    if stn_init:\n",
        "      l2net.load_weights(stn_init, by_name=True, skip_mismatch=True)\n",
        "      \n",
        "    if denoise_init:\n",
        "      l2net.load_weights(denoise_init, by_name=True, skip_mismatch=True)\n",
        "    \n",
        "    descriptor_model = Sequential()\n",
        "    descriptor_model.add(l2net)\n",
        "    \n",
        "    return descriptor_model\n",
        "\n",
        "    \n",
        "  \n",
        "from keras.layers import Lambda\n",
        "shape = (32, 32, 1)\n",
        "xa = Input(shape=shape, name='a')\n",
        "xp = Input(shape=shape, name='p')\n",
        "xn = Input(shape=shape, name='n')\n",
        "\n",
        "#descriptor_model = get_full_model(shape)\n",
        "descriptor_model = get_full_model(shape,'/content/denoise_model_ssim.weights.06-0.31.hdf5','/content/stn_model.weights.02-25.51.hdf5')\n",
        "\n",
        "ea = descriptor_model(xa)\n",
        "ep = descriptor_model(xp)\n",
        "en = descriptor_model(xn)\n",
        "\n",
        "  \n",
        "def triplet_loss(x):\n",
        "  \n",
        "  output_dim = 128\n",
        "  a, p, n = x\n",
        "  _alpha = 1.0\n",
        "  positive_distance = K.mean(K.square(a - p), axis=-1)\n",
        "  negative_distance = K.mean(K.square(a - n), axis=-1)\n",
        "  \n",
        "  return K.expand_dims(K.maximum(0.0, positive_distance - negative_distance + _alpha), axis = 1)\n",
        "\n",
        "\n",
        "loss = Lambda(triplet_loss)([ea, ep, en])\n",
        "\n",
        "descriptor_model_trip = Model(inputs=[xa, xp, xn], outputs=loss)\n",
        "sgd = keras.optimizers.SGD(lr=0.1)\n",
        "descriptor_model_trip.compile(loss='mean_absolute_error', optimizer=sgd)"
      ],
      "execution_count": 0,
      "outputs": []
    },
    {
      "metadata": {
        "colab_type": "code",
        "id": "KgVmVZrHobrE",
        "outputId": "df1cb2b6-fd13-43b2-9b03-0a65a1e235a2",
        "colab": {
          "base_uri": "https://localhost:8080/",
          "height": 119
        }
      },
      "cell_type": "code",
      "source": [
        "hpatches_dir = './hpatches'\n",
        "splits_path = './splits.json'\n",
        "\n",
        "splits_json = json.load(open(splits_path, 'rb'))\n",
        "split = splits_json['a']\n",
        "\n",
        "train_fnames = split['train']\n",
        "test_fnames = split['test']\n",
        "\n",
        "seqs = glob.glob(hpatches_dir+'/*')\n",
        "seqs = [os.path.abspath(p) for p in seqs]   \n",
        "seqs_train = list(filter(lambda x: x.split('/')[-1] in train_fnames, seqs)) \n",
        "seqs_test = list(filter(lambda x: x.split('/')[-1] in split['test'], seqs))\n",
        "\n",
        "### Descriptor loading and training\n",
        "# Loading images\n",
        "hPatches = HPatches(train_fnames=train_fnames, test_fnames=test_fnames,\n",
        "                    use_clean=False)\n",
        "# Creating training generator\n",
        "training_generator = DataGeneratorDesc(*hPatches.read_image_file(hpatches_dir, train=1), num_triplets=100000, batch_size=500)\n",
        "# Creating validation generator\n",
        "val_generator = DataGeneratorDesc(*hPatches.read_image_file(hpatches_dir, train=0), num_triplets=10000, batch_size=500)"
      ],
      "execution_count": 6,
      "outputs": [
        {
          "output_type": "stream",
          "text": [
            "Using noisy patches\n",
            "100%|██████████| 116/116 [00:32<00:00,  2.27it/s]\n"
          ],
          "name": "stdout"
        },
        {
          "output_type": "stream",
          "text": [
            "100%|██████████| 100000/100000 [00:01<00:00, 68118.36it/s]\n"
          ],
          "name": "stderr"
        },
        {
          "output_type": "stream",
          "text": [
            "Using noisy patches\n",
            "100%|██████████| 116/116 [00:19<00:00,  5.89it/s]\n"
          ],
          "name": "stdout"
        },
        {
          "output_type": "stream",
          "text": [
            "100%|██████████| 10000/10000 [00:00<00:00, 65403.97it/s]\n"
          ],
          "name": "stderr"
        }
      ]
    },
    {
      "metadata": {
        "colab_type": "code",
        "id": "pJvLxFWrohDD",
        "outputId": "da6db723-4adb-4ab8-884a-28fa0458b3d7",
        "colab": {
          "base_uri": "https://localhost:8080/",
          "height": 10322
        }
      },
      "cell_type": "code",
      "source": [
        "# callbacks\n",
        "callbacks = [\n",
        "    #keras.callbacks.EarlyStopping(monitor = 'val_loss', patience = 10, verbose = 3, mode= 'auto'),\n",
        "    keras.callbacks.ModelCheckpoint('data/descriptor_model.weights.{epoch:02d}-{val_loss:.2f}.hdf5', verbose=1, save_best_only=True)\n",
        "]\n",
        "\n",
        "descriptor_history = descriptor_model_trip.fit_generator(generator=training_generator, epochs=100, callbacks=callbacks,\n",
        "                                              verbose=1, validation_data=val_generator)\n"
      ],
      "execution_count": 7,
      "outputs": [
        {
          "output_type": "stream",
          "text": [
            "WARNING:tensorflow:From /usr/local/lib/python3.6/dist-packages/tensorflow/python/ops/math_ops.py:3066: to_int32 (from tensorflow.python.ops.math_ops) is deprecated and will be removed in a future version.\n",
            "Instructions for updating:\n",
            "Use tf.cast instead.\n"
          ],
          "name": "stdout"
        },
        {
          "output_type": "stream",
          "text": [
            "/usr/local/lib/python3.6/dist-packages/tensorflow/python/ops/gradients_impl.py:110: UserWarning: Converting sparse IndexedSlices to a dense Tensor of unknown shape. This may consume a large amount of memory.\n",
            "  \"Converting sparse IndexedSlices to a dense Tensor of unknown shape. \"\n"
          ],
          "name": "stderr"
        },
        {
          "output_type": "stream",
          "text": [
            "Epoch 1/100\n",
            "199/200 [============================>.] - ETA: 0s - loss: 0.4349"
          ],
          "name": "stdout"
        },
        {
          "output_type": "stream",
          "text": [
            "100%|██████████| 100000/100000 [00:02<00:00, 36382.03it/s]\n"
          ],
          "name": "stderr"
        },
        {
          "output_type": "stream",
          "text": [
            "\b\b\b\b\b\b\b\b\b\b\b\b\b\b\b\b\b\b\b\b\b\b\b\b\b\b\b\b\b\b\b\b\b\b\b\b\b\b\b\b\b\b\b\b\b\b\b\b\b\b\b\b\b\b\b\b\b\b\b\b\b\b\b\b\b\r200/200 [==============================] - 202s 1s/step - loss: 0.4343 - val_loss: 0.4625\n",
            "\n",
            "Epoch 00001: val_loss improved from inf to 0.46253, saving model to data/descriptor_model.weights.01-0.46.hdf5\n"
          ],
          "name": "stdout"
        },
        {
          "output_type": "stream",
          "text": [
            "100%|██████████| 10000/10000 [00:00<00:00, 39515.04it/s]\n"
          ],
          "name": "stderr"
        },
        {
          "output_type": "stream",
          "text": [
            "Epoch 2/100\n",
            "199/200 [============================>.] - ETA: 0s - loss: 0.3113"
          ],
          "name": "stdout"
        },
        {
          "output_type": "stream",
          "text": [
            "100%|██████████| 100000/100000 [00:03<00:00, 32502.95it/s]\n"
          ],
          "name": "stderr"
        },
        {
          "output_type": "stream",
          "text": [
            "\b\b\b\b\b\b\b\b\b\b\b\b\b\b\b\b\b\b\b\b\b\b\b\b\b\b\b\b\b\b\b\b\b\b\b\b\b\b\b\b\b\b\b\b\b\b\b\b\b\b\b\b\b\b\b\b\b\b\b\b\b\b\b\b\b\r200/200 [==============================] - 190s 950ms/step - loss: 0.3112 - val_loss: 0.4174\n",
            "\n",
            "Epoch 00002: val_loss improved from 0.46253 to 0.41743, saving model to data/descriptor_model.weights.02-0.42.hdf5\n",
            "Epoch 3/100\n",
            "  1/200 [..............................] - ETA: 3:03 - loss: 0.2428"
          ],
          "name": "stdout"
        },
        {
          "output_type": "stream",
          "text": [
            "100%|██████████| 10000/10000 [00:00<00:00, 36452.46it/s]\n"
          ],
          "name": "stderr"
        },
        {
          "output_type": "stream",
          "text": [
            "199/200 [============================>.] - ETA: 0s - loss: 0.2819"
          ],
          "name": "stdout"
        },
        {
          "output_type": "stream",
          "text": [
            "100%|██████████| 100000/100000 [00:02<00:00, 37488.41it/s]\n"
          ],
          "name": "stderr"
        },
        {
          "output_type": "stream",
          "text": [
            "\b\b\b\b\b\b\b\b\b\b\b\b\b\b\b\b\b\b\b\b\b\b\b\b\b\b\b\b\b\b\b\b\b\b\b\b\b\b\b\b\b\b\b\b\b\b\b\b\b\b\b\b\b\b\b\b\b\b\b\b\b\b\b\b\b\r200/200 [==============================] - 189s 947ms/step - loss: 0.2819 - val_loss: 0.4215\n",
            "\n",
            "Epoch 00003: val_loss did not improve from 0.41743\n",
            "Epoch 4/100\n",
            "  1/200 [..............................] - ETA: 3:04 - loss: 0.2770"
          ],
          "name": "stdout"
        },
        {
          "output_type": "stream",
          "text": [
            "\r  0%|          | 0/10000 [00:00<?, ?it/s]"
          ],
          "name": "stderr"
        },
        {
          "output_type": "stream",
          "text": [
            "\b\b\b\b\b\b\b\b\b\b\b\b\b\b\b\b\b\b\b\b\b\b\b\b\b\b\b\b\b\b\b\b\b\b\b\b\b\b\b\b\b\b\b\b\b\b\b\b\b\b\b\b\b\b\b\b\b\b\b\b\b\b\b\b\b\b\b\r  2/200 [..............................] - ETA: 3:03 - loss: 0.2832"
          ],
          "name": "stdout"
        },
        {
          "output_type": "stream",
          "text": [
            "100%|██████████| 10000/10000 [00:00<00:00, 40634.13it/s]\n"
          ],
          "name": "stderr"
        },
        {
          "output_type": "stream",
          "text": [
            "199/200 [============================>.] - ETA: 0s - loss: 0.2602"
          ],
          "name": "stdout"
        },
        {
          "output_type": "stream",
          "text": [
            "100%|██████████| 100000/100000 [00:02<00:00, 37320.56it/s]\n"
          ],
          "name": "stderr"
        },
        {
          "output_type": "stream",
          "text": [
            "\b\b\b\b\b\b\b\b\b\b\b\b\b\b\b\b\b\b\b\b\b\b\b\b\b\b\b\b\b\b\b\b\b\b\b\b\b\b\b\b\b\b\b\b\b\b\b\b\b\b\b\b\b\b\b\b\b\b\b\b\b\b\b\b\b\r200/200 [==============================] - 189s 946ms/step - loss: 0.2602 - val_loss: 0.3068\n",
            "\n",
            "Epoch 00004: val_loss improved from 0.41743 to 0.30675, saving model to data/descriptor_model.weights.04-0.31.hdf5\n",
            "Epoch 5/100\n",
            "  1/200 [..............................] - ETA: 3:06 - loss: 0.2458"
          ],
          "name": "stdout"
        },
        {
          "output_type": "stream",
          "text": [
            "100%|██████████| 10000/10000 [00:00<00:00, 34914.13it/s]\n"
          ],
          "name": "stderr"
        },
        {
          "output_type": "stream",
          "text": [
            "199/200 [============================>.] - ETA: 0s - loss: 0.2420"
          ],
          "name": "stdout"
        },
        {
          "output_type": "stream",
          "text": [
            "100%|██████████| 100000/100000 [00:02<00:00, 35983.58it/s]\n"
          ],
          "name": "stderr"
        },
        {
          "output_type": "stream",
          "text": [
            "\b\b\b\b\b\b\b\b\b\b\b\b\b\b\b\b\b\b\b\b\b\b\b\b\b\b\b\b\b\b\b\b\b\b\b\b\b\b\b\b\b\b\b\b\b\b\b\b\b\b\b\b\b\b\b\b\b\b\b\b\b\b\b\b\b\r200/200 [==============================] - 190s 951ms/step - loss: 0.2419 - val_loss: 0.2845\n",
            "\n",
            "Epoch 00005: val_loss improved from 0.30675 to 0.28451, saving model to data/descriptor_model.weights.05-0.28.hdf5\n",
            "Epoch 6/100\n",
            "  1/200 [..............................] - ETA: 3:06 - loss: 0.2328"
          ],
          "name": "stdout"
        },
        {
          "output_type": "stream",
          "text": [
            "100%|██████████| 10000/10000 [00:00<00:00, 36842.69it/s]\n"
          ],
          "name": "stderr"
        },
        {
          "output_type": "stream",
          "text": [
            "199/200 [============================>.] - ETA: 0s - loss: 0.2282"
          ],
          "name": "stdout"
        },
        {
          "output_type": "stream",
          "text": [
            "100%|██████████| 100000/100000 [00:02<00:00, 34338.40it/s]\n"
          ],
          "name": "stderr"
        },
        {
          "output_type": "stream",
          "text": [
            "\b\b\b\b\b\b\b\b\b\b\b\b\b\b\b\b\b\b\b\b\b\b\b\b\b\b\b\b\b\b\b\b\b\b\b\b\b\b\b\b\b\b\b\b\b\b\b\b\b\b\b\b\b\b\b\b\b\b\b\b\b\b\b\b\b\r200/200 [==============================] - 189s 947ms/step - loss: 0.2281 - val_loss: 0.2664\n",
            "\n",
            "Epoch 00006: val_loss improved from 0.28451 to 0.26640, saving model to data/descriptor_model.weights.06-0.27.hdf5\n",
            "Epoch 7/100\n",
            "  1/200 [..............................] - ETA: 3:07 - loss: 0.2340"
          ],
          "name": "stdout"
        },
        {
          "output_type": "stream",
          "text": [
            "100%|██████████| 10000/10000 [00:00<00:00, 38256.81it/s]\n"
          ],
          "name": "stderr"
        },
        {
          "output_type": "stream",
          "text": [
            "199/200 [============================>.] - ETA: 0s - loss: 0.2148"
          ],
          "name": "stdout"
        },
        {
          "output_type": "stream",
          "text": [
            "100%|██████████| 100000/100000 [00:02<00:00, 38214.56it/s]\n"
          ],
          "name": "stderr"
        },
        {
          "output_type": "stream",
          "text": [
            "\b\b\b\b\b\b\b\b\b\b\b\b\b\b\b\b\b\b\b\b\b\b\b\b\b\b\b\b\b\b\b\b\b\b\b\b\b\b\b\b\b\b\b\b\b\b\b\b\b\b\b\b\b\b\b\b\b\b\b\b\b\b\b\b\b\r200/200 [==============================] - 189s 943ms/step - loss: 0.2147 - val_loss: 0.2922\n",
            "\n",
            "Epoch 00007: val_loss did not improve from 0.26640\n",
            "Epoch 8/100\n",
            "  2/200 [..............................] - ETA: 3:05 - loss: 0.2110"
          ],
          "name": "stdout"
        },
        {
          "output_type": "stream",
          "text": [
            "100%|██████████| 10000/10000 [00:00<00:00, 37344.94it/s]\n"
          ],
          "name": "stderr"
        },
        {
          "output_type": "stream",
          "text": [
            "199/200 [============================>.] - ETA: 0s - loss: 0.2069"
          ],
          "name": "stdout"
        },
        {
          "output_type": "stream",
          "text": [
            "100%|██████████| 100000/100000 [00:02<00:00, 38595.99it/s]\n"
          ],
          "name": "stderr"
        },
        {
          "output_type": "stream",
          "text": [
            "\b\b\b\b\b\b\b\b\b\b\b\b\b\b\b\b\b\b\b\b\b\b\b\b\b\b\b\b\b\b\b\b\b\b\b\b\b\b\b\b\b\b\b\b\b\b\b\b\b\b\b\b\b\b\b\b\b\b\b\b\b\b\b\b\b\r200/200 [==============================] - 189s 944ms/step - loss: 0.2070 - val_loss: 0.2662\n",
            "\n",
            "Epoch 00008: val_loss improved from 0.26640 to 0.26616, saving model to data/descriptor_model.weights.08-0.27.hdf5\n",
            "Epoch 9/100\n",
            "  1/200 [..............................] - ETA: 3:04 - loss: 0.1838"
          ],
          "name": "stdout"
        },
        {
          "output_type": "stream",
          "text": [
            "100%|██████████| 10000/10000 [00:00<00:00, 41211.90it/s]\n"
          ],
          "name": "stderr"
        },
        {
          "output_type": "stream",
          "text": [
            "199/200 [============================>.] - ETA: 0s - loss: 0.1974"
          ],
          "name": "stdout"
        },
        {
          "output_type": "stream",
          "text": [
            "100%|██████████| 100000/100000 [00:02<00:00, 37339.41it/s]\n"
          ],
          "name": "stderr"
        },
        {
          "output_type": "stream",
          "text": [
            "\b\b\b\b\b\b\b\b\b\b\b\b\b\b\b\b\b\b\b\b\b\b\b\b\b\b\b\b\b\b\b\b\b\b\b\b\b\b\b\b\b\b\b\b\b\b\b\b\b\b\b\b\b\b\b\b\b\b\b\b\b\b\b\b\b\r200/200 [==============================] - 191s 954ms/step - loss: 0.1975 - val_loss: 0.2754\n",
            "\n",
            "Epoch 00009: val_loss did not improve from 0.26616\n",
            "Epoch 10/100\n",
            "  2/200 [..............................] - ETA: 3:05 - loss: 0.1749"
          ],
          "name": "stdout"
        },
        {
          "output_type": "stream",
          "text": [
            "100%|██████████| 10000/10000 [00:00<00:00, 39271.59it/s]\n"
          ],
          "name": "stderr"
        },
        {
          "output_type": "stream",
          "text": [
            "199/200 [============================>.] - ETA: 0s - loss: 0.1898"
          ],
          "name": "stdout"
        },
        {
          "output_type": "stream",
          "text": [
            "100%|██████████| 100000/100000 [00:03<00:00, 32979.37it/s]\n"
          ],
          "name": "stderr"
        },
        {
          "output_type": "stream",
          "text": [
            "\b\b\b\b\b\b\b\b\b\b\b\b\b\b\b\b\b\b\b\b\b\b\b\b\b\b\b\b\b\b\b\b\b\b\b\b\b\b\b\b\b\b\b\b\b\b\b\b\b\b\b\b\b\b\b\b\b\b\b\b\b\b\b\b\b\r200/200 [==============================] - 190s 948ms/step - loss: 0.1898 - val_loss: 0.2183\n",
            "\n",
            "Epoch 00010: val_loss improved from 0.26616 to 0.21826, saving model to data/descriptor_model.weights.10-0.22.hdf5\n",
            "Epoch 11/100\n",
            "  1/200 [..............................] - ETA: 3:05 - loss: 0.1759"
          ],
          "name": "stdout"
        },
        {
          "output_type": "stream",
          "text": [
            "100%|██████████| 10000/10000 [00:00<00:00, 38950.73it/s]\n"
          ],
          "name": "stderr"
        },
        {
          "output_type": "stream",
          "text": [
            "199/200 [============================>.] - ETA: 0s - loss: 0.1809"
          ],
          "name": "stdout"
        },
        {
          "output_type": "stream",
          "text": [
            "100%|██████████| 100000/100000 [00:02<00:00, 36724.17it/s]\n"
          ],
          "name": "stderr"
        },
        {
          "output_type": "stream",
          "text": [
            "\b\b\b\b\b\b\b\b\b\b\b\b\b\b\b\b\b\b\b\b\b\b\b\b\b\b\b\b\b\b\b\b\b\b\b\b\b\b\b\b\b\b\b\b\b\b\b\b\b\b\b\b\b\b\b\b\b\b\b\b\b\b\b\b\b\r200/200 [==============================] - 191s 953ms/step - loss: 0.1809 - val_loss: 0.2181\n",
            "\n",
            "Epoch 00011: val_loss improved from 0.21826 to 0.21813, saving model to data/descriptor_model.weights.11-0.22.hdf5\n"
          ],
          "name": "stdout"
        },
        {
          "output_type": "stream",
          "text": [
            " 38%|███▊      | 3788/10000 [00:00<00:00, 37876.06it/s]"
          ],
          "name": "stderr"
        },
        {
          "output_type": "stream",
          "text": [
            "Epoch 12/100\n"
          ],
          "name": "stdout"
        },
        {
          "output_type": "stream",
          "text": [
            "100%|██████████| 10000/10000 [00:00<00:00, 34978.80it/s]\n"
          ],
          "name": "stderr"
        },
        {
          "output_type": "stream",
          "text": [
            "199/200 [============================>.] - ETA: 0s - loss: 0.1739"
          ],
          "name": "stdout"
        },
        {
          "output_type": "stream",
          "text": [
            "100%|██████████| 100000/100000 [00:02<00:00, 36992.05it/s]\n"
          ],
          "name": "stderr"
        },
        {
          "output_type": "stream",
          "text": [
            "\b\b\b\b\b\b\b\b\b\b\b\b\b\b\b\b\b\b\b\b\b\b\b\b\b\b\b\b\b\b\b\b\b\b\b\b\b\b\b\b\b\b\b\b\b\b\b\b\b\b\b\b\b\b\b\b\b\b\b\b\b\b\b\b\b\r200/200 [==============================] - 190s 952ms/step - loss: 0.1739 - val_loss: 0.2898\n",
            "\n",
            "Epoch 00012: val_loss did not improve from 0.21813\n",
            "Epoch 13/100\n",
            "  2/200 [..............................] - ETA: 3:04 - loss: 0.1668"
          ],
          "name": "stdout"
        },
        {
          "output_type": "stream",
          "text": [
            "100%|██████████| 10000/10000 [00:00<00:00, 38526.47it/s]\n"
          ],
          "name": "stderr"
        },
        {
          "output_type": "stream",
          "text": [
            "199/200 [============================>.] - ETA: 0s - loss: 0.1723"
          ],
          "name": "stdout"
        },
        {
          "output_type": "stream",
          "text": [
            "100%|██████████| 100000/100000 [00:02<00:00, 37921.62it/s]\n"
          ],
          "name": "stderr"
        },
        {
          "output_type": "stream",
          "text": [
            "\b\b\b\b\b\b\b\b\b\b\b\b\b\b\b\b\b\b\b\b\b\b\b\b\b\b\b\b\b\b\b\b\b\b\b\b\b\b\b\b\b\b\b\b\b\b\b\b\b\b\b\b\b\b\b\b\b\b\b\b\b\b\b\b\b\r200/200 [==============================] - 189s 946ms/step - loss: 0.1726 - val_loss: 0.4014\n",
            "\n",
            "Epoch 00013: val_loss did not improve from 0.21813\n",
            "Epoch 14/100\n",
            "  2/200 [..............................] - ETA: 3:06 - loss: 0.1638"
          ],
          "name": "stdout"
        },
        {
          "output_type": "stream",
          "text": [
            "100%|██████████| 10000/10000 [00:00<00:00, 35845.50it/s]\n"
          ],
          "name": "stderr"
        },
        {
          "output_type": "stream",
          "text": [
            "199/200 [============================>.] - ETA: 0s - loss: 0.1647"
          ],
          "name": "stdout"
        },
        {
          "output_type": "stream",
          "text": [
            "100%|██████████| 100000/100000 [00:03<00:00, 31885.89it/s]\n"
          ],
          "name": "stderr"
        },
        {
          "output_type": "stream",
          "text": [
            "\b\b\b\b\b\b\b\b\b\b\b\b\b\b\b\b\b\b\b\b\b\b\b\b\b\b\b\b\b\b\b\b\b\b\b\b\b\b\b\b\b\b\b\b\b\b\b\b\b\b\b\b\b\b\b\b\b\b\b\b\b\b\b\b\b\r200/200 [==============================] - 190s 950ms/step - loss: 0.1648 - val_loss: 0.2643\n",
            "\n",
            "Epoch 00014: val_loss did not improve from 0.21813\n",
            "Epoch 15/100\n",
            "  2/200 [..............................] - ETA: 3:07 - loss: 0.1465"
          ],
          "name": "stdout"
        },
        {
          "output_type": "stream",
          "text": [
            "100%|██████████| 10000/10000 [00:00<00:00, 38345.64it/s]\n"
          ],
          "name": "stderr"
        },
        {
          "output_type": "stream",
          "text": [
            "199/200 [============================>.] - ETA: 0s - loss: 0.1615"
          ],
          "name": "stdout"
        },
        {
          "output_type": "stream",
          "text": [
            "100%|██████████| 100000/100000 [00:02<00:00, 36688.44it/s]\n"
          ],
          "name": "stderr"
        },
        {
          "output_type": "stream",
          "text": [
            "\b\b\b\b\b\b\b\b\b\b\b\b\b\b\b\b\b\b\b\b\b\b\b\b\b\b\b\b\b\b\b\b\b\b\b\b\b\b\b\b\b\b\b\b\b\b\b\b\b\b\b\b\b\b\b\b\b\b\b\b\b\b\b\b\b\r200/200 [==============================] - 189s 946ms/step - loss: 0.1616 - val_loss: 0.2732\n",
            "\n",
            "Epoch 00015: val_loss did not improve from 0.21813\n",
            "Epoch 16/100\n",
            "  2/200 [..............................] - ETA: 3:05 - loss: 0.1616"
          ],
          "name": "stdout"
        },
        {
          "output_type": "stream",
          "text": [
            "100%|██████████| 10000/10000 [00:00<00:00, 37354.52it/s]\n"
          ],
          "name": "stderr"
        },
        {
          "output_type": "stream",
          "text": [
            "199/200 [============================>.] - ETA: 0s - loss: 0.1598"
          ],
          "name": "stdout"
        },
        {
          "output_type": "stream",
          "text": [
            "100%|██████████| 100000/100000 [00:02<00:00, 37548.45it/s]\n"
          ],
          "name": "stderr"
        },
        {
          "output_type": "stream",
          "text": [
            "\b\b\b\b\b\b\b\b\b\b\b\b\b\b\b\b\b\b\b\b\b\b\b\b\b\b\b\b\b\b\b\b\b\b\b\b\b\b\b\b\b\b\b\b\b\b\b\b\b\b\b\b\b\b\b\b\b\b\b\b\b\b\b\b\b\r200/200 [==============================] - 190s 950ms/step - loss: 0.1599 - val_loss: 0.3283\n",
            "\n",
            "Epoch 00016: val_loss did not improve from 0.21813\n",
            "Epoch 17/100\n",
            "  1/200 [..............................] - ETA: 3:02 - loss: 0.1341"
          ],
          "name": "stdout"
        },
        {
          "output_type": "stream",
          "text": [
            "100%|██████████| 10000/10000 [00:00<00:00, 38883.85it/s]\n"
          ],
          "name": "stderr"
        },
        {
          "output_type": "stream",
          "text": [
            "199/200 [============================>.] - ETA: 0s - loss: 0.1577"
          ],
          "name": "stdout"
        },
        {
          "output_type": "stream",
          "text": [
            "100%|██████████| 100000/100000 [00:02<00:00, 37517.32it/s]\n"
          ],
          "name": "stderr"
        },
        {
          "output_type": "stream",
          "text": [
            "\b\b\b\b\b\b\b\b\b\b\b\b\b\b\b\b\b\b\b\b\b\b\b\b\b\b\b\b\b\b\b\b\b\b\b\b\b\b\b\b\b\b\b\b\b\b\b\b\b\b\b\b\b\b\b\b\b\b\b\b\b\b\b\b\b\r200/200 [==============================] - 190s 951ms/step - loss: 0.1575 - val_loss: 0.1925\n",
            "\n",
            "Epoch 00017: val_loss improved from 0.21813 to 0.19245, saving model to data/descriptor_model.weights.17-0.19.hdf5\n",
            "Epoch 18/100\n",
            "  1/200 [..............................] - ETA: 3:03 - loss: 0.1396"
          ],
          "name": "stdout"
        },
        {
          "output_type": "stream",
          "text": [
            "100%|██████████| 10000/10000 [00:00<00:00, 39357.86it/s]\n"
          ],
          "name": "stderr"
        },
        {
          "output_type": "stream",
          "text": [
            "199/200 [============================>.] - ETA: 0s - loss: 0.1544"
          ],
          "name": "stdout"
        },
        {
          "output_type": "stream",
          "text": [
            "100%|██████████| 100000/100000 [00:03<00:00, 32840.93it/s]\n"
          ],
          "name": "stderr"
        },
        {
          "output_type": "stream",
          "text": [
            "\b\b\b\b\b\b\b\b\b\b\b\b\b\b\b\b\b\b\b\b\b\b\b\b\b\b\b\b\b\b\b\b\b\b\b\b\b\b\b\b\b\b\b\b\b\b\b\b\b\b\b\b\b\b\b\b\b\b\b\b\b\b\b\b\b\r200/200 [==============================] - 191s 954ms/step - loss: 0.1544 - val_loss: 0.4247\n",
            "\n",
            "Epoch 00018: val_loss did not improve from 0.19245\n",
            "Epoch 19/100\n",
            "  2/200 [..............................] - ETA: 3:08 - loss: 0.1286"
          ],
          "name": "stdout"
        },
        {
          "output_type": "stream",
          "text": [
            "100%|██████████| 10000/10000 [00:00<00:00, 35915.92it/s]\n"
          ],
          "name": "stderr"
        },
        {
          "output_type": "stream",
          "text": [
            "199/200 [============================>.] - ETA: 0s - loss: 0.1494"
          ],
          "name": "stdout"
        },
        {
          "output_type": "stream",
          "text": [
            "100%|██████████| 100000/100000 [00:02<00:00, 36697.50it/s]\n"
          ],
          "name": "stderr"
        },
        {
          "output_type": "stream",
          "text": [
            "\b\b\b\b\b\b\b\b\b\b\b\b\b\b\b\b\b\b\b\b\b\b\b\b\b\b\b\b\b\b\b\b\b\b\b\b\b\b\b\b\b\b\b\b\b\b\b\b\b\b\b\b\b\b\b\b\b\b\b\b\b\b\b\b\b\r200/200 [==============================] - 191s 954ms/step - loss: 0.1496 - val_loss: 0.3760\n",
            "\n",
            "Epoch 00019: val_loss did not improve from 0.19245\n",
            "Epoch 20/100\n",
            "  2/200 [..............................] - ETA: 3:05 - loss: 0.1263"
          ],
          "name": "stdout"
        },
        {
          "output_type": "stream",
          "text": [
            "100%|██████████| 10000/10000 [00:00<00:00, 13297.29it/s]"
          ],
          "name": "stderr"
        },
        {
          "output_type": "stream",
          "text": [
            "\b\b\b\b\b\b\b\b\b\b\b\b\b\b\b\b\b\b\b\b\b\b\b\b\b\b\b\b\b\b\b\b\b\b\b\b\b\b\b\b\b\b\b\b\b\b\b\b\b\b\b\b\b\b\b\b\b\b\b\b\b\b\b\b\b\b\b\r  3/200 [..............................] - ETA: 3:01 - loss: 0.1405"
          ],
          "name": "stdout"
        },
        {
          "output_type": "stream",
          "text": [
            "\n"
          ],
          "name": "stderr"
        },
        {
          "output_type": "stream",
          "text": [
            "199/200 [============================>.] - ETA: 0s - loss: 0.1465"
          ],
          "name": "stdout"
        },
        {
          "output_type": "stream",
          "text": [
            "100%|██████████| 100000/100000 [00:02<00:00, 35256.20it/s]\n"
          ],
          "name": "stderr"
        },
        {
          "output_type": "stream",
          "text": [
            "\b\b\b\b\b\b\b\b\b\b\b\b\b\b\b\b\b\b\b\b\b\b\b\b\b\b\b\b\b\b\b\b\b\b\b\b\b\b\b\b\b\b\b\b\b\b\b\b\b\b\b\b\b\b\b\b\b\b\b\b\b\b\b\b\b\r200/200 [==============================] - 191s 954ms/step - loss: 0.1466 - val_loss: 0.1890\n",
            "\n",
            "Epoch 00020: val_loss improved from 0.19245 to 0.18899, saving model to data/descriptor_model.weights.20-0.19.hdf5\n",
            "Epoch 21/100\n",
            "  1/200 [..............................] - ETA: 3:05 - loss: 0.1705"
          ],
          "name": "stdout"
        },
        {
          "output_type": "stream",
          "text": [
            "100%|██████████| 10000/10000 [00:00<00:00, 40390.47it/s]\n"
          ],
          "name": "stderr"
        },
        {
          "output_type": "stream",
          "text": [
            "199/200 [============================>.] - ETA: 0s - loss: 0.1448"
          ],
          "name": "stdout"
        },
        {
          "output_type": "stream",
          "text": [
            "100%|██████████| 100000/100000 [00:02<00:00, 34800.87it/s]\n"
          ],
          "name": "stderr"
        },
        {
          "output_type": "stream",
          "text": [
            "\b\b\b\b\b\b\b\b\b\b\b\b\b\b\b\b\b\b\b\b\b\b\b\b\b\b\b\b\b\b\b\b\b\b\b\b\b\b\b\b\b\b\b\b\b\b\b\b\b\b\b\b\b\b\b\b\b\b\b\b\b\b\b\b\b\r200/200 [==============================] - 191s 953ms/step - loss: 0.1447 - val_loss: 0.3627\n",
            "\n",
            "Epoch 00021: val_loss did not improve from 0.18899\n",
            "Epoch 22/100\n",
            "  1/200 [..............................] - ETA: 4:27 - loss: 0.1280"
          ],
          "name": "stdout"
        },
        {
          "output_type": "stream",
          "text": [
            " 86%|████████▌ | 8559/10000 [00:00<00:00, 42278.68it/s]"
          ],
          "name": "stderr"
        },
        {
          "output_type": "stream",
          "text": [
            "\b\b\b\b\b\b\b\b\b\b\b\b\b\b\b\b\b\b\b\b\b\b\b\b\b\b\b\b\b\b\b\b\b\b\b\b\b\b\b\b\b\b\b\b\b\b\b\b\b\b\b\b\b\b\b\b\b\b\b\b\b\b\b\b\b\b\b\r  2/200 [..............................] - ETA: 3:50 - loss: 0.1219"
          ],
          "name": "stdout"
        },
        {
          "output_type": "stream",
          "text": [
            "\r100%|██████████| 10000/10000 [00:00<00:00, 36252.83it/s]\n"
          ],
          "name": "stderr"
        },
        {
          "output_type": "stream",
          "text": [
            "199/200 [============================>.] - ETA: 0s - loss: 0.1421"
          ],
          "name": "stdout"
        },
        {
          "output_type": "stream",
          "text": [
            "100%|██████████| 100000/100000 [00:03<00:00, 30339.80it/s]\n"
          ],
          "name": "stderr"
        },
        {
          "output_type": "stream",
          "text": [
            "\b\b\b\b\b\b\b\b\b\b\b\b\b\b\b\b\b\b\b\b\b\b\b\b\b\b\b\b\b\b\b\b\b\b\b\b\b\b\b\b\b\b\b\b\b\b\b\b\b\b\b\b\b\b\b\b\b\b\b\b\b\b\b\b\b\r200/200 [==============================] - 191s 956ms/step - loss: 0.1421 - val_loss: 0.1915\n",
            "\n",
            "Epoch 00022: val_loss did not improve from 0.18899\n",
            "Epoch 23/100\n",
            "  2/200 [..............................] - ETA: 3:05 - loss: 0.1176"
          ],
          "name": "stdout"
        },
        {
          "output_type": "stream",
          "text": [
            "100%|██████████| 10000/10000 [00:00<00:00, 36986.02it/s]\n"
          ],
          "name": "stderr"
        },
        {
          "output_type": "stream",
          "text": [
            "199/200 [============================>.] - ETA: 0s - loss: 0.1403"
          ],
          "name": "stdout"
        },
        {
          "output_type": "stream",
          "text": [
            "100%|██████████| 100000/100000 [00:02<00:00, 34623.33it/s]\n"
          ],
          "name": "stderr"
        },
        {
          "output_type": "stream",
          "text": [
            "\b\b\b\b\b\b\b\b\b\b\b\b\b\b\b\b\b\b\b\b\b\b\b\b\b\b\b\b\b\b\b\b\b\b\b\b\b\b\b\b\b\b\b\b\b\b\b\b\b\b\b\b\b\b\b\b\b\b\b\b\b\b\b\b\b\r200/200 [==============================] - 191s 956ms/step - loss: 0.1404 - val_loss: 0.3726\n",
            "\n",
            "Epoch 00023: val_loss did not improve from 0.18899\n",
            "Epoch 24/100\n",
            "  2/200 [..............................] - ETA: 3:08 - loss: 0.1293"
          ],
          "name": "stdout"
        },
        {
          "output_type": "stream",
          "text": [
            "100%|██████████| 10000/10000 [00:00<00:00, 35115.35it/s]\n"
          ],
          "name": "stderr"
        },
        {
          "output_type": "stream",
          "text": [
            "199/200 [============================>.] - ETA: 0s - loss: 0.1395"
          ],
          "name": "stdout"
        },
        {
          "output_type": "stream",
          "text": [
            "100%|██████████| 100000/100000 [00:02<00:00, 36515.88it/s]\n"
          ],
          "name": "stderr"
        },
        {
          "output_type": "stream",
          "text": [
            "\b\b\b\b\b\b\b\b\b\b\b\b\b\b\b\b\b\b\b\b\b\b\b\b\b\b\b\b\b\b\b\b\b\b\b\b\b\b\b\b\b\b\b\b\b\b\b\b\b\b\b\b\b\b\b\b\b\b\b\b\b\b\b\b\b\r200/200 [==============================] - 191s 957ms/step - loss: 0.1395 - val_loss: 0.4892\n",
            "\n",
            "Epoch 00024: val_loss did not improve from 0.18899\n",
            "Epoch 25/100\n",
            "  1/200 [..............................] - ETA: 3:06 - loss: 0.1633"
          ],
          "name": "stdout"
        },
        {
          "output_type": "stream",
          "text": [
            "\r  0%|          | 0/10000 [00:00<?, ?it/s]"
          ],
          "name": "stderr"
        },
        {
          "output_type": "stream",
          "text": [
            "\b\b\b\b\b\b\b\b\b\b\b\b\b\b\b\b\b\b\b\b\b\b\b\b\b\b\b\b\b\b\b\b\b\b\b\b\b\b\b\b\b\b\b\b\b\b\b\b\b\b\b\b\b\b\b\b\b\b\b\b\b\b\b\b\b\b\b\r  2/200 [..............................] - ETA: 3:06 - loss: 0.1377"
          ],
          "name": "stdout"
        },
        {
          "output_type": "stream",
          "text": [
            "100%|██████████| 10000/10000 [00:00<00:00, 33402.07it/s]\n"
          ],
          "name": "stderr"
        },
        {
          "output_type": "stream",
          "text": [
            "199/200 [============================>.] - ETA: 0s - loss: 0.1382"
          ],
          "name": "stdout"
        },
        {
          "output_type": "stream",
          "text": [
            "100%|██████████| 100000/100000 [00:02<00:00, 36666.77it/s]\n"
          ],
          "name": "stderr"
        },
        {
          "output_type": "stream",
          "text": [
            "\b\b\b\b\b\b\b\b\b\b\b\b\b\b\b\b\b\b\b\b\b\b\b\b\b\b\b\b\b\b\b\b\b\b\b\b\b\b\b\b\b\b\b\b\b\b\b\b\b\b\b\b\b\b\b\b\b\b\b\b\b\b\b\b\b\r200/200 [==============================] - 191s 957ms/step - loss: 0.1380 - val_loss: 0.2172\n",
            "\n",
            "Epoch 00025: val_loss did not improve from 0.18899\n",
            "Epoch 26/100\n",
            "  2/200 [..............................] - ETA: 3:06 - loss: 0.1354"
          ],
          "name": "stdout"
        },
        {
          "output_type": "stream",
          "text": [
            "100%|██████████| 10000/10000 [00:00<00:00, 35792.28it/s]\n"
          ],
          "name": "stderr"
        },
        {
          "output_type": "stream",
          "text": [
            "199/200 [============================>.] - ETA: 0s - loss: 0.1374"
          ],
          "name": "stdout"
        },
        {
          "output_type": "stream",
          "text": [
            "100%|██████████| 100000/100000 [00:03<00:00, 31045.82it/s]\n"
          ],
          "name": "stderr"
        },
        {
          "output_type": "stream",
          "text": [
            "\b\b\b\b\b\b\b\b\b\b\b\b\b\b\b\b\b\b\b\b\b\b\b\b\b\b\b\b\b\b\b\b\b\b\b\b\b\b\b\b\b\b\b\b\b\b\b\b\b\b\b\b\b\b\b\b\b\b\b\b\b\b\b\b\b\r200/200 [==============================] - 190s 950ms/step - loss: 0.1376 - val_loss: 0.2859\n",
            "\n",
            "Epoch 00026: val_loss did not improve from 0.18899\n",
            "Epoch 27/100\n",
            "  2/200 [..............................] - ETA: 3:04 - loss: 0.1535"
          ],
          "name": "stdout"
        },
        {
          "output_type": "stream",
          "text": [
            "100%|██████████| 10000/10000 [00:00<00:00, 38558.46it/s]\n"
          ],
          "name": "stderr"
        },
        {
          "output_type": "stream",
          "text": [
            "199/200 [============================>.] - ETA: 0s - loss: 0.1316"
          ],
          "name": "stdout"
        },
        {
          "output_type": "stream",
          "text": [
            "100%|██████████| 100000/100000 [00:02<00:00, 36743.60it/s]\n"
          ],
          "name": "stderr"
        },
        {
          "output_type": "stream",
          "text": [
            "\b\b\b\b\b\b\b\b\b\b\b\b\b\b\b\b\b\b\b\b\b\b\b\b\b\b\b\b\b\b\b\b\b\b\b\b\b\b\b\b\b\b\b\b\b\b\b\b\b\b\b\b\b\b\b\b\b\b\b\b\b\b\b\b\b\r200/200 [==============================] - 191s 953ms/step - loss: 0.1316 - val_loss: 0.2187\n",
            "\n",
            "Epoch 00027: val_loss did not improve from 0.18899\n",
            "Epoch 28/100\n",
            "  2/200 [..............................] - ETA: 3:06 - loss: 0.1283"
          ],
          "name": "stdout"
        },
        {
          "output_type": "stream",
          "text": [
            "100%|██████████| 10000/10000 [00:00<00:00, 37038.22it/s]\n"
          ],
          "name": "stderr"
        },
        {
          "output_type": "stream",
          "text": [
            "199/200 [============================>.] - ETA: 0s - loss: 0.1328"
          ],
          "name": "stdout"
        },
        {
          "output_type": "stream",
          "text": [
            "100%|██████████| 100000/100000 [00:02<00:00, 36824.35it/s]\n"
          ],
          "name": "stderr"
        },
        {
          "output_type": "stream",
          "text": [
            "\b\b\b\b\b\b\b\b\b\b\b\b\b\b\b\b\b\b\b\b\b\b\b\b\b\b\b\b\b\b\b\b\b\b\b\b\b\b\b\b\b\b\b\b\b\b\b\b\b\b\b\b\b\b\b\b\b\b\b\b\b\b\b\b\b\r200/200 [==============================] - 190s 950ms/step - loss: 0.1329 - val_loss: 0.1927\n",
            "\n",
            "Epoch 00028: val_loss did not improve from 0.18899\n",
            "Epoch 29/100\n",
            "  2/200 [..............................] - ETA: 3:07 - loss: 0.1305"
          ],
          "name": "stdout"
        },
        {
          "output_type": "stream",
          "text": [
            "100%|██████████| 10000/10000 [00:00<00:00, 38460.59it/s]\n"
          ],
          "name": "stderr"
        },
        {
          "output_type": "stream",
          "text": [
            "199/200 [============================>.] - ETA: 0s - loss: 0.1303"
          ],
          "name": "stdout"
        },
        {
          "output_type": "stream",
          "text": [
            "100%|██████████| 100000/100000 [00:02<00:00, 35474.71it/s]\n"
          ],
          "name": "stderr"
        },
        {
          "output_type": "stream",
          "text": [
            "\b\b\b\b\b\b\b\b\b\b\b\b\b\b\b\b\b\b\b\b\b\b\b\b\b\b\b\b\b\b\b\b\b\b\b\b\b\b\b\b\b\b\b\b\b\b\b\b\b\b\b\b\b\b\b\b\b\b\b\b\b\b\b\b\b\r200/200 [==============================] - 191s 957ms/step - loss: 0.1304 - val_loss: 0.2500\n",
            "\n",
            "Epoch 00029: val_loss did not improve from 0.18899\n",
            "Epoch 30/100\n",
            "  1/200 [..............................] - ETA: 3:06 - loss: 0.1217"
          ],
          "name": "stdout"
        },
        {
          "output_type": "stream",
          "text": [
            " 79%|███████▉  | 7906/10000 [00:00<00:00, 39398.01it/s]"
          ],
          "name": "stderr"
        },
        {
          "output_type": "stream",
          "text": [
            "\b\b\b\b\b\b\b\b\b\b\b\b\b\b\b\b\b\b\b\b\b\b\b\b\b\b\b\b\b\b\b\b\b\b\b\b\b\b\b\b\b\b\b\b\b\b\b\b\b\b\b\b\b\b\b\b\b\b\b\b\b\b\b\b\b\b\b\r  2/200 [..............................] - ETA: 3:04 - loss: 0.1237"
          ],
          "name": "stdout"
        },
        {
          "output_type": "stream",
          "text": [
            "\r100%|██████████| 10000/10000 [00:00<00:00, 39134.73it/s]\n"
          ],
          "name": "stderr"
        },
        {
          "output_type": "stream",
          "text": [
            "199/200 [============================>.] - ETA: 0s - loss: 0.1301"
          ],
          "name": "stdout"
        },
        {
          "output_type": "stream",
          "text": [
            "100%|██████████| 100000/100000 [00:03<00:00, 30128.94it/s]\n"
          ],
          "name": "stderr"
        },
        {
          "output_type": "stream",
          "text": [
            "\b\b\b\b\b\b\b\b\b\b\b\b\b\b\b\b\b\b\b\b\b\b\b\b\b\b\b\b\b\b\b\b\b\b\b\b\b\b\b\b\b\b\b\b\b\b\b\b\b\b\b\b\b\b\b\b\b\b\b\b\b\b\b\b\b\r200/200 [==============================] - 190s 952ms/step - loss: 0.1302 - val_loss: 0.1668\n",
            "\n",
            "Epoch 00030: val_loss improved from 0.18899 to 0.16679, saving model to data/descriptor_model.weights.30-0.17.hdf5\n",
            "Epoch 31/100\n",
            "  2/200 [..............................] - ETA: 3:07 - loss: 0.1405"
          ],
          "name": "stdout"
        },
        {
          "output_type": "stream",
          "text": [
            "100%|██████████| 10000/10000 [00:00<00:00, 36756.74it/s]\n"
          ],
          "name": "stderr"
        },
        {
          "output_type": "stream",
          "text": [
            "199/200 [============================>.] - ETA: 0s - loss: 0.1285"
          ],
          "name": "stdout"
        },
        {
          "output_type": "stream",
          "text": [
            "100%|██████████| 100000/100000 [00:02<00:00, 35069.09it/s]\n"
          ],
          "name": "stderr"
        },
        {
          "output_type": "stream",
          "text": [
            "\b\b\b\b\b\b\b\b\b\b\b\b\b\b\b\b\b\b\b\b\b\b\b\b\b\b\b\b\b\b\b\b\b\b\b\b\b\b\b\b\b\b\b\b\b\b\b\b\b\b\b\b\b\b\b\b\b\b\b\b\b\b\b\b\b\r200/200 [==============================] - 191s 953ms/step - loss: 0.1286 - val_loss: 0.1820\n",
            "\n",
            "Epoch 00031: val_loss did not improve from 0.16679\n",
            "Epoch 32/100\n",
            "  2/200 [..............................] - ETA: 3:06 - loss: 0.1145"
          ],
          "name": "stdout"
        },
        {
          "output_type": "stream",
          "text": [
            "100%|██████████| 10000/10000 [00:00<00:00, 34406.87it/s]\n"
          ],
          "name": "stderr"
        },
        {
          "output_type": "stream",
          "text": [
            "199/200 [============================>.] - ETA: 0s - loss: 0.1248"
          ],
          "name": "stdout"
        },
        {
          "output_type": "stream",
          "text": [
            "100%|██████████| 100000/100000 [00:02<00:00, 34848.33it/s]\n"
          ],
          "name": "stderr"
        },
        {
          "output_type": "stream",
          "text": [
            "\b\b\b\b\b\b\b\b\b\b\b\b\b\b\b\b\b\b\b\b\b\b\b\b\b\b\b\b\b\b\b\b\b\b\b\b\b\b\b\b\b\b\b\b\b\b\b\b\b\b\b\b\b\b\b\b\b\b\b\b\b\b\b\b\b\r200/200 [==============================] - 192s 959ms/step - loss: 0.1248 - val_loss: 0.1608\n",
            "\n",
            "Epoch 00032: val_loss improved from 0.16679 to 0.16079, saving model to data/descriptor_model.weights.32-0.16.hdf5\n",
            "Epoch 33/100\n",
            "  1/200 [..............................] - ETA: 3:04 - loss: 0.1066"
          ],
          "name": "stdout"
        },
        {
          "output_type": "stream",
          "text": [
            "100%|██████████| 10000/10000 [00:00<00:00, 38241.49it/s]\n"
          ],
          "name": "stderr"
        },
        {
          "output_type": "stream",
          "text": [
            "199/200 [============================>.] - ETA: 0s - loss: 0.1249"
          ],
          "name": "stdout"
        },
        {
          "output_type": "stream",
          "text": [
            "100%|██████████| 100000/100000 [00:02<00:00, 35087.12it/s]\n"
          ],
          "name": "stderr"
        },
        {
          "output_type": "stream",
          "text": [
            "\b\b\b\b\b\b\b\b\b\b\b\b\b\b\b\b\b\b\b\b\b\b\b\b\b\b\b\b\b\b\b\b\b\b\b\b\b\b\b\b\b\b\b\b\b\b\b\b\b\b\b\b\b\b\b\b\b\b\b\b\b\b\b\b\b\r200/200 [==============================] - 191s 957ms/step - loss: 0.1251 - val_loss: 0.3360\n",
            "\n",
            "Epoch 00033: val_loss did not improve from 0.16079\n",
            "Epoch 34/100\n",
            "  2/200 [..............................] - ETA: 3:06 - loss: 0.1486"
          ],
          "name": "stdout"
        },
        {
          "output_type": "stream",
          "text": [
            "100%|██████████| 10000/10000 [00:00<00:00, 35086.77it/s]\n"
          ],
          "name": "stderr"
        },
        {
          "output_type": "stream",
          "text": [
            "199/200 [============================>.] - ETA: 0s - loss: 0.1239"
          ],
          "name": "stdout"
        },
        {
          "output_type": "stream",
          "text": [
            "100%|██████████| 100000/100000 [00:03<00:00, 30349.50it/s]\n"
          ],
          "name": "stderr"
        },
        {
          "output_type": "stream",
          "text": [
            "\b\b\b\b\b\b\b\b\b\b\b\b\b\b\b\b\b\b\b\b\b\b\b\b\b\b\b\b\b\b\b\b\b\b\b\b\b\b\b\b\b\b\b\b\b\b\b\b\b\b\b\b\b\b\b\b\b\b\b\b\b\b\b\b\b\r200/200 [==============================] - 191s 955ms/step - loss: 0.1238 - val_loss: 0.2024\n",
            "\n",
            "Epoch 00034: val_loss did not improve from 0.16079\n",
            "Epoch 35/100\n",
            "  2/200 [..............................] - ETA: 3:05 - loss: 0.1109"
          ],
          "name": "stdout"
        },
        {
          "output_type": "stream",
          "text": [
            "100%|██████████| 10000/10000 [00:00<00:00, 33295.16it/s]\n"
          ],
          "name": "stderr"
        },
        {
          "output_type": "stream",
          "text": [
            "199/200 [============================>.] - ETA: 0s - loss: 0.1261"
          ],
          "name": "stdout"
        },
        {
          "output_type": "stream",
          "text": [
            "100%|██████████| 100000/100000 [00:02<00:00, 36651.34it/s]\n"
          ],
          "name": "stderr"
        },
        {
          "output_type": "stream",
          "text": [
            "\b\b\b\b\b\b\b\b\b\b\b\b\b\b\b\b\b\b\b\b\b\b\b\b\b\b\b\b\b\b\b\b\b\b\b\b\b\b\b\b\b\b\b\b\b\b\b\b\b\b\b\b\b\b\b\b\b\b\b\b\b\b\b\b\b\r200/200 [==============================] - 191s 953ms/step - loss: 0.1261 - val_loss: 0.4798\n",
            "\n",
            "Epoch 00035: val_loss did not improve from 0.16079\n",
            "Epoch 36/100\n",
            "  2/200 [..............................] - ETA: 3:04 - loss: 0.1187"
          ],
          "name": "stdout"
        },
        {
          "output_type": "stream",
          "text": [
            "100%|██████████| 10000/10000 [00:00<00:00, 35979.69it/s]\n"
          ],
          "name": "stderr"
        },
        {
          "output_type": "stream",
          "text": [
            "199/200 [============================>.] - ETA: 0s - loss: 0.1233"
          ],
          "name": "stdout"
        },
        {
          "output_type": "stream",
          "text": [
            "100%|██████████| 100000/100000 [00:02<00:00, 35775.10it/s]\n"
          ],
          "name": "stderr"
        },
        {
          "output_type": "stream",
          "text": [
            "\b\b\b\b\b\b\b\b\b\b\b\b\b\b\b\b\b\b\b\b\b\b\b\b\b\b\b\b\b\b\b\b\b\b\b\b\b\b\b\b\b\b\b\b\b\b\b\b\b\b\b\b\b\b\b\b\b\b\b\b\b\b\b\b\b\r200/200 [==============================] - 191s 957ms/step - loss: 0.1234 - val_loss: 0.3333\n",
            "\n",
            "Epoch 00036: val_loss did not improve from 0.16079\n",
            "Epoch 37/100\n",
            "  2/200 [..............................] - ETA: 3:05 - loss: 0.1327"
          ],
          "name": "stdout"
        },
        {
          "output_type": "stream",
          "text": [
            "100%|██████████| 10000/10000 [00:00<00:00, 35502.80it/s]\n"
          ],
          "name": "stderr"
        },
        {
          "output_type": "stream",
          "text": [
            "199/200 [============================>.] - ETA: 0s - loss: 0.1205"
          ],
          "name": "stdout"
        },
        {
          "output_type": "stream",
          "text": [
            "100%|██████████| 100000/100000 [00:03<00:00, 31650.57it/s]\n"
          ],
          "name": "stderr"
        },
        {
          "output_type": "stream",
          "text": [
            "\b\b\b\b\b\b\b\b\b\b\b\b\b\b\b\b\b\b\b\b\b\b\b\b\b\b\b\b\b\b\b\b\b\b\b\b\b\b\b\b\b\b\b\b\b\b\b\b\b\b\b\b\b\b\b\b\b\b\b\b\b\b\b\b\b\r200/200 [==============================] - 190s 950ms/step - loss: 0.1205 - val_loss: 0.1821\n",
            "\n",
            "Epoch 00037: val_loss did not improve from 0.16079\n",
            "Epoch 38/100\n",
            "  2/200 [..............................] - ETA: 3:05 - loss: 0.1075"
          ],
          "name": "stdout"
        },
        {
          "output_type": "stream",
          "text": [
            "100%|██████████| 10000/10000 [00:00<00:00, 35291.92it/s]\n"
          ],
          "name": "stderr"
        },
        {
          "output_type": "stream",
          "text": [
            "199/200 [============================>.] - ETA: 0s - loss: 0.1209"
          ],
          "name": "stdout"
        },
        {
          "output_type": "stream",
          "text": [
            "100%|██████████| 100000/100000 [00:03<00:00, 31584.63it/s]\n"
          ],
          "name": "stderr"
        },
        {
          "output_type": "stream",
          "text": [
            "\b\b\b\b\b\b\b\b\b\b\b\b\b\b\b\b\b\b\b\b\b\b\b\b\b\b\b\b\b\b\b\b\b\b\b\b\b\b\b\b\b\b\b\b\b\b\b\b\b\b\b\b\b\b\b\b\b\b\b\b\b\b\b\b\b\r200/200 [==============================] - 192s 958ms/step - loss: 0.1208 - val_loss: 0.1582\n",
            "\n",
            "Epoch 00038: val_loss improved from 0.16079 to 0.15816, saving model to data/descriptor_model.weights.38-0.16.hdf5\n",
            "Epoch 39/100\n",
            "  1/200 [..............................] - ETA: 3:05 - loss: 0.1211"
          ],
          "name": "stdout"
        },
        {
          "output_type": "stream",
          "text": [
            "100%|██████████| 10000/10000 [00:00<00:00, 39840.08it/s]"
          ],
          "name": "stderr"
        },
        {
          "output_type": "stream",
          "text": [
            "\b\b\b\b\b\b\b\b\b\b\b\b\b\b\b\b\b\b\b\b\b\b\b\b\b\b\b\b\b\b\b\b\b\b\b\b\b\b\b\b\b\b\b\b\b\b\b\b\b\b\b\b\b\b\b\b\b\b\b\b\b\b\b\b\b\b\b\r  2/200 [..............................] - ETA: 3:07 - loss: 0.1232"
          ],
          "name": "stdout"
        },
        {
          "output_type": "stream",
          "text": [
            "\n"
          ],
          "name": "stderr"
        },
        {
          "output_type": "stream",
          "text": [
            "199/200 [============================>.] - ETA: 0s - loss: 0.1189"
          ],
          "name": "stdout"
        },
        {
          "output_type": "stream",
          "text": [
            "100%|██████████| 100000/100000 [00:02<00:00, 37821.63it/s]\n"
          ],
          "name": "stderr"
        },
        {
          "output_type": "stream",
          "text": [
            "\b\b\b\b\b\b\b\b\b\b\b\b\b\b\b\b\b\b\b\b\b\b\b\b\b\b\b\b\b\b\b\b\b\b\b\b\b\b\b\b\b\b\b\b\b\b\b\b\b\b\b\b\b\b\b\b\b\b\b\b\b\b\b\b\b\r200/200 [==============================] - 190s 948ms/step - loss: 0.1189 - val_loss: 0.2586\n",
            "\n",
            "Epoch 00039: val_loss did not improve from 0.15816\n",
            "Epoch 40/100\n",
            "  2/200 [..............................] - ETA: 3:05 - loss: 0.1146"
          ],
          "name": "stdout"
        },
        {
          "output_type": "stream",
          "text": [
            "100%|██████████| 10000/10000 [00:00<00:00, 37845.47it/s]\n"
          ],
          "name": "stderr"
        },
        {
          "output_type": "stream",
          "text": [
            "199/200 [============================>.] - ETA: 0s - loss: 0.1181"
          ],
          "name": "stdout"
        },
        {
          "output_type": "stream",
          "text": [
            "100%|██████████| 100000/100000 [00:02<00:00, 37633.58it/s]\n"
          ],
          "name": "stderr"
        },
        {
          "output_type": "stream",
          "text": [
            "\b\b\b\b\b\b\b\b\b\b\b\b\b\b\b\b\b\b\b\b\b\b\b\b\b\b\b\b\b\b\b\b\b\b\b\b\b\b\b\b\b\b\b\b\b\b\b\b\b\b\b\b\b\b\b\b\b\b\b\b\b\b\b\b\b\r200/200 [==============================] - 190s 951ms/step - loss: 0.1181 - val_loss: 0.1750\n",
            "\n",
            "Epoch 00040: val_loss did not improve from 0.15816\n",
            "Epoch 41/100\n",
            "  1/200 [..............................] - ETA: 3:03 - loss: 0.1026"
          ],
          "name": "stdout"
        },
        {
          "output_type": "stream",
          "text": [
            "\r  0%|          | 0/10000 [00:00<?, ?it/s]"
          ],
          "name": "stderr"
        },
        {
          "output_type": "stream",
          "text": [
            "\b\b\b\b\b\b\b\b\b\b\b\b\b\b\b\b\b\b\b\b\b\b\b\b\b\b\b\b\b\b\b\b\b\b\b\b\b\b\b\b\b\b\b\b\b\b\b\b\b\b\b\b\b\b\b\b\b\b\b\b\b\b\b\b\b\b\b\r  2/200 [..............................] - ETA: 3:05 - loss: 0.1140"
          ],
          "name": "stdout"
        },
        {
          "output_type": "stream",
          "text": [
            "100%|██████████| 10000/10000 [00:00<00:00, 38715.20it/s]\n"
          ],
          "name": "stderr"
        },
        {
          "output_type": "stream",
          "text": [
            "199/200 [============================>.] - ETA: 0s - loss: 0.1172"
          ],
          "name": "stdout"
        },
        {
          "output_type": "stream",
          "text": [
            "100%|██████████| 100000/100000 [00:03<00:00, 33008.36it/s]\n"
          ],
          "name": "stderr"
        },
        {
          "output_type": "stream",
          "text": [
            "\b\b\b\b\b\b\b\b\b\b\b\b\b\b\b\b\b\b\b\b\b\b\b\b\b\b\b\b\b\b\b\b\b\b\b\b\b\b\b\b\b\b\b\b\b\b\b\b\b\b\b\b\b\b\b\b\b\b\b\b\b\b\b\b\b\r200/200 [==============================] - 190s 952ms/step - loss: 0.1171 - val_loss: 0.2937\n",
            "\n",
            "Epoch 00041: val_loss did not improve from 0.15816\n",
            "Epoch 42/100\n",
            "  1/200 [..............................] - ETA: 3:07 - loss: 0.1187"
          ],
          "name": "stdout"
        },
        {
          "output_type": "stream",
          "text": [
            " 36%|███▌      | 3556/10000 [00:00<00:00, 35557.32it/s]"
          ],
          "name": "stderr"
        },
        {
          "output_type": "stream",
          "text": [
            "\b\b\b\b\b\b\b\b\b\b\b\b\b\b\b\b\b\b\b\b\b\b\b\b\b\b\b\b\b\b\b\b\b\b\b\b\b\b\b\b\b\b\b\b\b\b\b\b\b\b\b\b\b\b\b\b\b\b\b\b\b\b\b\b\b\b\b\r  2/200 [..............................] - ETA: 3:12 - loss: 0.1205"
          ],
          "name": "stdout"
        },
        {
          "output_type": "stream",
          "text": [
            "100%|██████████| 10000/10000 [00:00<00:00, 35557.54it/s]\n"
          ],
          "name": "stderr"
        },
        {
          "output_type": "stream",
          "text": [
            "199/200 [============================>.] - ETA: 0s - loss: 0.1189"
          ],
          "name": "stdout"
        },
        {
          "output_type": "stream",
          "text": [
            "100%|██████████| 100000/100000 [00:02<00:00, 37970.41it/s]\n"
          ],
          "name": "stderr"
        },
        {
          "output_type": "stream",
          "text": [
            "\b\b\b\b\b\b\b\b\b\b\b\b\b\b\b\b\b\b\b\b\b\b\b\b\b\b\b\b\b\b\b\b\b\b\b\b\b\b\b\b\b\b\b\b\b\b\b\b\b\b\b\b\b\b\b\b\b\b\b\b\b\b\b\b\b\r200/200 [==============================] - 192s 960ms/step - loss: 0.1188 - val_loss: 0.1905\n",
            "\n",
            "Epoch 00042: val_loss did not improve from 0.15816\n",
            "Epoch 43/100\n",
            "  1/200 [..............................] - ETA: 4:09 - loss: 0.1134"
          ],
          "name": "stdout"
        },
        {
          "output_type": "stream",
          "text": [
            "100%|██████████| 10000/10000 [00:00<00:00, 38069.61it/s]\n"
          ],
          "name": "stderr"
        },
        {
          "output_type": "stream",
          "text": [
            "199/200 [============================>.] - ETA: 0s - loss: 0.1162"
          ],
          "name": "stdout"
        },
        {
          "output_type": "stream",
          "text": [
            "100%|██████████| 100000/100000 [00:02<00:00, 37802.28it/s]\n"
          ],
          "name": "stderr"
        },
        {
          "output_type": "stream",
          "text": [
            "\b\b\b\b\b\b\b\b\b\b\b\b\b\b\b\b\b\b\b\b\b\b\b\b\b\b\b\b\b\b\b\b\b\b\b\b\b\b\b\b\b\b\b\b\b\b\b\b\b\b\b\b\b\b\b\b\b\b\b\b\b\b\b\b\b\r200/200 [==============================] - 191s 955ms/step - loss: 0.1162 - val_loss: 0.1573\n",
            "\n",
            "Epoch 00043: val_loss improved from 0.15816 to 0.15731, saving model to data/descriptor_model.weights.43-0.16.hdf5\n",
            "Epoch 44/100\n",
            "  1/200 [..............................] - ETA: 3:09 - loss: 0.1287"
          ],
          "name": "stdout"
        },
        {
          "output_type": "stream",
          "text": [
            "100%|██████████| 10000/10000 [00:00<00:00, 37970.59it/s]\n"
          ],
          "name": "stderr"
        },
        {
          "output_type": "stream",
          "text": [
            "199/200 [============================>.] - ETA: 0s - loss: 0.1149"
          ],
          "name": "stdout"
        },
        {
          "output_type": "stream",
          "text": [
            "100%|██████████| 100000/100000 [00:02<00:00, 40062.19it/s]\n"
          ],
          "name": "stderr"
        },
        {
          "output_type": "stream",
          "text": [
            "\b\b\b\b\b\b\b\b\b\b\b\b\b\b\b\b\b\b\b\b\b\b\b\b\b\b\b\b\b\b\b\b\b\b\b\b\b\b\b\b\b\b\b\b\b\b\b\b\b\b\b\b\b\b\b\b\b\b\b\b\b\b\b\b\b\r200/200 [==============================] - 190s 949ms/step - loss: 0.1149 - val_loss: 0.1571\n",
            "\n",
            "Epoch 00044: val_loss improved from 0.15731 to 0.15714, saving model to data/descriptor_model.weights.44-0.16.hdf5\n",
            "Epoch 45/100\n",
            "  1/200 [..............................] - ETA: 3:04 - loss: 0.1210"
          ],
          "name": "stdout"
        },
        {
          "output_type": "stream",
          "text": [
            "100%|██████████| 10000/10000 [00:00<00:00, 40284.72it/s]\n"
          ],
          "name": "stderr"
        },
        {
          "output_type": "stream",
          "text": [
            "199/200 [============================>.] - ETA: 0s - loss: 0.1129"
          ],
          "name": "stdout"
        },
        {
          "output_type": "stream",
          "text": [
            "100%|██████████| 100000/100000 [00:02<00:00, 33497.89it/s]\n"
          ],
          "name": "stderr"
        },
        {
          "output_type": "stream",
          "text": [
            "\b\b\b\b\b\b\b\b\b\b\b\b\b\b\b\b\b\b\b\b\b\b\b\b\b\b\b\b\b\b\b\b\b\b\b\b\b\b\b\b\b\b\b\b\b\b\b\b\b\b\b\b\b\b\b\b\b\b\b\b\b\b\b\b\b\r200/200 [==============================] - 191s 957ms/step - loss: 0.1129 - val_loss: 0.2905\n",
            "\n",
            "Epoch 00045: val_loss did not improve from 0.15714\n",
            "Epoch 46/100\n",
            "  1/200 [..............................] - ETA: 3:05 - loss: 0.0973"
          ],
          "name": "stdout"
        },
        {
          "output_type": "stream",
          "text": [
            " 40%|███▉      | 3957/10000 [00:00<00:00, 39564.76it/s]"
          ],
          "name": "stderr"
        },
        {
          "output_type": "stream",
          "text": [
            "\b\b\b\b\b\b\b\b\b\b\b\b\b\b\b\b\b\b\b\b\b\b\b\b\b\b\b\b\b\b\b\b\b\b\b\b\b\b\b\b\b\b\b\b\b\b\b\b\b\b\b\b\b\b\b\b\b\b\b\b\b\b\b\b\b\b\b\r  2/200 [..............................] - ETA: 3:12 - loss: 0.0998"
          ],
          "name": "stdout"
        },
        {
          "output_type": "stream",
          "text": [
            "100%|██████████| 10000/10000 [00:00<00:00, 42559.77it/s]\n"
          ],
          "name": "stderr"
        },
        {
          "output_type": "stream",
          "text": [
            "199/200 [============================>.] - ETA: 0s - loss: 0.1157"
          ],
          "name": "stdout"
        },
        {
          "output_type": "stream",
          "text": [
            "100%|██████████| 100000/100000 [00:02<00:00, 38365.28it/s]\n"
          ],
          "name": "stderr"
        },
        {
          "output_type": "stream",
          "text": [
            "\b\b\b\b\b\b\b\b\b\b\b\b\b\b\b\b\b\b\b\b\b\b\b\b\b\b\b\b\b\b\b\b\b\b\b\b\b\b\b\b\b\b\b\b\b\b\b\b\b\b\b\b\b\b\b\b\b\b\b\b\b\b\b\b\b\r200/200 [==============================] - 190s 949ms/step - loss: 0.1157 - val_loss: 0.2133\n",
            "\n",
            "Epoch 00046: val_loss did not improve from 0.15714\n",
            "Epoch 47/100\n",
            "  2/200 [..............................] - ETA: 3:14 - loss: 0.1381"
          ],
          "name": "stdout"
        },
        {
          "output_type": "stream",
          "text": [
            "100%|██████████| 10000/10000 [00:00<00:00, 36918.25it/s]\n"
          ],
          "name": "stderr"
        },
        {
          "output_type": "stream",
          "text": [
            "199/200 [============================>.] - ETA: 0s - loss: 0.1162"
          ],
          "name": "stdout"
        },
        {
          "output_type": "stream",
          "text": [
            "100%|██████████| 100000/100000 [00:02<00:00, 38566.83it/s]\n"
          ],
          "name": "stderr"
        },
        {
          "output_type": "stream",
          "text": [
            "\b\b\b\b\b\b\b\b\b\b\b\b\b\b\b\b\b\b\b\b\b\b\b\b\b\b\b\b\b\b\b\b\b\b\b\b\b\b\b\b\b\b\b\b\b\b\b\b\b\b\b\b\b\b\b\b\b\b\b\b\b\b\b\b\b\r200/200 [==============================] - 191s 956ms/step - loss: 0.1163 - val_loss: 0.1763\n",
            "\n",
            "Epoch 00047: val_loss did not improve from 0.15714\n",
            "Epoch 48/100\n",
            "  1/200 [..............................] - ETA: 3:03 - loss: 0.0896"
          ],
          "name": "stdout"
        },
        {
          "output_type": "stream",
          "text": [
            "\r  0%|          | 0/10000 [00:00<?, ?it/s]"
          ],
          "name": "stderr"
        },
        {
          "output_type": "stream",
          "text": [
            "\b\b\b\b\b\b\b\b\b\b\b\b\b\b\b\b\b\b\b\b\b\b\b\b\b\b\b\b\b\b\b\b\b\b\b\b\b\b\b\b\b\b\b\b\b\b\b\b\b\b\b\b\b\b\b\b\b\b\b\b\b\b\b\b\b\b\b\r  2/200 [..............................] - ETA: 3:06 - loss: 0.1070"
          ],
          "name": "stdout"
        },
        {
          "output_type": "stream",
          "text": [
            "100%|██████████| 10000/10000 [00:00<00:00, 34357.18it/s]\n"
          ],
          "name": "stderr"
        },
        {
          "output_type": "stream",
          "text": [
            "199/200 [============================>.] - ETA: 0s - loss: 0.1132"
          ],
          "name": "stdout"
        },
        {
          "output_type": "stream",
          "text": [
            "100%|██████████| 100000/100000 [00:02<00:00, 38397.09it/s]\n"
          ],
          "name": "stderr"
        },
        {
          "output_type": "stream",
          "text": [
            "\b\b\b\b\b\b\b\b\b\b\b\b\b\b\b\b\b\b\b\b\b\b\b\b\b\b\b\b\b\b\b\b\b\b\b\b\b\b\b\b\b\b\b\b\b\b\b\b\b\b\b\b\b\b\b\b\b\b\b\b\b\b\b\b\b\r200/200 [==============================] - 191s 956ms/step - loss: 0.1132 - val_loss: 0.4209\n",
            "\n",
            "Epoch 00048: val_loss did not improve from 0.15714\n",
            "Epoch 49/100\n",
            "  2/200 [..............................] - ETA: 3:05 - loss: 0.1120"
          ],
          "name": "stdout"
        },
        {
          "output_type": "stream",
          "text": [
            "100%|██████████| 10000/10000 [00:00<00:00, 33380.93it/s]\n"
          ],
          "name": "stderr"
        },
        {
          "output_type": "stream",
          "text": [
            "199/200 [============================>.] - ETA: 0s - loss: 0.1120"
          ],
          "name": "stdout"
        },
        {
          "output_type": "stream",
          "text": [
            "100%|██████████| 100000/100000 [00:02<00:00, 37355.09it/s]\n"
          ],
          "name": "stderr"
        },
        {
          "output_type": "stream",
          "text": [
            "\b\b\b\b\b\b\b\b\b\b\b\b\b\b\b\b\b\b\b\b\b\b\b\b\b\b\b\b\b\b\b\b\b\b\b\b\b\b\b\b\b\b\b\b\b\b\b\b\b\b\b\b\b\b\b\b\b\b\b\b\b\b\b\b\b\r200/200 [==============================] - 192s 961ms/step - loss: 0.1121 - val_loss: 0.3490\n",
            "\n",
            "Epoch 00049: val_loss did not improve from 0.15714\n",
            "Epoch 50/100\n",
            "  2/200 [..............................] - ETA: 3:06 - loss: 0.1329"
          ],
          "name": "stdout"
        },
        {
          "output_type": "stream",
          "text": [
            "100%|██████████| 10000/10000 [00:00<00:00, 35659.82it/s]\n"
          ],
          "name": "stderr"
        },
        {
          "output_type": "stream",
          "text": [
            "199/200 [============================>.] - ETA: 0s - loss: 0.1102"
          ],
          "name": "stdout"
        },
        {
          "output_type": "stream",
          "text": [
            "100%|██████████| 100000/100000 [00:03<00:00, 31144.27it/s]\n"
          ],
          "name": "stderr"
        },
        {
          "output_type": "stream",
          "text": [
            "\b\b\b\b\b\b\b\b\b\b\b\b\b\b\b\b\b\b\b\b\b\b\b\b\b\b\b\b\b\b\b\b\b\b\b\b\b\b\b\b\b\b\b\b\b\b\b\b\b\b\b\b\b\b\b\b\b\b\b\b\b\b\b\b\b\r200/200 [==============================] - 191s 957ms/step - loss: 0.1101 - val_loss: 0.1750\n",
            "\n",
            "Epoch 00050: val_loss did not improve from 0.15714\n",
            "Epoch 51/100\n",
            "  1/200 [..............................] - ETA: 3:04 - loss: 0.1087"
          ],
          "name": "stdout"
        },
        {
          "output_type": "stream",
          "text": [
            "\r  0%|          | 0/10000 [00:00<?, ?it/s]"
          ],
          "name": "stderr"
        },
        {
          "output_type": "stream",
          "text": [
            "\b\b\b\b\b\b\b\b\b\b\b\b\b\b\b\b\b\b\b\b\b\b\b\b\b\b\b\b\b\b\b\b\b\b\b\b\b\b\b\b\b\b\b\b\b\b\b\b\b\b\b\b\b\b\b\b\b\b\b\b\b\b\b\b\b\b\b\r  2/200 [..............................] - ETA: 3:06 - loss: 0.1218"
          ],
          "name": "stdout"
        },
        {
          "output_type": "stream",
          "text": [
            "100%|██████████| 10000/10000 [00:00<00:00, 35137.00it/s]\n"
          ],
          "name": "stderr"
        },
        {
          "output_type": "stream",
          "text": [
            "199/200 [============================>.] - ETA: 0s - loss: 0.1118"
          ],
          "name": "stdout"
        },
        {
          "output_type": "stream",
          "text": [
            "100%|██████████| 100000/100000 [00:02<00:00, 37086.59it/s]\n"
          ],
          "name": "stderr"
        },
        {
          "output_type": "stream",
          "text": [
            "\b\b\b\b\b\b\b\b\b\b\b\b\b\b\b\b\b\b\b\b\b\b\b\b\b\b\b\b\b\b\b\b\b\b\b\b\b\b\b\b\b\b\b\b\b\b\b\b\b\b\b\b\b\b\b\b\b\b\b\b\b\b\b\b\b\r200/200 [==============================] - 190s 951ms/step - loss: 0.1119 - val_loss: 0.1909\n",
            "\n",
            "Epoch 00051: val_loss did not improve from 0.15714\n",
            "Epoch 52/100\n",
            "  1/200 [..............................] - ETA: 3:08 - loss: 0.1077"
          ],
          "name": "stdout"
        },
        {
          "output_type": "stream",
          "text": [
            "\r  0%|          | 0/10000 [00:00<?, ?it/s]"
          ],
          "name": "stderr"
        },
        {
          "output_type": "stream",
          "text": [
            "\b\b\b\b\b\b\b\b\b\b\b\b\b\b\b\b\b\b\b\b\b\b\b\b\b\b\b\b\b\b\b\b\b\b\b\b\b\b\b\b\b\b\b\b\b\b\b\b\b\b\b\b\b\b\b\b\b\b\b\b\b\b\b\b\b\b\b\r  2/200 [..............................] - ETA: 3:08 - loss: 0.1142"
          ],
          "name": "stdout"
        },
        {
          "output_type": "stream",
          "text": [
            "100%|██████████| 10000/10000 [00:00<00:00, 31638.72it/s]\n"
          ],
          "name": "stderr"
        },
        {
          "output_type": "stream",
          "text": [
            "199/200 [============================>.] - ETA: 0s - loss: 0.1093"
          ],
          "name": "stdout"
        },
        {
          "output_type": "stream",
          "text": [
            "100%|██████████| 100000/100000 [00:02<00:00, 37271.23it/s]\n"
          ],
          "name": "stderr"
        },
        {
          "output_type": "stream",
          "text": [
            "\b\b\b\b\b\b\b\b\b\b\b\b\b\b\b\b\b\b\b\b\b\b\b\b\b\b\b\b\b\b\b\b\b\b\b\b\b\b\b\b\b\b\b\b\b\b\b\b\b\b\b\b\b\b\b\b\b\b\b\b\b\b\b\b\b\r200/200 [==============================] - 191s 954ms/step - loss: 0.1094 - val_loss: 0.1466\n",
            "\n",
            "Epoch 00052: val_loss improved from 0.15714 to 0.14660, saving model to data/descriptor_model.weights.52-0.15.hdf5\n",
            "Epoch 53/100\n",
            "  1/200 [..............................] - ETA: 3:06 - loss: 0.1234"
          ],
          "name": "stdout"
        },
        {
          "output_type": "stream",
          "text": [
            "100%|██████████| 10000/10000 [00:00<00:00, 39462.69it/s]\n"
          ],
          "name": "stderr"
        },
        {
          "output_type": "stream",
          "text": [
            "199/200 [============================>.] - ETA: 0s - loss: 0.1102"
          ],
          "name": "stdout"
        },
        {
          "output_type": "stream",
          "text": [
            "100%|██████████| 100000/100000 [00:02<00:00, 39307.41it/s]\n"
          ],
          "name": "stderr"
        },
        {
          "output_type": "stream",
          "text": [
            "\b\b\b\b\b\b\b\b\b\b\b\b\b\b\b\b\b\b\b\b\b\b\b\b\b\b\b\b\b\b\b\b\b\b\b\b\b\b\b\b\b\b\b\b\b\b\b\b\b\b\b\b\b\b\b\b\b\b\b\b\b\b\b\b\b\r200/200 [==============================] - 190s 950ms/step - loss: 0.1102 - val_loss: 0.1450\n",
            "\n",
            "Epoch 00053: val_loss improved from 0.14660 to 0.14501, saving model to data/descriptor_model.weights.53-0.15.hdf5\n",
            "Epoch 54/100\n",
            "  1/200 [..............................] - ETA: 3:04 - loss: 0.0951"
          ],
          "name": "stdout"
        },
        {
          "output_type": "stream",
          "text": [
            "100%|██████████| 10000/10000 [00:00<00:00, 40755.59it/s]\n"
          ],
          "name": "stderr"
        },
        {
          "output_type": "stream",
          "text": [
            "199/200 [============================>.] - ETA: 0s - loss: 0.1091"
          ],
          "name": "stdout"
        },
        {
          "output_type": "stream",
          "text": [
            "100%|██████████| 100000/100000 [00:03<00:00, 33276.16it/s]\n"
          ],
          "name": "stderr"
        },
        {
          "output_type": "stream",
          "text": [
            "\b\b\b\b\b\b\b\b\b\b\b\b\b\b\b\b\b\b\b\b\b\b\b\b\b\b\b\b\b\b\b\b\b\b\b\b\b\b\b\b\b\b\b\b\b\b\b\b\b\b\b\b\b\b\b\b\b\b\b\b\b\b\b\b\b\r200/200 [==============================] - 189s 946ms/step - loss: 0.1092 - val_loss: 0.1698\n",
            "\n",
            "Epoch 00054: val_loss did not improve from 0.14501\n",
            "Epoch 55/100\n",
            "  1/200 [..............................] - ETA: 3:15 - loss: 0.0875"
          ],
          "name": "stdout"
        },
        {
          "output_type": "stream",
          "text": [
            "100%|██████████| 10000/10000 [00:00<00:00, 40137.65it/s]"
          ],
          "name": "stderr"
        },
        {
          "output_type": "stream",
          "text": [
            "\b\b\b\b\b\b\b\b\b\b\b\b\b\b\b\b\b\b\b\b\b\b\b\b\b\b\b\b\b\b\b\b\b\b\b\b\b\b\b\b\b\b\b\b\b\b\b\b\b\b\b\b\b\b\b\b\b\b\b\b\b\b\b\b\b\b\b\r  2/200 [..............................] - ETA: 3:13 - loss: 0.0808"
          ],
          "name": "stdout"
        },
        {
          "output_type": "stream",
          "text": [
            "\n"
          ],
          "name": "stderr"
        },
        {
          "output_type": "stream",
          "text": [
            "199/200 [============================>.] - ETA: 0s - loss: 0.1070"
          ],
          "name": "stdout"
        },
        {
          "output_type": "stream",
          "text": [
            "100%|██████████| 100000/100000 [00:02<00:00, 37659.39it/s]\n"
          ],
          "name": "stderr"
        },
        {
          "output_type": "stream",
          "text": [
            "\b\b\b\b\b\b\b\b\b\b\b\b\b\b\b\b\b\b\b\b\b\b\b\b\b\b\b\b\b\b\b\b\b\b\b\b\b\b\b\b\b\b\b\b\b\b\b\b\b\b\b\b\b\b\b\b\b\b\b\b\b\b\b\b\b\r200/200 [==============================] - 189s 946ms/step - loss: 0.1071 - val_loss: 0.2413\n",
            "\n",
            "Epoch 00055: val_loss did not improve from 0.14501\n",
            "Epoch 56/100\n",
            "  2/200 [..............................] - ETA: 3:04 - loss: 0.1037"
          ],
          "name": "stdout"
        },
        {
          "output_type": "stream",
          "text": [
            "100%|██████████| 10000/10000 [00:00<00:00, 36117.72it/s]\n"
          ],
          "name": "stderr"
        },
        {
          "output_type": "stream",
          "text": [
            "199/200 [============================>.] - ETA: 0s - loss: 0.1085"
          ],
          "name": "stdout"
        },
        {
          "output_type": "stream",
          "text": [
            "100%|██████████| 100000/100000 [00:02<00:00, 36744.54it/s]\n"
          ],
          "name": "stderr"
        },
        {
          "output_type": "stream",
          "text": [
            "\b\b\b\b\b\b\b\b\b\b\b\b\b\b\b\b\b\b\b\b\b\b\b\b\b\b\b\b\b\b\b\b\b\b\b\b\b\b\b\b\b\b\b\b\b\b\b\b\b\b\b\b\b\b\b\b\b\b\b\b\b\b\b\b\b\r200/200 [==============================] - 189s 945ms/step - loss: 0.1085 - val_loss: 0.1461\n",
            "\n",
            "Epoch 00056: val_loss did not improve from 0.14501\n",
            "Epoch 57/100\n",
            "  2/200 [..............................] - ETA: 3:07 - loss: 0.1060"
          ],
          "name": "stdout"
        },
        {
          "output_type": "stream",
          "text": [
            "100%|██████████| 10000/10000 [00:00<00:00, 36375.36it/s]\n"
          ],
          "name": "stderr"
        },
        {
          "output_type": "stream",
          "text": [
            "199/200 [============================>.] - ETA: 0s - loss: 0.1100"
          ],
          "name": "stdout"
        },
        {
          "output_type": "stream",
          "text": [
            "100%|██████████| 100000/100000 [00:02<00:00, 36967.68it/s]\n"
          ],
          "name": "stderr"
        },
        {
          "output_type": "stream",
          "text": [
            "\b\b\b\b\b\b\b\b\b\b\b\b\b\b\b\b\b\b\b\b\b\b\b\b\b\b\b\b\b\b\b\b\b\b\b\b\b\b\b\b\b\b\b\b\b\b\b\b\b\b\b\b\b\b\b\b\b\b\b\b\b\b\b\b\b\r200/200 [==============================] - 190s 952ms/step - loss: 0.1098 - val_loss: 0.1484\n",
            "\n",
            "Epoch 00057: val_loss did not improve from 0.14501\n",
            "Epoch 58/100\n",
            "  2/200 [..............................] - ETA: 3:05 - loss: 0.1156"
          ],
          "name": "stdout"
        },
        {
          "output_type": "stream",
          "text": [
            "100%|██████████| 10000/10000 [00:00<00:00, 35361.22it/s]\n"
          ],
          "name": "stderr"
        },
        {
          "output_type": "stream",
          "text": [
            "199/200 [============================>.] - ETA: 0s - loss: 0.1066"
          ],
          "name": "stdout"
        },
        {
          "output_type": "stream",
          "text": [
            "100%|██████████| 100000/100000 [00:03<00:00, 31521.17it/s]\n"
          ],
          "name": "stderr"
        },
        {
          "output_type": "stream",
          "text": [
            "\b\b\b\b\b\b\b\b\b\b\b\b\b\b\b\b\b\b\b\b\b\b\b\b\b\b\b\b\b\b\b\b\b\b\b\b\b\b\b\b\b\b\b\b\b\b\b\b\b\b\b\b\b\b\b\b\b\b\b\b\b\b\b\b\b\r200/200 [==============================] - 190s 948ms/step - loss: 0.1066 - val_loss: 0.2617\n",
            "\n",
            "Epoch 00058: val_loss did not improve from 0.14501\n",
            "Epoch 59/100\n",
            "  2/200 [..............................] - ETA: 3:09 - loss: 0.1024"
          ],
          "name": "stdout"
        },
        {
          "output_type": "stream",
          "text": [
            "100%|██████████| 10000/10000 [00:00<00:00, 34080.28it/s]\n"
          ],
          "name": "stderr"
        },
        {
          "output_type": "stream",
          "text": [
            "199/200 [============================>.] - ETA: 0s - loss: 0.1061"
          ],
          "name": "stdout"
        },
        {
          "output_type": "stream",
          "text": [
            "100%|██████████| 100000/100000 [00:02<00:00, 36064.45it/s]\n"
          ],
          "name": "stderr"
        },
        {
          "output_type": "stream",
          "text": [
            "\b\b\b\b\b\b\b\b\b\b\b\b\b\b\b\b\b\b\b\b\b\b\b\b\b\b\b\b\b\b\b\b\b\b\b\b\b\b\b\b\b\b\b\b\b\b\b\b\b\b\b\b\b\b\b\b\b\b\b\b\b\b\b\b\b\r200/200 [==============================] - 190s 951ms/step - loss: 0.1061 - val_loss: 0.2902\n",
            "\n",
            "Epoch 00059: val_loss did not improve from 0.14501\n",
            "Epoch 60/100\n",
            "  2/200 [..............................] - ETA: 3:07 - loss: 0.1077"
          ],
          "name": "stdout"
        },
        {
          "output_type": "stream",
          "text": [
            "100%|██████████| 10000/10000 [00:00<00:00, 36332.69it/s]\n"
          ],
          "name": "stderr"
        },
        {
          "output_type": "stream",
          "text": [
            "199/200 [============================>.] - ETA: 0s - loss: 0.1053"
          ],
          "name": "stdout"
        },
        {
          "output_type": "stream",
          "text": [
            "100%|██████████| 100000/100000 [00:02<00:00, 36112.91it/s]\n"
          ],
          "name": "stderr"
        },
        {
          "output_type": "stream",
          "text": [
            "\b\b\b\b\b\b\b\b\b\b\b\b\b\b\b\b\b\b\b\b\b\b\b\b\b\b\b\b\b\b\b\b\b\b\b\b\b\b\b\b\b\b\b\b\b\b\b\b\b\b\b\b\b\b\b\b\b\b\b\b\b\b\b\b\b\r200/200 [==============================] - 191s 956ms/step - loss: 0.1052 - val_loss: 0.1725\n",
            "\n",
            "Epoch 00060: val_loss did not improve from 0.14501\n",
            "Epoch 61/100\n",
            "  2/200 [..............................] - ETA: 3:06 - loss: 0.1233"
          ],
          "name": "stdout"
        },
        {
          "output_type": "stream",
          "text": [
            "100%|██████████| 10000/10000 [00:00<00:00, 34491.64it/s]\n"
          ],
          "name": "stderr"
        },
        {
          "output_type": "stream",
          "text": [
            "199/200 [============================>.] - ETA: 0s - loss: 0.1068"
          ],
          "name": "stdout"
        },
        {
          "output_type": "stream",
          "text": [
            "100%|██████████| 100000/100000 [00:02<00:00, 36524.71it/s]\n"
          ],
          "name": "stderr"
        },
        {
          "output_type": "stream",
          "text": [
            "\b\b\b\b\b\b\b\b\b\b\b\b\b\b\b\b\b\b\b\b\b\b\b\b\b\b\b\b\b\b\b\b\b\b\b\b\b\b\b\b\b\b\b\b\b\b\b\b\b\b\b\b\b\b\b\b\b\b\b\b\b\b\b\b\b\r200/200 [==============================] - 190s 948ms/step - loss: 0.1069 - val_loss: 0.2195\n",
            "\n",
            "Epoch 00061: val_loss did not improve from 0.14501\n",
            "Epoch 62/100\n",
            "  2/200 [..............................] - ETA: 3:08 - loss: 0.0922"
          ],
          "name": "stdout"
        },
        {
          "output_type": "stream",
          "text": [
            "100%|██████████| 10000/10000 [00:00<00:00, 33838.35it/s]\n"
          ],
          "name": "stderr"
        },
        {
          "output_type": "stream",
          "text": [
            "199/200 [============================>.] - ETA: 0s - loss: 0.1042"
          ],
          "name": "stdout"
        },
        {
          "output_type": "stream",
          "text": [
            "100%|██████████| 100000/100000 [00:03<00:00, 30912.13it/s]\n"
          ],
          "name": "stderr"
        },
        {
          "output_type": "stream",
          "text": [
            "\b\b\b\b\b\b\b\b\b\b\b\b\b\b\b\b\b\b\b\b\b\b\b\b\b\b\b\b\b\b\b\b\b\b\b\b\b\b\b\b\b\b\b\b\b\b\b\b\b\b\b\b\b\b\b\b\b\b\b\b\b\b\b\b\b\r200/200 [==============================] - 191s 954ms/step - loss: 0.1042 - val_loss: 0.1960\n",
            "\n",
            "Epoch 00062: val_loss did not improve from 0.14501\n",
            "Epoch 63/100\n",
            "  2/200 [..............................] - ETA: 3:05 - loss: 0.1094"
          ],
          "name": "stdout"
        },
        {
          "output_type": "stream",
          "text": [
            "100%|██████████| 10000/10000 [00:00<00:00, 38077.66it/s]\n"
          ],
          "name": "stderr"
        },
        {
          "output_type": "stream",
          "text": [
            "199/200 [============================>.] - ETA: 0s - loss: 0.1031"
          ],
          "name": "stdout"
        },
        {
          "output_type": "stream",
          "text": [
            "100%|██████████| 100000/100000 [00:02<00:00, 36855.72it/s]\n"
          ],
          "name": "stderr"
        },
        {
          "output_type": "stream",
          "text": [
            "\b\b\b\b\b\b\b\b\b\b\b\b\b\b\b\b\b\b\b\b\b\b\b\b\b\b\b\b\b\b\b\b\b\b\b\b\b\b\b\b\b\b\b\b\b\b\b\b\b\b\b\b\b\b\b\b\b\b\b\b\b\b\b\b\b\r200/200 [==============================] - 191s 954ms/step - loss: 0.1030 - val_loss: 0.1451\n",
            "\n",
            "Epoch 00063: val_loss did not improve from 0.14501\n",
            "Epoch 64/100\n",
            "  2/200 [..............................] - ETA: 3:06 - loss: 0.0896"
          ],
          "name": "stdout"
        },
        {
          "output_type": "stream",
          "text": [
            "100%|██████████| 10000/10000 [00:00<00:00, 34189.12it/s]\n"
          ],
          "name": "stderr"
        },
        {
          "output_type": "stream",
          "text": [
            "199/200 [============================>.] - ETA: 0s - loss: 0.1024"
          ],
          "name": "stdout"
        },
        {
          "output_type": "stream",
          "text": [
            "100%|██████████| 100000/100000 [00:02<00:00, 37033.15it/s]\n"
          ],
          "name": "stderr"
        },
        {
          "output_type": "stream",
          "text": [
            "\b\b\b\b\b\b\b\b\b\b\b\b\b\b\b\b\b\b\b\b\b\b\b\b\b\b\b\b\b\b\b\b\b\b\b\b\b\b\b\b\b\b\b\b\b\b\b\b\b\b\b\b\b\b\b\b\b\b\b\b\b\b\b\b\b\r200/200 [==============================] - 191s 954ms/step - loss: 0.1026 - val_loss: 0.2802\n",
            "\n",
            "Epoch 00064: val_loss did not improve from 0.14501\n",
            "Epoch 65/100\n",
            "  2/200 [..............................] - ETA: 3:06 - loss: 0.1112"
          ],
          "name": "stdout"
        },
        {
          "output_type": "stream",
          "text": [
            "100%|██████████| 10000/10000 [00:00<00:00, 38125.36it/s]\n"
          ],
          "name": "stderr"
        },
        {
          "output_type": "stream",
          "text": [
            "199/200 [============================>.] - ETA: 0s - loss: 0.1014"
          ],
          "name": "stdout"
        },
        {
          "output_type": "stream",
          "text": [
            "100%|██████████| 100000/100000 [00:03<00:00, 32052.97it/s]\n"
          ],
          "name": "stderr"
        },
        {
          "output_type": "stream",
          "text": [
            "\b\b\b\b\b\b\b\b\b\b\b\b\b\b\b\b\b\b\b\b\b\b\b\b\b\b\b\b\b\b\b\b\b\b\b\b\b\b\b\b\b\b\b\b\b\b\b\b\b\b\b\b\b\b\b\b\b\b\b\b\b\b\b\b\b\r200/200 [==============================] - 191s 956ms/step - loss: 0.1014 - val_loss: 0.1750\n",
            "\n",
            "Epoch 00065: val_loss did not improve from 0.14501\n",
            "Epoch 66/100\n",
            "  2/200 [..............................] - ETA: 3:09 - loss: 0.0983"
          ],
          "name": "stdout"
        },
        {
          "output_type": "stream",
          "text": [
            "100%|██████████| 10000/10000 [00:00<00:00, 36543.61it/s]\n"
          ],
          "name": "stderr"
        },
        {
          "output_type": "stream",
          "text": [
            "199/200 [============================>.] - ETA: 0s - loss: 0.1007"
          ],
          "name": "stdout"
        },
        {
          "output_type": "stream",
          "text": [
            "100%|██████████| 100000/100000 [00:03<00:00, 32331.21it/s]\n"
          ],
          "name": "stderr"
        },
        {
          "output_type": "stream",
          "text": [
            "\b\b\b\b\b\b\b\b\b\b\b\b\b\b\b\b\b\b\b\b\b\b\b\b\b\b\b\b\b\b\b\b\b\b\b\b\b\b\b\b\b\b\b\b\b\b\b\b\b\b\b\b\b\b\b\b\b\b\b\b\b\b\b\b\b\r200/200 [==============================] - 191s 956ms/step - loss: 0.1006 - val_loss: 0.2119\n",
            "\n",
            "Epoch 00066: val_loss did not improve from 0.14501\n",
            "Epoch 67/100\n",
            "  2/200 [..............................] - ETA: 3:08 - loss: 0.1222"
          ],
          "name": "stdout"
        },
        {
          "output_type": "stream",
          "text": [
            "100%|██████████| 10000/10000 [00:00<00:00, 36361.98it/s]\n"
          ],
          "name": "stderr"
        },
        {
          "output_type": "stream",
          "text": [
            "199/200 [============================>.] - ETA: 0s - loss: 0.1058"
          ],
          "name": "stdout"
        },
        {
          "output_type": "stream",
          "text": [
            "100%|██████████| 100000/100000 [00:02<00:00, 37234.87it/s]\n"
          ],
          "name": "stderr"
        },
        {
          "output_type": "stream",
          "text": [
            "\b\b\b\b\b\b\b\b\b\b\b\b\b\b\b\b\b\b\b\b\b\b\b\b\b\b\b\b\b\b\b\b\b\b\b\b\b\b\b\b\b\b\b\b\b\b\b\b\b\b\b\b\b\b\b\b\b\b\b\b\b\b\b\b\b\r200/200 [==============================] - 191s 954ms/step - loss: 0.1057 - val_loss: 0.3011\n",
            "\n",
            "Epoch 00067: val_loss did not improve from 0.14501\n",
            "Epoch 68/100\n",
            "  2/200 [..............................] - ETA: 3:08 - loss: 0.0958"
          ],
          "name": "stdout"
        },
        {
          "output_type": "stream",
          "text": [
            "100%|██████████| 10000/10000 [00:00<00:00, 35025.04it/s]\n"
          ],
          "name": "stderr"
        },
        {
          "output_type": "stream",
          "text": [
            "199/200 [============================>.] - ETA: 0s - loss: 0.1020"
          ],
          "name": "stdout"
        },
        {
          "output_type": "stream",
          "text": [
            "100%|██████████| 100000/100000 [00:02<00:00, 36513.36it/s]\n"
          ],
          "name": "stderr"
        },
        {
          "output_type": "stream",
          "text": [
            "\b\b\b\b\b\b\b\b\b\b\b\b\b\b\b\b\b\b\b\b\b\b\b\b\b\b\b\b\b\b\b\b\b\b\b\b\b\b\b\b\b\b\b\b\b\b\b\b\b\b\b\b\b\b\b\b\b\b\b\b\b\b\b\b\b\r200/200 [==============================] - 190s 948ms/step - loss: 0.1020 - val_loss: 0.1507\n",
            "\n",
            "Epoch 00068: val_loss did not improve from 0.14501\n",
            "Epoch 69/100\n",
            "  2/200 [..............................] - ETA: 3:06 - loss: 0.1171"
          ],
          "name": "stdout"
        },
        {
          "output_type": "stream",
          "text": [
            "100%|██████████| 10000/10000 [00:00<00:00, 34105.27it/s]\n"
          ],
          "name": "stderr"
        },
        {
          "output_type": "stream",
          "text": [
            "199/200 [============================>.] - ETA: 0s - loss: 0.1009"
          ],
          "name": "stdout"
        },
        {
          "output_type": "stream",
          "text": [
            "100%|██████████| 100000/100000 [00:03<00:00, 30828.46it/s]\n"
          ],
          "name": "stderr"
        },
        {
          "output_type": "stream",
          "text": [
            "\b\b\b\b\b\b\b\b\b\b\b\b\b\b\b\b\b\b\b\b\b\b\b\b\b\b\b\b\b\b\b\b\b\b\b\b\b\b\b\b\b\b\b\b\b\b\b\b\b\b\b\b\b\b\b\b\b\b\b\b\b\b\b\b\b\r200/200 [==============================] - 189s 946ms/step - loss: 0.1008 - val_loss: 0.1545\n",
            "\n",
            "Epoch 00069: val_loss did not improve from 0.14501\n",
            "Epoch 70/100\n",
            "  1/200 [..............................] - ETA: 4:18 - loss: 0.1226"
          ],
          "name": "stdout"
        },
        {
          "output_type": "stream",
          "text": [
            "100%|██████████| 10000/10000 [00:00<00:00, 39250.94it/s]"
          ],
          "name": "stderr"
        },
        {
          "output_type": "stream",
          "text": [
            "\b\b\b\b\b\b\b\b\b\b\b\b\b\b\b\b\b\b\b\b\b\b\b\b\b\b\b\b\b\b\b\b\b\b\b\b\b\b\b\b\b\b\b\b\b\b\b\b\b\b\b\b\b\b\b\b\b\b\b\b\b\b\b\b\b\b\b\r  2/200 [..............................] - ETA: 3:41 - loss: 0.1233"
          ],
          "name": "stdout"
        },
        {
          "output_type": "stream",
          "text": [
            "\n"
          ],
          "name": "stderr"
        },
        {
          "output_type": "stream",
          "text": [
            "199/200 [============================>.] - ETA: 0s - loss: 0.1011"
          ],
          "name": "stdout"
        },
        {
          "output_type": "stream",
          "text": [
            "100%|██████████| 100000/100000 [00:02<00:00, 36218.24it/s]\n"
          ],
          "name": "stderr"
        },
        {
          "output_type": "stream",
          "text": [
            "\b\b\b\b\b\b\b\b\b\b\b\b\b\b\b\b\b\b\b\b\b\b\b\b\b\b\b\b\b\b\b\b\b\b\b\b\b\b\b\b\b\b\b\b\b\b\b\b\b\b\b\b\b\b\b\b\b\b\b\b\b\b\b\b\b\r200/200 [==============================] - 190s 948ms/step - loss: 0.1012 - val_loss: 0.1321\n",
            "\n",
            "Epoch 00070: val_loss improved from 0.14501 to 0.13211, saving model to data/descriptor_model.weights.70-0.13.hdf5\n",
            "Epoch 71/100\n",
            "  1/200 [..............................] - ETA: 3:56 - loss: 0.1152"
          ],
          "name": "stdout"
        },
        {
          "output_type": "stream",
          "text": [
            "100%|██████████| 10000/10000 [00:00<00:00, 38037.43it/s]"
          ],
          "name": "stderr"
        },
        {
          "output_type": "stream",
          "text": [
            "\b\b\b\b\b\b\b\b\b\b\b\b\b\b\b\b\b\b\b\b\b\b\b\b\b\b\b\b\b\b\b\b\b\b\b\b\b\b\b\b\b\b\b\b\b\b\b\b\b\b\b\b\b\b\b\b\b\b\b\b\b\b\b\b\b\b\b\r  2/200 [..............................] - ETA: 3:35 - loss: 0.1097"
          ],
          "name": "stdout"
        },
        {
          "output_type": "stream",
          "text": [
            "\n"
          ],
          "name": "stderr"
        },
        {
          "output_type": "stream",
          "text": [
            "199/200 [============================>.] - ETA: 0s - loss: 0.1038"
          ],
          "name": "stdout"
        },
        {
          "output_type": "stream",
          "text": [
            "100%|██████████| 100000/100000 [00:02<00:00, 36508.29it/s]\n"
          ],
          "name": "stderr"
        },
        {
          "output_type": "stream",
          "text": [
            "\b\b\b\b\b\b\b\b\b\b\b\b\b\b\b\b\b\b\b\b\b\b\b\b\b\b\b\b\b\b\b\b\b\b\b\b\b\b\b\b\b\b\b\b\b\b\b\b\b\b\b\b\b\b\b\b\b\b\b\b\b\b\b\b\b\r200/200 [==============================] - 190s 948ms/step - loss: 0.1037 - val_loss: 0.1418\n",
            "\n",
            "Epoch 00071: val_loss did not improve from 0.13211\n",
            "Epoch 72/100\n",
            "  2/200 [..............................] - ETA: 3:08 - loss: 0.1109"
          ],
          "name": "stdout"
        },
        {
          "output_type": "stream",
          "text": [
            "100%|██████████| 10000/10000 [00:00<00:00, 38325.67it/s]\n"
          ],
          "name": "stderr"
        },
        {
          "output_type": "stream",
          "text": [
            "199/200 [============================>.] - ETA: 0s - loss: 0.1012"
          ],
          "name": "stdout"
        },
        {
          "output_type": "stream",
          "text": [
            "100%|██████████| 100000/100000 [00:02<00:00, 34607.77it/s]\n"
          ],
          "name": "stderr"
        },
        {
          "output_type": "stream",
          "text": [
            "\b\b\b\b\b\b\b\b\b\b\b\b\b\b\b\b\b\b\b\b\b\b\b\b\b\b\b\b\b\b\b\b\b\b\b\b\b\b\b\b\b\b\b\b\b\b\b\b\b\b\b\b\b\b\b\b\b\b\b\b\b\b\b\b\b\r200/200 [==============================] - 191s 955ms/step - loss: 0.1012 - val_loss: 0.1331\n",
            "\n",
            "Epoch 00072: val_loss did not improve from 0.13211\n",
            "Epoch 73/100\n",
            "  2/200 [..............................] - ETA: 3:07 - loss: 0.1120"
          ],
          "name": "stdout"
        },
        {
          "output_type": "stream",
          "text": [
            "100%|██████████| 10000/10000 [00:00<00:00, 33320.26it/s]\n"
          ],
          "name": "stderr"
        },
        {
          "output_type": "stream",
          "text": [
            "199/200 [============================>.] - ETA: 0s - loss: 0.0999"
          ],
          "name": "stdout"
        },
        {
          "output_type": "stream",
          "text": [
            "100%|██████████| 100000/100000 [00:02<00:00, 35184.56it/s]\n"
          ],
          "name": "stderr"
        },
        {
          "output_type": "stream",
          "text": [
            "\b\b\b\b\b\b\b\b\b\b\b\b\b\b\b\b\b\b\b\b\b\b\b\b\b\b\b\b\b\b\b\b\b\b\b\b\b\b\b\b\b\b\b\b\b\b\b\b\b\b\b\b\b\b\b\b\b\b\b\b\b\b\b\b\b\r200/200 [==============================] - 190s 952ms/step - loss: 0.0998 - val_loss: 0.1759\n",
            "\n",
            "Epoch 00073: val_loss did not improve from 0.13211\n",
            "Epoch 74/100\n",
            "  1/200 [..............................] - ETA: 3:04 - loss: 0.1464"
          ],
          "name": "stdout"
        },
        {
          "output_type": "stream",
          "text": [
            "100%|██████████| 10000/10000 [00:00<00:00, 39217.58it/s]\n"
          ],
          "name": "stderr"
        },
        {
          "output_type": "stream",
          "text": [
            "199/200 [============================>.] - ETA: 0s - loss: 0.0994"
          ],
          "name": "stdout"
        },
        {
          "output_type": "stream",
          "text": [
            "100%|██████████| 100000/100000 [00:03<00:00, 31784.94it/s]\n"
          ],
          "name": "stderr"
        },
        {
          "output_type": "stream",
          "text": [
            "\b\b\b\b\b\b\b\b\b\b\b\b\b\b\b\b\b\b\b\b\b\b\b\b\b\b\b\b\b\b\b\b\b\b\b\b\b\b\b\b\b\b\b\b\b\b\b\b\b\b\b\b\b\b\b\b\b\b\b\b\b\b\b\b\b\r200/200 [==============================] - 190s 948ms/step - loss: 0.0993 - val_loss: 0.1281\n",
            "\n",
            "Epoch 00074: val_loss improved from 0.13211 to 0.12813, saving model to data/descriptor_model.weights.74-0.13.hdf5\n",
            "Epoch 75/100\n",
            "  1/200 [..............................] - ETA: 3:07 - loss: 0.1138"
          ],
          "name": "stdout"
        },
        {
          "output_type": "stream",
          "text": [
            "100%|██████████| 10000/10000 [00:00<00:00, 40480.83it/s]\n"
          ],
          "name": "stderr"
        },
        {
          "output_type": "stream",
          "text": [
            "199/200 [============================>.] - ETA: 0s - loss: 0.1012"
          ],
          "name": "stdout"
        },
        {
          "output_type": "stream",
          "text": [
            "100%|██████████| 100000/100000 [00:02<00:00, 36637.14it/s]\n"
          ],
          "name": "stderr"
        },
        {
          "output_type": "stream",
          "text": [
            "\b\b\b\b\b\b\b\b\b\b\b\b\b\b\b\b\b\b\b\b\b\b\b\b\b\b\b\b\b\b\b\b\b\b\b\b\b\b\b\b\b\b\b\b\b\b\b\b\b\b\b\b\b\b\b\b\b\b\b\b\b\b\b\b\b\r200/200 [==============================] - 190s 948ms/step - loss: 0.1012 - val_loss: 0.1598\n",
            "\n",
            "Epoch 00075: val_loss did not improve from 0.12813\n",
            "Epoch 76/100\n",
            "  2/200 [..............................] - ETA: 3:03 - loss: 0.1040"
          ],
          "name": "stdout"
        },
        {
          "output_type": "stream",
          "text": [
            "100%|██████████| 10000/10000 [00:00<00:00, 35344.47it/s]\n"
          ],
          "name": "stderr"
        },
        {
          "output_type": "stream",
          "text": [
            "199/200 [============================>.] - ETA: 0s - loss: 0.1001"
          ],
          "name": "stdout"
        },
        {
          "output_type": "stream",
          "text": [
            "100%|██████████| 100000/100000 [00:02<00:00, 34947.80it/s]\n"
          ],
          "name": "stderr"
        },
        {
          "output_type": "stream",
          "text": [
            "\b\b\b\b\b\b\b\b\b\b\b\b\b\b\b\b\b\b\b\b\b\b\b\b\b\b\b\b\b\b\b\b\b\b\b\b\b\b\b\b\b\b\b\b\b\b\b\b\b\b\b\b\b\b\b\b\b\b\b\b\b\b\b\b\b\r200/200 [==============================] - 191s 953ms/step - loss: 0.1000 - val_loss: 0.1384\n",
            "\n",
            "Epoch 00076: val_loss did not improve from 0.12813\n",
            "Epoch 77/100\n",
            "  2/200 [..............................] - ETA: 3:04 - loss: 0.0993"
          ],
          "name": "stdout"
        },
        {
          "output_type": "stream",
          "text": [
            "100%|██████████| 10000/10000 [00:00<00:00, 32042.00it/s]\n"
          ],
          "name": "stderr"
        },
        {
          "output_type": "stream",
          "text": [
            "199/200 [============================>.] - ETA: 0s - loss: 0.0967"
          ],
          "name": "stdout"
        },
        {
          "output_type": "stream",
          "text": [
            "100%|██████████| 100000/100000 [00:02<00:00, 36253.42it/s]\n"
          ],
          "name": "stderr"
        },
        {
          "output_type": "stream",
          "text": [
            "\b\b\b\b\b\b\b\b\b\b\b\b\b\b\b\b\b\b\b\b\b\b\b\b\b\b\b\b\b\b\b\b\b\b\b\b\b\b\b\b\b\b\b\b\b\b\b\b\b\b\b\b\b\b\b\b\b\b\b\b\b\b\b\b\b\r200/200 [==============================] - 190s 950ms/step - loss: 0.0967 - val_loss: 0.1709\n",
            "\n",
            "Epoch 00077: val_loss did not improve from 0.12813\n",
            "Epoch 78/100\n",
            "  2/200 [..............................] - ETA: 3:09 - loss: 0.0960"
          ],
          "name": "stdout"
        },
        {
          "output_type": "stream",
          "text": [
            "100%|██████████| 10000/10000 [00:00<00:00, 33818.00it/s]\n"
          ],
          "name": "stderr"
        },
        {
          "output_type": "stream",
          "text": [
            "199/200 [============================>.] - ETA: 0s - loss: 0.0966"
          ],
          "name": "stdout"
        },
        {
          "output_type": "stream",
          "text": [
            "100%|██████████| 100000/100000 [00:03<00:00, 31804.68it/s]\n"
          ],
          "name": "stderr"
        },
        {
          "output_type": "stream",
          "text": [
            "\b\b\b\b\b\b\b\b\b\b\b\b\b\b\b\b\b\b\b\b\b\b\b\b\b\b\b\b\b\b\b\b\b\b\b\b\b\b\b\b\b\b\b\b\b\b\b\b\b\b\b\b\b\b\b\b\b\b\b\b\b\b\b\b\b\r200/200 [==============================] - 191s 955ms/step - loss: 0.0966 - val_loss: 0.1354\n",
            "\n",
            "Epoch 00078: val_loss did not improve from 0.12813\n",
            "Epoch 79/100\n",
            "  2/200 [..............................] - ETA: 3:05 - loss: 0.1055"
          ],
          "name": "stdout"
        },
        {
          "output_type": "stream",
          "text": [
            "100%|██████████| 10000/10000 [00:00<00:00, 33375.17it/s]\n"
          ],
          "name": "stderr"
        },
        {
          "output_type": "stream",
          "text": [
            "199/200 [============================>.] - ETA: 0s - loss: 0.0980"
          ],
          "name": "stdout"
        },
        {
          "output_type": "stream",
          "text": [
            "100%|██████████| 100000/100000 [00:02<00:00, 35687.62it/s]\n"
          ],
          "name": "stderr"
        },
        {
          "output_type": "stream",
          "text": [
            "\b\b\b\b\b\b\b\b\b\b\b\b\b\b\b\b\b\b\b\b\b\b\b\b\b\b\b\b\b\b\b\b\b\b\b\b\b\b\b\b\b\b\b\b\b\b\b\b\b\b\b\b\b\b\b\b\b\b\b\b\b\b\b\b\b\r200/200 [==============================] - 189s 946ms/step - loss: 0.0980 - val_loss: 0.2396\n",
            "\n",
            "Epoch 00079: val_loss did not improve from 0.12813\n",
            "Epoch 80/100\n",
            "  2/200 [..............................] - ETA: 3:03 - loss: 0.0998"
          ],
          "name": "stdout"
        },
        {
          "output_type": "stream",
          "text": [
            "100%|██████████| 10000/10000 [00:00<00:00, 34213.91it/s]\n"
          ],
          "name": "stderr"
        },
        {
          "output_type": "stream",
          "text": [
            "199/200 [============================>.] - ETA: 0s - loss: 0.0972"
          ],
          "name": "stdout"
        },
        {
          "output_type": "stream",
          "text": [
            "100%|██████████| 100000/100000 [00:02<00:00, 36532.40it/s]\n"
          ],
          "name": "stderr"
        },
        {
          "output_type": "stream",
          "text": [
            "\b\b\b\b\b\b\b\b\b\b\b\b\b\b\b\b\b\b\b\b\b\b\b\b\b\b\b\b\b\b\b\b\b\b\b\b\b\b\b\b\b\b\b\b\b\b\b\b\b\b\b\b\b\b\b\b\b\b\b\b\b\b\b\b\b\r200/200 [==============================] - 191s 956ms/step - loss: 0.0973 - val_loss: 0.1375\n",
            "\n",
            "Epoch 00080: val_loss did not improve from 0.12813\n",
            "Epoch 81/100\n",
            "  1/200 [..............................] - ETA: 3:07 - loss: 0.0916"
          ],
          "name": "stdout"
        },
        {
          "output_type": "stream",
          "text": [
            "100%|██████████| 10000/10000 [00:00<00:00, 36901.71it/s]\n"
          ],
          "name": "stderr"
        },
        {
          "output_type": "stream",
          "text": [
            "199/200 [============================>.] - ETA: 0s - loss: 0.0971"
          ],
          "name": "stdout"
        },
        {
          "output_type": "stream",
          "text": [
            "100%|██████████| 100000/100000 [00:02<00:00, 35816.91it/s]\n"
          ],
          "name": "stderr"
        },
        {
          "output_type": "stream",
          "text": [
            "\b\b\b\b\b\b\b\b\b\b\b\b\b\b\b\b\b\b\b\b\b\b\b\b\b\b\b\b\b\b\b\b\b\b\b\b\b\b\b\b\b\b\b\b\b\b\b\b\b\b\b\b\b\b\b\b\b\b\b\b\b\b\b\b\b\r200/200 [==============================] - 190s 952ms/step - loss: 0.0971 - val_loss: 0.1555\n",
            "\n",
            "Epoch 00081: val_loss did not improve from 0.12813\n",
            "Epoch 82/100\n",
            "  2/200 [..............................] - ETA: 3:08 - loss: 0.0942"
          ],
          "name": "stdout"
        },
        {
          "output_type": "stream",
          "text": [
            "100%|██████████| 10000/10000 [00:00<00:00, 37619.64it/s]\n"
          ],
          "name": "stderr"
        },
        {
          "output_type": "stream",
          "text": [
            "199/200 [============================>.] - ETA: 0s - loss: 0.0966"
          ],
          "name": "stdout"
        },
        {
          "output_type": "stream",
          "text": [
            "100%|██████████| 100000/100000 [00:03<00:00, 31509.99it/s]\n"
          ],
          "name": "stderr"
        },
        {
          "output_type": "stream",
          "text": [
            "\b\b\b\b\b\b\b\b\b\b\b\b\b\b\b\b\b\b\b\b\b\b\b\b\b\b\b\b\b\b\b\b\b\b\b\b\b\b\b\b\b\b\b\b\b\b\b\b\b\b\b\b\b\b\b\b\b\b\b\b\b\b\b\b\b\r200/200 [==============================] - 190s 950ms/step - loss: 0.0966 - val_loss: 0.1620\n",
            "\n",
            "Epoch 00082: val_loss did not improve from 0.12813\n",
            "Epoch 83/100\n",
            "  2/200 [..............................] - ETA: 3:05 - loss: 0.1098"
          ],
          "name": "stdout"
        },
        {
          "output_type": "stream",
          "text": [
            "100%|██████████| 10000/10000 [00:00<00:00, 39288.14it/s]\n"
          ],
          "name": "stderr"
        },
        {
          "output_type": "stream",
          "text": [
            "199/200 [============================>.] - ETA: 0s - loss: 0.0980"
          ],
          "name": "stdout"
        },
        {
          "output_type": "stream",
          "text": [
            "100%|██████████| 100000/100000 [00:02<00:00, 36266.73it/s]\n"
          ],
          "name": "stderr"
        },
        {
          "output_type": "stream",
          "text": [
            "\b\b\b\b\b\b\b\b\b\b\b\b\b\b\b\b\b\b\b\b\b\b\b\b\b\b\b\b\b\b\b\b\b\b\b\b\b\b\b\b\b\b\b\b\b\b\b\b\b\b\b\b\b\b\b\b\b\b\b\b\b\b\b\b\b\r200/200 [==============================] - 189s 947ms/step - loss: 0.0981 - val_loss: 0.1396\n",
            "\n",
            "Epoch 00083: val_loss did not improve from 0.12813\n",
            "Epoch 84/100\n",
            "  2/200 [..............................] - ETA: 3:05 - loss: 0.0978"
          ],
          "name": "stdout"
        },
        {
          "output_type": "stream",
          "text": [
            "100%|██████████| 10000/10000 [00:00<00:00, 13431.40it/s]\n"
          ],
          "name": "stderr"
        },
        {
          "output_type": "stream",
          "text": [
            "199/200 [============================>.] - ETA: 0s - loss: 0.0953"
          ],
          "name": "stdout"
        },
        {
          "output_type": "stream",
          "text": [
            "100%|██████████| 100000/100000 [00:02<00:00, 37266.54it/s]\n"
          ],
          "name": "stderr"
        },
        {
          "output_type": "stream",
          "text": [
            "\b\b\b\b\b\b\b\b\b\b\b\b\b\b\b\b\b\b\b\b\b\b\b\b\b\b\b\b\b\b\b\b\b\b\b\b\b\b\b\b\b\b\b\b\b\b\b\b\b\b\b\b\b\b\b\b\b\b\b\b\b\b\b\b\b\r200/200 [==============================] - 190s 952ms/step - loss: 0.0954 - val_loss: 0.3349\n",
            "\n",
            "Epoch 00084: val_loss did not improve from 0.12813\n",
            "Epoch 85/100\n",
            "  2/200 [..............................] - ETA: 3:06 - loss: 0.1031"
          ],
          "name": "stdout"
        },
        {
          "output_type": "stream",
          "text": [
            "100%|██████████| 10000/10000 [00:00<00:00, 37455.93it/s]\n"
          ],
          "name": "stderr"
        },
        {
          "output_type": "stream",
          "text": [
            "199/200 [============================>.] - ETA: 0s - loss: 0.0964"
          ],
          "name": "stdout"
        },
        {
          "output_type": "stream",
          "text": [
            "100%|██████████| 100000/100000 [00:02<00:00, 37187.90it/s]\n"
          ],
          "name": "stderr"
        },
        {
          "output_type": "stream",
          "text": [
            "\b\b\b\b\b\b\b\b\b\b\b\b\b\b\b\b\b\b\b\b\b\b\b\b\b\b\b\b\b\b\b\b\b\b\b\b\b\b\b\b\b\b\b\b\b\b\b\b\b\b\b\b\b\b\b\b\b\b\b\b\b\b\b\b\b\r200/200 [==============================] - 190s 949ms/step - loss: 0.0963 - val_loss: 0.1409\n",
            "\n",
            "Epoch 00085: val_loss did not improve from 0.12813\n",
            "Epoch 86/100\n",
            "  2/200 [..............................] - ETA: 3:06 - loss: 0.0961"
          ],
          "name": "stdout"
        },
        {
          "output_type": "stream",
          "text": [
            "100%|██████████| 10000/10000 [00:00<00:00, 37746.80it/s]\n"
          ],
          "name": "stderr"
        },
        {
          "output_type": "stream",
          "text": [
            "199/200 [============================>.] - ETA: 0s - loss: 0.0959"
          ],
          "name": "stdout"
        },
        {
          "output_type": "stream",
          "text": [
            "100%|██████████| 100000/100000 [00:03<00:00, 31586.46it/s]\n"
          ],
          "name": "stderr"
        },
        {
          "output_type": "stream",
          "text": [
            "\b\b\b\b\b\b\b\b\b\b\b\b\b\b\b\b\b\b\b\b\b\b\b\b\b\b\b\b\b\b\b\b\b\b\b\b\b\b\b\b\b\b\b\b\b\b\b\b\b\b\b\b\b\b\b\b\b\b\b\b\b\b\b\b\b\r200/200 [==============================] - 190s 951ms/step - loss: 0.0959 - val_loss: 0.1459\n",
            "\n",
            "Epoch 00086: val_loss did not improve from 0.12813\n",
            "Epoch 87/100\n",
            "  2/200 [..............................] - ETA: 3:05 - loss: 0.0900"
          ],
          "name": "stdout"
        },
        {
          "output_type": "stream",
          "text": [
            "100%|██████████| 10000/10000 [00:00<00:00, 38365.46it/s]\n"
          ],
          "name": "stderr"
        },
        {
          "output_type": "stream",
          "text": [
            "199/200 [============================>.] - ETA: 0s - loss: 0.0953"
          ],
          "name": "stdout"
        },
        {
          "output_type": "stream",
          "text": [
            "100%|██████████| 100000/100000 [00:02<00:00, 37215.35it/s]\n"
          ],
          "name": "stderr"
        },
        {
          "output_type": "stream",
          "text": [
            "\b\b\b\b\b\b\b\b\b\b\b\b\b\b\b\b\b\b\b\b\b\b\b\b\b\b\b\b\b\b\b\b\b\b\b\b\b\b\b\b\b\b\b\b\b\b\b\b\b\b\b\b\b\b\b\b\b\b\b\b\b\b\b\b\b\r200/200 [==============================] - 190s 949ms/step - loss: 0.0952 - val_loss: 0.2100\n",
            "\n",
            "Epoch 00087: val_loss did not improve from 0.12813\n",
            "Epoch 88/100\n",
            "  2/200 [..............................] - ETA: 3:06 - loss: 0.0823"
          ],
          "name": "stdout"
        },
        {
          "output_type": "stream",
          "text": [
            "100%|██████████| 10000/10000 [00:00<00:00, 13181.54it/s]\n"
          ],
          "name": "stderr"
        },
        {
          "output_type": "stream",
          "text": [
            "199/200 [============================>.] - ETA: 0s - loss: 0.0952"
          ],
          "name": "stdout"
        },
        {
          "output_type": "stream",
          "text": [
            "100%|██████████| 100000/100000 [00:02<00:00, 38694.12it/s]\n"
          ],
          "name": "stderr"
        },
        {
          "output_type": "stream",
          "text": [
            "\b\b\b\b\b\b\b\b\b\b\b\b\b\b\b\b\b\b\b\b\b\b\b\b\b\b\b\b\b\b\b\b\b\b\b\b\b\b\b\b\b\b\b\b\b\b\b\b\b\b\b\b\b\b\b\b\b\b\b\b\b\b\b\b\b\r200/200 [==============================] - 189s 947ms/step - loss: 0.0955 - val_loss: 0.1738\n",
            "\n",
            "Epoch 00088: val_loss did not improve from 0.12813\n",
            "Epoch 89/100\n",
            "  1/200 [..............................] - ETA: 3:04 - loss: 0.1003"
          ],
          "name": "stdout"
        },
        {
          "output_type": "stream",
          "text": [
            "\r  0%|          | 0/10000 [00:00<?, ?it/s]"
          ],
          "name": "stderr"
        },
        {
          "output_type": "stream",
          "text": [
            "\b\b\b\b\b\b\b\b\b\b\b\b\b\b\b\b\b\b\b\b\b\b\b\b\b\b\b\b\b\b\b\b\b\b\b\b\b\b\b\b\b\b\b\b\b\b\b\b\b\b\b\b\b\b\b\b\b\b\b\b\b\b\b\b\b\b\b\r  2/200 [..............................] - ETA: 3:04 - loss: 0.1035"
          ],
          "name": "stdout"
        },
        {
          "output_type": "stream",
          "text": [
            "100%|██████████| 10000/10000 [00:00<00:00, 34343.06it/s]\n"
          ],
          "name": "stderr"
        },
        {
          "output_type": "stream",
          "text": [
            "199/200 [============================>.] - ETA: 0s - loss: 0.0961"
          ],
          "name": "stdout"
        },
        {
          "output_type": "stream",
          "text": [
            "100%|██████████| 100000/100000 [00:02<00:00, 38230.88it/s]\n"
          ],
          "name": "stderr"
        },
        {
          "output_type": "stream",
          "text": [
            "\b\b\b\b\b\b\b\b\b\b\b\b\b\b\b\b\b\b\b\b\b\b\b\b\b\b\b\b\b\b\b\b\b\b\b\b\b\b\b\b\b\b\b\b\b\b\b\b\b\b\b\b\b\b\b\b\b\b\b\b\b\b\b\b\b\r200/200 [==============================] - 191s 953ms/step - loss: 0.0961 - val_loss: 0.1375\n",
            "\n",
            "Epoch 00089: val_loss did not improve from 0.12813\n",
            "Epoch 90/100\n",
            "  1/200 [..............................] - ETA: 3:03 - loss: 0.0959"
          ],
          "name": "stdout"
        },
        {
          "output_type": "stream",
          "text": [
            "\r  0%|          | 0/10000 [00:00<?, ?it/s]"
          ],
          "name": "stderr"
        },
        {
          "output_type": "stream",
          "text": [
            "\b\b\b\b\b\b\b\b\b\b\b\b\b\b\b\b\b\b\b\b\b\b\b\b\b\b\b\b\b\b\b\b\b\b\b\b\b\b\b\b\b\b\b\b\b\b\b\b\b\b\b\b\b\b\b\b\b\b\b\b\b\b\b\b\b\b\b\r  2/200 [..............................] - ETA: 3:08 - loss: 0.1074"
          ],
          "name": "stdout"
        },
        {
          "output_type": "stream",
          "text": [
            "100%|██████████| 10000/10000 [00:00<00:00, 37642.57it/s]\n"
          ],
          "name": "stderr"
        },
        {
          "output_type": "stream",
          "text": [
            "199/200 [============================>.] - ETA: 0s - loss: 0.0956"
          ],
          "name": "stdout"
        },
        {
          "output_type": "stream",
          "text": [
            "100%|██████████| 100000/100000 [00:03<00:00, 32427.68it/s]\n"
          ],
          "name": "stderr"
        },
        {
          "output_type": "stream",
          "text": [
            "\b\b\b\b\b\b\b\b\b\b\b\b\b\b\b\b\b\b\b\b\b\b\b\b\b\b\b\b\b\b\b\b\b\b\b\b\b\b\b\b\b\b\b\b\b\b\b\b\b\b\b\b\b\b\b\b\b\b\b\b\b\b\b\b\b\r200/200 [==============================] - 191s 954ms/step - loss: 0.0956 - val_loss: 0.1553\n",
            "\n",
            "Epoch 00090: val_loss did not improve from 0.12813\n",
            "Epoch 91/100\n",
            "  2/200 [..............................] - ETA: 3:03 - loss: 0.0906"
          ],
          "name": "stdout"
        },
        {
          "output_type": "stream",
          "text": [
            "100%|██████████| 10000/10000 [00:00<00:00, 39124.51it/s]\n"
          ],
          "name": "stderr"
        },
        {
          "output_type": "stream",
          "text": [
            "199/200 [============================>.] - ETA: 0s - loss: 0.0942"
          ],
          "name": "stdout"
        },
        {
          "output_type": "stream",
          "text": [
            "100%|██████████| 100000/100000 [00:02<00:00, 36411.75it/s]\n"
          ],
          "name": "stderr"
        },
        {
          "output_type": "stream",
          "text": [
            "\b\b\b\b\b\b\b\b\b\b\b\b\b\b\b\b\b\b\b\b\b\b\b\b\b\b\b\b\b\b\b\b\b\b\b\b\b\b\b\b\b\b\b\b\b\b\b\b\b\b\b\b\b\b\b\b\b\b\b\b\b\b\b\b\b\r200/200 [==============================] - 191s 956ms/step - loss: 0.0943 - val_loss: 0.1689\n",
            "\n",
            "Epoch 00091: val_loss did not improve from 0.12813\n",
            "Epoch 92/100\n",
            "  2/200 [..............................] - ETA: 3:04 - loss: 0.0991"
          ],
          "name": "stdout"
        },
        {
          "output_type": "stream",
          "text": [
            "100%|██████████| 10000/10000 [00:00<00:00, 31095.57it/s]\n"
          ],
          "name": "stderr"
        },
        {
          "output_type": "stream",
          "text": [
            "199/200 [============================>.] - ETA: 0s - loss: 0.0946"
          ],
          "name": "stdout"
        },
        {
          "output_type": "stream",
          "text": [
            "100%|██████████| 100000/100000 [00:02<00:00, 37514.77it/s]\n"
          ],
          "name": "stderr"
        },
        {
          "output_type": "stream",
          "text": [
            "\b\b\b\b\b\b\b\b\b\b\b\b\b\b\b\b\b\b\b\b\b\b\b\b\b\b\b\b\b\b\b\b\b\b\b\b\b\b\b\b\b\b\b\b\b\b\b\b\b\b\b\b\b\b\b\b\b\b\b\b\b\b\b\b\b\r200/200 [==============================] - 191s 957ms/step - loss: 0.0947 - val_loss: 0.2161\n",
            "\n",
            "Epoch 00092: val_loss did not improve from 0.12813\n",
            "Epoch 93/100\n",
            "  2/200 [..............................] - ETA: 3:05 - loss: 0.0723"
          ],
          "name": "stdout"
        },
        {
          "output_type": "stream",
          "text": [
            "100%|██████████| 10000/10000 [00:00<00:00, 39300.00it/s]\n"
          ],
          "name": "stderr"
        },
        {
          "output_type": "stream",
          "text": [
            "199/200 [============================>.] - ETA: 0s - loss: 0.0939"
          ],
          "name": "stdout"
        },
        {
          "output_type": "stream",
          "text": [
            "100%|██████████| 100000/100000 [00:02<00:00, 36426.34it/s]\n"
          ],
          "name": "stderr"
        },
        {
          "output_type": "stream",
          "text": [
            "\b\b\b\b\b\b\b\b\b\b\b\b\b\b\b\b\b\b\b\b\b\b\b\b\b\b\b\b\b\b\b\b\b\b\b\b\b\b\b\b\b\b\b\b\b\b\b\b\b\b\b\b\b\b\b\b\b\b\b\b\b\b\b\b\b\r200/200 [==============================] - 190s 949ms/step - loss: 0.0938 - val_loss: 0.1236\n",
            "\n",
            "Epoch 00093: val_loss improved from 0.12813 to 0.12355, saving model to data/descriptor_model.weights.93-0.12.hdf5\n",
            "Epoch 94/100\n",
            "  1/200 [..............................] - ETA: 3:07 - loss: 0.1075"
          ],
          "name": "stdout"
        },
        {
          "output_type": "stream",
          "text": [
            "100%|██████████| 10000/10000 [00:00<00:00, 37869.05it/s]\n"
          ],
          "name": "stderr"
        },
        {
          "output_type": "stream",
          "text": [
            "199/200 [============================>.] - ETA: 0s - loss: 0.0940"
          ],
          "name": "stdout"
        },
        {
          "output_type": "stream",
          "text": [
            "100%|██████████| 100000/100000 [00:03<00:00, 32669.09it/s]\n"
          ],
          "name": "stderr"
        },
        {
          "output_type": "stream",
          "text": [
            "\b\b\b\b\b\b\b\b\b\b\b\b\b\b\b\b\b\b\b\b\b\b\b\b\b\b\b\b\b\b\b\b\b\b\b\b\b\b\b\b\b\b\b\b\b\b\b\b\b\b\b\b\b\b\b\b\b\b\b\b\b\b\b\b\b\r200/200 [==============================] - 192s 958ms/step - loss: 0.0940 - val_loss: 0.2018\n",
            "\n",
            "Epoch 00094: val_loss did not improve from 0.12355\n",
            "Epoch 95/100\n",
            "  2/200 [..............................] - ETA: 3:05 - loss: 0.1024"
          ],
          "name": "stdout"
        },
        {
          "output_type": "stream",
          "text": [
            "100%|██████████| 10000/10000 [00:00<00:00, 36849.97it/s]\n"
          ],
          "name": "stderr"
        },
        {
          "output_type": "stream",
          "text": [
            "199/200 [============================>.] - ETA: 0s - loss: 0.0929"
          ],
          "name": "stdout"
        },
        {
          "output_type": "stream",
          "text": [
            "100%|██████████| 100000/100000 [00:02<00:00, 37777.15it/s]\n"
          ],
          "name": "stderr"
        },
        {
          "output_type": "stream",
          "text": [
            "\b\b\b\b\b\b\b\b\b\b\b\b\b\b\b\b\b\b\b\b\b\b\b\b\b\b\b\b\b\b\b\b\b\b\b\b\b\b\b\b\b\b\b\b\b\b\b\b\b\b\b\b\b\b\b\b\b\b\b\b\b\b\b\b\b\r200/200 [==============================] - 190s 950ms/step - loss: 0.0930 - val_loss: 0.1278\n",
            "\n",
            "Epoch 00095: val_loss did not improve from 0.12355\n",
            "Epoch 96/100\n",
            "  2/200 [..............................] - ETA: 3:05 - loss: 0.0855"
          ],
          "name": "stdout"
        },
        {
          "output_type": "stream",
          "text": [
            "100%|██████████| 10000/10000 [00:00<00:00, 39042.86it/s]\n"
          ],
          "name": "stderr"
        },
        {
          "output_type": "stream",
          "text": [
            "199/200 [============================>.] - ETA: 0s - loss: 0.0930"
          ],
          "name": "stdout"
        },
        {
          "output_type": "stream",
          "text": [
            "100%|██████████| 100000/100000 [00:02<00:00, 37496.20it/s]\n"
          ],
          "name": "stderr"
        },
        {
          "output_type": "stream",
          "text": [
            "\b\b\b\b\b\b\b\b\b\b\b\b\b\b\b\b\b\b\b\b\b\b\b\b\b\b\b\b\b\b\b\b\b\b\b\b\b\b\b\b\b\b\b\b\b\b\b\b\b\b\b\b\b\b\b\b\b\b\b\b\b\b\b\b\b\r200/200 [==============================] - 191s 955ms/step - loss: 0.0929 - val_loss: 0.1308\n",
            "\n",
            "Epoch 00096: val_loss did not improve from 0.12355\n",
            "Epoch 97/100\n",
            "  2/200 [..............................] - ETA: 3:02 - loss: 0.0959"
          ],
          "name": "stdout"
        },
        {
          "output_type": "stream",
          "text": [
            "100%|██████████| 10000/10000 [00:00<00:00, 35397.42it/s]\n"
          ],
          "name": "stderr"
        },
        {
          "output_type": "stream",
          "text": [
            "199/200 [============================>.] - ETA: 0s - loss: 0.0934"
          ],
          "name": "stdout"
        },
        {
          "output_type": "stream",
          "text": [
            "100%|██████████| 100000/100000 [00:02<00:00, 33540.18it/s]\n"
          ],
          "name": "stderr"
        },
        {
          "output_type": "stream",
          "text": [
            "\b\b\b\b\b\b\b\b\b\b\b\b\b\b\b\b\b\b\b\b\b\b\b\b\b\b\b\b\b\b\b\b\b\b\b\b\b\b\b\b\b\b\b\b\b\b\b\b\b\b\b\b\b\b\b\b\b\b\b\b\b\b\b\b\b\r200/200 [==============================] - 191s 957ms/step - loss: 0.0933 - val_loss: 0.1214\n",
            "\n",
            "Epoch 00097: val_loss improved from 0.12355 to 0.12141, saving model to data/descriptor_model.weights.97-0.12.hdf5\n",
            "Epoch 98/100\n",
            "  1/200 [..............................] - ETA: 3:05 - loss: 0.1130"
          ],
          "name": "stdout"
        },
        {
          "output_type": "stream",
          "text": [
            "100%|██████████| 10000/10000 [00:00<00:00, 34979.96it/s]\n"
          ],
          "name": "stderr"
        },
        {
          "output_type": "stream",
          "text": [
            "199/200 [============================>.] - ETA: 0s - loss: 0.0937"
          ],
          "name": "stdout"
        },
        {
          "output_type": "stream",
          "text": [
            "100%|██████████| 100000/100000 [00:03<00:00, 32404.86it/s]\n"
          ],
          "name": "stderr"
        },
        {
          "output_type": "stream",
          "text": [
            "\b\b\b\b\b\b\b\b\b\b\b\b\b\b\b\b\b\b\b\b\b\b\b\b\b\b\b\b\b\b\b\b\b\b\b\b\b\b\b\b\b\b\b\b\b\b\b\b\b\b\b\b\b\b\b\b\b\b\b\b\b\b\b\b\b\r200/200 [==============================] - 191s 955ms/step - loss: 0.0938 - val_loss: 0.2686\n",
            "\n",
            "Epoch 00098: val_loss did not improve from 0.12141\n",
            "Epoch 99/100\n",
            "  2/200 [..............................] - ETA: 3:09 - loss: 0.1296"
          ],
          "name": "stdout"
        },
        {
          "output_type": "stream",
          "text": [
            "100%|██████████| 10000/10000 [00:00<00:00, 36527.60it/s]\n"
          ],
          "name": "stderr"
        },
        {
          "output_type": "stream",
          "text": [
            "199/200 [============================>.] - ETA: 0s - loss: 0.0916"
          ],
          "name": "stdout"
        },
        {
          "output_type": "stream",
          "text": [
            "100%|██████████| 100000/100000 [00:02<00:00, 36420.20it/s]\n"
          ],
          "name": "stderr"
        },
        {
          "output_type": "stream",
          "text": [
            "\b\b\b\b\b\b\b\b\b\b\b\b\b\b\b\b\b\b\b\b\b\b\b\b\b\b\b\b\b\b\b\b\b\b\b\b\b\b\b\b\b\b\b\b\b\b\b\b\b\b\b\b\b\b\b\b\b\b\b\b\b\b\b\b\b\r200/200 [==============================] - 190s 950ms/step - loss: 0.0914 - val_loss: 0.1843\n",
            "\n",
            "Epoch 00099: val_loss did not improve from 0.12141\n",
            "Epoch 100/100\n",
            "  2/200 [..............................] - ETA: 3:07 - loss: 0.0888"
          ],
          "name": "stdout"
        },
        {
          "output_type": "stream",
          "text": [
            "100%|██████████| 10000/10000 [00:00<00:00, 34092.08it/s]\n"
          ],
          "name": "stderr"
        },
        {
          "output_type": "stream",
          "text": [
            "199/200 [============================>.] - ETA: 0s - loss: 0.0909"
          ],
          "name": "stdout"
        },
        {
          "output_type": "stream",
          "text": [
            "100%|██████████| 100000/100000 [00:02<00:00, 37479.68it/s]\n"
          ],
          "name": "stderr"
        },
        {
          "output_type": "stream",
          "text": [
            "\b\b\b\b\b\b\b\b\b\b\b\b\b\b\b\b\b\b\b\b\b\b\b\b\b\b\b\b\b\b\b\b\b\b\b\b\b\b\b\b\b\b\b\b\b\b\b\b\b\b\b\b\b\b\b\b\b\b\b\b\b\b\b\b\b\r200/200 [==============================] - 190s 950ms/step - loss: 0.0909 - val_loss: 0.1571\n",
            "\n",
            "Epoch 00100: val_loss did not improve from 0.12141\n"
          ],
          "name": "stdout"
        },
        {
          "output_type": "stream",
          "text": [
            "100%|██████████| 10000/10000 [00:00<00:00, 67088.04it/s]\n"
          ],
          "name": "stderr"
        }
      ]
    },
    {
      "metadata": {
        "colab_type": "code",
        "id": "NHaLjwg2TbWI",
        "outputId": "b6b08ec4-e42b-454b-e957-1c61c93a5b2f",
        "colab": {
          "base_uri": "https://localhost:8080/",
          "height": 376
        }
      },
      "cell_type": "code",
      "source": [
        "\n",
        "plt.plot(descriptor_history.history['loss'])\n",
        "plt.plot(descriptor_history.history['val_loss'])\n",
        "plt.title('model loss')\n",
        "plt.ylabel('loss')\n",
        "plt.xlabel('epoch')\n",
        "plt.legend(['train', 'test'], loc='upper left')\n",
        "plt.show()\n",
        "\n",
        "np.save('data/net_loss.npy'    ,np.array(descriptor_history.history['loss']))\n",
        "np.save('data/net_val_loss.npy',np.array(descriptor_history.history['val_loss']))\n"
      ],
      "execution_count": 11,
      "outputs": [
        {
          "output_type": "display_data",
          "data": {
            "image/png": "[encoded data removed]",
            "text/plain": [
              "<Figure size 576x396 with 1 Axes>"
            ]
          },
          "metadata": {
            "tags": []
          }
        }
      ]
    },
    {
      "metadata": {
        "colab_type": "code",
        "id": "iYzV5z2BBkN5",
        "outputId": "2d7ebef6-b5f5-4664-c17f-759d0e5eb3d3",
        "colab": {
          "base_uri": "https://localhost:8080/",
          "height": 870
        }
      },
      "cell_type": "code",
      "source": [
        "from keras.models import load_model\n",
        "from get_data import get_data\n",
        "%cd hpatches-benchmark\n",
        "!git pull \n",
        "%cd ..\n",
        "!mkdir -p results\n",
        "\n",
        "generate_desc_csv(descriptor_model, seqs_test, use_clean=False)\n",
        "\n",
        "!python ./hpatches-benchmark/hpatches_eval.py --descr-name=custom --descr-dir=/content/deepLearning/out/ --task=verification --delimiter=\";\"\n",
        "!python ./hpatches-benchmark/hpatches_results.py --descr=custom --results-dir=./hpatches-benchmark/results/ --task=verification\n",
        "\n",
        "!python ./hpatches-benchmark/hpatches_eval.py --descr-name=custom --descr-dir=/content/deepLearning/out/ --task=matching --delimiter=\";\"\n",
        "!python ./hpatches-benchmark/hpatches_results.py --descr=custom --results-dir=./hpatches-benchmark/results/ --task=matching\n",
        "\n",
        "!python ./hpatches-benchmark/hpatches_eval.py --descr-name=custom --descr-dir=/content/deepLearning/out/ --task=retrieval --delimiter=\";\"\n",
        "!python ./hpatches-benchmark/hpatches_results.py --descr=custom --results-dir=./hpatches-benchmark/results/ --task=retrieval"
      ],
      "execution_count": 9,
      "outputs": [
        {
          "output_type": "stream",
          "text": [
            "/content/deepLearning/hpatches-benchmark\n",
            "remote: Enumerating objects: 4, done.\u001b[K\n",
            "remote: Counting objects: 100% (4/4), done.\u001b[K\n",
            "remote: Compressing objects: 100% (3/3), done.\u001b[K\n",
            "remote: Total 3 (delta 1), reused 0 (delta 0), pack-reused 0\u001b[K\n",
            "Unpacking objects: 100% (3/3), done.\n",
            "From https://github.com/AlexMontgomerie/deepLearning\n",
            "   1b30f51..37ffdf3  master     -> origin/master\n",
            "Updating 1b30f51..37ffdf3\n",
            "Fast-forward\n",
            " full_net_best.ipynb | 2223 \u001b[32m+++++++++++++++++++++++++++++++++++++++++++++++++++\u001b[m\n",
            " 1 file changed, 2223 insertions(+)\n",
            " create mode 100644 full_net_best.ipynb\n",
            "/content/deepLearning\n"
          ],
          "name": "stdout"
        },
        {
          "output_type": "stream",
          "text": [
            "100%|██████████| 40/40 [07:16<00:00,  7.44s/it]\n"
          ],
          "name": "stderr"
        },
        {
          "output_type": "stream",
          "text": [
            "\n",
            ">> Running HPatch evaluation for \u001b[34mcustom\u001b[0m\n",
            ">> Please wait, loading the descriptor files...\n",
            ">> Descriptor files loaded.\n",
            ">> Evaluating \u001b[32mverification\u001b[0m task\n",
            "Processing verification task 1/3 : 100% 1000000/1000000 [01:27<00:00, 11380.50it/s]\n",
            "Processing verification task 2/3 : 100% 1000000/1000000 [01:27<00:00, 11473.83it/s]\n",
            "Processing verification task 3/3 : 100% 1000000/1000000 [01:28<00:00, 11290.57it/s]\n",
            ">> \u001b[32mVerification\u001b[0m task finished in 271 secs  \n",
            "\u001b[32mVerification\u001b[0m task results:\n",
            "Mean Average Precision is 0.772535\n",
            "\n",
            ">> Running HPatch evaluation for \u001b[34mcustom\u001b[0m\n",
            ">> Please wait, loading the descriptor files...\n",
            ">> Descriptor files loaded.\n",
            ">> Evaluating \u001b[32mmatching\u001b[0m task\n",
            "100% 40/40 [02:02<00:00,  4.16s/it]\n",
            ">> \u001b[32mMatching\u001b[0m task finished in 123 secs  \n",
            "\u001b[32mMatching\u001b[0m task results:\n",
            "Mean Average Precision is 0.170107\n",
            "\n",
            "\n",
            "\n",
            ">> Running HPatch evaluation for \u001b[34mcustom\u001b[0m\n",
            ">> Please wait, loading the descriptor files...\n",
            ">> Descriptor files loaded.\n",
            ">> Evaluating \u001b[32mretrieval\u001b[0m task\n",
            ">> Please wait, computing distance matrix...\n",
            "tcmalloc: large alloc 1600004096 bytes == 0x23210000 @  0x7f9782d2b1e7 0x7f97785d6a41 0x7f9778639c13 0x7f977863b99e 0x7f97786d3748 0x5030d5 0x507641 0x504c28 0x502540 0x502f3d 0x506859 0x502209 0x502f3d 0x506859 0x504c28 0x502540 0x502f3d 0x506859 0x504c28 0x506393 0x634d52 0x634e0a 0x6385c8 0x63915a 0x4a6f10 0x7f9782928b97 0x5afa0a\n",
            ">> Distance matrix done.\n",
            "Processing retrieval task: 100% 10000/10000 [03:45<00:00, 44.16it/s]\n",
            ">> \u001b[32mRetrieval\u001b[0m task finished in 243 secs  \n",
            "\u001b[32mRetrieval\u001b[0m task results:\n",
            "Mean Average Precision is 0.468240\n"
          ],
          "name": "stdout"
        }
      ]
    }
  ]
}