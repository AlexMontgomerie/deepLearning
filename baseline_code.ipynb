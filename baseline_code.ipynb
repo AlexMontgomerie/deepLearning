{
  "nbformat": 4,
  "nbformat_minor": 0,
  "metadata": {
    "colab": {
      "name": "Baseline_code.ipynb",
      "version": "0.3.2",
      "provenance": [],
      "collapsed_sections": [],
      "toc_visible": true,
      "include_colab_link": true
    },
    "kernelspec": {
      "name": "python2",
      "display_name": "Python 2"
    },
    "accelerator": "GPU"
  },
  "cells": [
    {
      "cell_type": "markdown",
      "metadata": {
        "id": "view-in-github",
        "colab_type": "text"
      },
      "source": [
        "<a href=\"https://colab.research.google.com/github/AlexMontgomerie/deepLearning/blob/master/baseline_code.ipynb\" target=\"_parent\"><img src=\"https://colab.research.google.com/assets/colab-badge.svg\" alt=\"Open In Colab\"/></a>"
      ]
    },
    {
      "metadata": {
        "id": "scylC1qNuBY0",
        "colab_type": "text"
      },
      "cell_type": "markdown",
      "source": [
        "# Baseline code\n",
        "This code introduces a two-step training for the problem. It may be better doing only one-step, i.e. from noisy patch to descriptor directly, but this provides an initial valid submission to use as a first step.\n",
        "\n",
        "The outputs you see here are with only some minutes of training, so results should be better if the models are trained for more time.\n",
        "\n"
      ]
    },
    {
      "metadata": {
        "id": "iamuRgeiNLjW",
        "colab_type": "text"
      },
      "cell_type": "markdown",
      "source": [
        "## Initial check\n",
        "\n",
        "We first check the amount of memory we have in the notebook. Usually, we have available 11.4 GB of GPU memory, which is more than enough to run this code. However, some users reported having only 500 MB of GPU memory. If you have that amount, restart the environment to see if you get the corresponding 11.4 GB"
      ]
    },
    {
      "metadata": {
        "id": "ZZG4BqkENEyd",
        "colab_type": "code",
        "outputId": "ba3e317f-b07e-44e5-fa4b-f36d2ca049ba",
        "colab": {
          "base_uri": "https://localhost:8080/",
          "height": 68
        }
      },
      "cell_type": "code",
      "source": [
        "# Taken from\n",
        "# https://stackoverflow.com/questions/48750199/google-colaboratory-misleading-information-about-its-gpu-only-5-ram-available\n",
        "# memory footprint support libraries/code\n",
        "!ln -sf /opt/bin/nvidia-smi /usr/bin/nvidia-smi\n",
        "!pip install gputil\n",
        "!pip install psutil\n",
        "!pip install humanize\n",
        "import psutil\n",
        "import humanize\n",
        "import os\n",
        "import GPUtil as GPU\n",
        "GPUs = GPU.getGPUs()\n",
        "# XXX: only one GPU on Colab and isn’t guaranteed\n",
        "gpu = GPUs[0]\n",
        "def printm():\n",
        "  process = psutil.Process(os.getpid())\n",
        "  print(\"Gen RAM Free: \" + humanize.naturalsize( psutil.virtual_memory().available ), \" | Proc size: \" + humanize.naturalsize( process.memory_info().rss))\n",
        "  print(\"GPU RAM Free: {0:.0f}MB | Used: {1:.0f}MB | Util {2:3.0f}% | Total {3:.0f}MB\".format(gpu.memoryFree, gpu.memoryUsed, gpu.memoryUtil*100, gpu.memoryTotal))"
      ],
      "execution_count": 0,
      "outputs": [
        {
          "output_type": "stream",
          "text": [
            "Requirement already satisfied: gputil in /usr/local/lib/python2.7/dist-packages (1.4.0)\n",
            "Requirement already satisfied: psutil in /usr/local/lib/python2.7/dist-packages (5.4.8)\n",
            "Requirement already satisfied: humanize in /usr/local/lib/python2.7/dist-packages (0.5.1)\n"
          ],
          "name": "stdout"
        }
      ]
    },
    {
      "metadata": {
        "id": "BBvIvBoyg68g",
        "colab_type": "code",
        "outputId": "dd3b39cf-7739-43af-dc55-f67fb8a98d94",
        "colab": {
          "base_uri": "https://localhost:8080/",
          "height": 51
        }
      },
      "cell_type": "code",
      "source": [
        "printm()"
      ],
      "execution_count": 0,
      "outputs": [
        {
          "output_type": "stream",
          "text": [
            "('Gen RAM Free: 12.9 GB', ' | Proc size: 151.6 MB')\n",
            "GPU RAM Free: 11441MB | Used: 0MB | Util   0% | Total 11441MB\n"
          ],
          "name": "stdout"
        }
      ]
    },
    {
      "metadata": {
        "id": "OMiynJ7p-zI8",
        "colab_type": "text"
      },
      "cell_type": "markdown",
      "source": [
        "## Downloading functions and data\n",
        "\n",
        "The first step is to clone a GitHub repository with some functions implemented, and also downloading and extracting the HPatches data. We can run command line commands by using ```!```. Also, by using ```%``` we have access to the [built-in IPython magic commands](https://ipython.readthedocs.io/en/stable/interactive/magics.html#magic-cd), which we use to change directory (`cd`). It takes around 5 minutes to download and unzip the dataset. \n"
      ]
    },
    {
      "metadata": {
        "id": "yV1m-9ZGuKGj",
        "colab_type": "code",
        "outputId": "8755361f-b426-4673-b619-b2eb25ff60e6",
        "colab": {
          "base_uri": "https://localhost:8080/",
          "height": 153
        }
      },
      "cell_type": "code",
      "source": [
        "# Clone repo\n",
        "!git clone https://github.com/MatchLab-Imperial/keras_triplet_descriptor"
      ],
      "execution_count": 0,
      "outputs": [
        {
          "output_type": "stream",
          "text": [
            "Cloning into 'keras_triplet_descriptor'...\n",
            "remote: Enumerating objects: 41, done.\u001b[K\n",
            "remote: Counting objects: 100% (41/41), done.\u001b[K\n",
            "remote: Compressing objects: 100% (31/31), done.\u001b[K\n",
            "remote: Total 169 (delta 19), reused 22 (delta 10), pack-reused 128\u001b[K\n",
            "Receiving objects: 100% (169/169), 149.84 MiB | 20.50 MiB/s, done.\n",
            "Resolving deltas: 100% (52/52), done.\n",
            "Checking out files: 100% (69/69), done.\n"
          ],
          "name": "stdout"
        }
      ]
    },
    {
      "metadata": {
        "id": "pyZSqhZ5LACT",
        "colab_type": "code",
        "outputId": "b40c21c3-fb28-4cf4-b1af-6677949bc594",
        "colab": {
          "base_uri": "https://localhost:8080/",
          "height": 34
        }
      },
      "cell_type": "code",
      "source": [
        "# Change directory\n",
        "%cd /content/keras_triplet_descriptor    "
      ],
      "execution_count": 0,
      "outputs": [
        {
          "output_type": "stream",
          "text": [
            "/content/keras_triplet_descriptor\n"
          ],
          "name": "stdout"
        }
      ]
    },
    {
      "metadata": {
        "id": "307CBCL-FjX4",
        "colab_type": "code",
        "outputId": "3fd03f78-2440-4d3d-a4da-06fd5d430c91",
        "colab": {
          "base_uri": "https://localhost:8080/",
          "height": 462
        }
      },
      "cell_type": "code",
      "source": [
        "# Download data\n",
        "!wget -O hpatches_data.zip https://imperialcollegelondon.box.com/shared/static/ah40eq7cxpwq4a6l4f62efzdyt8rm3ha.zip\n"
      ],
      "execution_count": 0,
      "outputs": [
        {
          "output_type": "stream",
          "text": [
            "--2019-02-17 09:35:28--  https://imperialcollegelondon.box.com/shared/static/ah40eq7cxpwq4a6l4f62efzdyt8rm3ha.zip\n",
            "Resolving imperialcollegelondon.box.com (imperialcollegelondon.box.com)... 185.235.236.197\n",
            "Connecting to imperialcollegelondon.box.com (imperialcollegelondon.box.com)|185.235.236.197|:443... connected.\n",
            "HTTP request sent, awaiting response... 301 Moved Permanently\n",
            "Location: /public/static/ah40eq7cxpwq4a6l4f62efzdyt8rm3ha.zip [following]\n",
            "--2019-02-17 09:35:28--  https://imperialcollegelondon.box.com/public/static/ah40eq7cxpwq4a6l4f62efzdyt8rm3ha.zip\n",
            "Reusing existing connection to imperialcollegelondon.box.com:443.\n",
            "HTTP request sent, awaiting response... 301 Moved Permanently\n",
            "Location: https://imperialcollegelondon.app.box.com/public/static/ah40eq7cxpwq4a6l4f62efzdyt8rm3ha.zip [following]\n",
            "--2019-02-17 09:35:28--  https://imperialcollegelondon.app.box.com/public/static/ah40eq7cxpwq4a6l4f62efzdyt8rm3ha.zip\n",
            "Resolving imperialcollegelondon.app.box.com (imperialcollegelondon.app.box.com)... 185.235.236.199\n",
            "Connecting to imperialcollegelondon.app.box.com (imperialcollegelondon.app.box.com)|185.235.236.199|:443... connected.\n",
            "HTTP request sent, awaiting response... 302 Found\n",
            "Location: https://public.boxcloud.com/d/1/b1!ylXgBjl706V_AsuZ-7oCcJ759O5NGcI9QsxtFrq9h8e7xKrtJYg3uDmd2s9CVsIp5_4QgT-XdQIAvZ9ImHg6_saMAS0hj413suqDAIZ-FygivYM-_iDsWuxBkUa5PdnFkz9xghutD6jMDxiXGhIKFpXhpQ_R0ONuXkPjCMRKGoMEO8Nnk9EbjsrY_9xM8_Buugs7Ld4Strn4IrbUlJuDyxL5-0gHmzmja1Ca89UVLRRH46cy2ijK3nf9IvimFHca19HIXUVoqLc_cpiI9cjU5c1HRqlApptB1cep7tLUfr-TO8ri-YI7dhzBDMtTANENb7_SrDReW9DCev-G1tW0ycb_3ldxqCKkG6yKoXCUThXn3_OLp3BIBa_47l_tcrt_csQdbRMitkyVPKEFbof4A-bzUZ2ednNBe5l0QqKd3I7pt224itE4mEXJOjDoxrjEItF9YnhPgSjbBmjsHAGXdvTAPmk5t2PKVyT1ghevdceXCOefkVeKXF4oZs12khvyqOzh2R0fwREDJ8WcbDECaUSVrsrJn96rEF2PuzXzBp4I0HxSvnYzUIIKiwiRogqXDQpY0uCDTGQqw61iLbHLw1T6-FkPovLAAUlH2YDzgzPjwg5spEPkSopqTbJ9oNjvXRF51cPtBp6DC_-xkH2_92YY50fykr3TtwBUjawrKJ57tkVFHYDv4DxuYff_k7VI6M4LEToPVykUJFsn-rL8hh9HdoXgahsLKXVY23eo-U-xSVVFHyKIvjI_8SEH10YHqAPB_CWksJNFT9l1mykddln-F9qaJrcIIdhhXqhSPvikOruWcx0j0JspFiKb2_B1GyioLy62LoI9w6Lh0MqEPgRTCpFjiaAHCNeLEFPQ3fdYG_YCo2q80yw9racPg_DfuxK8tZIbkB20ba8brW_7XIm4wXo4zp5MTjV3ojrWF6cGiAhd2CTzCjU-fbSqsbT45erzbFLJHTVZnMY5ZfyPyBKwsqvaHOi_965H_BFBpQgE0t2vQIn0bHRbWldalv8SF7EZM9Ch8fVHRSxhEz9oL5Na9tmkzQMcbZgSObt9kZiHj8OSswpP2EzOS8d6XwspmaIXRCuZvqQgAjJjO3bEmI9ZJle_n3nS-O0YwOh8oPd9Jon3R3qa-XW8Ie3z2quoh-nj8_aZtm2bdrJYerpsttLvhkyZfMgvb_q_AwJpU_1TcJzall6RqUmc2c_sFgpJZwcqhM21ZmK8S9xlaFFXcYkbi66tsYPVVzz9c5lbg_Pq95SpnISZEAa8rPk0X7-Izb3hcrN8KikONdIwrVvPm8V96-DTuQPygfjVEMXiuu5mNUwSRFyPsz1Ds8c3a3m9ddVYGVMPVBJGz-zo4uEOoWOhhITS3-nZgJIjmXx4sM33N3dF9JCVBSn9TkSaqoH3P5kNte4z8yzyOFeahZrEY6lu-MkkHnVAcoNH2PMCbB-of33KaA../download [following]\n",
            "--2019-02-17 09:35:29--  https://public.boxcloud.com/d/1/b1!ylXgBjl706V_AsuZ-7oCcJ759O5NGcI9QsxtFrq9h8e7xKrtJYg3uDmd2s9CVsIp5_4QgT-XdQIAvZ9ImHg6_saMAS0hj413suqDAIZ-FygivYM-_iDsWuxBkUa5PdnFkz9xghutD6jMDxiXGhIKFpXhpQ_R0ONuXkPjCMRKGoMEO8Nnk9EbjsrY_9xM8_Buugs7Ld4Strn4IrbUlJuDyxL5-0gHmzmja1Ca89UVLRRH46cy2ijK3nf9IvimFHca19HIXUVoqLc_cpiI9cjU5c1HRqlApptB1cep7tLUfr-TO8ri-YI7dhzBDMtTANENb7_SrDReW9DCev-G1tW0ycb_3ldxqCKkG6yKoXCUThXn3_OLp3BIBa_47l_tcrt_csQdbRMitkyVPKEFbof4A-bzUZ2ednNBe5l0QqKd3I7pt224itE4mEXJOjDoxrjEItF9YnhPgSjbBmjsHAGXdvTAPmk5t2PKVyT1ghevdceXCOefkVeKXF4oZs12khvyqOzh2R0fwREDJ8WcbDECaUSVrsrJn96rEF2PuzXzBp4I0HxSvnYzUIIKiwiRogqXDQpY0uCDTGQqw61iLbHLw1T6-FkPovLAAUlH2YDzgzPjwg5spEPkSopqTbJ9oNjvXRF51cPtBp6DC_-xkH2_92YY50fykr3TtwBUjawrKJ57tkVFHYDv4DxuYff_k7VI6M4LEToPVykUJFsn-rL8hh9HdoXgahsLKXVY23eo-U-xSVVFHyKIvjI_8SEH10YHqAPB_CWksJNFT9l1mykddln-F9qaJrcIIdhhXqhSPvikOruWcx0j0JspFiKb2_B1GyioLy62LoI9w6Lh0MqEPgRTCpFjiaAHCNeLEFPQ3fdYG_YCo2q80yw9racPg_DfuxK8tZIbkB20ba8brW_7XIm4wXo4zp5MTjV3ojrWF6cGiAhd2CTzCjU-fbSqsbT45erzbFLJHTVZnMY5ZfyPyBKwsqvaHOi_965H_BFBpQgE0t2vQIn0bHRbWldalv8SF7EZM9Ch8fVHRSxhEz9oL5Na9tmkzQMcbZgSObt9kZiHj8OSswpP2EzOS8d6XwspmaIXRCuZvqQgAjJjO3bEmI9ZJle_n3nS-O0YwOh8oPd9Jon3R3qa-XW8Ie3z2quoh-nj8_aZtm2bdrJYerpsttLvhkyZfMgvb_q_AwJpU_1TcJzall6RqUmc2c_sFgpJZwcqhM21ZmK8S9xlaFFXcYkbi66tsYPVVzz9c5lbg_Pq95SpnISZEAa8rPk0X7-Izb3hcrN8KikONdIwrVvPm8V96-DTuQPygfjVEMXiuu5mNUwSRFyPsz1Ds8c3a3m9ddVYGVMPVBJGz-zo4uEOoWOhhITS3-nZgJIjmXx4sM33N3dF9JCVBSn9TkSaqoH3P5kNte4z8yzyOFeahZrEY6lu-MkkHnVAcoNH2PMCbB-of33KaA../download\n",
            "Resolving public.boxcloud.com (public.boxcloud.com)... 185.235.236.200\n",
            "Connecting to public.boxcloud.com (public.boxcloud.com)|185.235.236.200|:443... connected.\n",
            "HTTP request sent, awaiting response... 200 OK\n",
            "Length: 4088106554 (3.8G) [application/zip]\n",
            "Saving to: ‘hpatches_data.zip’\n",
            "\n",
            "hpatches_data.zip   100%[===================>]   3.81G  20.6MB/s    in 3m 10s  \n",
            "\n",
            "2019-02-17 09:38:39 (20.5 MB/s) - ‘hpatches_data.zip’ saved [4088106554/4088106554]\n",
            "\n"
          ],
          "name": "stdout"
        }
      ]
    },
    {
      "metadata": {
        "id": "36mBTFvPCxY9",
        "colab_type": "code",
        "colab": {}
      },
      "cell_type": "code",
      "source": [
        "# Extract data\n",
        "!unzip -q ./hpatches_data.zip\n",
        "!rm ./hpatches_data.zip"
      ],
      "execution_count": 0,
      "outputs": []
    },
    {
      "metadata": {
        "id": "Rjyr96hR_4wS",
        "colab_type": "text"
      },
      "cell_type": "markdown",
      "source": [
        "## Importing necessary modules\n",
        "\n",
        "We now import the modules we will use in this baseline code. The read_data and utils imports are function provided in the repository we just cloned."
      ]
    },
    {
      "metadata": {
        "id": "o0KYfe-at9KN",
        "colab_type": "code",
        "colab": {}
      },
      "cell_type": "code",
      "source": [
        "import sys\n",
        "import json\n",
        "import os\n",
        "import glob\n",
        "import keras\n",
        "from keras import regularizers\n",
        "from keras import backend as K\n",
        "from keras.models import Sequential, Model\n",
        "from keras.layers import Dense, Dropout, Activation, Flatten, Input, Lambda, Reshape\n",
        "from keras.layers import Conv2D, MaxPooling2D, BatchNormalization \n",
        "from keras.layers import Input, UpSampling2D, concatenate  \n",
        "import time\n",
        "import tensorflow as tf\n",
        "import numpy as np\n",
        "import cv2\n",
        "import random\n",
        "from read_data import HPatches, DataGeneratorDesc, hpatches_sequence_folder, DenoiseHPatches, tps\n",
        "from utils import generate_desc_csv, plot_denoise, plot_triplet\n",
        "import matplotlib.pyplot as plt\n"
      ],
      "execution_count": 0,
      "outputs": []
    },
    {
      "metadata": {
        "id": "AFG0LyAct_-l",
        "colab_type": "text"
      },
      "cell_type": "markdown",
      "source": [
        "We also fix the seeds of the pseudo-random number generators to have reproducible results. The idea of fixing the seed is having the same results every time the algorithm is run if there are no changes in the code."
      ]
    },
    {
      "metadata": {
        "id": "NXL31ez-AT5h",
        "colab_type": "code",
        "colab": {}
      },
      "cell_type": "code",
      "source": [
        "random.seed(1234)\n",
        "np.random.seed(1234)\n",
        "tf.set_random_seed(1234)"
      ],
      "execution_count": 0,
      "outputs": []
    },
    {
      "metadata": {
        "id": "_OqFkNujBGzf",
        "colab_type": "text"
      },
      "cell_type": "markdown",
      "source": [
        "The HPatches dataset has several splits, where it separates the sequences available in train sequences and test sequences. We load the split 'a'. "
      ]
    },
    {
      "metadata": {
        "id": "ABKDHB9RApZk",
        "colab_type": "code",
        "colab": {}
      },
      "cell_type": "code",
      "source": [
        "hpatches_dir = './hpatches'\n",
        "splits_path = './splits.json'\n",
        "\n",
        "splits_json = json.load(open(splits_path, 'rb'))\n",
        "split = splits_json['a']\n",
        "\n",
        "train_fnames = split['train']\n",
        "test_fnames = split['test']\n",
        "\n",
        "seqs = glob.glob(hpatches_dir+'/*')\n",
        "seqs = [os.path.abspath(p) for p in seqs]   \n",
        "seqs_train = list(filter(lambda x: x.split('/')[-1] in train_fnames, seqs)) \n",
        "seqs_test = list(filter(lambda x: x.split('/')[-1] in split['test'], seqs)) \n"
      ],
      "execution_count": 0,
      "outputs": []
    },
    {
      "metadata": {
        "id": "qeWik0vMEtuC",
        "colab_type": "text"
      },
      "cell_type": "markdown",
      "source": [
        "## Models and loss"
      ]
    },
    {
      "metadata": {
        "id": "LYJz8BDzBkIx",
        "colab_type": "text"
      },
      "cell_type": "markdown",
      "source": [
        "We now define three functions that define main modules of our baseline. First, we have a function that returns a denoising model. The input for the function is the size of the patch, which will be 1x64x64, and it outputs a keras model.\n",
        "\n",
        "Then we have a similar function for the descriptor model, the model we use as baseline takes as input a patch of size 1x32x32, and returns a descriptor. Then we will use the triplet loss.\n",
        "\n",
        "You can modify the models in this functions and run the training code again for your new models. For example, the given UNet is quite shallow, maybe using a deeper network can improve results. Or testing new initializations for the weigths. Or maybe adding dropout. Or modifying the loss somehow...."
      ]
    },
    {
      "metadata": {
        "id": "W6QbkHnbuIUD",
        "colab_type": "code",
        "colab": {}
      },
      "cell_type": "code",
      "source": [
        "def get_denoise_model(shape):\n",
        "    \n",
        "  inputs = Input(shape)\n",
        "  conv1 = Conv2D(16, 3, activation = 'relu', padding = 'same', kernel_initializer = 'he_normal')(inputs)\n",
        "                 #kernel_regularizer=regularizers.l2(0.0001),activity_regularizer=regularizers.l1(0.00001), \n",
        "                \n",
        "  pool1 = MaxPooling2D(pool_size=(2, 2))(conv1)\n",
        "  ## Bottleneck\n",
        "  conv2 = Conv2D(32, 3, activation = 'relu', padding = 'same', kernel_initializer = 'he_normal')(pool1)\n",
        "                 #kernel_regularizer=regularizers.l2(0.0001), activity_regularizer=regularizers.l1(0.00001), \n",
        "                 \n",
        "\n",
        "  ## Now the decoder starts\n",
        "  up3 = Conv2D(64, 2, activation = 'relu', padding = 'same', kernel_initializer = 'he_normal')(UpSampling2D(size = (2,2))(conv2))\n",
        "               #kernel_regularizer=regularizers.l2(0.0001), activity_regularizer=regularizers.l1(0.00001), \n",
        "               \n",
        "  merge3 = concatenate([conv1,up3], axis = -1)\n",
        "  conv3 = Conv2D(64, 3, activation = 'relu', padding = 'same', kernel_initializer = 'he_normal')(merge3)\n",
        "                 #kernel_regularizer=regularizers.l2(0.0001), activity_regularizer=regularizers.l1(0.00001), \n",
        "                 \n",
        "    \n",
        "  conv4 = Conv2D(1, 3,  padding = 'same')(conv3)\n",
        "\n",
        "  shallow_unet = Model(inputs = inputs, outputs = conv4)\n",
        "  return shallow_unet\n",
        "\n",
        "\n",
        "def get_autoencoder_model(shape):\n",
        "  inputs = Input(shape)\n",
        "  # fold input\n",
        "  encode  = Dense(32, (3, 3), activation='relu', padding='same')(inputs)\n",
        "  pool1  = MaxPooling2D((2, 2), padding='same')(conv1)\n",
        "  conv2  = Conv2D(32, (3, 3), activation='relu', padding='same')(pool1)\n",
        "  encoded = MaxPooling2D((2, 2), padding='same')(conv2)\n",
        "\n",
        "\n",
        "  conv3 = Conv2D(32, (3, 3), activation='relu', padding='same')(encoded)\n",
        "  deconv1 = UpSampling2D((2, 2))(conv3)\n",
        "  conv4 = Conv2D(32, (3, 3), activation='relu', padding='same')(deconv1)\n",
        "  deconv2 = UpSampling2D((2, 2))(conv4)\n",
        "  decoded = Conv2D(1, (3, 3), activation='sigmoid', padding='same')(deconv2)\n",
        "  \n",
        "  autoencoder = Model(inputs=inputs,outputs=decoded)\n",
        "  return autoencoder\n",
        "\n",
        "\n",
        "def get_descriptor_model(shape):\n",
        "  '''Architecture copies HardNet architecture'''\n",
        "  init_weights = keras.initializers.he_normal()\n",
        "  descriptor_model = Sequential()\n",
        "  descriptor_model.add(Conv2D(32, 3, padding='same', input_shape=shape, use_bias = True, kernel_initializer=init_weights))\n",
        "  descriptor_model.add(BatchNormalization(axis = -1))\n",
        "  descriptor_model.add(Activation('relu'))\n",
        "\n",
        "  descriptor_model.add(Conv2D(32, 3, padding='same', use_bias = True, kernel_initializer=init_weights))\n",
        "  descriptor_model.add(BatchNormalization(axis = -1))\n",
        "  descriptor_model.add(Activation('relu'))\n",
        "\n",
        "  descriptor_model.add(Conv2D(64, 3, padding='same', strides=2, use_bias = True, kernel_initializer=init_weights))\n",
        "  descriptor_model.add(BatchNormalization(axis = -1))\n",
        "  descriptor_model.add(Activation('relu'))\n",
        "\n",
        "  descriptor_model.add(Conv2D(64, 3, padding='same', use_bias = True, kernel_initializer=init_weights))\n",
        "  descriptor_model.add(BatchNormalization(axis = -1))\n",
        "  descriptor_model.add(Activation('relu'))\n",
        "\n",
        "  descriptor_model.add(Conv2D(128, 3, padding='same', strides=2,  use_bias = True, kernel_initializer=init_weights))\n",
        "  descriptor_model.add(BatchNormalization(axis = -1))\n",
        "  descriptor_model.add(Activation('relu'))\n",
        "\n",
        "  descriptor_model.add(Conv2D(128, 3, padding='same', use_bias = True, kernel_initializer=init_weights))\n",
        "  descriptor_model.add(BatchNormalization(axis = -1))\n",
        "  descriptor_model.add(Activation('relu'))\n",
        "  descriptor_model.add(Dropout(0.3))\n",
        "\n",
        "  descriptor_model.add(Conv2D(128, 8, padding='valid', use_bias = True, kernel_initializer=init_weights))\n",
        "  descriptor_model.add(Reshape((128,)))\n",
        "  return descriptor_model\n",
        "  \n",
        "  \n",
        "def triplet_loss(x):\n",
        "  output_dim = 128\n",
        "  a, p, n = x\n",
        "  _alpha = 1.0\n",
        "  positive_distance = K.mean(K.square(a - p), axis=-1)\n",
        "  negative_distance = K.mean(K.square(a - n), axis=-1)\n",
        "  return K.expand_dims(K.maximum(0.0, positive_distance - negative_distance + _alpha), axis = 1)"
      ],
      "execution_count": 0,
      "outputs": []
    },
    {
      "metadata": {
        "id": "RlS5zcV7EJgp",
        "colab_type": "text"
      },
      "cell_type": "markdown",
      "source": [
        "## Denoising patches\n"
      ]
    },
    {
      "metadata": {
        "id": "wHxHwjUd3-pY",
        "colab_type": "text"
      },
      "cell_type": "markdown",
      "source": [
        "We use the DenoiseHPatches class implemented in the read_data.py file, which takes as input the list of sequences to load. It outputs batches where the input data is the noisy image and the label is the clean image, so then we can use a mean absolute error metric (or MSE also works) as loss function. \n",
        "\n",
        "Here we take a subset of training and validation sequences by using random.sample (3 sequences for training and 1 for validation data). The purpose of doing so was just to speed-up training for generating faster the output of this notebook. Remove the random.sample function to give the generator all the training data."
      ]
    },
    {
      "metadata": {
        "id": "m_VPSHmSK0dS",
        "colab_type": "code",
        "outputId": "fea6f17e-2534-4add-ff0a-422c4afa296f",
        "colab": {
          "base_uri": "https://localhost:8080/",
          "height": 51
        }
      },
      "cell_type": "code",
      "source": [
        "#denoise_generator = DenoiseHPatches(random.sample(seqs_train, 2), batch_size=50)\n",
        "#denoise_generator_val = DenoiseHPatches(random.sample(seqs_test, 1), batch_size=50)\n",
        "\n",
        "denoise_generator = DenoiseHPatches(seqs_train, batch_size=500)\n",
        "denoise_generator_val = DenoiseHPatches(seqs_test, batch_size=500)\n",
        "\n",
        "\n"
      ],
      "execution_count": 0,
      "outputs": [
        {
          "output_type": "stream",
          "text": [
            "100%|██████████| 76/76 [01:13<00:00,  1.12s/it]\n",
            "100%|██████████| 40/40 [00:45<00:00,  1.15s/it]\n"
          ],
          "name": "stderr"
        }
      ]
    },
    {
      "metadata": {
        "id": "-eUSba93Dttj",
        "colab_type": "code",
        "outputId": "ee41257b-3f51-4202-e7bd-8ed1aec44434",
        "colab": {
          "base_uri": "https://localhost:8080/",
          "height": 88
        }
      },
      "cell_type": "code",
      "source": [
        "shape = (32, 32, 1)\n",
        "denoise_model = get_denoise_model(shape)\n",
        "#denoise_model = get_autoencoder_model(shape)"
      ],
      "execution_count": 0,
      "outputs": [
        {
          "output_type": "stream",
          "text": [
            "WARNING:tensorflow:From /usr/local/lib/python2.7/dist-packages/tensorflow/python/framework/op_def_library.py:263: colocate_with (from tensorflow.python.framework.ops) is deprecated and will be removed in a future version.\n",
            "Instructions for updating:\n",
            "Colocations handled automatically by placer.\n"
          ],
          "name": "stdout"
        }
      ]
    },
    {
      "metadata": {
        "id": "H3wkjkpk4bRh",
        "colab_type": "text"
      },
      "cell_type": "markdown",
      "source": [
        "We set number of epochs to 1, tweak it, along with other hyperparameters, to improve the performance of the model."
      ]
    },
    {
      "metadata": {
        "id": "edwbgE6yKqcD",
        "colab_type": "code",
        "outputId": "afff1457-9859-43dd-a182-661729b753fc",
        "colab": {
          "base_uri": "https://localhost:8080/",
          "height": 649
        }
      },
      "cell_type": "code",
      "source": [
        "opt = keras.optimizers.SGD(lr=0.00001, momentum=0.9, nesterov=True)\n",
        "opt = keras.optimizers.nadam()\n",
        "\n",
        "early_stopping = keras.callbacks.EarlyStopping(monitor = 'val_loss', patience = 5, verbose = 3, mode= 'auto')\n",
        "#checkpoint = keras.callbacks.ModelCheckpoint(MODEL_FILEPATH, monitor='val_loss', verbose=3, save_best_only=True, mode='auto')\n",
        "callbacks_list = [\n",
        "    early_stopping, \n",
        "    #checkpoint\n",
        "]\n",
        "\n",
        "denoise_model.compile(loss='mean_absolute_error', optimizer=opt, metrics=['mae'])\n",
        "denoise_history = denoise_model.fit_generator(generator=denoise_generator,  epochs=50, callbacks=callbacks_list,\n",
        "                                              verbose=1, validation_data=denoise_generator_val)\n",
        "denoise_model.save_weights('denoise.h5') "
      ],
      "execution_count": 0,
      "outputs": [
        {
          "output_type": "stream",
          "text": [
            "WARNING:tensorflow:From /usr/local/lib/python2.7/dist-packages/tensorflow/python/ops/math_ops.py:3066: to_int32 (from tensorflow.python.ops.math_ops) is deprecated and will be removed in a future version.\n",
            "Instructions for updating:\n",
            "Use tf.cast instead.\n",
            "Epoch 1/50\n",
            "3117/3117 [==============================] - 636s 204ms/step - loss: 7.9640 - mean_absolute_error: 7.9640 - val_loss: 6.3013 - val_mean_absolute_error: 6.3013\n",
            "Epoch 2/50\n",
            "3117/3117 [==============================] - 629s 202ms/step - loss: 6.0543 - mean_absolute_error: 6.0543 - val_loss: 5.6539 - val_mean_absolute_error: 5.6539\n",
            "Epoch 3/50\n",
            "3117/3117 [==============================] - 630s 202ms/step - loss: 5.6351 - mean_absolute_error: 5.6351 - val_loss: 5.4687 - val_mean_absolute_error: 5.4687\n",
            "Epoch 4/50\n",
            "3117/3117 [==============================] - 628s 201ms/step - loss: 5.4603 - mean_absolute_error: 5.4603 - val_loss: 5.3807 - val_mean_absolute_error: 5.3807\n",
            "Epoch 5/50\n",
            "3117/3117 [==============================] - 630s 202ms/step - loss: 5.3674 - mean_absolute_error: 5.3674 - val_loss: 5.3433 - val_mean_absolute_error: 5.3433\n",
            "Epoch 6/50\n",
            "3117/3117 [==============================] - 629s 202ms/step - loss: 5.3091 - mean_absolute_error: 5.3091 - val_loss: 5.2843 - val_mean_absolute_error: 5.2843\n",
            "Epoch 7/50\n",
            "3117/3117 [==============================] - 629s 202ms/step - loss: 5.2686 - mean_absolute_error: 5.2686 - val_loss: 5.3036 - val_mean_absolute_error: 5.3036\n",
            "Epoch 8/50\n",
            "3117/3117 [==============================] - 630s 202ms/step - loss: 5.2409 - mean_absolute_error: 5.2409 - val_loss: 5.2144 - val_mean_absolute_error: 5.2144\n",
            "Epoch 9/50\n",
            "3117/3117 [==============================] - 629s 202ms/step - loss: 5.2180 - mean_absolute_error: 5.2180 - val_loss: 5.1204 - val_mean_absolute_error: 5.1204\n",
            "Epoch 10/50\n",
            "3117/3117 [==============================] - 628s 202ms/step - loss: 5.1961 - mean_absolute_error: 5.1961 - val_loss: 5.1486 - val_mean_absolute_error: 5.1486\n",
            "Epoch 11/50\n",
            "3117/3117 [==============================] - 629s 202ms/step - loss: 5.1774 - mean_absolute_error: 5.1774 - val_loss: 5.1059 - val_mean_absolute_error: 5.1059\n",
            "Epoch 12/50\n",
            "3117/3117 [==============================] - 630s 202ms/step - loss: 5.1630 - mean_absolute_error: 5.1630 - val_loss: 5.1325 - val_mean_absolute_error: 5.1325\n",
            "Epoch 13/50\n",
            "3117/3117 [==============================] - 630s 202ms/step - loss: 5.1532 - mean_absolute_error: 5.1532 - val_loss: 5.1496 - val_mean_absolute_error: 5.1496\n",
            "Epoch 14/50\n",
            "3117/3117 [==============================] - 629s 202ms/step - loss: 5.1437 - mean_absolute_error: 5.1437 - val_loss: 5.1224 - val_mean_absolute_error: 5.1224\n",
            "Epoch 15/50\n",
            "3117/3117 [==============================] - 629s 202ms/step - loss: 5.1367 - mean_absolute_error: 5.1367 - val_loss: 5.1567 - val_mean_absolute_error: 5.1567\n",
            "Epoch 16/50\n",
            "3117/3117 [==============================] - 629s 202ms/step - loss: 5.1306 - mean_absolute_error: 5.1306 - val_loss: 5.1429 - val_mean_absolute_error: 5.1429\n",
            "Epoch 00016: early stopping\n"
          ],
          "name": "stdout"
        }
      ]
    },
    {
      "metadata": {
        "id": "r7A2wSjmIW2c",
        "colab_type": "text"
      },
      "cell_type": "markdown",
      "source": [
        "plot training loss history"
      ]
    },
    {
      "metadata": {
        "id": "2JnfhXjGIVSM",
        "colab_type": "code",
        "outputId": "46dc90e2-e96a-405e-d583-1b37ace9be47",
        "colab": {
          "base_uri": "https://localhost:8080/",
          "height": 376
        }
      },
      "cell_type": "code",
      "source": [
        "plt.plot(denoise_history.history['loss'])\n",
        "plt.plot(denoise_history.history['val_loss'])\n",
        "plt.title('model loss')\n",
        "plt.ylabel('loss')\n",
        "plt.xlabel('epoch')\n",
        "plt.legend(['train', 'test'], loc='upper left')\n",
        "plt.show()"
      ],
      "execution_count": 0,
      "outputs": [
        {
          "output_type": "display_data",
          "data": {
            "image/png": "[encoded data removed]",
            "text/plain": [
              "<Figure size 576x396 with 1 Axes>"
            ]
          },
          "metadata": {
            "tags": []
          }
        }
      ]
    },
    {
      "metadata": {
        "id": "Ohb6Q94z4yya",
        "colab_type": "text"
      },
      "cell_type": "markdown",
      "source": [
        "You may want to save the weights in your local disk. To do so, use:\n",
        "\n"
      ]
    },
    {
      "metadata": {
        "id": "GjAQRnPV47BI",
        "colab_type": "code",
        "colab": {}
      },
      "cell_type": "code",
      "source": [
        "from google.colab import files\n",
        "files.download('denoise.h5')"
      ],
      "execution_count": 0,
      "outputs": []
    },
    {
      "metadata": {
        "id": "e9FzSZzMEcs4",
        "colab_type": "text"
      },
      "cell_type": "markdown",
      "source": [
        "### Visualization of denoising results\n",
        "To visualize how the denoised patches look, you can run the following function. It returns the noisy patch, the denoised patch in the middle, and the clean patch in the right side. "
      ]
    },
    {
      "metadata": {
        "id": "XFA_8uN4Eb3B",
        "colab_type": "code",
        "outputId": "7945d6a5-8753-493e-b81f-6e3109be65fa",
        "colab": {
          "base_uri": "https://localhost:8080/",
          "height": 200
        }
      },
      "cell_type": "code",
      "source": [
        "plot_denoise(denoise_model)"
      ],
      "execution_count": 0,
      "outputs": [
        {
          "output_type": "stream",
          "text": [
            "100%|██████████| 1/1 [00:00<00:00,  1.55it/s]\n"
          ],
          "name": "stderr"
        },
        {
          "output_type": "display_data",
          "data": {
            "image/png": "[encoded data removed]",
            "text/plain": [
              "<Figure size 576x396 with 3 Axes>"
            ]
          },
          "metadata": {
            "tags": []
          }
        }
      ]
    },
    {
      "metadata": {
        "id": "SyABaCvkEPDR",
        "colab_type": "text"
      },
      "cell_type": "markdown",
      "source": [
        "## Training a Descriptor Network\n",
        "Now we train the network that generates the descriptors for the patch. We are going to use the triplet loss, which takes an anchor patch, a negative patch and a positive patch. The idea is to train the network so the descriptors from the anchor and positive patch have a low distance between them, and the negative and anchor patch have a large distance between them. \n",
        "\n",
        "In this cell we generate a triplet network, which is a network formed by three copies of the same network. That means that the descriptor model will compute the descriptor for the input `'a'` (anchor), the same descriptor model (with the same weights) will compute the descriptor for the input `'p'` (positive), and again the same model will compute the descriptor for the input `'n'` (negative). "
      ]
    },
    {
      "metadata": {
        "id": "DVmDZIRTHPDa",
        "colab_type": "code",
        "outputId": "b14fc7d8-5d96-4267-e8bd-08afe17e7290",
        "colab": {
          "base_uri": "https://localhost:8080/",
          "height": 88
        }
      },
      "cell_type": "code",
      "source": [
        "from keras.layers import Lambda\n",
        "shape = (32, 32, 1)\n",
        "xa = Input(shape=shape, name='a')\n",
        "xp = Input(shape=shape, name='p')\n",
        "xn = Input(shape=shape, name='n')\n",
        "descriptor_model = get_descriptor_model(shape)\n",
        "ea = descriptor_model(xa)\n",
        "ep = descriptor_model(xp)\n",
        "en = descriptor_model(xn)\n",
        "\n",
        "loss = Lambda(triplet_loss)([ea, ep, en])\n",
        "\n",
        "descriptor_model_trip = Model(inputs = [xa, xp, xn], outputs = loss)\n",
        "sgd = keras.optimizers.SGD(lr = 0.1)\n",
        "descriptor_model_trip.compile(loss='mean_absolute_error', optimizer=sgd)"
      ],
      "execution_count": 0,
      "outputs": [
        {
          "output_type": "stream",
          "text": [
            "WARNING:tensorflow:From /usr/local/lib/python2.7/dist-packages/keras/backend/tensorflow_backend.py:3445: calling dropout (from tensorflow.python.ops.nn_ops) with keep_prob is deprecated and will be removed in a future version.\n",
            "Instructions for updating:\n",
            "Please use `rate` instead of `keep_prob`. Rate should be set to `rate = 1 - keep_prob`.\n"
          ],
          "name": "stdout"
        }
      ]
    },
    {
      "metadata": {
        "id": "BllXKocHCwZ7",
        "colab_type": "text"
      },
      "cell_type": "markdown",
      "source": [
        "Here we use the class HPatches, which loads the corresponding files by using the method read_image_file. It reads the clean patches, which are the ones used for training in this baseline code. The output of read_image_file is a tuple of the form (images, labels), which is passed to the class DataGeneratorDesc. This class is a generator that creates batches of triplets, and each epoch is defined by the number of triplets in the argument `num_triplets`."
      ]
    },
    {
      "metadata": {
        "id": "YIR1cH4fDwKj",
        "colab_type": "code",
        "outputId": "acdc395a-6a86-49f8-eb61-741cf8ae0bdc",
        "colab": {
          "base_uri": "https://localhost:8080/",
          "height": 119
        }
      },
      "cell_type": "code",
      "source": [
        "### Descriptor loading and training\n",
        "# Loading images\n",
        "hPatches = HPatches(train_fnames = train_fnames, test_fnames = test_fnames)\n",
        "# Creating training generator\n",
        "training_generator = DataGeneratorDesc(*hPatches.read_image_file(hpatches_dir, train = 1), num_triplets = 100000)\n",
        "# Creating validation generator\n",
        "val_generator = DataGeneratorDesc(*hPatches.read_image_file(hpatches_dir, train = 0), num_triplets = 10000)\n"
      ],
      "execution_count": 0,
      "outputs": [
        {
          "output_type": "stream",
          "text": [
            "Using noisy patches\n",
            "100%|██████████| 116/116 [00:38<00:00,  3.01it/s]\n"
          ],
          "name": "stdout"
        },
        {
          "output_type": "stream",
          "text": [
            "100%|██████████| 100000/100000 [00:01<00:00, 57845.26it/s]\n"
          ],
          "name": "stderr"
        },
        {
          "output_type": "stream",
          "text": [
            "Using noisy patches\n",
            "100%|██████████| 116/116 [00:22<00:00,  2.29it/s]\n"
          ],
          "name": "stdout"
        },
        {
          "output_type": "stream",
          "text": [
            "100%|██████████| 10000/10000 [00:00<00:00, 60789.13it/s]\n"
          ],
          "name": "stderr"
        }
      ]
    },
    {
      "metadata": {
        "id": "GoQYyuD7_4PS",
        "colab_type": "text"
      },
      "cell_type": "markdown",
      "source": [
        "We plot a random triplet in the form of anchor, positive and negative sample"
      ]
    },
    {
      "metadata": {
        "id": "3RQmOMU92csu",
        "colab_type": "code",
        "outputId": "a4e067c9-b656-4851-f0ad-70cd13586868",
        "colab": {
          "base_uri": "https://localhost:8080/",
          "height": 183
        }
      },
      "cell_type": "code",
      "source": [
        "plot_triplet(training_generator)"
      ],
      "execution_count": 0,
      "outputs": [
        {
          "output_type": "display_data",
          "data": {
            "image/png": "[encoded data removed]",
            "text/plain": [
              "<Figure size 576x396 with 3 Axes>"
            ]
          },
          "metadata": {
            "tags": []
          }
        }
      ]
    },
    {
      "metadata": {
        "id": "UaE2_6HUCAOw",
        "colab_type": "text"
      },
      "cell_type": "markdown",
      "source": [
        "We now train the descriptor model and save the weights afterward."
      ]
    },
    {
      "metadata": {
        "id": "QPyc8as42WTQ",
        "colab_type": "code",
        "outputId": "08f5bad7-8a8c-4d17-d2b6-e56276f70f2a",
        "colab": {
          "base_uri": "https://localhost:8080/",
          "height": 51
        }
      },
      "cell_type": "code",
      "source": [
        "history = descriptor_model_trip.fit_generator(generator=training_generator, epochs=50, verbose=1, validation_data=val_generator)\n",
        "descriptor_model.save_weights('hardnet.h5') "
      ],
      "execution_count": 0,
      "outputs": [
        {
          "output_type": "stream",
          "text": [
            "Epoch 1/50\n",
            " 394/2000 [====>.........................] - ETA: 2:23 - loss: 0.3119"
          ],
          "name": "stdout"
        }
      ]
    },
    {
      "metadata": {
        "id": "NJ-r9D4hDxij",
        "colab_type": "text"
      },
      "cell_type": "markdown",
      "source": [
        "## Generating descriptors files for test data \n",
        "\n",
        "HPatches benchmark takes as input the descriptors for the test data in a CSV form. This function generates those files by passing it a descriptor model and a denoising model. It performs a first step of denoising the patches, and a second one of computing the descriptor of the denoised patch. If no denoising model is given (variable set to None), the descriptor is computed directly in the noisy patch."
      ]
    },
    {
      "metadata": {
        "id": "kiJb2XDG9bsJ",
        "colab_type": "code",
        "outputId": "693e45e4-bdc3-45d6-9d9c-f2dfdd55b32f",
        "colab": {
          "base_uri": "https://localhost:8080/",
          "height": 34
        }
      },
      "cell_type": "code",
      "source": [
        "generate_desc_csv(descriptor_model, denoise_model, seqs_test)"
      ],
      "execution_count": 0,
      "outputs": [
        {
          "output_type": "stream",
          "text": [
            "100%|██████████| 40/40 [07:43<00:00,  9.87s/it]\n"
          ],
          "name": "stderr"
        }
      ]
    },
    {
      "metadata": {
        "id": "s0jFr05rE1oI",
        "colab_type": "text"
      },
      "cell_type": "markdown",
      "source": [
        "## Evaluating descriptors in HPatches Benchmark\n",
        "We first download the official repository for HPatches Benchmark."
      ]
    },
    {
      "metadata": {
        "id": "r_53StvZE8MT",
        "colab_type": "code",
        "outputId": "4205d349-6a34-4831-9a15-b2db72d090be",
        "colab": {
          "base_uri": "https://localhost:8080/",
          "height": 119
        }
      },
      "cell_type": "code",
      "source": [
        "!git clone https://github.com/hpatches/hpatches-benchmark\n"
      ],
      "execution_count": 0,
      "outputs": [
        {
          "output_type": "stream",
          "text": [
            "Cloning into 'hpatches-benchmark'...\n",
            "remote: Enumerating objects: 1379, done.\u001b[K\n",
            "remote: Total 1379 (delta 0), reused 0 (delta 0), pack-reused 1379\u001b[K\n",
            "Receiving objects: 100% (1379/1379), 239.58 MiB | 20.52 MiB/s, done.\n",
            "Resolving deltas: 100% (758/758), done.\n",
            "Checking out files: 100% (135/135), done.\n"
          ],
          "name": "stdout"
        }
      ]
    },
    {
      "metadata": {
        "id": "YvOGRh3sc9Wo",
        "colab_type": "text"
      },
      "cell_type": "markdown",
      "source": [
        "Now we will perform the evaluation of three different tasks (Verification, Matching and Evaluation) using the CSV files we generated as input and the `hpatches_eval.py` script. We also print the results using the `hpatches_results.py` script.\n",
        "\n",
        "### Verification\n",
        "\n"
      ]
    },
    {
      "metadata": {
        "id": "Awnyv4xTYSFH",
        "colab_type": "code",
        "outputId": "8cd7a0f1-d74a-4283-f11e-e56adc1ad9db",
        "colab": {
          "base_uri": "https://localhost:8080/",
          "height": 425
        }
      },
      "cell_type": "code",
      "source": [
        "!python ./hpatches-benchmark/python/hpatches_eval.py --descr-name=custom --descr-dir=/content/keras_triplet_descriptor/out/ --task=verification --delimiter=\";\"\n",
        "!python ./hpatches-benchmark/python/hpatches_results.py --descr=custom --results-dir=./hpatches-benchmark/python/results/ --task=verification\n"
      ],
      "execution_count": 0,
      "outputs": [
        {
          "output_type": "stream",
          "text": [
            "\n",
            ">> Running HPatch evaluation for \u001b[34mcustom\u001b[0m\n",
            ">> Please wait, loading the descriptor files...\n",
            ">> Descriptor files loaded.\n",
            ">> Evaluating \u001b[32mverification\u001b[0m task\n",
            "Processing verification task 1/3 : 100% 1000000/1000000 [01:29<00:00, 11152.96it/s]\n",
            "Processing verification task 2/3 : 100% 1000000/1000000 [01:30<00:00, 11071.81it/s]\n",
            "Processing verification task 3/3 : 100% 1000000/1000000 [01:31<00:00, 10930.76it/s]\n",
            ">> \u001b[32mVerification\u001b[0m task finished in 280 secs  \n",
            "\u001b[32mVerification\u001b[0m task results:\n",
            "\u001b[34mCUSTOM\u001b[0m - Balanced variant (auc) \n",
            "Noise       Inter     Intra\n",
            "-------  --------  --------\n",
            "Easy     0.919498  0.887013\n",
            "Hard     0.899671  0.8601\n",
            "Tough    0.871768  0.825558\n",
            "\u001b[34mCUSTOM\u001b[0m - Imbalanced variant (ap) \n",
            "Noise       Inter     Intra\n",
            "-------  --------  --------\n",
            "Easy     0.806251  0.721069\n",
            "Hard     0.738682  0.627186\n",
            "Tough    0.657986  0.536444\n",
            "\n",
            "\n"
          ],
          "name": "stdout"
        }
      ]
    },
    {
      "metadata": {
        "id": "5290Bw-udJdr",
        "colab_type": "text"
      },
      "cell_type": "markdown",
      "source": [
        "### Matching"
      ]
    },
    {
      "metadata": {
        "id": "EUqpwi87ckJv",
        "colab_type": "code",
        "outputId": "6e721cd0-5414-43a3-d662-6df6d91325ad",
        "colab": {
          "base_uri": "https://localhost:8080/",
          "height": 289
        }
      },
      "cell_type": "code",
      "source": [
        "!python ./hpatches-benchmark/python/hpatches_eval.py --descr-name=custom --descr-dir=/content/keras_triplet_descriptor/out/ --task=matching --delimiter=\";\"\n",
        "!python ./hpatches-benchmark/python/hpatches_results.py --descr=custom --results-dir=./hpatches-benchmark/python/results/ --task=matching\n"
      ],
      "execution_count": 0,
      "outputs": [
        {
          "output_type": "stream",
          "text": [
            "\n",
            ">> Running HPatch evaluation for \u001b[34mcustom\u001b[0m\n",
            ">> Please wait, loading the descriptor files...\n",
            ">> Descriptor files loaded.\n",
            ">> Evaluating \u001b[32mmatching\u001b[0m task\n",
            "100% 40/40 [02:11<00:00,  4.44s/it]\n",
            ">> \u001b[32mMatching\u001b[0m task finished in 131 secs  \n",
            "\u001b[32mMatching\u001b[0m task results:\n",
            "\u001b[34mCUSTOM\u001b[0m - mAP \n",
            "    Easy       Hard      Tough       mean\n",
            "--------  ---------  ---------  ---------\n",
            "0.176051  0.0613619  0.0211228  0.0861787\n",
            "\n",
            "\n",
            "\n",
            "\n"
          ],
          "name": "stdout"
        }
      ]
    },
    {
      "metadata": {
        "id": "RXXgbN7DdMnx",
        "colab_type": "text"
      },
      "cell_type": "markdown",
      "source": [
        "### Retrieval"
      ]
    },
    {
      "metadata": {
        "id": "ZNmKIat1cn_M",
        "colab_type": "code",
        "outputId": "230a2a72-7666-4a7f-9cb9-de867e431e1f",
        "colab": {
          "base_uri": "https://localhost:8080/",
          "height": 377
        }
      },
      "cell_type": "code",
      "source": [
        "!python ./hpatches-benchmark/python/hpatches_eval.py --descr-name=custom --descr-dir=/content/keras_triplet_descriptor/out/ --task=retrieval --delimiter=\";\"\n",
        "!python ./hpatches-benchmark/python/hpatches_results.py --descr=custom --results-dir=./hpatches-benchmark/python/results/ --task=retrieval\n"
      ],
      "execution_count": 0,
      "outputs": [
        {
          "output_type": "stream",
          "text": [
            "\n",
            ">> Running HPatch evaluation for \u001b[34mcustom\u001b[0m\n",
            ">> Please wait, loading the descriptor files...\n",
            ">> Descriptor files loaded.\n",
            ">> Evaluating \u001b[32mretrieval\u001b[0m task\n",
            ">> Please wait, computing distance matrix...\n",
            "tcmalloc: large alloc 1600004096 bytes == 0x55dabd9de000 @  0x7efeb780f1e7 0x7efead410cf1 0x7efead4733a2 0x7efead4750de 0x7efead50c0e8 0x55da981c6fe5 0x55da981bcd0a 0x55da981c45fe 0x55da981c4232 0x55da981bcd0a 0x55da981c4c38 0x55da981bcd0a 0x55da981bc629 0x55da981ed61f 0x55da981e8322 0x55da981e767d 0x55da981961ab 0x7efeb740cb97 0x55da98195a2a\n",
            ">> Distance matrix done.\n",
            "Processing retrieval task: 100% 10000/10000 [04:00<00:00, 39.39it/s]\n",
            ">> \u001b[32mRetrieval\u001b[0m task finished in 262 secs  \n",
            "\u001b[32mRetrieval\u001b[0m task results:\n",
            "\u001b[34mCUSTOM\u001b[0m - mAP 10K queries \n",
            "Noise         100       500      1000      5000      10000      15000      20000\n",
            "-------  --------  --------  --------  --------  ---------  ---------  ---------\n",
            "Easy     0.718503  0.570151  0.51332   0.390093  0.342892   0.317955   0.302852\n",
            "Hard     0.648096  0.451448  0.376005  0.232388  0.184783   0.162229   0.149227\n",
            "Tough    0.557373  0.329664  0.253943  0.127413  0.0932104  0.0781029  0.0696238\n",
            "mean     0.641324  0.450421  0.381089  0.249964  0.206962   0.186096   0.173901\n",
            "\n",
            "\n"
          ],
          "name": "stdout"
        }
      ]
    },
    {
      "metadata": {
        "id": "8_2fBzUB5RF2",
        "colab_type": "text"
      },
      "cell_type": "markdown",
      "source": [
        "## Compressing and saving the CSV files \n",
        "\n",
        "We first compress the directory with all the CSV by using the following command. Remove the `q` option if you want it to output the progress."
      ]
    },
    {
      "metadata": {
        "id": "Lh_svT3p5Ww-",
        "colab_type": "code",
        "colab": {}
      },
      "cell_type": "code",
      "source": [
        "!zip -rq descriptors.zip ./out/custom"
      ],
      "execution_count": 0,
      "outputs": []
    },
    {
      "metadata": {
        "id": "svoL779J8AJK",
        "colab_type": "text"
      },
      "cell_type": "markdown",
      "source": [
        "The generated .zip is quite large, the method we used for the weights does not work. We have two other methods. First, in the file explorer in the left column we can right-click in the file and then click download. Then, we will see a circle next to the file showing the download progress.\n",
        "\n",
        "The second way does not require for you to download the files, it save the zip file in your Google Drive account, and you can download it later to your machine if you want. To do so, follow this method (found [here](https://stackoverflow.com/questions/49428332/how-to-download-large-files-like-weights-of-a-model-from-colaboratory)). First run the next cell, and the output will be a link for authentication purposes, and just follow the instructions"
      ]
    },
    {
      "metadata": {
        "id": "RjOmPv5z7Opx",
        "colab_type": "code",
        "colab": {}
      },
      "cell_type": "code",
      "source": [
        "from google.colab import auth\n",
        "from googleapiclient.http import MediaFileUpload\n",
        "from googleapiclient.discovery import build\n",
        "\n",
        "auth.authenticate_user()\n",
        "drive_service = build('drive', 'v3')\n",
        "\n",
        "def save_file_to_drive(name, path):\n",
        "  file_metadata = {\n",
        "    'name': name,\n",
        "    'mimeType': 'application/octet-stream'\n",
        "  }\n",
        "\n",
        "  media = MediaFileUpload(path, \n",
        "                          mimetype='application/octet-stream',\n",
        "                          resumable=True)\n",
        "\n",
        "  created = drive_service.files().create(body=file_metadata,\n",
        "                                  media_body=media,\n",
        "                                  fields='id').execute()\n",
        "\n",
        "  print('File ID: {}'.format(created.get('id')))\n",
        "\n",
        "  return created\n"
      ],
      "execution_count": 0,
      "outputs": []
    },
    {
      "metadata": {
        "id": "YfzjfMc59NKm",
        "colab_type": "text"
      },
      "cell_type": "markdown",
      "source": [
        "Now we can use the following function to save the file to your drive account. The second argument is the name of the file we want to save, and the first argument the name that will have in your Drive."
      ]
    },
    {
      "metadata": {
        "id": "UwrqWr_c7pAi",
        "colab_type": "code",
        "outputId": "39972cd1-8218-4f11-9e93-adf6c6f775ce",
        "colab": {
          "base_uri": "https://localhost:8080/",
          "height": 51
        }
      },
      "cell_type": "code",
      "source": [
        "save_file_to_drive('descriptors_save.zip', 'descriptors.zip')"
      ],
      "execution_count": 0,
      "outputs": [
        {
          "output_type": "stream",
          "text": [
            "File ID: 1-e2KuQ39Lgc26EzcwVu3drBeBk4aKmFd\n"
          ],
          "name": "stdout"
        },
        {
          "output_type": "execute_result",
          "data": {
            "text/plain": [
              "{u'id': u'1-e2KuQ39Lgc26EzcwVu3drBeBk4aKmFd'}"
            ]
          },
          "metadata": {
            "tags": []
          },
          "execution_count": 27
        }
      ]
    }
  ]
}