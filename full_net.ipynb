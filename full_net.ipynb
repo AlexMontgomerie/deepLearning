{
 "cells": [
  {
   "cell_type": "markdown",
   "metadata": {
    "colab_type": "text",
    "id": "view-in-github"
   },
   "source": [
    "<a href=\"https://colab.research.google.com/github/AlexMontgomerie/deepLearning/blob/master/full_net.ipynb\" target=\"_parent\"><img src=\"https://colab.research.google.com/assets/colab-badge.svg\" alt=\"Open In Colab\"/></a>"
   ]
  },
  {
   "cell_type": "code",
   "execution_count": 2,
   "metadata": {
    "colab": {
     "base_uri": "https://localhost:8080/",
     "height": 153
    },
    "colab_type": "code",
    "id": "tSMVa8-rncVS",
    "outputId": "ee943123-09ed-4617-94c7-268a24f61229"
   },
   "outputs": [
    {
     "name": "stdout",
     "output_type": "stream",
     "text": [
      "/content\n",
      "fatal: destination path 'deepLearning' already exists and is not an empty directory.\n",
      "/content/deepLearning\n",
      "Requirement already satisfied: gputil in /usr/local/lib/python2.7/dist-packages (1.4.0)\n",
      "Requirement already satisfied: psutil in /usr/local/lib/python2.7/dist-packages (5.4.8)\n",
      "Requirement already satisfied: humanize in /usr/local/lib/python2.7/dist-packages (0.5.1)\n",
      "('RAM Free: 12.9 GB', ' | Proc size: 154.6 MB')\n",
      "GPU RAM Free: 11441MB | Used: 0MB | Util   0% | Total 11441MB\n"
     ]
    }
   ],
   "source": [
    "%cd /content\n",
    "#!rm -rf deepLearning\n",
    "!git clone https://github.com/AlexMontgomerie/deepLearning\n",
    "%cd deepLearning\n",
    "# Taken from\n",
    "# https://stackoverflow.com/questions/48750199/google-colaboratory-misleading-information-about-its-gpu-only-5-ram-available\n",
    "# memory footprint support libraries/code\n",
    "!ln -sf /opt/bin/nvidia-smi /usr/bin/nvidia-smi\n",
    "!pip install gputil\n",
    "!pip install psutil\n",
    "!pip install humanize\n",
    "import psutil\n",
    "import humanize\n",
    "import os\n",
    "import GPUtil as GPU\n",
    "GPUs = GPU.getGPUs()\n",
    "# Colab only provides one GPU and it is not always guaranteed\n",
    "gpu = GPUs[0]\n",
    "def printm():\n",
    "  process = psutil.Process(os.getpid())\n",
    "  print(\"RAM Free: \" + humanize.naturalsize( psutil.virtual_memory().available ), \" | Proc size: \" + humanize.naturalsize( process.memory_info().rss))\n",
    "  print(\"GPU RAM Free: {0:.0f}MB | Used: {1:.0f}MB | Util {2:3.0f}% | Total {3:.0f}MB\".format(gpu.memoryFree, gpu.memoryUsed, gpu.memoryUtil*100, gpu.memoryTotal))\n",
    "printm()"
   ]
  },
  {
   "cell_type": "code",
   "execution_count": 4,
   "metadata": {
    "colab": {
     "base_uri": "https://localhost:8080/",
     "height": 479
    },
    "colab_type": "code",
    "id": "eWqnNDkSnqfz",
    "outputId": "76d7876e-6dc9-4132-a0d0-cae68ffea4e9"
   },
   "outputs": [
    {
     "name": "stderr",
     "output_type": "stream",
     "text": [
      "Using TensorFlow backend.\n"
     ]
    },
    {
     "name": "stdout",
     "output_type": "stream",
     "text": [
      "--2019-03-10 22:04:11--  https://imperialcollegelondon.box.com/shared/static/ah40eq7cxpwq4a6l4f62efzdyt8rm3ha.zip\n",
      "Resolving imperialcollegelondon.box.com (imperialcollegelondon.box.com)... 107.152.24.197, 107.152.25.197\n",
      "Connecting to imperialcollegelondon.box.com (imperialcollegelondon.box.com)|107.152.24.197|:443... connected.\n",
      "HTTP request sent, awaiting response... 301 Moved Permanently\n",
      "Location: /public/static/ah40eq7cxpwq4a6l4f62efzdyt8rm3ha.zip [following]\n",
      "--2019-03-10 22:04:11--  https://imperialcollegelondon.box.com/public/static/ah40eq7cxpwq4a6l4f62efzdyt8rm3ha.zip\n",
      "Reusing existing connection to imperialcollegelondon.box.com:443.\n",
      "HTTP request sent, awaiting response... 301 Moved Permanently\n",
      "Location: https://imperialcollegelondon.app.box.com/public/static/ah40eq7cxpwq4a6l4f62efzdyt8rm3ha.zip [following]\n",
      "--2019-03-10 22:04:12--  https://imperialcollegelondon.app.box.com/public/static/ah40eq7cxpwq4a6l4f62efzdyt8rm3ha.zip\n",
      "Resolving imperialcollegelondon.app.box.com (imperialcollegelondon.app.box.com)... 107.152.24.199, 107.152.25.199\n",
      "Connecting to imperialcollegelondon.app.box.com (imperialcollegelondon.app.box.com)|107.152.24.199|:443... connected.\n",
      "HTTP request sent, awaiting response... 302 Found\n",
      "Location: https://public.boxcloud.com/d/1/b1!VMLprtvvzMblbQPDLDZXQva1JRf9X51Hgq3z14d2ILKJbcSd6Banc50t38_v8nKbzxy5vPWC4kwdL7OXe3gO7JPHao5fWNsFpFmhIRd0gwHSssKYcWYG2P8H6CIjKaEvpI_i9-LhQbbvfkJ7ztbBUulEMKl9NI4EsR6q_u8t5oRoHNIaJm0ykqK_C0UcHpkAOcp7zZOkhCZGv3PQowe929uZ7tpUmIY6W2Hpih7tV647VaKpXZL627e6INLzkvelgp3i0Ba_9TlbrM8lY3ktENyQ7Y7qEZufeGJ26d3hhZCwJIZ-o_rYTebHB9VW51PJCm65KuX33vZ421X2OKOno_390dvPhvERIwQEcgUise04nWTkWVd6pDhtZHPXSdx8TkgUrah3JEcgEsFUce6svg407WO1AOfuB-uDAMNjY7IaqrFC2kZ_LMfQjTzSwovnTP6R5-z2k5IG4Jk2etg5lQUQDl7nH2Qp2dQmMsb-trFPxYWQWkEIIZ3RipB_Z4JwwkUo-R4fbDlHL5RacFKcTSrF_VV_dfn26FvGc4nbtqhuI9bDHtzaWbqt6HdL0k_e9a8YjPkwkcXNQo4XtUl--W94IS4j7SQyhQxGI44hWKOF_DpnFcPxq3imCRBQaVUjThrVPc7wbzeYie_d_crD_YERWtml0p3Vy84HMI98rxVt2gQxp5Whxorr6NkoENLkNdACcav--9AJDtuhNj2tCWlIdAYPnQmE_BSkVrQhN56urbxSafOSj84Nfqp8DY7SGNu4CqqewFNikVctMS2Gx-y9lKZTQFRDjyjUuPDXl8wL3OtrgGW3pJZaUzZFFKipgm69bJRpZOl4tPtFDjuJrCNyW6lPJF8y2x2I431MBmuoD1Gya7vth9jELd-5Ad8NHdg2wv2Yzk_O5mZ6kT_qDargX2vE-okt6uAkgL5c7MnQXbfrhtYUzInTi-DsJYrfySLlN7ODw27vC51IQu4WGDeUhfhDl08W0rRF5z7ka1x5CodRExDYtFEoFZBGaBna34HFan5Uu8KswUgIGmQXhhsrwOHJHeNTQRqfOJ3TkwnBHMQxrQ-0QuSzEfnp2RzsNANJU5zw6USDkM2XY2rEpNFmncByNGENlhjQ9WjvXMxUIa_-Jx_kfjVwb1Wr8Jdi5HZbOmiXeixVpciSTEuKAUw8_vVrpYqA2HU6t4qwvoi-YbzPisHNybX6avTPLVgd4o6u6LQfamrHzCR40Jc1-Oqf6-VoN-k0YNquy-0K1gpVG_34Vd7xDEuPHaZ_g1qfpMspIf-WQw0F49xfoRMO2bhReijRJVQb5IyFLG3i62o19CDTsNVVo_lVkRwpveTPckmpPMkqZwLrNPvMWndEyEetxr-nLDu5hzAH7luxn6PCdgqpe616cNLRxAXc-wn69UNzebL0p0ucxjB1uTLVBUA0p46W4kGTs6YJw95sWDFGqCTOs4-yRWh9Fm3ebx_wSd_FRvbOAoenyyd7SMW0f98lM0yNurfLvA../download [following]\n",
      "--2019-03-10 22:04:13--  https://public.boxcloud.com/d/1/b1!VMLprtvvzMblbQPDLDZXQva1JRf9X51Hgq3z14d2ILKJbcSd6Banc50t38_v8nKbzxy5vPWC4kwdL7OXe3gO7JPHao5fWNsFpFmhIRd0gwHSssKYcWYG2P8H6CIjKaEvpI_i9-LhQbbvfkJ7ztbBUulEMKl9NI4EsR6q_u8t5oRoHNIaJm0ykqK_C0UcHpkAOcp7zZOkhCZGv3PQowe929uZ7tpUmIY6W2Hpih7tV647VaKpXZL627e6INLzkvelgp3i0Ba_9TlbrM8lY3ktENyQ7Y7qEZufeGJ26d3hhZCwJIZ-o_rYTebHB9VW51PJCm65KuX33vZ421X2OKOno_390dvPhvERIwQEcgUise04nWTkWVd6pDhtZHPXSdx8TkgUrah3JEcgEsFUce6svg407WO1AOfuB-uDAMNjY7IaqrFC2kZ_LMfQjTzSwovnTP6R5-z2k5IG4Jk2etg5lQUQDl7nH2Qp2dQmMsb-trFPxYWQWkEIIZ3RipB_Z4JwwkUo-R4fbDlHL5RacFKcTSrF_VV_dfn26FvGc4nbtqhuI9bDHtzaWbqt6HdL0k_e9a8YjPkwkcXNQo4XtUl--W94IS4j7SQyhQxGI44hWKOF_DpnFcPxq3imCRBQaVUjThrVPc7wbzeYie_d_crD_YERWtml0p3Vy84HMI98rxVt2gQxp5Whxorr6NkoENLkNdACcav--9AJDtuhNj2tCWlIdAYPnQmE_BSkVrQhN56urbxSafOSj84Nfqp8DY7SGNu4CqqewFNikVctMS2Gx-y9lKZTQFRDjyjUuPDXl8wL3OtrgGW3pJZaUzZFFKipgm69bJRpZOl4tPtFDjuJrCNyW6lPJF8y2x2I431MBmuoD1Gya7vth9jELd-5Ad8NHdg2wv2Yzk_O5mZ6kT_qDargX2vE-okt6uAkgL5c7MnQXbfrhtYUzInTi-DsJYrfySLlN7ODw27vC51IQu4WGDeUhfhDl08W0rRF5z7ka1x5CodRExDYtFEoFZBGaBna34HFan5Uu8KswUgIGmQXhhsrwOHJHeNTQRqfOJ3TkwnBHMQxrQ-0QuSzEfnp2RzsNANJU5zw6USDkM2XY2rEpNFmncByNGENlhjQ9WjvXMxUIa_-Jx_kfjVwb1Wr8Jdi5HZbOmiXeixVpciSTEuKAUw8_vVrpYqA2HU6t4qwvoi-YbzPisHNybX6avTPLVgd4o6u6LQfamrHzCR40Jc1-Oqf6-VoN-k0YNquy-0K1gpVG_34Vd7xDEuPHaZ_g1qfpMspIf-WQw0F49xfoRMO2bhReijRJVQb5IyFLG3i62o19CDTsNVVo_lVkRwpveTPckmpPMkqZwLrNPvMWndEyEetxr-nLDu5hzAH7luxn6PCdgqpe616cNLRxAXc-wn69UNzebL0p0ucxjB1uTLVBUA0p46W4kGTs6YJw95sWDFGqCTOs4-yRWh9Fm3ebx_wSd_FRvbOAoenyyd7SMW0f98lM0yNurfLvA../download\n",
      "Resolving public.boxcloud.com (public.boxcloud.com)... 107.152.25.200\n",
      "Connecting to public.boxcloud.com (public.boxcloud.com)|107.152.25.200|:443... connected.\n",
      "HTTP request sent, awaiting response... 200 OK\n",
      "Length: 4088106554 (3.8G) [application/zip]\n",
      "Saving to: ‘hpatches_data.zip’\n",
      "\n",
      "hpatches_data.zip   100%[===================>]   3.81G  17.5MB/s    in 3m 42s  \n",
      "\n",
      "2019-03-10 22:07:55 (17.6 MB/s) - ‘hpatches_data.zip’ saved [4088106554/4088106554]\n",
      "\n"
     ]
    }
   ],
   "source": [
    "from common import *\n",
    "!./setup.sh"
   ]
  },
  {
   "cell_type": "code",
   "execution_count": null,
   "metadata": {
    "colab": {},
    "colab_type": "code",
    "id": "0YF2io-cnthT"
   },
   "outputs": [],
   "source": [
    "import sys\n",
    "import json\n",
    "import os\n",
    "import glob\n",
    "import keras\n",
    "from keras import regularizers\n",
    "from keras import backend as K\n",
    "from keras.models import Sequential, Model\n",
    "from keras.layers import Dense, Dropout, Activation, Flatten, Input, Lambda, Reshape\n",
    "from keras.layers import Conv2D, MaxPooling2D, BatchNormalization\n",
    "from keras.layers import Input, UpSampling2D, concatenate, Subtract\n",
    "import time\n",
    "import tensorflow as tf\n",
    "import numpy as np\n",
    "import cv2\n",
    "import random\n",
    "from read_data import HPatches, DataGeneratorDesc, hpatches_sequence_folder, DenoiseHPatches, STNHPatches, tps\n",
    "from utils import generate_desc_csv, plot_denoise, plot_triplet\n",
    "import matplotlib.pyplot as plt\n",
    "from layers import BilinearInterpolation\n",
    "from keras.layers import Layer, Lambda\n",
    "\n",
    "def run_sobel(image):\n",
    "  return tf.image.sobel_edges(image)[:,:,:,0]\n",
    "      \n",
    "\n",
    "def get_initial_weights(output_size):\n",
    "    b = np.zeros((2, 3), dtype='float32')\n",
    "    b[0, 0] = 1\n",
    "    b[1, 1] = 1\n",
    "    W = np.zeros((output_size, 6), dtype='float32')\n",
    "    weights = [W, b.flatten()]\n",
    "    return weights\n",
    "  \n",
    "def get_full_model(shape,stn_init=None):  \n",
    "    #shape = (32, 32, 1)\n",
    "\n",
    "    init_weights = keras.initializers.he_normal()\n",
    "    # input \n",
    "    inputs = Input(shape)\n",
    "    \n",
    "    # denoise network\n",
    "    depth1  = 32\n",
    "    conv1_1 = Conv2D(depth1, 1, padding = 'same', kernel_initializer = 'he_normal')(inputs)\n",
    "\n",
    "    # convolution layers\n",
    "    conv1_2  = Conv2D(depth1, 2 , activation = 'relu', padding = 'same', kernel_initializer = 'he_normal')(conv1_1)\n",
    "    conv1_3  = Conv2D(depth1, 3 , activation = 'relu', padding = 'same', kernel_initializer = 'he_normal')(conv1_1)\n",
    "    conv1_5  = Conv2D(depth1, 5 , activation = 'relu', padding = 'same', kernel_initializer = 'he_normal')(conv1_1)\n",
    "    conv1_7  = Conv2D(depth1, 7 , activation = 'relu', padding = 'same', kernel_initializer = 'he_normal')(conv1_1)\n",
    "    conv1_9  = Conv2D(depth1, 9 , activation = 'relu', padding = 'same', kernel_initializer = 'he_normal')(conv1_1)\n",
    "    conv1_11 = Conv2D(depth1, 11, activation = 'relu', padding = 'same', kernel_initializer = 'he_normal')(conv1_1)\n",
    "\n",
    "    # network\n",
    "    net1 = Subtract()([conv1_1, conv1_2])\n",
    "    net1 = BatchNormalization()(net1)\n",
    "    net1 = Subtract()([conv1_1, conv1_3])\n",
    "    net1 = BatchNormalization()(net1)\n",
    "    net1 = Subtract()([conv1_1, conv1_5])\n",
    "    net1 = BatchNormalization()(net1)\n",
    "    net1 = Subtract()([conv1_1, conv1_7])\n",
    "    net1 = BatchNormalization()(net1)\n",
    "    net1 = Subtract()([conv1_1, conv1_9])\n",
    "    net1 = BatchNormalization()(net1)\n",
    "    net1 = Subtract()([conv1_1, conv1_11])\n",
    "    net1 = BatchNormalization()(net1)  \n",
    "\n",
    "    # convolution layers\n",
    "    depth2 = 16\n",
    "    conv2_1  = Conv2D(depth2, 1, padding = 'same', kernel_initializer = 'he_normal')(net1)\n",
    "    conv2_2  = Conv2D(depth2, 2 , activation = 'relu', padding = 'same', kernel_initializer = 'he_normal')(conv2_1)\n",
    "    conv2_3  = Conv2D(depth2, 3 , activation = 'relu', padding = 'same', kernel_initializer = 'he_normal')(conv2_1)\n",
    "    conv2_5  = Conv2D(depth2, 5 , activation = 'relu', padding = 'same', kernel_initializer = 'he_normal')(conv2_1)\n",
    "    conv2_7  = Conv2D(depth2, 7 , activation = 'relu', padding = 'same', kernel_initializer = 'he_normal')(conv2_1)\n",
    "    conv2_9  = Conv2D(depth2, 9 , activation = 'relu', padding = 'same', kernel_initializer = 'he_normal')(conv2_1)\n",
    "    conv2_11 = Conv2D(depth2, 11, activation = 'relu', padding = 'same', kernel_initializer = 'he_normal')(conv2_1)\n",
    "\n",
    "    # network\n",
    "    net2 = Subtract()([conv2_1, conv2_2])\n",
    "    net2 = BatchNormalization()(net2)\n",
    "    net2 = Subtract()([conv2_1, conv2_3])\n",
    "    net2 = BatchNormalization()(net2)\n",
    "    net2 = Subtract()([conv2_1, conv2_5])\n",
    "    net2 = BatchNormalization()(net2)\n",
    "    net2 = Subtract()([conv2_1, conv2_7])\n",
    "    net2 = BatchNormalization()(net2)\n",
    "    net2 = Subtract()([conv2_1, conv2_9])\n",
    "    net2 = BatchNormalization()(net2)\n",
    "    net2 = Subtract()([conv2_1, conv2_11])\n",
    "    net2 = BatchNormalization()(net2)  \n",
    "\n",
    "    # convolution layers\n",
    "    depth3 = 8\n",
    "    conv3_1  = Conv2D(depth3, 1, padding = 'same', kernel_initializer = 'he_normal')(net1)\n",
    "    conv3_2  = Conv2D(depth3, 2 , activation = 'relu', padding = 'same', kernel_initializer = 'he_normal')(conv3_1)\n",
    "    conv3_3  = Conv2D(depth3, 3 , activation = 'relu', padding = 'same', kernel_initializer = 'he_normal')(conv3_1)\n",
    "    conv3_5  = Conv2D(depth3, 5 , activation = 'relu', padding = 'same', kernel_initializer = 'he_normal')(conv3_1)\n",
    "    conv3_7  = Conv2D(depth3, 7 , activation = 'relu', padding = 'same', kernel_initializer = 'he_normal')(conv3_1)\n",
    "    conv3_9  = Conv2D(depth3, 9 , activation = 'relu', padding = 'same', kernel_initializer = 'he_normal')(conv3_1)\n",
    "    conv3_11 = Conv2D(depth3, 11, activation = 'relu', padding = 'same', kernel_initializer = 'he_normal')(conv3_1)\n",
    "\n",
    "    # network\n",
    "    net3 = Subtract()([conv3_1, conv3_2])\n",
    "    net3 = BatchNormalization()(net3)\n",
    "    net3 = Subtract()([conv3_1, conv3_3])\n",
    "    net3 = BatchNormalization()(net3)\n",
    "    net3 = Subtract()([conv3_1, conv3_5])\n",
    "    net3 = BatchNormalization()(net3)\n",
    "    net3 = Subtract()([conv3_1, conv3_7])\n",
    "    net3 = BatchNormalization()(net3)\n",
    "    net3 = Subtract()([conv3_1, conv3_9])\n",
    "    net3 = BatchNormalization()(net3)\n",
    "    net3 = Subtract()([conv3_1, conv3_11])\n",
    "    net3 = BatchNormalization()(net3)  \n",
    "\n",
    "    #net = Conv2D(1, 1, activation = 'relu', padding = 'same', kernel_initializer = 'he_normal')(net3)\n",
    "  \n",
    "    \n",
    "    # stn network    \n",
    "    locnet = MaxPooling2D(pool_size=(2, 2))(net3)\n",
    "    locnet = Conv2D(32, 3, activation='relu', padding='same', kernel_initializer=init_weights)(locnet)\n",
    "    locnet = MaxPooling2D(pool_size=(2, 2))(locnet)\n",
    "    locnet = Conv2D(64, 3, activation='relu', padding='same', kernel_initializer=init_weights)(locnet)\n",
    "    locnet = MaxPooling2D(pool_size=(2, 2))(locnet)\n",
    "    locnet = Conv2D(128, 3, activation='relu', padding='same', kernel_initializer=init_weights)(locnet)\n",
    "    locnet = Flatten()(locnet)\n",
    "    locnet = Dense(100)(locnet)\n",
    "    locnet = Activation('sigmoid')(locnet)\n",
    "    weights = get_initial_weights(100)\n",
    "    locnet = Dense(6, weights=weights)(locnet)\n",
    "    stn    = BilinearInterpolation(shape[:-1])([net3, locnet])\n",
    "    \n",
    "    if stn_init:\n",
    "      stn.set_weights(stn_init.get_weights())\n",
    "      \n",
    "    # sobel\n",
    "    sobel = Lambda(run_sobel)(net3)\n",
    "    \n",
    "    # features in\n",
    "    l2net = concatenate([ net3, stn , sobel ], axis = -1)\n",
    "    \n",
    "    # L2 Net    \n",
    "    l2net = Conv2D(32, 3, padding='same', input_shape=shape, use_bias = True, kernel_initializer=init_weights)(l2net)\n",
    "    l2net = BatchNormalization(axis = -1)(l2net)\n",
    "    l2net = Activation('relu')(l2net)\n",
    "    \n",
    "    l2net = Conv2D(32, 3, padding='same', input_shape=shape, use_bias = True, kernel_initializer=init_weights)(l2net)\n",
    "    l2net = BatchNormalization(axis = -1)(l2net)\n",
    "    l2net = Activation('relu')(l2net)\n",
    "    \n",
    "    l2net = Conv2D(64, 3, padding='same', input_shape=shape, strides=2, use_bias = True, kernel_initializer=init_weights)(l2net)\n",
    "    l2net = BatchNormalization(axis = -1)(l2net)\n",
    "    l2net = Activation('relu')(l2net)\n",
    "    \n",
    "    l2net = Conv2D(64, 3, padding='same', input_shape=shape, use_bias = True, kernel_initializer=init_weights)(l2net)\n",
    "    l2net = BatchNormalization(axis = -1)(l2net)\n",
    "    l2net = Activation('relu')(l2net)\n",
    "    \n",
    "    l2net = Conv2D(128, 3, padding='same', input_shape=shape, strides=2, use_bias = True, kernel_initializer=init_weights)(l2net)\n",
    "    l2net = BatchNormalization(axis = -1)(l2net)\n",
    "    l2net = Activation('relu')(l2net)\n",
    "    \n",
    "    l2net = Conv2D(128, 3, padding='same', input_shape=shape, use_bias = True, kernel_initializer=init_weights)(l2net)\n",
    "    l2net = BatchNormalization(axis = -1)(l2net)\n",
    "    l2net = Activation('relu')(l2net)\n",
    "    \n",
    "    l2net = Conv2D(128, 8, padding='valid', input_shape=shape, use_bias = True, kernel_initializer=init_weights)(l2net)\n",
    "\n",
    "    l2net = Reshape((128,))(l2net)\n",
    "  \n",
    "    l2net = Model(inputs = inputs, outputs = l2net)\n",
    "    \n",
    "    descriptor_model = Sequential()\n",
    "    descriptor_model.add(l2net)\n",
    "    \n",
    "    return descriptor_model\n",
    "\n",
    "    \n",
    "  \n",
    "from keras.layers import Lambda\n",
    "shape = (32, 32, 1)\n",
    "xa = Input(shape=shape, name='a')\n",
    "xp = Input(shape=shape, name='p')\n",
    "xn = Input(shape=shape, name='n')\n",
    "descriptor_model = get_full_model(shape)\n",
    "ea = descriptor_model(xa)\n",
    "ep = descriptor_model(xp)\n",
    "en = descriptor_model(xn)\n",
    "\n",
    "  \n",
    "def triplet_loss(x):\n",
    "  \n",
    "  output_dim = 128\n",
    "  a, p, n = x\n",
    "  _alpha = 1.0\n",
    "  positive_distance = K.mean(K.square(a - p), axis=-1)\n",
    "  negative_distance = K.mean(K.square(a - n), axis=-1)\n",
    "  \n",
    "  return K.expand_dims(K.maximum(0.0, positive_distance - negative_distance + _alpha), axis = 1)\n",
    "\n",
    "\n",
    "loss = Lambda(triplet_loss)([ea, ep, en])\n",
    "\n",
    "descriptor_model_trip = Model(inputs=[xa, xp, xn], outputs=loss)\n",
    "sgd = keras.optimizers.SGD(lr=0.1)\n",
    "descriptor_model_trip.compile(loss='mean_absolute_error', optimizer=sgd)"
   ]
  },
  {
   "cell_type": "code",
   "execution_count": 11,
   "metadata": {
    "colab": {
     "base_uri": "https://localhost:8080/",
     "height": 119
    },
    "colab_type": "code",
    "id": "KgVmVZrHobrE",
    "outputId": "4296a9b0-0e8d-4234-c6ba-01fa74d0a38c"
   },
   "outputs": [
    {
     "name": "stdout",
     "output_type": "stream",
     "text": [
      "Using noisy patches\n",
      "100%|██████████| 116/116 [00:32<00:00,  2.95it/s]\n"
     ]
    },
    {
     "name": "stderr",
     "output_type": "stream",
     "text": [
      "100%|██████████| 100000/100000 [00:01<00:00, 85531.34it/s]\n"
     ]
    },
    {
     "name": "stdout",
     "output_type": "stream",
     "text": [
      "Using noisy patches\n",
      "100%|██████████| 116/116 [00:20<00:00,  5.56it/s]\n"
     ]
    },
    {
     "name": "stderr",
     "output_type": "stream",
     "text": [
      "100%|██████████| 10000/10000 [00:00<00:00, 85836.81it/s]\n"
     ]
    }
   ],
   "source": [
    "hpatches_dir = './hpatches'\n",
    "splits_path = './splits.json'\n",
    "\n",
    "splits_json = json.load(open(splits_path, 'rb'))\n",
    "split = splits_json['a']\n",
    "\n",
    "train_fnames = split['train']\n",
    "test_fnames = split['test']\n",
    "\n",
    "seqs = glob.glob(hpatches_dir+'/*')\n",
    "seqs = [os.path.abspath(p) for p in seqs]   \n",
    "seqs_train = list(filter(lambda x: x.split('/')[-1] in train_fnames, seqs)) \n",
    "seqs_test = list(filter(lambda x: x.split('/')[-1] in split['test'], seqs))\n",
    "\n",
    "### Descriptor loading and training\n",
    "# Loading images\n",
    "hPatches = HPatches(train_fnames=train_fnames, test_fnames=test_fnames,\n",
    "                    use_clean=False)\n",
    "# Creating training generator\n",
    "training_generator = DataGeneratorDesc(*hPatches.read_image_file(hpatches_dir, train=1), num_triplets=100000, batch_size=500)\n",
    "# Creating validation generator\n",
    "val_generator = DataGeneratorDesc(*hPatches.read_image_file(hpatches_dir, train=0), num_triplets=10000, batch_size=500)"
   ]
  },
  {
   "cell_type": "code",
   "execution_count": 15,
   "metadata": {
    "colab": {
     "base_uri": "https://localhost:8080/",
     "height": 2706
    },
    "colab_type": "code",
    "id": "pJvLxFWrohDD",
    "outputId": "6036f8f3-1283-4b6b-ed1d-35fe1e93d59c"
   },
   "outputs": [
    {
     "name": "stdout",
     "output_type": "stream",
     "text": [
      "Epoch 1/50\n",
      "199/200 [============================>.] - ETA: 0s - loss: 0.0855"
     ]
    },
    {
     "name": "stderr",
     "output_type": "stream",
     "text": [
      "100%|██████████| 100000/100000 [00:02<00:00, 38652.77it/s]\n"
     ]
    },
    {
     "name": "stdout",
     "output_type": "stream",
     "text": [
      "\b\b\b\b\b\b\b\b\b\b\b\b\b\b\b\b\b\b\b\b\b\b\b\b\b\b\b\b\b\b\b\b\b\b\b\b\b\b\b\b\b\b\b\b\b\b\b\b\b\b\b\b\b\b\b\b\b\b\b\b\b\b\b\b\b\r",
      "200/200 [==============================] - 195s 974ms/step - loss: 0.0856 - val_loss: 0.1429\n",
      "\n",
      "Epoch 00001: val_loss improved from inf to 0.14293, saving model to data/descriptor_model.weights.01-0.14.hdf5\n",
      "Epoch 2/50\n",
      "  1/200 [..............................] - ETA: 3:28 - loss: 0.0755"
     ]
    },
    {
     "name": "stderr",
     "output_type": "stream",
     "text": [
      "100%|██████████| 10000/10000 [00:00<00:00, 44640.06it/s]\n"
     ]
    },
    {
     "name": "stdout",
     "output_type": "stream",
     "text": [
      "199/200 [============================>.] - ETA: 0s - loss: 0.0855"
     ]
    },
    {
     "name": "stderr",
     "output_type": "stream",
     "text": [
      "100%|██████████| 100000/100000 [00:02<00:00, 42076.00it/s]\n"
     ]
    },
    {
     "name": "stdout",
     "output_type": "stream",
     "text": [
      "\b\b\b\b\b\b\b\b\b\b\b\b\b\b\b\b\b\b\b\b\b\b\b\b\b\b\b\b\b\b\b\b\b\b\b\b\b\b\b\b\b\b\b\b\b\b\b\b\b\b\b\b\b\b\b\b\b\b\b\b\b\b\b\b\b\r",
      "200/200 [==============================] - 194s 972ms/step - loss: 0.0854 - val_loss: 0.1234\n",
      "\n",
      "Epoch 00002: val_loss improved from 0.14293 to 0.12344, saving model to data/descriptor_model.weights.02-0.12.hdf5\n",
      "Epoch 3/50\n"
     ]
    },
    {
     "name": "stderr",
     "output_type": "stream",
     "text": [
      " 46%|████▌     | 4609/10000 [00:00<00:00, 46078.51it/s]"
     ]
    },
    {
     "name": "stdout",
     "output_type": "stream",
     "text": [
      "\r",
      "  1/200 [..............................] - ETA: 3:45 - loss: 0.1110"
     ]
    },
    {
     "name": "stderr",
     "output_type": "stream",
     "text": [
      "100%|██████████| 10000/10000 [00:00<00:00, 13105.34it/s]\n"
     ]
    },
    {
     "name": "stdout",
     "output_type": "stream",
     "text": [
      "199/200 [============================>.] - ETA: 0s - loss: 0.0840"
     ]
    },
    {
     "name": "stderr",
     "output_type": "stream",
     "text": [
      "100%|██████████| 100000/100000 [00:02<00:00, 41037.56it/s]\n"
     ]
    },
    {
     "name": "stdout",
     "output_type": "stream",
     "text": [
      "\b\b\b\b\b\b\b\b\b\b\b\b\b\b\b\b\b\b\b\b\b\b\b\b\b\b\b\b\b\b\b\b\b\b\b\b\b\b\b\b\b\b\b\b\b\b\b\b\b\b\b\b\b\b\b\b\b\b\b\b\b\b\b\b\b\r",
      "200/200 [==============================] - 194s 970ms/step - loss: 0.0841 - val_loss: 0.1242\n",
      "\n",
      "Epoch 00003: val_loss did not improve from 0.12344\n",
      "Epoch 4/50\n"
     ]
    },
    {
     "name": "stderr",
     "output_type": "stream",
     "text": [
      "100%|██████████| 10000/10000 [00:00<00:00, 44966.06it/s]\n"
     ]
    },
    {
     "name": "stdout",
     "output_type": "stream",
     "text": [
      "199/200 [============================>.] - ETA: 0s - loss: 0.0838"
     ]
    },
    {
     "name": "stderr",
     "output_type": "stream",
     "text": [
      "100%|██████████| 100000/100000 [00:02<00:00, 41190.95it/s]\n"
     ]
    },
    {
     "name": "stdout",
     "output_type": "stream",
     "text": [
      "\b\b\b\b\b\b\b\b\b\b\b\b\b\b\b\b\b\b\b\b\b\b\b\b\b\b\b\b\b\b\b\b\b\b\b\b\b\b\b\b\b\b\b\b\b\b\b\b\b\b\b\b\b\b\b\b\b\b\b\b\b\b\b\b\b\r",
      "200/200 [==============================] - 195s 974ms/step - loss: 0.0838 - val_loss: 0.1221\n",
      "\n",
      "Epoch 00004: val_loss improved from 0.12344 to 0.12212, saving model to data/descriptor_model.weights.04-0.12.hdf5\n",
      "Epoch 5/50\n"
     ]
    },
    {
     "name": "stderr",
     "output_type": "stream",
     "text": [
      " 99%|█████████▉| 9881/10000 [00:00<00:00, 49112.12it/s]"
     ]
    },
    {
     "name": "stdout",
     "output_type": "stream",
     "text": [
      "\r",
      "  1/200 [..............................] - ETA: 3:51 - loss: 0.1142"
     ]
    },
    {
     "name": "stderr",
     "output_type": "stream",
     "text": [
      "\r",
      "100%|██████████| 10000/10000 [00:00<00:00, 14334.68it/s]\n"
     ]
    },
    {
     "name": "stdout",
     "output_type": "stream",
     "text": [
      "199/200 [============================>.] - ETA: 0s - loss: 0.0843"
     ]
    },
    {
     "name": "stderr",
     "output_type": "stream",
     "text": [
      "100%|██████████| 100000/100000 [00:02<00:00, 44797.19it/s]\n"
     ]
    },
    {
     "name": "stdout",
     "output_type": "stream",
     "text": [
      "\b\b\b\b\b\b\b\b\b\b\b\b\b\b\b\b\b\b\b\b\b\b\b\b\b\b\b\b\b\b\b\b\b\b\b\b\b\b\b\b\b\b\b\b\b\b\b\b\b\b\b\b\b\b\b\b\b\b\b\b\b\b\b\b\b\r",
      "200/200 [==============================] - 195s 976ms/step - loss: 0.0842 - val_loss: 0.1149\n",
      "\n",
      "Epoch 00005: val_loss improved from 0.12212 to 0.11493, saving model to data/descriptor_model.weights.05-0.11.hdf5\n",
      "Epoch 6/50\n"
     ]
    },
    {
     "name": "stderr",
     "output_type": "stream",
     "text": [
      "100%|██████████| 10000/10000 [00:00<00:00, 45552.28it/s]\n"
     ]
    },
    {
     "name": "stdout",
     "output_type": "stream",
     "text": [
      "199/200 [============================>.] - ETA: 0s - loss: 0.0820"
     ]
    },
    {
     "name": "stderr",
     "output_type": "stream",
     "text": [
      "100%|██████████| 100000/100000 [00:02<00:00, 40180.89it/s]\n"
     ]
    },
    {
     "name": "stdout",
     "output_type": "stream",
     "text": [
      "\b\b\b\b\b\b\b\b\b\b\b\b\b\b\b\b\b\b\b\b\b\b\b\b\b\b\b\b\b\b\b\b\b\b\b\b\b\b\b\b\b\b\b\b\b\b\b\b\b\b\b\b\b\b\b\b\b\b\b\b\b\b\b\b\b\r",
      "200/200 [==============================] - 195s 974ms/step - loss: 0.0820 - val_loss: 0.1145\n",
      "\n",
      "Epoch 00006: val_loss improved from 0.11493 to 0.11448, saving model to data/descriptor_model.weights.06-0.11.hdf5\n",
      "Epoch 7/50\n"
     ]
    },
    {
     "name": "stderr",
     "output_type": "stream",
     "text": [
      "100%|██████████| 10000/10000 [00:00<00:00, 45480.61it/s]\n"
     ]
    },
    {
     "name": "stdout",
     "output_type": "stream",
     "text": [
      "199/200 [============================>.] - ETA: 0s - loss: 0.0858"
     ]
    },
    {
     "name": "stderr",
     "output_type": "stream",
     "text": [
      "100%|██████████| 100000/100000 [00:02<00:00, 42861.81it/s]\n"
     ]
    },
    {
     "name": "stdout",
     "output_type": "stream",
     "text": [
      "\b\b\b\b\b\b\b\b\b\b\b\b\b\b\b\b\b\b\b\b\b\b\b\b\b\b\b\b\b\b\b\b\b\b\b\b\b\b\b\b\b\b\b\b\b\b\b\b\b\b\b\b\b\b\b\b\b\b\b\b\b\b\b\b\b\r",
      "200/200 [==============================] - 195s 977ms/step - loss: 0.0859 - val_loss: 0.1204\n",
      "\n",
      "Epoch 00007: val_loss did not improve from 0.11448\n",
      "Epoch 8/50\n"
     ]
    },
    {
     "name": "stderr",
     "output_type": "stream",
     "text": [
      "100%|██████████| 10000/10000 [00:00<00:00, 43929.21it/s]\n"
     ]
    },
    {
     "name": "stdout",
     "output_type": "stream",
     "text": [
      "199/200 [============================>.] - ETA: 0s - loss: 0.0854"
     ]
    },
    {
     "name": "stderr",
     "output_type": "stream",
     "text": [
      "100%|██████████| 100000/100000 [00:02<00:00, 41112.08it/s]\n"
     ]
    },
    {
     "name": "stdout",
     "output_type": "stream",
     "text": [
      "\b\b\b\b\b\b\b\b\b\b\b\b\b\b\b\b\b\b\b\b\b\b\b\b\b\b\b\b\b\b\b\b\b\b\b\b\b\b\b\b\b\b\b\b\b\b\b\b\b\b\b\b\b\b\b\b\b\b\b\b\b\b\b\b\b\r",
      "200/200 [==============================] - 195s 975ms/step - loss: 0.0852 - val_loss: 0.1171\n",
      "\n",
      "Epoch 00008: val_loss did not improve from 0.11448\n",
      "Epoch 9/50\n"
     ]
    },
    {
     "name": "stderr",
     "output_type": "stream",
     "text": [
      "100%|██████████| 10000/10000 [00:00<00:00, 45626.27it/s]\n"
     ]
    },
    {
     "name": "stdout",
     "output_type": "stream",
     "text": [
      "199/200 [============================>.] - ETA: 0s - loss: 0.0827"
     ]
    },
    {
     "name": "stderr",
     "output_type": "stream",
     "text": [
      "100%|██████████| 100000/100000 [00:02<00:00, 40099.24it/s]\n"
     ]
    },
    {
     "name": "stdout",
     "output_type": "stream",
     "text": [
      "\b\b\b\b\b\b\b\b\b\b\b\b\b\b\b\b\b\b\b\b\b\b\b\b\b\b\b\b\b\b\b\b\b\b\b\b\b\b\b\b\b\b\b\b\b\b\b\b\b\b\b\b\b\b\b\b\b\b\b\b\b\b\b\b\b\r",
      "200/200 [==============================] - 195s 974ms/step - loss: 0.0827 - val_loss: 0.1171\n",
      "\n",
      "Epoch 00009: val_loss did not improve from 0.11448\n",
      "Epoch 10/50\n"
     ]
    },
    {
     "name": "stderr",
     "output_type": "stream",
     "text": [
      "100%|██████████| 10000/10000 [00:00<00:00, 43601.10it/s]\n"
     ]
    },
    {
     "name": "stdout",
     "output_type": "stream",
     "text": [
      "199/200 [============================>.] - ETA: 0s - loss: 0.0832"
     ]
    },
    {
     "name": "stderr",
     "output_type": "stream",
     "text": [
      "100%|██████████| 100000/100000 [00:02<00:00, 40498.49it/s]\n"
     ]
    },
    {
     "name": "stdout",
     "output_type": "stream",
     "text": [
      "\b\b\b\b\b\b\b\b\b\b\b\b\b\b\b\b\b\b\b\b\b\b\b\b\b\b\b\b\b\b\b\b\b\b\b\b\b\b\b\b\b\b\b\b\b\b\b\b\b\b\b\b\b\b\b\b\b\b\b\b\b\b\b\b\b\r",
      "200/200 [==============================] - 195s 977ms/step - loss: 0.0833 - val_loss: 0.1267\n",
      "\n",
      "Epoch 00010: val_loss did not improve from 0.11448\n",
      "Epoch 11/50\n"
     ]
    },
    {
     "name": "stderr",
     "output_type": "stream",
     "text": [
      "100%|██████████| 10000/10000 [00:00<00:00, 44997.18it/s]\n"
     ]
    },
    {
     "name": "stdout",
     "output_type": "stream",
     "text": [
      "199/200 [============================>.] - ETA: 0s - loss: 0.0808"
     ]
    },
    {
     "name": "stderr",
     "output_type": "stream",
     "text": [
      "100%|██████████| 100000/100000 [00:02<00:00, 43386.83it/s]\n"
     ]
    },
    {
     "name": "stdout",
     "output_type": "stream",
     "text": [
      "\b\b\b\b\b\b\b\b\b\b\b\b\b\b\b\b\b\b\b\b\b\b\b\b\b\b\b\b\b\b\b\b\b\b\b\b\b\b\b\b\b\b\b\b\b\b\b\b\b\b\b\b\b\b\b\b\b\b\b\b\b\b\b\b\b\r",
      "200/200 [==============================] - 195s 977ms/step - loss: 0.0809 - val_loss: 0.1124\n",
      "\n",
      "Epoch 00011: val_loss improved from 0.11448 to 0.11241, saving model to data/descriptor_model.weights.11-0.11.hdf5\n",
      "Epoch 12/50\n"
     ]
    },
    {
     "name": "stderr",
     "output_type": "stream",
     "text": [
      "100%|██████████| 10000/10000 [00:00<00:00, 43716.81it/s]\n"
     ]
    },
    {
     "name": "stdout",
     "output_type": "stream",
     "text": [
      "199/200 [============================>.] - ETA: 0s - loss: 0.0805"
     ]
    },
    {
     "name": "stderr",
     "output_type": "stream",
     "text": [
      "100%|██████████| 100000/100000 [00:02<00:00, 43533.25it/s]\n"
     ]
    },
    {
     "name": "stdout",
     "output_type": "stream",
     "text": [
      "\b\b\b\b\b\b\b\b\b\b\b\b\b\b\b\b\b\b\b\b\b\b\b\b\b\b\b\b\b\b\b\b\b\b\b\b\b\b\b\b\b\b\b\b\b\b\b\b\b\b\b\b\b\b\b\b\b\b\b\b\b\b\b\b\b\r",
      "200/200 [==============================] - 196s 979ms/step - loss: 0.0805 - val_loss: 0.1141\n",
      "\n",
      "Epoch 00012: val_loss did not improve from 0.11241\n",
      "Epoch 13/50\n"
     ]
    },
    {
     "name": "stderr",
     "output_type": "stream",
     "text": [
      "100%|██████████| 10000/10000 [00:00<00:00, 45154.47it/s]\n"
     ]
    },
    {
     "name": "stdout",
     "output_type": "stream",
     "text": [
      "199/200 [============================>.] - ETA: 0s - loss: 0.0817"
     ]
    },
    {
     "name": "stderr",
     "output_type": "stream",
     "text": [
      "100%|██████████| 100000/100000 [00:02<00:00, 39905.85it/s]\n"
     ]
    },
    {
     "name": "stdout",
     "output_type": "stream",
     "text": [
      "\b\b\b\b\b\b\b\b\b\b\b\b\b\b\b\b\b\b\b\b\b\b\b\b\b\b\b\b\b\b\b\b\b\b\b\b\b\b\b\b\b\b\b\b\b\b\b\b\b\b\b\b\b\b\b\b\b\b\b\b\b\b\b\b\b\r",
      "200/200 [==============================] - 196s 978ms/step - loss: 0.0817 - val_loss: 0.1183\n",
      "\n",
      "Epoch 00013: val_loss did not improve from 0.11241\n",
      "Epoch 14/50\n"
     ]
    },
    {
     "name": "stderr",
     "output_type": "stream",
     "text": [
      "100%|██████████| 10000/10000 [00:00<00:00, 43795.14it/s]\n"
     ]
    },
    {
     "name": "stdout",
     "output_type": "stream",
     "text": [
      "199/200 [============================>.] - ETA: 0s - loss: 0.0805"
     ]
    },
    {
     "name": "stderr",
     "output_type": "stream",
     "text": [
      "100%|██████████| 100000/100000 [00:02<00:00, 43913.48it/s]\n"
     ]
    },
    {
     "name": "stdout",
     "output_type": "stream",
     "text": [
      "\b\b\b\b\b\b\b\b\b\b\b\b\b\b\b\b\b\b\b\b\b\b\b\b\b\b\b\b\b\b\b\b\b\b\b\b\b\b\b\b\b\b\b\b\b\b\b\b\b\b\b\b\b\b\b\b\b\b\b\b\b\b\b\b\b\r",
      "200/200 [==============================] - 195s 976ms/step - loss: 0.0806 - val_loss: 0.1108\n",
      "\n",
      "Epoch 00014: val_loss improved from 0.11241 to 0.11076, saving model to data/descriptor_model.weights.14-0.11.hdf5\n",
      "Epoch 15/50\n"
     ]
    },
    {
     "name": "stderr",
     "output_type": "stream",
     "text": [
      "100%|██████████| 10000/10000 [00:00<00:00, 44658.60it/s]\n"
     ]
    },
    {
     "name": "stdout",
     "output_type": "stream",
     "text": [
      "199/200 [============================>.] - ETA: 0s - loss: 0.0794"
     ]
    },
    {
     "name": "stderr",
     "output_type": "stream",
     "text": [
      "100%|██████████| 100000/100000 [00:02<00:00, 45912.67it/s]\n"
     ]
    },
    {
     "name": "stdout",
     "output_type": "stream",
     "text": [
      "\b\b\b\b\b\b\b\b\b\b\b\b\b\b\b\b\b\b\b\b\b\b\b\b\b\b\b\b\b\b\b\b\b\b\b\b\b\b\b\b\b\b\b\b\b\b\b\b\b\b\b\b\b\b\b\b\b\b\b\b\b\b\b\b\b\r",
      "200/200 [==============================] - 195s 975ms/step - loss: 0.0794 - val_loss: 0.1304\n",
      "\n",
      "Epoch 00015: val_loss did not improve from 0.11076\n",
      "Epoch 16/50\n"
     ]
    },
    {
     "name": "stderr",
     "output_type": "stream",
     "text": [
      "100%|██████████| 10000/10000 [00:00<00:00, 44358.68it/s]\n"
     ]
    },
    {
     "name": "stdout",
     "output_type": "stream",
     "text": [
      "199/200 [============================>.] - ETA: 0s - loss: 0.0811"
     ]
    },
    {
     "name": "stderr",
     "output_type": "stream",
     "text": [
      "100%|██████████| 100000/100000 [00:02<00:00, 40207.92it/s]\n"
     ]
    },
    {
     "name": "stdout",
     "output_type": "stream",
     "text": [
      "\b\b\b\b\b\b\b\b\b\b\b\b\b\b\b\b\b\b\b\b\b\b\b\b\b\b\b\b\b\b\b\b\b\b\b\b\b\b\b\b\b\b\b\b\b\b\b\b\b\b\b\b\b\b\b\b\b\b\b\b\b\b\b\b\b\r",
      "200/200 [==============================] - 195s 975ms/step - loss: 0.0811 - val_loss: 0.1086\n",
      "\n",
      "Epoch 00016: val_loss improved from 0.11076 to 0.10862, saving model to data/descriptor_model.weights.16-0.11.hdf5\n",
      "Epoch 17/50\n"
     ]
    },
    {
     "name": "stderr",
     "output_type": "stream",
     "text": [
      "100%|██████████| 10000/10000 [00:00<00:00, 45948.51it/s]\n"
     ]
    },
    {
     "name": "stdout",
     "output_type": "stream",
     "text": [
      "199/200 [============================>.] - ETA: 0s - loss: 0.0782"
     ]
    },
    {
     "name": "stderr",
     "output_type": "stream",
     "text": [
      "100%|██████████| 100000/100000 [00:02<00:00, 42136.49it/s]\n"
     ]
    },
    {
     "name": "stdout",
     "output_type": "stream",
     "text": [
      "\b\b\b\b\b\b\b\b\b\b\b\b\b\b\b\b\b\b\b\b\b\b\b\b\b\b\b\b\b\b\b\b\b\b\b\b\b\b\b\b\b\b\b\b\b\b\b\b\b\b\b\b\b\b\b\b\b\b\b\b\b\b\b\b\b\r",
      "200/200 [==============================] - 196s 978ms/step - loss: 0.0783 - val_loss: 0.1156\n",
      "\n",
      "Epoch 00017: val_loss did not improve from 0.10862\n",
      "Epoch 18/50\n"
     ]
    },
    {
     "name": "stderr",
     "output_type": "stream",
     "text": [
      "100%|██████████| 10000/10000 [00:00<00:00, 44169.21it/s]\n"
     ]
    },
    {
     "name": "stdout",
     "output_type": "stream",
     "text": [
      "199/200 [============================>.] - ETA: 0s - loss: 0.0800"
     ]
    },
    {
     "name": "stderr",
     "output_type": "stream",
     "text": [
      "100%|██████████| 100000/100000 [00:02<00:00, 41808.10it/s]\n"
     ]
    },
    {
     "name": "stdout",
     "output_type": "stream",
     "text": [
      "\b\b\b\b\b\b\b\b\b\b\b\b\b\b\b\b\b\b\b\b\b\b\b\b\b\b\b\b\b\b\b\b\b\b\b\b\b\b\b\b\b\b\b\b\b\b\b\b\b\b\b\b\b\b\b\b\b\b\b\b\b\b\b\b\b\r",
      "200/200 [==============================] - 196s 978ms/step - loss: 0.0799 - val_loss: 0.1193\n",
      "\n",
      "Epoch 00018: val_loss did not improve from 0.10862\n",
      "Epoch 19/50\n"
     ]
    },
    {
     "name": "stderr",
     "output_type": "stream",
     "text": [
      "100%|██████████| 10000/10000 [00:00<00:00, 44136.63it/s]\n"
     ]
    },
    {
     "name": "stdout",
     "output_type": "stream",
     "text": [
      "199/200 [============================>.] - ETA: 0s - loss: 0.0795"
     ]
    },
    {
     "name": "stderr",
     "output_type": "stream",
     "text": [
      "100%|██████████| 100000/100000 [00:02<00:00, 43904.61it/s]\n"
     ]
    },
    {
     "name": "stdout",
     "output_type": "stream",
     "text": [
      "\b\b\b\b\b\b\b\b\b\b\b\b\b\b\b\b\b\b\b\b\b\b\b\b\b\b\b\b\b\b\b\b\b\b\b\b\b\b\b\b\b\b\b\b\b\b\b\b\b\b\b\b\b\b\b\b\b\b\b\b\b\b\b\b\b\r",
      "200/200 [==============================] - 196s 979ms/step - loss: 0.0796 - val_loss: 0.1182\n",
      "\n",
      "Epoch 00019: val_loss did not improve from 0.10862\n",
      "Epoch 20/50\n"
     ]
    },
    {
     "name": "stderr",
     "output_type": "stream",
     "text": [
      "100%|██████████| 10000/10000 [00:00<00:00, 45178.16it/s]\n"
     ]
    },
    {
     "name": "stdout",
     "output_type": "stream",
     "text": [
      "199/200 [============================>.] - ETA: 0s - loss: 0.0782"
     ]
    },
    {
     "name": "stderr",
     "output_type": "stream",
     "text": [
      "100%|██████████| 100000/100000 [00:02<00:00, 40429.80it/s]\n"
     ]
    },
    {
     "name": "stdout",
     "output_type": "stream",
     "text": [
      "\b\b\b\b\b\b\b\b\b\b\b\b\b\b\b\b\b\b\b\b\b\b\b\b\b\b\b\b\b\b\b\b\b\b\b\b\b\b\b\b\b\b\b\b\b\b\b\b\b\b\b\b\b\b\b\b\b\b\b\b\b\b\b\b\b\r",
      "200/200 [==============================] - 196s 980ms/step - loss: 0.0780 - val_loss: 0.1196\n",
      "\n",
      "Epoch 00020: val_loss did not improve from 0.10862\n",
      "Epoch 21/50\n"
     ]
    },
    {
     "name": "stderr",
     "output_type": "stream",
     "text": [
      "100%|██████████| 10000/10000 [00:00<00:00, 44303.06it/s]\n"
     ]
    },
    {
     "name": "stdout",
     "output_type": "stream",
     "text": [
      "199/200 [============================>.] - ETA: 0s - loss: 0.0794"
     ]
    },
    {
     "name": "stderr",
     "output_type": "stream",
     "text": [
      "100%|██████████| 100000/100000 [00:02<00:00, 40155.81it/s]\n"
     ]
    },
    {
     "name": "stdout",
     "output_type": "stream",
     "text": [
      "\b\b\b\b\b\b\b\b\b\b\b\b\b\b\b\b\b\b\b\b\b\b\b\b\b\b\b\b\b\b\b\b\b\b\b\b\b\b\b\b\b\b\b\b\b\b\b\b\b\b\b\b\b\b\b\b\b\b\b\b\b\b\b\b\b\r",
      "200/200 [==============================] - 196s 978ms/step - loss: 0.0794 - val_loss: 0.1136\n",
      "\n",
      "Epoch 00021: val_loss did not improve from 0.10862\n",
      "Epoch 22/50\n"
     ]
    },
    {
     "name": "stderr",
     "output_type": "stream",
     "text": [
      "100%|██████████| 10000/10000 [00:00<00:00, 45541.11it/s]\n"
     ]
    },
    {
     "name": "stdout",
     "output_type": "stream",
     "text": [
      "199/200 [============================>.] - ETA: 0s - loss: 0.0772"
     ]
    },
    {
     "name": "stderr",
     "output_type": "stream",
     "text": [
      "100%|██████████| 100000/100000 [00:02<00:00, 40241.40it/s]\n"
     ]
    },
    {
     "name": "stdout",
     "output_type": "stream",
     "text": [
      "\b\b\b\b\b\b\b\b\b\b\b\b\b\b\b\b\b\b\b\b\b\b\b\b\b\b\b\b\b\b\b\b\b\b\b\b\b\b\b\b\b\b\b\b\b\b\b\b\b\b\b\b\b\b\b\b\b\b\b\b\b\b\b\b\b\r",
      "200/200 [==============================] - 196s 980ms/step - loss: 0.0773 - val_loss: 0.1146\n",
      "\n",
      "Epoch 00022: val_loss did not improve from 0.10862\n",
      "Epoch 23/50\n"
     ]
    },
    {
     "name": "stderr",
     "output_type": "stream",
     "text": [
      "100%|██████████| 10000/10000 [00:00<00:00, 44562.70it/s]\n"
     ]
    },
    {
     "name": "stdout",
     "output_type": "stream",
     "text": [
      "199/200 [============================>.] - ETA: 0s - loss: 0.0787"
     ]
    },
    {
     "name": "stderr",
     "output_type": "stream",
     "text": [
      "100%|██████████| 100000/100000 [00:02<00:00, 33896.07it/s]\n"
     ]
    },
    {
     "name": "stdout",
     "output_type": "stream",
     "text": [
      "\b\b\b\b\b\b\b\b\b\b\b\b\b\b\b\b\b\b\b\b\b\b\b\b\b\b\b\b\b\b\b\b\b\b\b\b\b\b\b\b\b\b\b\b\b\b\b\b\b\b\b\b\b\b\b\b\b\b\b\b\b\b\b\b\b\r",
      "200/200 [==============================] - 196s 980ms/step - loss: 0.0787 - val_loss: 0.1089\n",
      "\n",
      "Epoch 00023: val_loss did not improve from 0.10862\n",
      "Epoch 24/50\n"
     ]
    },
    {
     "name": "stderr",
     "output_type": "stream",
     "text": [
      "100%|██████████| 10000/10000 [00:00<00:00, 43875.40it/s]"
     ]
    },
    {
     "name": "stdout",
     "output_type": "stream",
     "text": [
      "\r",
      "  1/200 [..............................] - ETA: 3:11 - loss: 0.0716"
     ]
    },
    {
     "name": "stderr",
     "output_type": "stream",
     "text": [
      "\n"
     ]
    },
    {
     "name": "stdout",
     "output_type": "stream",
     "text": [
      "199/200 [============================>.] - ETA: 0s - loss: 0.0781"
     ]
    },
    {
     "name": "stderr",
     "output_type": "stream",
     "text": [
      "100%|██████████| 100000/100000 [00:02<00:00, 34227.16it/s]\n"
     ]
    },
    {
     "name": "stdout",
     "output_type": "stream",
     "text": [
      "\b\b\b\b\b\b\b\b\b\b\b\b\b\b\b\b\b\b\b\b\b\b\b\b\b\b\b\b\b\b\b\b\b\b\b\b\b\b\b\b\b\b\b\b\b\b\b\b\b\b\b\b\b\b\b\b\b\b\b\b\b\b\b\b\b\r",
      "200/200 [==============================] - 196s 979ms/step - loss: 0.0781 - val_loss: 0.1089\n",
      "\n",
      "Epoch 00024: val_loss did not improve from 0.10862\n",
      "Epoch 25/50\n"
     ]
    },
    {
     "name": "stderr",
     "output_type": "stream",
     "text": [
      "100%|██████████| 10000/10000 [00:00<00:00, 44589.52it/s]"
     ]
    },
    {
     "name": "stdout",
     "output_type": "stream",
     "text": [
      "\r",
      "  1/200 [..............................] - ETA: 3:08 - loss: 0.0824"
     ]
    },
    {
     "name": "stderr",
     "output_type": "stream",
     "text": [
      "\n"
     ]
    },
    {
     "name": "stdout",
     "output_type": "stream",
     "text": [
      "199/200 [============================>.] - ETA: 0s - loss: 0.0776"
     ]
    },
    {
     "name": "stderr",
     "output_type": "stream",
     "text": [
      "100%|██████████| 100000/100000 [00:03<00:00, 32522.21it/s]\n"
     ]
    },
    {
     "name": "stdout",
     "output_type": "stream",
     "text": [
      "\b\b\b\b\b\b\b\b\b\b\b\b\b\b\b\b\b\b\b\b\b\b\b\b\b\b\b\b\b\b\b\b\b\b\b\b\b\b\b\b\b\b\b\b\b\b\b\b\b\b\b\b\b\b\b\b\b\b\b\b\b\b\b\b\b\r",
      "200/200 [==============================] - 195s 977ms/step - loss: 0.0775 - val_loss: 0.1109\n",
      "\n",
      "Epoch 00025: val_loss did not improve from 0.10862\n",
      "Epoch 26/50\n"
     ]
    },
    {
     "name": "stderr",
     "output_type": "stream",
     "text": [
      "100%|██████████| 10000/10000 [00:00<00:00, 44067.07it/s]\n"
     ]
    },
    {
     "name": "stdout",
     "output_type": "stream",
     "text": [
      "199/200 [============================>.] - ETA: 0s - loss: 0.0772"
     ]
    },
    {
     "name": "stderr",
     "output_type": "stream",
     "text": [
      "100%|██████████| 100000/100000 [00:02<00:00, 36092.67it/s]\n"
     ]
    },
    {
     "name": "stdout",
     "output_type": "stream",
     "text": [
      "\b\b\b\b\b\b\b\b\b\b\b\b\b\b\b\b\b\b\b\b\b\b\b\b\b\b\b\b\b\b\b\b\b\b\b\b\b\b\b\b\b\b\b\b\b\b\b\b\b\b\b\b\b\b\b\b\b\b\b\b\b\b\b\b\b\r",
      "200/200 [==============================] - 196s 980ms/step - loss: 0.0773 - val_loss: 0.1182\n",
      "\n",
      "Epoch 00026: val_loss did not improve from 0.10862\n"
     ]
    },
    {
     "name": "stderr",
     "output_type": "stream",
     "text": [
      "100%|██████████| 10000/10000 [00:00<00:00, 61121.68it/s]\n"
     ]
    },
    {
     "name": "stdout",
     "output_type": "stream",
     "text": [
      "Epoch 00026: early stopping\n"
     ]
    }
   ],
   "source": [
    "# callbacks\n",
    "callbacks = [\n",
    "    keras.callbacks.EarlyStopping(monitor = 'val_loss', patience = 10, verbose = 3, mode= 'auto'),\n",
    "    keras.callbacks.ModelCheckpoint('data/descriptor_model.weights.{epoch:02d}-{val_loss:.2f}.hdf5', verbose=1, save_best_only=True)\n",
    "]\n",
    "\n",
    "descriptor_history = descriptor_model_trip.fit_generator(generator=training_generator, epochs=50, callbacks=callbacks,\n",
    "                                              verbose=1, validation_data=val_generator)\n"
   ]
  },
  {
   "cell_type": "code",
   "execution_count": 17,
   "metadata": {
    "colab": {
     "base_uri": "https://localhost:8080/",
     "height": 376
    },
    "colab_type": "code",
    "id": "NHaLjwg2TbWI",
    "outputId": "662b8bfc-d4bc-42a0-cca2-9feda7634d4e"
   },
   "outputs": [
    {
     "data": {
      "image/png": "[encoded data removed]",
      "text/plain": [
       "<Figure size 576x396 with 1 Axes>"
      ]
     },
     "metadata": {
      "tags": []
     },
     "output_type": "display_data"
    }
   ],
   "source": [
    "\n",
    "plt.plot(descriptor_history.history['loss'])\n",
    "plt.plot(descriptor_history.history['val_loss'])\n",
    "plt.title('model loss')\n",
    "plt.ylabel('loss')\n",
    "plt.xlabel('epoch')\n",
    "plt.legend(['train', 'test'], loc='upper left')\n",
    "plt.show()"
   ]
  },
  {
   "cell_type": "code",
   "execution_count": 16,
   "metadata": {
    "colab": {
     "base_uri": "https://localhost:8080/",
     "height": 887
    },
    "colab_type": "code",
    "id": "iYzV5z2BBkN5",
    "outputId": "5705fa31-3988-4056-99c5-32eb9a4edf48"
   },
   "outputs": [
    {
     "name": "stdout",
     "output_type": "stream",
     "text": [
      "/content/deepLearning/hpatches-benchmark\n",
      "Already up to date.\n",
      "/content/deepLearning\n"
     ]
    },
    {
     "name": "stderr",
     "output_type": "stream",
     "text": [
      "100%|██████████| 40/40 [07:21<00:00, 12.82s/it]\n"
     ]
    },
    {
     "name": "stdout",
     "output_type": "stream",
     "text": [
      "\n",
      ">> Running HPatch evaluation for \u001b[34mcustom\u001b[0m\n",
      ">> Please wait, loading the descriptor files...\n",
      "/usr/local/lib/python2.7/dist-packages/joblib/externals/loky/process_executor.py:700: UserWarning: A worker stopped while some jobs were given to the executor. This can be caused by a too short worker timeout or by a memory leak.\n",
      "  \"timeout or by a memory leak.\", UserWarning\n",
      ">> Descriptor files loaded.\n",
      ">> Evaluating \u001b[32mverification\u001b[0m task\n",
      "Processing verification task 1/3 : 100% 1000000/1000000 [01:24<00:00, 11898.53it/s]\n",
      "Processing verification task 2/3 : 100% 1000000/1000000 [01:23<00:00, 11920.57it/s]\n",
      "Processing verification task 3/3 : 100% 1000000/1000000 [01:24<00:00, 11871.10it/s]\n",
      ">> \u001b[32mVerification\u001b[0m task finished in 260 secs  \n",
      "\u001b[32mVerification\u001b[0m task results:\n",
      "Mean Average Precision is 0.835874\n",
      "\n",
      "\n",
      "\n",
      ">> Running HPatch evaluation for \u001b[34mcustom\u001b[0m\n",
      ">> Please wait, loading the descriptor files...\n",
      "/usr/local/lib/python2.7/dist-packages/joblib/externals/loky/process_executor.py:700: UserWarning: A worker stopped while some jobs were given to the executor. This can be caused by a too short worker timeout or by a memory leak.\n",
      "  \"timeout or by a memory leak.\", UserWarning\n",
      ">> Descriptor files loaded.\n",
      ">> Evaluating \u001b[32mmatching\u001b[0m task\n",
      "100% 40/40 [02:05<00:00,  4.26s/it]\n",
      ">> \u001b[32mMatching\u001b[0m task finished in 126 secs  \n",
      "\u001b[32mMatching\u001b[0m task results:\n",
      "Mean Average Precision is 0.250931\n",
      "\n",
      "\n",
      "\n",
      "\n",
      "\n",
      ">> Running HPatch evaluation for \u001b[34mcustom\u001b[0m\n",
      ">> Please wait, loading the descriptor files...\n",
      "/usr/local/lib/python2.7/dist-packages/joblib/externals/loky/process_executor.py:700: UserWarning: A worker stopped while some jobs were given to the executor. This can be caused by a too short worker timeout or by a memory leak.\n",
      "  \"timeout or by a memory leak.\", UserWarning\n",
      ">> Descriptor files loaded.\n",
      ">> Evaluating \u001b[32mretrieval\u001b[0m task\n",
      ">> Please wait, computing distance matrix...\n",
      "tcmalloc: large alloc 1600004096 bytes == 0x5652fb950000 @  0x7f14a24d61e7 0x7f14980d7cf1 0x7f149813a3a2 0x7f149813c0de 0x7f14981d30e8 0x5652d3788fe5 0x5652d377ed0a 0x5652d37865fe 0x5652d3786232 0x5652d377ed0a 0x5652d3786c38 0x5652d377ed0a 0x5652d377e629 0x5652d37af61f 0x5652d37aa322 0x5652d37a967d 0x5652d37581ab 0x7f14a20d3b97 0x5652d3757a2a\n",
      ">> Distance matrix done.\n",
      "Processing retrieval task: 100% 10000/10000 [03:47<00:00, 43.90it/s]\n",
      ">> \u001b[32mRetrieval\u001b[0m task finished in 246 secs  \n",
      "\u001b[32mRetrieval\u001b[0m task results:\n",
      "Mean Average Precision is 0.543611\n",
      "\n",
      "\n"
     ]
    }
   ],
   "source": [
    "from keras.models import load_model\n",
    "from get_data import get_data\n",
    "%cd hpatches-benchmark\n",
    "!git pull \n",
    "%cd ..\n",
    "!mkdir -p results\n",
    "\n",
    "generate_desc_csv(descriptor_model, seqs_test, use_clean=False)\n",
    "\n",
    "!python ./hpatches-benchmark/hpatches_eval.py --descr-name=custom --descr-dir=/content/deepLearning/out/ --task=verification --delimiter=\";\"\n",
    "!python ./hpatches-benchmark/hpatches_results.py --descr=custom --results-dir=./hpatches-benchmark/results/ --task=verification\n",
    "\n",
    "!python ./hpatches-benchmark/hpatches_eval.py --descr-name=custom --descr-dir=/content/deepLearning/out/ --task=matching --delimiter=\";\"\n",
    "!python ./hpatches-benchmark/hpatches_results.py --descr=custom --results-dir=./hpatches-benchmark/results/ --task=matching\n",
    "\n",
    "!python ./hpatches-benchmark/hpatches_eval.py --descr-name=custom --descr-dir=/content/deepLearning/out/ --task=retrieval --delimiter=\";\"\n",
    "!python ./hpatches-benchmark/hpatches_results.py --descr=custom --results-dir=./hpatches-benchmark/results/ --task=retrieval"
   ]
  }
 ],
 "metadata": {
  "accelerator": "GPU",
  "colab": {
   "include_colab_link": true,
   "name": "Untitled5.ipynb",
   "provenance": [],
   "version": "0.3.2"
  },
  "kernelspec": {
   "display_name": "Python 3",
   "language": "python",
   "name": "python3"
  }
 },
 "nbformat": 4,
 "nbformat_minor": 1
}
