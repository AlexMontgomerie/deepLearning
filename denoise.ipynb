{
 "cells": [
  {
   "cell_type": "markdown",
   "metadata": {
    "colab_type": "text",
    "id": "view-in-github"
   },
   "source": [
    "<a href=\"https://colab.research.google.com/github/AlexMontgomerie/deepLearning/blob/master/denoise.ipynb\" target=\"_parent\"><img src=\"https://colab.research.google.com/assets/colab-badge.svg\" alt=\"Open In Colab\"/></a>"
   ]
  },
  {
   "cell_type": "markdown",
   "metadata": {
    "colab_type": "text",
    "id": "dDzgB3PlxNwk"
   },
   "source": [
    "# Denoise Network"
   ]
  },
  {
   "cell_type": "markdown",
   "metadata": {
    "colab_type": "text",
    "id": "8NE2E99sxSpo"
   },
   "source": [
    "## Google Setup"
   ]
  },
  {
   "cell_type": "code",
   "execution_count": 1,
   "metadata": {
    "colab": {
     "base_uri": "https://localhost:8080/",
     "height": 513
    },
    "colab_type": "code",
    "id": "Q7zEuV1zxUsw",
    "outputId": "565d6b01-c100-4b53-dd1e-1e1e9c76b88c"
   },
   "outputs": [
    {
     "name": "stdout",
     "output_type": "stream",
     "text": [
      "/content\n",
      "Cloning into 'deepLearning'...\n",
      "remote: Enumerating objects: 27, done.\u001b[K\n",
      "remote: Counting objects: 100% (27/27), done.\u001b[K\n",
      "remote: Compressing objects: 100% (20/20), done.\u001b[K\n",
      "remote: Total 272 (delta 12), reused 17 (delta 6), pack-reused 245\u001b[K\n",
      "Receiving objects: 100% (272/272), 150.21 MiB | 19.70 MiB/s, done.\n",
      "Resolving deltas: 100% (95/95), done.\n",
      "Checking out files: 100% (97/97), done.\n",
      "/content/deepLearning\n",
      "From https://github.com/AlexMontgomerie/deepLearning\n",
      " * branch            master     -> FETCH_HEAD\n",
      "Already up to date.\n",
      "Collecting gputil\n",
      "  Downloading https://files.pythonhosted.org/packages/ed/0e/5c61eedde9f6c87713e89d794f01e378cfd9565847d4576fa627d758c554/GPUtil-1.4.0.tar.gz\n",
      "Building wheels for collected packages: gputil\n",
      "  Building wheel for gputil (setup.py) ... \u001b[?25ldone\n",
      "\u001b[?25h  Stored in directory: /root/.cache/pip/wheels/3d/77/07/80562de4bb0786e5ea186911a2c831fdd0018bda69beab71fd\n",
      "Successfully built gputil\n",
      "Installing collected packages: gputil\n",
      "Successfully installed gputil-1.4.0\n",
      "Requirement already satisfied: psutil in /usr/local/lib/python3.6/dist-packages (5.4.8)\n",
      "Requirement already satisfied: humanize in /usr/local/lib/python3.6/dist-packages (0.5.1)\n",
      "Requirement already satisfied: gputil in /usr/local/lib/python3.6/dist-packages (1.4.0)\n",
      "Requirement already satisfied: psutil in /usr/local/lib/python3.6/dist-packages (5.4.8)\n",
      "Requirement already satisfied: humanize in /usr/local/lib/python3.6/dist-packages (0.5.1)\n",
      "RAM Free: 12.9 GB  | Proc size: 142.6 MB\n",
      "GPU RAM Free: 11441MB | Used: 0MB | Util   0% | Total 11441MB\n"
     ]
    }
   ],
   "source": [
    "%cd /content\n",
    "#!rm -rf deepLearning\n",
    "!git clone https://github.com/AlexMontgomerie/deepLearning\n",
    "%cd deepLearning\n",
    "!git pull origin master\n",
    "!pip install gputil\n",
    "!pip install psutil\n",
    "!pip install humanize\n",
    "'''\n",
    "import os\n",
    "import pprint\n",
    "import tensorflow as tf\n",
    "\n",
    "if 'COLAB_TPU_ADDR' not in os.environ:\n",
    "  print('ERROR: Not connected to a TPU runtime; please see the first cell in this notebook for instructions!')\n",
    "else:\n",
    "  tpu_address = 'grpc://' + os.environ['COLAB_TPU_ADDR']\n",
    "  print ('TPU address is', tpu_address)\n",
    "\n",
    "  with tf.Session(tpu_address) as session:\n",
    "    devices = session.list_devices()\n",
    "    \n",
    "  print('TPU devices:')\n",
    "  pprint.pprint(devices)\n",
    "'''\n",
    "# Taken from\n",
    "# https://stackoverflow.com/questions/48750199/google-colaboratory-misleading-information-about-its-gpu-only-5-ram-available\n",
    "# memory footprint support libraries/code\n",
    "!ln -sf /opt/bin/nvidia-smi /usr/bin/nvidia-smi\n",
    "!pip install gputil\n",
    "!pip install psutil\n",
    "!pip install humanize\n",
    "import psutil\n",
    "import humanize\n",
    "import os\n",
    "import GPUtil as GPU\n",
    "GPUs = GPU.getGPUs()\n",
    "# Colab only provides one GPU and it is not always guaranteed\n",
    "gpu = GPUs[0]\n",
    "def printm():\n",
    "  process = psutil.Process(os.getpid())\n",
    "  print(\"RAM Free: \" + humanize.naturalsize( psutil.virtual_memory().available ), \" | Proc size: \" + humanize.naturalsize( process.memory_info().rss))\n",
    "  print(\"GPU RAM Free: {0:.0f}MB | Used: {1:.0f}MB | Util {2:3.0f}% | Total {3:.0f}MB\".format(gpu.memoryFree, gpu.memoryUsed, gpu.memoryUtil*100, gpu.memoryTotal))\n",
    "printm()\n"
   ]
  },
  {
   "cell_type": "markdown",
   "metadata": {
    "colab_type": "text",
    "id": "APrJZ0fsxNwl"
   },
   "source": [
    "## Setup"
   ]
  },
  {
   "cell_type": "code",
   "execution_count": 2,
   "metadata": {
    "colab": {
     "base_uri": "https://localhost:8080/",
     "height": 479
    },
    "colab_type": "code",
    "id": "Mrsas8WmxNwm",
    "outputId": "e212da86-aa80-4820-d030-9015c03da21f"
   },
   "outputs": [
    {
     "name": "stderr",
     "output_type": "stream",
     "text": [
      "Using TensorFlow backend.\n"
     ]
    },
    {
     "name": "stdout",
     "output_type": "stream",
     "text": [
      "--2019-02-27 03:01:14--  https://imperialcollegelondon.box.com/shared/static/ah40eq7cxpwq4a6l4f62efzdyt8rm3ha.zip\n",
      "Resolving imperialcollegelondon.box.com (imperialcollegelondon.box.com)... 185.235.236.197\n",
      "Connecting to imperialcollegelondon.box.com (imperialcollegelondon.box.com)|185.235.236.197|:443... connected.\n",
      "HTTP request sent, awaiting response... 301 Moved Permanently\n",
      "Location: /public/static/ah40eq7cxpwq4a6l4f62efzdyt8rm3ha.zip [following]\n",
      "--2019-02-27 03:01:14--  https://imperialcollegelondon.box.com/public/static/ah40eq7cxpwq4a6l4f62efzdyt8rm3ha.zip\n",
      "Reusing existing connection to imperialcollegelondon.box.com:443.\n",
      "HTTP request sent, awaiting response... 301 Moved Permanently\n",
      "Location: https://imperialcollegelondon.app.box.com/public/static/ah40eq7cxpwq4a6l4f62efzdyt8rm3ha.zip [following]\n",
      "--2019-02-27 03:01:14--  https://imperialcollegelondon.app.box.com/public/static/ah40eq7cxpwq4a6l4f62efzdyt8rm3ha.zip\n",
      "Resolving imperialcollegelondon.app.box.com (imperialcollegelondon.app.box.com)... 185.235.236.199\n",
      "Connecting to imperialcollegelondon.app.box.com (imperialcollegelondon.app.box.com)|185.235.236.199|:443... connected.\n",
      "HTTP request sent, awaiting response... 302 Found\n",
      "Location: https://public.boxcloud.com/d/1/b1!MfRw1PdCfVVPsgbIj7M2E9Jx9Bp-rR3U7a-PJqT8ZbI7n9vjw2dXYibCSlQ3x3SoVBdKkYC6lWQBjdLFINnxPerGK1mWP7XtVY9sOOn9I1pwvV9IBWHsFFPp-ar2Umw8PRFH5fMEqNi-lmEBdp4661G-cHNMS1p6GJZ7wke9E4CR1JxlSw_CKYTr7mRbVzVRpPciQVQfMYWaT4xP7RNL62HmvonUXJsRcml874DvlISmLGesjKWa03Ho4m3zUdeg7-a4_nHTiSh2p9vjjTYg35YjeBISCK8YyM-DUU3Uc7Xnx9P9tKZ2CWmxLG-LdCKQySQ3yUleQUvgZuvCGvu4Q-hUAV5YHLlqcAJM2D8IcNo7phZsOg0owMjeWTGMl1Vh0hiadhWWsgKhvK8URo9Il4j_m8KzPKkhkxPPp1zKPiGmkjngCNFM8oy-DAl3EK8WfTXkU3jZyA0usG8G6XekdDMkT_-y4PpILM1-oE8rrh0d-IuYF67b4YIjBWfqTV0YZlJCYRsjvDWCVCeV-5qE4Xll9C-Zv8glUIFIF49gnkw9boA3aoMOUL3jcZGy1IHQyx1Iqkl35inIZnpEAOXIuf1giopieP4QB7f-erm279gbEvaljhSmwn2eR2D8SpHKr4Oe8YpYrFzA7vejXvIrBbRp4TC4e2U1s3-EpI2wMGrmOh9rTjnznyF-DzvCP2jl8NjQZfQoYz0hgMtX7KOSmTOXORmm5mDIsQTO7SXr0mIaW3wjWwYkcZObZUaeNc_2Qn1P2l7UUiLgARqdRfB2lTGYucdVWpjG6GP303GFosMe8OC0NSvJn3TQAxbtZtSNp_CrrijLUXXzNm8-U8fYP9tJKupkgOhuci7Zx2aGvUjI3cR8vBE2Sy27rZ_K_LuzgNNuMSUGdz2nCtONniFvxobrBCEwC2QTIeBYIs8rvM_F-5ClrxEIdDo9c6bq6v7_hWpJL24X964JyZjRd03KozGFZ9zgSw5h_oK4zYJTXM-kp4OizHt8xih-UMIkq4EA_MuaCTfpwV_snpshzYLpsuL5gb5I6W1c9vCppHucroUB-CwRDvKgF4SQPX3pUkbyRLcNWNSQGubI9zgTGDYTwKUxWIlfQ0VndNY2jG-5u6w0bh83ZqtJymqbPWVD_8rqfqbnDRTeNgbmohqXMz0Pos9p2PPBuHoQ87B0GHUcl6d93XZByqbsYk8R_Is3YojT7cYa1eC_Uvp2ewhQT70DYu64tGuCf-Sfk8ZSfk6H7xiWrqZEQPpWgLSrulsOM6ksM0VZZ03gKeeakTfCMEEcSU8hy-Cj1NL_kdfGeIk4-8yodQBlaz1aX3rlQv7kLTAo-u3I_dgT1kb-cVHmKPmtjPMG9Y0hN3B-FKqDiqP92VCzyuhgEEnQNlhyNBrKFMNetNQUWTngtgncghr18Ib25L56lYl9uax_4AFy7yUeCeEU99sotHE./download [following]\n",
      "--2019-02-27 03:01:15--  https://public.boxcloud.com/d/1/b1!MfRw1PdCfVVPsgbIj7M2E9Jx9Bp-rR3U7a-PJqT8ZbI7n9vjw2dXYibCSlQ3x3SoVBdKkYC6lWQBjdLFINnxPerGK1mWP7XtVY9sOOn9I1pwvV9IBWHsFFPp-ar2Umw8PRFH5fMEqNi-lmEBdp4661G-cHNMS1p6GJZ7wke9E4CR1JxlSw_CKYTr7mRbVzVRpPciQVQfMYWaT4xP7RNL62HmvonUXJsRcml874DvlISmLGesjKWa03Ho4m3zUdeg7-a4_nHTiSh2p9vjjTYg35YjeBISCK8YyM-DUU3Uc7Xnx9P9tKZ2CWmxLG-LdCKQySQ3yUleQUvgZuvCGvu4Q-hUAV5YHLlqcAJM2D8IcNo7phZsOg0owMjeWTGMl1Vh0hiadhWWsgKhvK8URo9Il4j_m8KzPKkhkxPPp1zKPiGmkjngCNFM8oy-DAl3EK8WfTXkU3jZyA0usG8G6XekdDMkT_-y4PpILM1-oE8rrh0d-IuYF67b4YIjBWfqTV0YZlJCYRsjvDWCVCeV-5qE4Xll9C-Zv8glUIFIF49gnkw9boA3aoMOUL3jcZGy1IHQyx1Iqkl35inIZnpEAOXIuf1giopieP4QB7f-erm279gbEvaljhSmwn2eR2D8SpHKr4Oe8YpYrFzA7vejXvIrBbRp4TC4e2U1s3-EpI2wMGrmOh9rTjnznyF-DzvCP2jl8NjQZfQoYz0hgMtX7KOSmTOXORmm5mDIsQTO7SXr0mIaW3wjWwYkcZObZUaeNc_2Qn1P2l7UUiLgARqdRfB2lTGYucdVWpjG6GP303GFosMe8OC0NSvJn3TQAxbtZtSNp_CrrijLUXXzNm8-U8fYP9tJKupkgOhuci7Zx2aGvUjI3cR8vBE2Sy27rZ_K_LuzgNNuMSUGdz2nCtONniFvxobrBCEwC2QTIeBYIs8rvM_F-5ClrxEIdDo9c6bq6v7_hWpJL24X964JyZjRd03KozGFZ9zgSw5h_oK4zYJTXM-kp4OizHt8xih-UMIkq4EA_MuaCTfpwV_snpshzYLpsuL5gb5I6W1c9vCppHucroUB-CwRDvKgF4SQPX3pUkbyRLcNWNSQGubI9zgTGDYTwKUxWIlfQ0VndNY2jG-5u6w0bh83ZqtJymqbPWVD_8rqfqbnDRTeNgbmohqXMz0Pos9p2PPBuHoQ87B0GHUcl6d93XZByqbsYk8R_Is3YojT7cYa1eC_Uvp2ewhQT70DYu64tGuCf-Sfk8ZSfk6H7xiWrqZEQPpWgLSrulsOM6ksM0VZZ03gKeeakTfCMEEcSU8hy-Cj1NL_kdfGeIk4-8yodQBlaz1aX3rlQv7kLTAo-u3I_dgT1kb-cVHmKPmtjPMG9Y0hN3B-FKqDiqP92VCzyuhgEEnQNlhyNBrKFMNetNQUWTngtgncghr18Ib25L56lYl9uax_4AFy7yUeCeEU99sotHE./download\n",
      "Resolving public.boxcloud.com (public.boxcloud.com)... 107.152.27.200\n",
      "Connecting to public.boxcloud.com (public.boxcloud.com)|107.152.27.200|:443... connected.\n",
      "HTTP request sent, awaiting response... 200 OK\n",
      "Length: 4088106554 (3.8G) [application/zip]\n",
      "Saving to: ‘hpatches_data.zip’\n",
      "\n",
      "hpatches_data.zip   100%[===================>]   3.81G  22.2MB/s    in 3m 0s   \n",
      "\n",
      "2019-02-27 03:04:16 (21.6 MB/s) - ‘hpatches_data.zip’ saved [4088106554/4088106554]\n",
      "\n"
     ]
    }
   ],
   "source": [
    "from common import *\n",
    "!./setup.sh"
   ]
  },
  {
   "cell_type": "markdown",
   "metadata": {
    "colab_type": "text",
    "id": "FtXex_nAxNwq"
   },
   "source": [
    "## Get Denoise Model (Add)"
   ]
  },
  {
   "cell_type": "code",
   "execution_count": 3,
   "metadata": {
    "colab": {
     "base_uri": "https://localhost:8080/",
     "height": 51
    },
    "colab_type": "code",
    "id": "FD4URA2g5-u2",
    "outputId": "2d6fb2d4-2b49-4df9-c865-71b7e5b78997"
   },
   "outputs": [
    {
     "name": "stderr",
     "output_type": "stream",
     "text": [
      "100%|██████████| 76/76 [01:09<00:00,  1.17s/it]\n",
      "100%|██████████| 40/40 [00:42<00:00,  1.23s/it]\n"
     ]
    }
   ],
   "source": [
    "from denoise_network import *\n",
    "from get_data import get_data\n",
    "\n",
    "EPOCHS = 50\n",
    "\n",
    "seqs_train, seqs_test = get_data()\n",
    "\n",
    "# get traning data\n",
    "\n",
    "denoise_generator     = DenoiseHPatches(seqs_train, batch_size=50)\n",
    "denoise_generator_val = DenoiseHPatches(seqs_test, batch_size=50)\n",
    "    #np.save('data/denoise_data/denoise_generator.npy'    , denoise_generator    )\n",
    "    #np.save('data/denoise_data/denoise_generator_val.npy', denoise_generator_val)\n"
   ]
  },
  {
   "cell_type": "code",
   "execution_count": 6,
   "metadata": {
    "colab": {
     "base_uri": "https://localhost:8080/",
     "height": 870
    },
    "colab_type": "code",
    "id": "JaEJ4-DKxNwr",
    "outputId": "0f92a077-9058-4137-c337-8b560227a774"
   },
   "outputs": [
    {
     "name": "stdout",
     "output_type": "stream",
     "text": [
      "Epoch 1/50\n",
      "31179/31179 [==============================] - 1037s 33ms/step - loss: 0.3069 - acc: 0.0441 - val_loss: 0.3237 - val_acc: 0.0503\n",
      "\n",
      "Epoch 00001: val_loss improved from inf to 0.32373, saving model to data/denoise_model.weights.01-0.32.hdf5\n",
      "Epoch 2/50\n",
      "31179/31179 [==============================] - 1040s 33ms/step - loss: 0.3016 - acc: 0.0454 - val_loss: 0.3189 - val_acc: 0.0600\n",
      "\n",
      "Epoch 00002: val_loss improved from 0.32373 to 0.31888, saving model to data/denoise_model.weights.02-0.32.hdf5\n",
      "Epoch 3/50\n",
      "31179/31179 [==============================] - 1040s 33ms/step - loss: 0.3013 - acc: 0.0458 - val_loss: 0.3166 - val_acc: 0.0463\n",
      "\n",
      "Epoch 00003: val_loss improved from 0.31888 to 0.31659, saving model to data/denoise_model.weights.03-0.32.hdf5\n",
      "Epoch 4/50\n",
      "31179/31179 [==============================] - 1046s 34ms/step - loss: 0.3005 - acc: 0.0462 - val_loss: 0.3171 - val_acc: 0.0570\n",
      "\n",
      "Epoch 00004: val_loss did not improve from 0.31659\n",
      "Epoch 5/50\n",
      "31179/31179 [==============================] - 1045s 34ms/step - loss: 0.2990 - acc: 0.0477 - val_loss: 0.3178 - val_acc: 0.0595\n",
      "\n",
      "Epoch 00005: val_loss did not improve from 0.31659\n",
      "Epoch 6/50\n",
      "31179/31179 [==============================] - 1045s 34ms/step - loss: 0.3022 - acc: 0.0452 - val_loss: 0.3236 - val_acc: 0.0509\n",
      "\n",
      "Epoch 00006: val_loss did not improve from 0.31659\n",
      "Epoch 7/50\n",
      "31179/31179 [==============================] - 1044s 33ms/step - loss: 0.3015 - acc: 0.0459 - val_loss: 0.3157 - val_acc: 0.0436\n",
      "\n",
      "Epoch 00007: val_loss improved from 0.31659 to 0.31572, saving model to data/denoise_model.weights.07-0.32.hdf5\n",
      "Epoch 8/50\n",
      "31179/31179 [==============================] - 1038s 33ms/step - loss: 0.2989 - acc: 0.0478 - val_loss: 0.3184 - val_acc: 0.0673\n",
      "\n",
      "Epoch 00008: val_loss did not improve from 0.31572\n",
      "Epoch 9/50\n",
      "31179/31179 [==============================] - 1039s 33ms/step - loss: 0.3001 - acc: 0.0469 - val_loss: 0.3191 - val_acc: 0.0411\n",
      "\n",
      "Epoch 00009: val_loss did not improve from 0.31572\n",
      "Epoch 10/50\n",
      "31179/31179 [==============================] - 1040s 33ms/step - loss: 0.2999 - acc: 0.0482 - val_loss: 0.3205 - val_acc: 0.0463\n",
      "\n",
      "Epoch 00010: val_loss did not improve from 0.31572\n",
      "Epoch 11/50\n",
      "31179/31179 [==============================] - 1041s 33ms/step - loss: 0.2983 - acc: 0.0483 - val_loss: 0.3168 - val_acc: 0.0539\n",
      "\n",
      "Epoch 00011: val_loss did not improve from 0.31572\n",
      "Epoch 12/50\n",
      "31179/31179 [==============================] - 1043s 33ms/step - loss: 0.2974 - acc: 0.0495 - val_loss: 0.3164 - val_acc: 0.0657\n",
      "\n",
      "Epoch 00012: val_loss did not improve from 0.31572\n",
      "Epoch 00012: early stopping\n"
     ]
    }
   ],
   "source": [
    "\n",
    "import sys\n",
    "import json\n",
    "import os\n",
    "import glob\n",
    "import keras\n",
    "from keras import regularizers\n",
    "from keras import backend as K\n",
    "from keras.models import Sequential, Model\n",
    "from keras.layers import Dense, Dropout, Activation, Flatten, Input, Lambda, Reshape\n",
    "from keras.layers import Conv2D, MaxPooling2D, BatchNormalization\n",
    "from keras.layers import Input, UpSampling2D, concatenate\n",
    "import time\n",
    "import tensorflow as tf\n",
    "import numpy as np\n",
    "import cv2\n",
    "import random\n",
    "from read_data import HPatches, DataGeneratorDesc, hpatches_sequence_folder, DenoiseHPatches, tps\n",
    "from utils import generate_desc_csv, plot_denoise, plot_triplet\n",
    "import matplotlib.pyplot as plt\n",
    "\n",
    "#from common import *\n",
    "#from denoise_network import *\n",
    "#from get_data import get_data\n",
    "\n",
    "\n",
    "# denoise model\n",
    "def get_denoise_model(shape):\n",
    "\n",
    "  inputs = Input(shape)\n",
    "  conv1 = Conv2D(16, 3, activation = 'relu', padding = 'same', kernel_initializer = 'he_normal')(inputs)\n",
    "                 #kernel_regularizer=regularizers.l2(0.0001),activity_regularizer=regularizers.l1(0.00001),\n",
    "\n",
    "  pool1 = MaxPooling2D(pool_size=(2, 2))(conv1)\n",
    "  ## Bottleneck\n",
    "  conv2 = Conv2D(32, 3, activation = 'relu', padding = 'same', kernel_initializer = 'he_normal')(pool1)\n",
    "                 #kernel_regularizer=regularizers.l2(0.0001), activity_regularizer=regularizers.l1(0.00001),\n",
    "\n",
    "\n",
    "  ## Now the decoder starts\n",
    "  up3 = Conv2D(64, 2, activation = 'relu', padding = 'same', kernel_initializer = 'he_normal')(UpSampling2D(size = (2,2))(conv2))\n",
    "               #kernel_regularizer=regularizers.l2(0.0001), activity_regularizer=regularizers.l1(0.00001),\n",
    "\n",
    "  merge3 = concatenate([conv1,up3], axis = -1)\n",
    "  conv3 = Conv2D(64, 3, activation = 'relu', padding = 'same', kernel_initializer = 'he_normal')(merge3)\n",
    "                 #kernel_regularizer=regularizers.l2(0.0001), activity_regularizer=regularizers.l1(0.00001),\n",
    "\n",
    "\n",
    "  conv4 = Conv2D(1, 3,  padding = 'same')(conv3)\n",
    "\n",
    "  shallow_unet = Model(inputs = inputs, outputs = conv4)\n",
    "  return shallow_unet\n",
    "\n",
    "def get_denoise_model_add(shape):\n",
    "\n",
    "  inputs = Input(shape)\n",
    "  conv1 = Conv2D(16, 3, activation = 'relu', padding = 'same', kernel_initializer = 'he_normal')(inputs)\n",
    "                 #kernel_regularizer=regularizers.l2(0.0001),activity_regularizer=regularizers.l1(0.00001),\n",
    "  conv1 = Conv2D(16, 3, activation = 'relu', padding = 'same', kernel_initializer = 'he_normal')(inputs)\n",
    "                 #kernel_regularizer=regularizers.l2(0.0001),activity_regularizer=regularizers.l1(0.00001),\n",
    "\n",
    "  merge3 = concatenate([conv1,up3], axis = -1)\n",
    "\n",
    "  pool1 = MaxPooling2D(pool_size=(2, 2))(conv1)\n",
    "  ## Bottleneck\n",
    "  conv2 = Conv2D(32, 3, activation = 'relu', padding = 'same', kernel_initializer = 'he_normal')(pool1)\n",
    "                 #kernel_regularizer=regularizers.l2(0.0001), activity_regularizer=regularizers.l1(0.00001),\n",
    "\n",
    "\n",
    "  ## Now the decoder starts\n",
    "  up3 = Conv2D(64, 2, activation = 'relu', padding = 'same', kernel_initializer = 'he_normal')(UpSampling2D(size = (2,2))(conv2))\n",
    "               #kernel_regularizer=regularizers.l2(0.0001), activity_regularizer=regularizers.l1(0.00001),\n",
    "\n",
    "  merge3 = Add([conv1,up3], axis = -1)\n",
    "  conv3 = Conv2D(64, 3, activation = 'relu', padding = 'same', kernel_initializer = 'he_normal')(merge3)\n",
    "                 #kernel_regularizer=regularizers.l2(0.0001), activity_regularizer=regularizers.l1(0.00001),\n",
    "\n",
    "\n",
    "  conv4 = Conv2D(1, 3,  padding = 'same')(conv3)\n",
    "\n",
    "  shallow_unet = Model(inputs = inputs, outputs = conv4)\n",
    "  return shallow_unet\n",
    "\n",
    "\n",
    "# get model\n",
    "shape = (32, 32, 1)\n",
    "denoise_model = get_denoise_model(shape)\n",
    "\n",
    "# callbacks\n",
    "callbacks = [\n",
    "    keras.callbacks.EarlyStopping(monitor = 'val_loss', patience = 5, verbose = 3, mode= 'auto'),\n",
    "    keras.callbacks.ModelCheckpoint('data/denoise_model.weights.{epoch:02d}-{val_loss:.2f}.hdf5', verbose=1, save_best_only=True)\n",
    "]\n",
    "\n",
    "# optimiser\n",
    "opt  = opt = keras.optimizers.nadam()\n",
    "\n",
    "# loss\n",
    "loss = 'mean_absolute_error'\n",
    "\n",
    "# train network\n",
    "def ssim_loss(clean,noisy):\n",
    "  return 1 - tf.image.ssim(clean, noisy, max_val=1.0)\n",
    "\n",
    "denoise_model.compile(loss=ssim_loss, optimizer=opt, metrics=['accuracy'])\n",
    "denoise_history = denoise_model.fit_generator(generator=denoise_generator, epochs=EPOCHS, callbacks=callbacks,\n",
    "                                              verbose=1, validation_data=denoise_generator_val)"
   ]
  },
  {
   "cell_type": "code",
   "execution_count": 0,
   "metadata": {
    "colab": {},
    "colab_type": "code",
    "id": "lWednqpdxNwv"
   },
   "outputs": [],
   "source": [
    "denoise_model.save('denoise.h5') \n",
    "from google.colab import files\n",
    "files.download('denoise.h5')"
   ]
  },
  {
   "cell_type": "code",
   "execution_count": 15,
   "metadata": {
    "colab": {
     "base_uri": "https://localhost:8080/",
     "height": 200
    },
    "colab_type": "code",
    "id": "pIl7XuEBuTBG",
    "outputId": "1cec3524-14de-4cc4-80c3-ab84ff538f2a"
   },
   "outputs": [
    {
     "name": "stderr",
     "output_type": "stream",
     "text": [
      "100%|██████████| 1/1 [00:00<00:00,  1.51it/s]\n"
     ]
    },
    {
     "data": {
      "image/png": "[encoded data removed]",
      "text/plain": [
       "<Figure size 576x396 with 3 Axes>"
      ]
     },
     "metadata": {
      "tags": []
     },
     "output_type": "display_data"
    }
   ],
   "source": [
    "plot_denoise(denoise_model)\n"
   ]
  },
  {
   "cell_type": "code",
   "execution_count": 16,
   "metadata": {
    "colab": {
     "base_uri": "https://localhost:8080/",
     "height": 376
    },
    "colab_type": "code",
    "id": "juzxm6yHvGWd",
    "outputId": "f7b0b181-dcd1-4969-9600-b19854fa3369"
   },
   "outputs": [
    {
     "data": {
      "image/png": "[encoded data removed]",
      "text/plain": [
       "<Figure size 576x396 with 1 Axes>"
      ]
     },
     "metadata": {
      "tags": []
     },
     "output_type": "display_data"
    }
   ],
   "source": [
    "plt.plot(denoise_history.history['loss'])\n",
    "plt.plot(denoise_history.history['val_loss'])\n",
    "plt.title('model loss')\n",
    "plt.ylabel('loss')\n",
    "plt.xlabel('epoch')\n",
    "plt.legend(['train', 'test'], loc='upper left')\n",
    "plt.show()"
   ]
  },
  {
   "cell_type": "code",
   "execution_count": 19,
   "metadata": {
    "colab": {
     "base_uri": "https://localhost:8080/",
     "height": 598
    },
    "colab_type": "code",
    "id": "xeq9OLcCvSoI",
    "outputId": "6bdf678f-46b0-45a8-82f9-ff9d5eecf9dd"
   },
   "outputs": [
    {
     "name": "stdout",
     "output_type": "stream",
     "text": [
      "Epoch 1/50\n",
      "31179/31179 [==============================] - 1266s 41ms/step - loss: 0.3022 - acc: 2.6776e-05 - val_loss: 0.3134 - val_acc: 2.5620e-05\n",
      "\n",
      "Epoch 00001: val_loss improved from inf to 0.31336, saving model to data/denoise_model.weights.01-0.31.hdf5\n",
      "Epoch 2/50\n",
      "31179/31179 [==============================] - 1271s 41ms/step - loss: 0.2954 - acc: 3.7864e-05 - val_loss: 0.3112 - val_acc: 3.0374e-05\n",
      "\n",
      "Epoch 00002: val_loss improved from 0.31336 to 0.31118, saving model to data/denoise_model.weights.02-0.31.hdf5\n",
      "Epoch 3/50\n",
      "31179/31179 [==============================] - 1265s 41ms/step - loss: 0.2941 - acc: 3.3762e-05 - val_loss: 0.3097 - val_acc: 1.1298e-05\n",
      "\n",
      "Epoch 00003: val_loss improved from 0.31118 to 0.30967, saving model to data/denoise_model.weights.03-0.31.hdf5\n",
      "Epoch 4/50\n",
      "31179/31179 [==============================] - 1260s 40ms/step - loss: 0.2956 - acc: 0.0317 - val_loss: 0.3201 - val_acc: 0.0513\n",
      "\n",
      "Epoch 00004: val_loss did not improve from 0.30967\n",
      "Epoch 5/50\n",
      "31179/31179 [==============================] - 1263s 41ms/step - loss: 0.2947 - acc: 0.0507 - val_loss: 0.3408 - val_acc: 0.0530\n",
      "\n",
      "Epoch 00005: val_loss did not improve from 0.30967\n",
      "Epoch 6/50\n",
      "31179/31179 [==============================] - 1266s 41ms/step - loss: 0.2973 - acc: 0.0495 - val_loss: 0.3140 - val_acc: 0.0544\n",
      "\n",
      "Epoch 00006: val_loss did not improve from 0.30967\n",
      "Epoch 7/50\n",
      "31179/31179 [==============================] - 1270s 41ms/step - loss: 0.2956 - acc: 0.0498 - val_loss: 0.3130 - val_acc: 0.0588\n",
      "\n",
      "Epoch 00007: val_loss did not improve from 0.30967\n",
      "Epoch 8/50\n",
      "31179/31179 [==============================] - 1271s 41ms/step - loss: 0.2969 - acc: 0.0491 - val_loss: 0.3125 - val_acc: 0.0523\n",
      "\n",
      "Epoch 00008: val_loss did not improve from 0.30967\n",
      "Epoch 00008: early stopping\n"
     ]
    }
   ],
   "source": [
    "\n",
    "import sys\n",
    "import json\n",
    "import os\n",
    "import glob\n",
    "import keras\n",
    "from keras import regularizers\n",
    "from keras import backend as K\n",
    "from keras.models import Sequential, Model\n",
    "from keras.layers import Dense, Dropout, Activation, Flatten, Input, Lambda, Reshape\n",
    "from keras.layers import Conv2D, MaxPooling2D, BatchNormalization\n",
    "from keras.layers import Input, UpSampling2D, concatenate, Add\n",
    "import time\n",
    "import tensorflow as tf\n",
    "import numpy as np\n",
    "import cv2\n",
    "import random\n",
    "from read_data import HPatches, DataGeneratorDesc, hpatches_sequence_folder, DenoiseHPatches, tps\n",
    "from utils import generate_desc_csv, plot_denoise, plot_triplet\n",
    "import matplotlib.pyplot as plt\n",
    "\n",
    "\n",
    "def get_denoise_model_add(shape):\n",
    "\n",
    "  inputs = Input(shape)\n",
    "  conv1_1 = Conv2D(4, 1, activation = 'relu', padding = 'same', kernel_initializer = 'he_normal')(inputs)\n",
    "  conv1_3 = Conv2D(4, 3, activation = 'relu', padding = 'same', kernel_initializer = 'he_normal')(inputs)\n",
    "  conv1_5 = Conv2D(4, 5, activation = 'relu', padding = 'same', kernel_initializer = 'he_normal')(inputs)\n",
    "  conv1_7 = Conv2D(4, 7, activation = 'relu', padding = 'same', kernel_initializer = 'he_normal')(inputs)\n",
    "\n",
    "  conv1 = concatenate([\n",
    "      conv1_1,\n",
    "      conv1_3,\n",
    "      conv1_5,\n",
    "      conv1_7\n",
    "  ], axis = -1)\n",
    "\n",
    "  pool1 = MaxPooling2D(pool_size=(2, 2))(conv1)\n",
    "  ## Bottleneck\n",
    "  conv2_1 = Conv2D(8, 1, activation = 'relu', padding = 'same', kernel_initializer = 'he_normal')(pool1)\n",
    "  conv2_3 = Conv2D(8, 3, activation = 'relu', padding = 'same', kernel_initializer = 'he_normal')(pool1)\n",
    "  conv2_5 = Conv2D(8, 5, activation = 'relu', padding = 'same', kernel_initializer = 'he_normal')(pool1)\n",
    "  conv2_7 = Conv2D(8, 7, activation = 'relu', padding = 'same', kernel_initializer = 'he_normal')(pool1)\n",
    "\n",
    "  conv2 = concatenate([\n",
    "      conv2_1,\n",
    "      conv2_3,\n",
    "      conv2_5,\n",
    "      conv2_7\n",
    "  ], axis = -1)  \n",
    "  \n",
    "  ## Now the decoder starts\n",
    "  up3 = Conv2D(64, 2, activation = 'relu', padding = 'same', kernel_initializer = 'he_normal')(UpSampling2D(size = (2,2))(conv2))\n",
    "               #kernel_regularizer=regularizers.l2(0.0001), activity_regularizer=regularizers.l1(0.00001),\n",
    "\n",
    "  merge3 = concatenate([conv1,up3], axis = -1)\n",
    "  conv3 = Conv2D(64, 3, activation = 'relu', padding = 'same', kernel_initializer = 'he_normal')(merge3)\n",
    "                 #kernel_regularizer=regularizers.l2(0.0001), activity_regularizer=regularizers.l1(0.00001),\n",
    "\n",
    "\n",
    "  conv4 = Conv2D(1, 3,  padding = 'same')(conv3)\n",
    "\n",
    "  shallow_unet = Model(inputs = inputs, outputs = conv4)\n",
    "  return shallow_unet\n",
    "\n",
    "\n",
    "# get model\n",
    "shape = (32, 32, 1)\n",
    "denoise_model_add = get_denoise_model_add(shape)\n",
    "\n",
    "# callbacks\n",
    "callbacks = [\n",
    "    keras.callbacks.EarlyStopping(monitor = 'val_loss', patience = 5, verbose = 3, mode= 'auto'),\n",
    "    keras.callbacks.ModelCheckpoint('data/denoise_model.weights.{epoch:02d}-{val_loss:.2f}.hdf5', verbose=1, save_best_only=True)\n",
    "]\n",
    "\n",
    "# optimiser\n",
    "opt  = opt = keras.optimizers.nadam()\n",
    "\n",
    "# loss\n",
    "loss = 'mean_absolute_error'\n",
    "\n",
    "# train network\n",
    "def ssim_loss(clean,noisy):\n",
    "  return 1 - tf.image.ssim(clean, noisy, max_val=1.0)\n",
    "\n",
    "denoise_model_add.compile(loss=ssim_loss, optimizer=opt, metrics=['accuracy'])\n",
    "denoise_history = denoise_model_add.fit_generator(generator=denoise_generator, epochs=EPOCHS, callbacks=callbacks,\n",
    "                                              verbose=1, validation_data=denoise_generator_val)\n",
    "\n"
   ]
  },
  {
   "cell_type": "code",
   "execution_count": 0,
   "metadata": {
    "colab": {},
    "colab_type": "code",
    "id": "pPe8EKz5wKP_"
   },
   "outputs": [],
   "source": [
    "denoise_model.save('denoise_add.h5') \n",
    "from google.colab import files\n",
    "files.download('denoise_add.h5')"
   ]
  },
  {
   "cell_type": "code",
   "execution_count": 42,
   "metadata": {
    "colab": {
     "base_uri": "https://localhost:8080/",
     "height": 200
    },
    "colab_type": "code",
    "id": "wRi37OL5Yad5",
    "outputId": "14a1b32b-3d47-4bdc-9f21-179738e9bb98"
   },
   "outputs": [
    {
     "name": "stderr",
     "output_type": "stream",
     "text": [
      "100%|██████████| 1/1 [00:00<00:00,  1.49it/s]\n"
     ]
    },
    {
     "data": {
      "image/png": "[encoded data removed]",
      "text/plain": [
       "<Figure size 576x396 with 3 Axes>"
      ]
     },
     "metadata": {
      "tags": []
     },
     "output_type": "display_data"
    }
   ],
   "source": [
    "plot_denoise(denoise_model_add)\n"
   ]
  },
  {
   "cell_type": "code",
   "execution_count": 23,
   "metadata": {
    "colab": {
     "base_uri": "https://localhost:8080/",
     "height": 376
    },
    "colab_type": "code",
    "id": "0ts61RhlYgIS",
    "outputId": "d1abd766-2306-48a3-90ed-5460cebb099f"
   },
   "outputs": [
    {
     "data": {
      "image/png": "[encoded data removed]",
      "text/plain": [
       "<Figure size 576x396 with 1 Axes>"
      ]
     },
     "metadata": {
      "tags": []
     },
     "output_type": "display_data"
    }
   ],
   "source": [
    "plt.plot(denoise_history.history['loss'])\n",
    "plt.plot(denoise_history.history['val_loss'])\n",
    "plt.title('model loss')\n",
    "plt.ylabel('loss')\n",
    "plt.xlabel('epoch')\n",
    "plt.legend(['train', 'test'], loc='upper left')\n",
    "plt.show()"
   ]
  },
  {
   "cell_type": "code",
   "execution_count": 0,
   "metadata": {
    "colab": {},
    "colab_type": "code",
    "id": "fs6GxPo3dlRE"
   },
   "outputs": [],
   "source": [
    "import sys\n",
    "import json\n",
    "import os\n",
    "import glob\n",
    "import keras\n",
    "from keras import regularizers\n",
    "from keras import backend as K\n",
    "from keras.models import Sequential, Model\n",
    "from keras.layers import Dense, Dropout, Activation, Flatten, Input, Lambda, Reshape\n",
    "from keras.layers import Conv2D, MaxPooling2D, BatchNormalization\n",
    "from keras.layers import Input, UpSampling2D, concatenate\n",
    "import time\n",
    "import tensorflow as tf\n",
    "import numpy as np\n",
    "import cv2\n",
    "import random\n",
    "from read_data import HPatches, DataGeneratorDesc, hpatches_sequence_folder, DenoiseHPatches, tps\n",
    "from utils import generate_desc_csv, plot_denoise, plot_triplet\n",
    "import matplotlib.pyplot as plt\n",
    "\n",
    "\n",
    "def get_descriptor_model(shape):\n",
    "  \n",
    "  '''Architecture copies HardNet architecture'''\n",
    "  \n",
    "  init_weights = keras.initializers.he_normal()\n",
    "  \n",
    "  descriptor_model = Sequential()\n",
    "  descriptor_model.add(Conv2D(32, 3, padding='same', input_shape=shape, use_bias = True, kernel_initializer=init_weights))\n",
    "  descriptor_model.add(BatchNormalization(axis = -1))\n",
    "  descriptor_model.add(Activation('relu'))\n",
    "\n",
    "  descriptor_model.add(Conv2D(32, 3, padding='same', use_bias = True, kernel_initializer=init_weights))\n",
    "  descriptor_model.add(BatchNormalization(axis = -1))\n",
    "  descriptor_model.add(Activation('relu'))\n",
    "\n",
    "  descriptor_model.add(Conv2D(64, 3, padding='same', strides=2, use_bias = True, kernel_initializer=init_weights))\n",
    "  descriptor_model.add(BatchNormalization(axis = -1))\n",
    "  descriptor_model.add(Activation('relu'))\n",
    "\n",
    "  descriptor_model.add(Conv2D(64, 3, padding='same', use_bias = True, kernel_initializer=init_weights))\n",
    "  descriptor_model.add(BatchNormalization(axis = -1))\n",
    "  descriptor_model.add(Activation('relu'))\n",
    "\n",
    "  descriptor_model.add(Conv2D(128, 3, padding='same', strides=2,  use_bias = True, kernel_initializer=init_weights))\n",
    "  descriptor_model.add(BatchNormalization(axis = -1))\n",
    "  descriptor_model.add(Activation('relu'))\n",
    "\n",
    "  descriptor_model.add(Conv2D(128, 3, padding='same', use_bias = True, kernel_initializer=init_weights))\n",
    "  descriptor_model.add(BatchNormalization(axis = -1))\n",
    "  descriptor_model.add(Activation('relu'))\n",
    "  descriptor_model.add(Dropout(0.3))\n",
    "\n",
    "  descriptor_model.add(Conv2D(128, 8, padding='valid', use_bias = True, kernel_initializer=init_weights))\n",
    "  \n",
    "  # Final descriptor reshape\n",
    "  descriptor_model.add(Reshape((128,)))\n",
    "  \n",
    "  return descriptor_model\n",
    "  \n",
    "\n",
    "from keras.layers import Lambda\n",
    "shape = (32, 32, 1)\n",
    "xa = Input(shape=shape, name='a')\n",
    "xp = Input(shape=shape, name='p')\n",
    "xn = Input(shape=shape, name='n')\n",
    "descriptor_model = get_descriptor_model(shape)\n",
    "ea = descriptor_model(xa)\n",
    "ep = descriptor_model(xp)\n",
    "en = descriptor_model(xn)\n",
    "\n",
    "  \n",
    "def triplet_loss(x):\n",
    "  \n",
    "  output_dim = 128\n",
    "  a, p, n = x\n",
    "  _alpha = 1.0\n",
    "  positive_distance = K.mean(K.square(a - p), axis=-1)\n",
    "  negative_distance = K.mean(K.square(a - n), axis=-1)\n",
    "  \n",
    "  return K.expand_dims(K.maximum(0.0, positive_distance - negative_distance + _alpha), axis = 1)\n",
    "\n",
    "\n",
    "loss = Lambda(triplet_loss)([ea, ep, en])\n",
    "\n",
    "descriptor_model_trip = Model(inputs=[xa, xp, xn], outputs=loss)\n",
    "sgd = keras.optimizers.SGD(lr=0.1)\n",
    "descriptor_model_trip.compile(loss='mean_absolute_error', optimizer=sgd)"
   ]
  },
  {
   "cell_type": "code",
   "execution_count": 48,
   "metadata": {
    "colab": {
     "base_uri": "https://localhost:8080/",
     "height": 3230
    },
    "colab_type": "code",
    "id": "9vOOei6TetNy",
    "outputId": "9d2343cc-300c-4273-be1a-632819b26fbd"
   },
   "outputs": [
    {
     "name": "stdout",
     "output_type": "stream",
     "text": [
      "Using denoised patches\n",
      "100%|██████████| 116/116 [00:36<00:00,  3.15it/s]\n",
      "Denoising patches...\n",
      "100%|██████████| 15589/15589 [04:31<00:00, 57.48it/s]\n"
     ]
    },
    {
     "name": "stderr",
     "output_type": "stream",
     "text": [
      "100%|██████████| 100000/100000 [00:01<00:00, 68832.10it/s]\n"
     ]
    },
    {
     "name": "stdout",
     "output_type": "stream",
     "text": [
      "Using denoised patches\n",
      "100%|██████████| 116/116 [00:22<00:00,  4.99it/s]\n",
      "Denoising patches...\n",
      "100%|██████████| 9525/9525 [02:44<00:00, 57.92it/s]\n"
     ]
    },
    {
     "name": "stderr",
     "output_type": "stream",
     "text": [
      "100%|██████████| 10000/10000 [00:00<00:00, 68942.74it/s]\n"
     ]
    },
    {
     "name": "stdout",
     "output_type": "stream",
     "text": [
      "Epoch 1/1\n",
      "1999/2000 [============================>.] - ETA: 0s - loss: 0.2178"
     ]
    },
    {
     "name": "stderr",
     "output_type": "stream",
     "text": [
      "100%|██████████| 100000/100000 [00:02<00:00, 37793.68it/s]\n"
     ]
    },
    {
     "name": "stdout",
     "output_type": "stream",
     "text": [
      "2000/2000 [==============================] - 166s 83ms/step - loss: 0.2178 - val_loss: 0.1985\n",
      "Epoch 1/1\n",
      "1999/2000 [============================>.] - ETA: 0s - loss: 0.1634"
     ]
    },
    {
     "name": "stderr",
     "output_type": "stream",
     "text": [
      "100%|██████████| 100000/100000 [00:02<00:00, 44956.53it/s]\n"
     ]
    },
    {
     "name": "stdout",
     "output_type": "stream",
     "text": [
      "\b\b\b\b\b\b\b\b\b\b\b\b\b\b\b\b\b\b\b\b\b\b\b\b\b\b\b\b\b\b\b\b\b\b\b\b\b\b\b\b\b\b\b\b\b\b\b\b\b\b\b\b\b\b\b\b\b\b\b\b\b\b\b\b\b\b\b\r",
      "2000/2000 [==============================] - 162s 81ms/step - loss: 0.1634 - val_loss: 0.1871\n"
     ]
    },
    {
     "name": "stderr",
     "output_type": "stream",
     "text": [
      "100%|██████████| 10000/10000 [00:00<00:00, 71424.14it/s]\n"
     ]
    },
    {
     "name": "stdout",
     "output_type": "stream",
     "text": [
      "Epoch 1/1\n",
      "1999/2000 [============================>.] - ETA: 0s - loss: 0.1427"
     ]
    },
    {
     "name": "stderr",
     "output_type": "stream",
     "text": [
      "100%|██████████| 100000/100000 [00:02<00:00, 43879.20it/s]\n"
     ]
    },
    {
     "name": "stdout",
     "output_type": "stream",
     "text": [
      "\b\b\b\b\b\b\b\b\b\b\b\b\b\b\b\b\b\b\b\b\b\b\b\b\b\b\b\b\b\b\b\b\b\b\b\b\b\b\b\b\b\b\b\b\b\b\b\b\b\b\b\b\b\b\b\b\b\b\b\b\b\b\b\b\b\b\b\r",
      "2000/2000 [==============================] - 162s 81ms/step - loss: 0.1427 - val_loss: 0.1927\n"
     ]
    },
    {
     "name": "stderr",
     "output_type": "stream",
     "text": [
      "100%|██████████| 10000/10000 [00:00<00:00, 64754.49it/s]\n"
     ]
    },
    {
     "name": "stdout",
     "output_type": "stream",
     "text": [
      "Epoch 1/1\n",
      "1999/2000 [============================>.] - ETA: 0s - loss: 0.1346"
     ]
    },
    {
     "name": "stderr",
     "output_type": "stream",
     "text": [
      "100%|██████████| 100000/100000 [00:02<00:00, 45075.43it/s]\n"
     ]
    },
    {
     "name": "stdout",
     "output_type": "stream",
     "text": [
      "\b\b\b\b\b\b\b\b\b\b\b\b\b\b\b\b\b\b\b\b\b\b\b\b\b\b\b\b\b\b\b\b\b\b\b\b\b\b\b\b\b\b\b\b\b\b\b\b\b\b\b\b\b\b\b\b\b\b\b\b\b\b\b\b\b\b\b\r",
      "2000/2000 [==============================] - 162s 81ms/step - loss: 0.1346 - val_loss: 0.1771\n"
     ]
    },
    {
     "name": "stderr",
     "output_type": "stream",
     "text": [
      "100%|██████████| 10000/10000 [00:00<00:00, 16872.36it/s]\n"
     ]
    },
    {
     "name": "stdout",
     "output_type": "stream",
     "text": [
      "Epoch 1/1\n",
      "1999/2000 [============================>.] - ETA: 0s - loss: 0.1288"
     ]
    },
    {
     "name": "stderr",
     "output_type": "stream",
     "text": [
      "100%|██████████| 100000/100000 [00:02<00:00, 46695.03it/s]\n"
     ]
    },
    {
     "name": "stdout",
     "output_type": "stream",
     "text": [
      "\b\b\b\b\b\b\b\b\b\b\b\b\b\b\b\b\b\b\b\b\b\b\b\b\b\b\b\b\b\b\b\b\b\b\b\b\b\b\b\b\b\b\b\b\b\b\b\b\b\b\b\b\b\b\b\b\b\b\b\b\b\b\b\b\b\b\b\r",
      "2000/2000 [==============================] - 161s 81ms/step - loss: 0.1287 - val_loss: 0.1794\n",
      "Epoch 1/1\n",
      "1999/2000 [============================>.] - ETA: 0s - loss: 0.1226"
     ]
    },
    {
     "name": "stderr",
     "output_type": "stream",
     "text": [
      "100%|██████████| 100000/100000 [00:02<00:00, 47968.59it/s]\n"
     ]
    },
    {
     "name": "stdout",
     "output_type": "stream",
     "text": [
      "\b\b\b\b\b\b\b\b\b\b\b\b\b\b\b\b\b\b\b\b\b\b\b\b\b\b\b\b\b\b\b\b\b\b\b\b\b\b\b\b\b\b\b\b\b\b\b\b\b\b\b\b\b\b\b\b\b\b\b\b\b\b\b\b\b\b\b\r",
      "2000/2000 [==============================] - 163s 81ms/step - loss: 0.1226 - val_loss: 0.1668\n",
      "Epoch 1/1\n",
      "1999/2000 [============================>.] - ETA: 0s - loss: 0.1185"
     ]
    },
    {
     "name": "stderr",
     "output_type": "stream",
     "text": [
      "100%|██████████| 100000/100000 [00:02<00:00, 36641.81it/s]\n"
     ]
    },
    {
     "name": "stdout",
     "output_type": "stream",
     "text": [
      "\b\b\b\b\b\b\b\b\b\b\b\b\b\b\b\b\b\b\b\b\b\b\b\b\b\b\b\b\b\b\b\b\b\b\b\b\b\b\b\b\b\b\b\b\b\b\b\b\b\b\b\b\b\b\b\b\b\b\b\b\b\b\b\b\b\b\b\r",
      "2000/2000 [==============================] - 162s 81ms/step - loss: 0.1186 - val_loss: 0.1622\n"
     ]
    },
    {
     "name": "stderr",
     "output_type": "stream",
     "text": [
      "100%|██████████| 10000/10000 [00:00<00:00, 68882.73it/s]\n"
     ]
    },
    {
     "name": "stdout",
     "output_type": "stream",
     "text": [
      "Epoch 1/1\n",
      "1999/2000 [============================>.] - ETA: 0s - loss: 0.1133"
     ]
    },
    {
     "name": "stderr",
     "output_type": "stream",
     "text": [
      "100%|██████████| 100000/100000 [00:02<00:00, 36120.93it/s]\n"
     ]
    },
    {
     "name": "stdout",
     "output_type": "stream",
     "text": [
      "2000/2000 [==============================] - 163s 81ms/step - loss: 0.1133 - val_loss: 0.1770\n",
      "Epoch 1/1\n",
      "1999/2000 [============================>.] - ETA: 0s - loss: 0.1107"
     ]
    },
    {
     "name": "stderr",
     "output_type": "stream",
     "text": [
      "100%|██████████| 100000/100000 [00:02<00:00, 45299.58it/s]\n"
     ]
    },
    {
     "name": "stdout",
     "output_type": "stream",
     "text": [
      "\b\b\b\b\b\b\b\b\b\b\b\b\b\b\b\b\b\b\b\b\b\b\b\b\b\b\b\b\b\b\b\b\b\b\b\b\b\b\b\b\b\b\b\b\b\b\b\b\b\b\b\b\b\b\b\b\b\b\b\b\b\b\b\b\b\b\b\r",
      "2000/2000 [==============================] - 162s 81ms/step - loss: 0.1106 - val_loss: 0.1533\n",
      "Epoch 1/1\n",
      "1999/2000 [============================>.] - ETA: 0s - loss: 0.1076"
     ]
    },
    {
     "name": "stderr",
     "output_type": "stream",
     "text": [
      "100%|██████████| 100000/100000 [00:02<00:00, 45953.83it/s]\n"
     ]
    },
    {
     "name": "stdout",
     "output_type": "stream",
     "text": [
      "\b\b\b\b\b\b\b\b\b\b\b\b\b\b\b\b\b\b\b\b\b\b\b\b\b\b\b\b\b\b\b\b\b\b\b\b\b\b\b\b\b\b\b\b\b\b\b\b\b\b\b\b\b\b\b\b\b\b\b\b\b\b\b\b\b\b\b\r",
      "2000/2000 [==============================] - 163s 81ms/step - loss: 0.1076 - val_loss: 0.1752\n",
      "Epoch 1/1\n",
      "1999/2000 [============================>.] - ETA: 0s - loss: 0.1050"
     ]
    },
    {
     "name": "stderr",
     "output_type": "stream",
     "text": [
      "100%|██████████| 100000/100000 [00:02<00:00, 37708.26it/s]\n"
     ]
    },
    {
     "name": "stdout",
     "output_type": "stream",
     "text": [
      "\b\b\b\b\b\b\b\b\b\b\b\b\b\b\b\b\b\b\b\b\b\b\b\b\b\b\b\b\b\b\b\b\b\b\b\b\b\b\b\b\b\b\b\b\b\b\b\b\b\b\b\b\b\b\b\b\b\b\b\b\b\b\b\b\b\b\b\r",
      "2000/2000 [==============================] - 163s 81ms/step - loss: 0.1050 - val_loss: 0.1392\n",
      "Epoch 1/1\n",
      "1999/2000 [============================>.] - ETA: 0s - loss: 0.1037"
     ]
    },
    {
     "name": "stderr",
     "output_type": "stream",
     "text": [
      "100%|██████████| 100000/100000 [00:02<00:00, 45866.14it/s]\n"
     ]
    },
    {
     "name": "stdout",
     "output_type": "stream",
     "text": [
      "\b\b\b\b\b\b\b\b\b\b\b\b\b\b\b\b\b\b\b\b\b\b\b\b\b\b\b\b\b\b\b\b\b\b\b\b\b\b\b\b\b\b\b\b\b\b\b\b\b\b\b\b\b\b\b\b\b\b\b\b\b\b\b\b\b\b\b\r",
      "2000/2000 [==============================] - 162s 81ms/step - loss: 0.1036 - val_loss: 0.1384\n",
      "Epoch 1/1\n",
      "1999/2000 [============================>.] - ETA: 0s - loss: 0.1000"
     ]
    },
    {
     "name": "stderr",
     "output_type": "stream",
     "text": [
      "100%|██████████| 100000/100000 [00:02<00:00, 45895.52it/s]\n"
     ]
    },
    {
     "name": "stdout",
     "output_type": "stream",
     "text": [
      "\b\b\b\b\b\b\b\b\b\b\b\b\b\b\b\b\b\b\b\b\b\b\b\b\b\b\b\b\b\b\b\b\b\b\b\b\b\b\b\b\b\b\b\b\b\b\b\b\b\b\b\b\b\b\b\b\b\b\b\b\b\b\b\b\b\b\b\r",
      "2000/2000 [==============================] - 162s 81ms/step - loss: 0.0999 - val_loss: 0.1575\n"
     ]
    },
    {
     "name": "stderr",
     "output_type": "stream",
     "text": [
      "100%|██████████| 10000/10000 [00:00<00:00, 69708.03it/s]\n"
     ]
    },
    {
     "name": "stdout",
     "output_type": "stream",
     "text": [
      "Epoch 1/1\n",
      "1999/2000 [============================>.] - ETA: 0s - loss: 0.0995"
     ]
    },
    {
     "name": "stderr",
     "output_type": "stream",
     "text": [
      "100%|██████████| 100000/100000 [00:02<00:00, 44362.38it/s]\n"
     ]
    },
    {
     "name": "stdout",
     "output_type": "stream",
     "text": [
      "\b\b\b\b\b\b\b\b\b\b\b\b\b\b\b\b\b\b\b\b\b\b\b\b\b\b\b\b\b\b\b\b\b\b\b\b\b\b\b\b\b\b\b\b\b\b\b\b\b\b\b\b\b\b\b\b\b\b\b\b\b\b\b\b\b\b\b\r",
      "2000/2000 [==============================] - 163s 81ms/step - loss: 0.0994 - val_loss: 0.1588\n",
      "Epoch 1/1\n",
      "1999/2000 [============================>.] - ETA: 0s - loss: 0.0988"
     ]
    },
    {
     "name": "stderr",
     "output_type": "stream",
     "text": [
      "100%|██████████| 100000/100000 [00:02<00:00, 46057.10it/s]\n"
     ]
    },
    {
     "name": "stdout",
     "output_type": "stream",
     "text": [
      "\b\b\b\b\b\b\b\b\b\b\b\b\b\b\b\b\b\b\b\b\b\b\b\b\b\b\b\b\b\b\b\b\b\b\b\b\b\b\b\b\b\b\b\b\b\b\b\b\b\b\b\b\b\b\b\b\b\b\b\b\b\b\b\b\b\b\b\r",
      "2000/2000 [==============================] - 163s 81ms/step - loss: 0.0988 - val_loss: 0.1260\n"
     ]
    },
    {
     "name": "stderr",
     "output_type": "stream",
     "text": [
      "100%|██████████| 10000/10000 [00:00<00:00, 70978.26it/s]\n"
     ]
    },
    {
     "name": "stdout",
     "output_type": "stream",
     "text": [
      "Epoch 1/1\n",
      "1999/2000 [============================>.] - ETA: 0s - loss: 0.0971"
     ]
    },
    {
     "name": "stderr",
     "output_type": "stream",
     "text": [
      "100%|██████████| 100000/100000 [00:02<00:00, 45324.81it/s]\n"
     ]
    },
    {
     "name": "stdout",
     "output_type": "stream",
     "text": [
      "\b\b\b\b\b\b\b\b\b\b\b\b\b\b\b\b\b\b\b\b\b\b\b\b\b\b\b\b\b\b\b\b\b\b\b\b\b\b\b\b\b\b\b\b\b\b\b\b\b\b\b\b\b\b\b\b\b\b\b\b\b\b\b\b\b\b\b\r",
      "2000/2000 [==============================] - 163s 81ms/step - loss: 0.0971 - val_loss: 0.1511\n"
     ]
    },
    {
     "name": "stderr",
     "output_type": "stream",
     "text": [
      "100%|██████████| 10000/10000 [00:00<00:00, 69920.22it/s]\n"
     ]
    },
    {
     "name": "stdout",
     "output_type": "stream",
     "text": [
      "Epoch 1/1\n",
      "1999/2000 [============================>.] - ETA: 0s - loss: 0.0939"
     ]
    },
    {
     "name": "stderr",
     "output_type": "stream",
     "text": [
      "100%|██████████| 100000/100000 [00:02<00:00, 45255.58it/s]\n"
     ]
    },
    {
     "name": "stdout",
     "output_type": "stream",
     "text": [
      "\b\b\b\b\b\b\b\b\b\b\b\b\b\b\b\b\b\b\b\b\b\b\b\b\b\b\b\b\b\b\b\b\b\b\b\b\b\b\b\b\b\b\b\b\b\b\b\b\b\b\b\b\b\b\b\b\b\b\b\b\b\b\b\b\b\b\b\r",
      "2000/2000 [==============================] - 164s 82ms/step - loss: 0.0940 - val_loss: 0.1515\n"
     ]
    },
    {
     "name": "stderr",
     "output_type": "stream",
     "text": [
      "100%|██████████| 10000/10000 [00:00<00:00, 62862.67it/s]\n"
     ]
    },
    {
     "name": "stdout",
     "output_type": "stream",
     "text": [
      "Epoch 1/1\n",
      "1999/2000 [============================>.] - ETA: 0s - loss: 0.0911"
     ]
    },
    {
     "name": "stderr",
     "output_type": "stream",
     "text": [
      "100%|██████████| 100000/100000 [00:02<00:00, 44225.57it/s]\n"
     ]
    },
    {
     "name": "stdout",
     "output_type": "stream",
     "text": [
      "\b\b\b\b\b\b\b\b\b\b\b\b\b\b\b\b\b\b\b\b\b\b\b\b\b\b\b\b\b\b\b\b\b\b\b\b\b\b\b\b\b\b\b\b\b\b\b\b\b\b\b\b\b\b\b\b\b\b\b\b\b\b\b\b\b\b\b\r",
      "2000/2000 [==============================] - 164s 82ms/step - loss: 0.0910 - val_loss: 0.1378\n",
      "Epoch 1/1\n",
      "1999/2000 [============================>.] - ETA: 0s - loss: 0.0910"
     ]
    },
    {
     "name": "stderr",
     "output_type": "stream",
     "text": [
      "100%|██████████| 100000/100000 [00:02<00:00, 36600.86it/s]\n"
     ]
    },
    {
     "name": "stdout",
     "output_type": "stream",
     "text": [
      "\b\b\b\b\b\b\b\b\b\b\b\b\b\b\b\b\b\b\b\b\b\b\b\b\b\b\b\b\b\b\b\b\b\b\b\b\b\b\b\b\b\b\b\b\b\b\b\b\b\b\b\b\b\b\b\b\b\b\b\b\b\b\b\b\b\b\b\r",
      "2000/2000 [==============================] - 165s 82ms/step - loss: 0.0910 - val_loss: 0.1284\n"
     ]
    },
    {
     "name": "stderr",
     "output_type": "stream",
     "text": [
      "100%|██████████| 10000/10000 [00:00<00:00, 68296.35it/s]\n"
     ]
    },
    {
     "name": "stdout",
     "output_type": "stream",
     "text": [
      "Epoch 1/1\n",
      "1999/2000 [============================>.] - ETA: 0s - loss: 0.0832"
     ]
    },
    {
     "name": "stderr",
     "output_type": "stream",
     "text": [
      "100%|██████████| 100000/100000 [00:02<00:00, 36195.87it/s]\n"
     ]
    },
    {
     "name": "stdout",
     "output_type": "stream",
     "text": [
      "\b\b\b\b\b\b\b\b\b\b\b\b\b\b\b\b\b\b\b\b\b\b\b\b\b\b\b\b\b\b\b\b\b\b\b\b\b\b\b\b\b\b\b\b\b\b\b\b\b\b\b\b\b\b\b\b\b\b\b\b\b\b\b\b\b\b\b\r",
      "2000/2000 [==============================] - 164s 82ms/step - loss: 0.0832 - val_loss: 0.1196\n",
      "Epoch 1/1\n",
      "1999/2000 [============================>.] - ETA: 0s - loss: 0.0921"
     ]
    },
    {
     "name": "stderr",
     "output_type": "stream",
     "text": [
      "100%|██████████| 100000/100000 [00:02<00:00, 44099.67it/s]\n"
     ]
    },
    {
     "name": "stdout",
     "output_type": "stream",
     "text": [
      "\b\b\b\b\b\b\b\b\b\b\b\b\b\b\b\b\b\b\b\b\b\b\b\b\b\b\b\b\b\b\b\b\b\b\b\b\b\b\b\b\b\b\b\b\b\b\b\b\b\b\b\b\b\b\b\b\b\b\b\b\b\b\b\b\b\b\b\r",
      "2000/2000 [==============================] - 165s 82ms/step - loss: 0.0921 - val_loss: 0.1161\n"
     ]
    },
    {
     "name": "stderr",
     "output_type": "stream",
     "text": [
      "100%|██████████| 10000/10000 [00:00<00:00, 70153.64it/s]\n"
     ]
    },
    {
     "name": "stdout",
     "output_type": "stream",
     "text": [
      "Epoch 1/1\n",
      "1999/2000 [============================>.] - ETA: 0s - loss: 0.0822"
     ]
    },
    {
     "name": "stderr",
     "output_type": "stream",
     "text": [
      "100%|██████████| 100000/100000 [00:02<00:00, 45677.12it/s]\n"
     ]
    },
    {
     "name": "stdout",
     "output_type": "stream",
     "text": [
      "\b\b\b\b\b\b\b\b\b\b\b\b\b\b\b\b\b\b\b\b\b\b\b\b\b\b\b\b\b\b\b\b\b\b\b\b\b\b\b\b\b\b\b\b\b\b\b\b\b\b\b\b\b\b\b\b\b\b\b\b\b\b\b\b\b\b\b\r",
      "2000/2000 [==============================] - 164s 82ms/step - loss: 0.0822 - val_loss: 0.1151\n"
     ]
    },
    {
     "name": "stderr",
     "output_type": "stream",
     "text": [
      "100%|██████████| 10000/10000 [00:00<00:00, 65499.16it/s]\n"
     ]
    },
    {
     "name": "stdout",
     "output_type": "stream",
     "text": [
      "Epoch 1/1\n",
      "1999/2000 [============================>.] - ETA: 0s - loss: 0.0799"
     ]
    },
    {
     "name": "stderr",
     "output_type": "stream",
     "text": [
      "100%|██████████| 100000/100000 [00:02<00:00, 36053.37it/s]\n"
     ]
    },
    {
     "name": "stdout",
     "output_type": "stream",
     "text": [
      "\b\b\b\b\b\b\b\b\b\b\b\b\b\b\b\b\b\b\b\b\b\b\b\b\b\b\b\b\b\b\b\b\b\b\b\b\b\b\b\b\b\b\b\b\b\b\b\b\b\b\b\b\b\b\b\b\b\b\b\b\b\b\b\b\b\b\b\r",
      "2000/2000 [==============================] - 165s 83ms/step - loss: 0.0799 - val_loss: 0.1245\n"
     ]
    },
    {
     "name": "stderr",
     "output_type": "stream",
     "text": [
      "100%|██████████| 10000/10000 [00:00<00:00, 63203.30it/s]\n"
     ]
    },
    {
     "name": "stdout",
     "output_type": "stream",
     "text": [
      "Epoch 1/1\n",
      "1999/2000 [============================>.] - ETA: 0s - loss: 0.0777"
     ]
    },
    {
     "name": "stderr",
     "output_type": "stream",
     "text": [
      "100%|██████████| 100000/100000 [00:02<00:00, 44633.33it/s]\n"
     ]
    },
    {
     "name": "stdout",
     "output_type": "stream",
     "text": [
      "\b\b\b\b\b\b\b\b\b\b\b\b\b\b\b\b\b\b\b\b\b\b\b\b\b\b\b\b\b\b\b\b\b\b\b\b\b\b\b\b\b\b\b\b\b\b\b\b\b\b\b\b\b\b\b\b\b\b\b\b\b\b\b\b\b\b\b\r",
      "2000/2000 [==============================] - 163s 82ms/step - loss: 0.0778 - val_loss: 0.2005\n"
     ]
    },
    {
     "name": "stderr",
     "output_type": "stream",
     "text": [
      "100%|██████████| 10000/10000 [00:00<00:00, 69210.08it/s]\n"
     ]
    },
    {
     "name": "stdout",
     "output_type": "stream",
     "text": [
      "Epoch 1/1\n",
      "1999/2000 [============================>.] - ETA: 0s - loss: 0.0782"
     ]
    },
    {
     "name": "stderr",
     "output_type": "stream",
     "text": [
      "100%|██████████| 100000/100000 [00:02<00:00, 45490.85it/s]\n"
     ]
    },
    {
     "name": "stdout",
     "output_type": "stream",
     "text": [
      "\b\b\b\b\b\b\b\b\b\b\b\b\b\b\b\b\b\b\b\b\b\b\b\b\b\b\b\b\b\b\b\b\b\b\b\b\b\b\b\b\b\b\b\b\b\b\b\b\b\b\b\b\b\b\b\b\b\b\b\b\b\b\b\b\b\b\b\r",
      "2000/2000 [==============================] - 164s 82ms/step - loss: 0.0783 - val_loss: 0.1355\n"
     ]
    },
    {
     "name": "stderr",
     "output_type": "stream",
     "text": [
      "100%|██████████| 10000/10000 [00:00<00:00, 68912.72it/s]\n"
     ]
    },
    {
     "name": "stdout",
     "output_type": "stream",
     "text": [
      "Epoch 1/1\n",
      "1999/2000 [============================>.] - ETA: 0s - loss: 0.0742"
     ]
    },
    {
     "name": "stderr",
     "output_type": "stream",
     "text": [
      "100%|██████████| 100000/100000 [00:02<00:00, 37123.99it/s]\n"
     ]
    },
    {
     "name": "stdout",
     "output_type": "stream",
     "text": [
      "\b\b\b\b\b\b\b\b\b\b\b\b\b\b\b\b\b\b\b\b\b\b\b\b\b\b\b\b\b\b\b\b\b\b\b\b\b\b\b\b\b\b\b\b\b\b\b\b\b\b\b\b\b\b\b\b\b\b\b\b\b\b\b\b\b\b\b\r",
      "2000/2000 [==============================] - 165s 82ms/step - loss: 0.0742 - val_loss: 0.1280\n"
     ]
    },
    {
     "name": "stderr",
     "output_type": "stream",
     "text": [
      "100%|██████████| 10000/10000 [00:00<00:00, 70312.17it/s]\n"
     ]
    },
    {
     "name": "stdout",
     "output_type": "stream",
     "text": [
      "Epoch 1/1\n",
      "1999/2000 [============================>.] - ETA: 0s - loss: 0.0760"
     ]
    },
    {
     "name": "stderr",
     "output_type": "stream",
     "text": [
      "100%|██████████| 100000/100000 [00:02<00:00, 45012.21it/s]\n"
     ]
    },
    {
     "name": "stdout",
     "output_type": "stream",
     "text": [
      "\b\b\b\b\b\b\b\b\b\b\b\b\b\b\b\b\b\b\b\b\b\b\b\b\b\b\b\b\b\b\b\b\b\b\b\b\b\b\b\b\b\b\b\b\b\b\b\b\b\b\b\b\b\b\b\b\b\b\b\b\b\b\b\b\b\b\b\r",
      "2000/2000 [==============================] - 164s 82ms/step - loss: 0.0760 - val_loss: 0.1302\n",
      "Epoch 1/1\n",
      "1999/2000 [============================>.] - ETA: 0s - loss: 0.0707"
     ]
    },
    {
     "name": "stderr",
     "output_type": "stream",
     "text": [
      "100%|██████████| 100000/100000 [00:02<00:00, 43481.28it/s]\n"
     ]
    },
    {
     "name": "stdout",
     "output_type": "stream",
     "text": [
      "\b\b\b\b\b\b\b\b\b\b\b\b\b\b\b\b\b\b\b\b\b\b\b\b\b\b\b\b\b\b\b\b\b\b\b\b\b\b\b\b\b\b\b\b\b\b\b\b\b\b\b\b\b\b\b\b\b\b\b\b\b\b\b\b\b\b\b\r",
      "2000/2000 [==============================] - 164s 82ms/step - loss: 0.0707 - val_loss: 0.1349\n",
      "Epoch 1/1\n",
      "1999/2000 [============================>.] - ETA: 0s - loss: 0.0750"
     ]
    },
    {
     "name": "stderr",
     "output_type": "stream",
     "text": [
      "100%|██████████| 100000/100000 [00:02<00:00, 44447.35it/s]\n"
     ]
    },
    {
     "name": "stdout",
     "output_type": "stream",
     "text": [
      "\b\b\b\b\b\b\b\b\b\b\b\b\b\b\b\b\b\b\b\b\b\b\b\b\b\b\b\b\b\b\b\b\b\b\b\b\b\b\b\b\b\b\b\b\b\b\b\b\b\b\b\b\b\b\b\b\b\b\b\b\b\b\b\b\b\b\b\r",
      "2000/2000 [==============================] - 165s 82ms/step - loss: 0.0750 - val_loss: 0.1277\n"
     ]
    },
    {
     "name": "stderr",
     "output_type": "stream",
     "text": [
      "100%|██████████| 10000/10000 [00:00<00:00, 70324.43it/s]\n"
     ]
    },
    {
     "name": "stdout",
     "output_type": "stream",
     "text": [
      "Epoch 1/1\n",
      "1999/2000 [============================>.] - ETA: 0s - loss: 0.0682"
     ]
    },
    {
     "name": "stderr",
     "output_type": "stream",
     "text": [
      "100%|██████████| 100000/100000 [00:02<00:00, 36614.49it/s]\n"
     ]
    },
    {
     "name": "stdout",
     "output_type": "stream",
     "text": [
      "\b\b\b\b\b\b\b\b\b\b\b\b\b\b\b\b\b\b\b\b\b\b\b\b\b\b\b\b\b\b\b\b\b\b\b\b\b\b\b\b\b\b\b\b\b\b\b\b\b\b\b\b\b\b\b\b\b\b\b\b\b\b\b\b\b\b\b\r",
      "2000/2000 [==============================] - 164s 82ms/step - loss: 0.0682 - val_loss: 0.1210\n"
     ]
    },
    {
     "name": "stderr",
     "output_type": "stream",
     "text": [
      "100%|██████████| 10000/10000 [00:00<00:00, 69303.74it/s]\n"
     ]
    },
    {
     "name": "stdout",
     "output_type": "stream",
     "text": [
      "Epoch 1/1\n",
      "1999/2000 [============================>.] - ETA: 0s - loss: 0.0669"
     ]
    },
    {
     "name": "stderr",
     "output_type": "stream",
     "text": [
      "100%|██████████| 100000/100000 [00:02<00:00, 35546.94it/s]\n"
     ]
    },
    {
     "name": "stdout",
     "output_type": "stream",
     "text": [
      "2000/2000 [==============================] - 165s 82ms/step - loss: 0.0669 - val_loss: 0.1159\n",
      "Epoch 1/1\n",
      "1999/2000 [============================>.] - ETA: 0s - loss: 0.0668"
     ]
    },
    {
     "name": "stderr",
     "output_type": "stream",
     "text": [
      "100%|██████████| 100000/100000 [00:02<00:00, 46717.21it/s]\n"
     ]
    },
    {
     "name": "stdout",
     "output_type": "stream",
     "text": [
      "\b\b\b\b\b\b\b\b\b\b\b\b\b\b\b\b\b\b\b\b\b\b\b\b\b\b\b\b\b\b\b\b\b\b\b\b\b\b\b\b\b\b\b\b\b\b\b\b\b\b\b\b\b\b\b\b\b\b\b\b\b\b\b\b\b\b\b\r",
      "2000/2000 [==============================] - 163s 82ms/step - loss: 0.0667 - val_loss: 0.1126\n"
     ]
    },
    {
     "name": "stderr",
     "output_type": "stream",
     "text": [
      "100%|██████████| 10000/10000 [00:00<00:00, 69663.10it/s]\n"
     ]
    },
    {
     "name": "stdout",
     "output_type": "stream",
     "text": [
      "Epoch 1/1\n",
      "1999/2000 [============================>.] - ETA: 0s - loss: 0.0700"
     ]
    },
    {
     "name": "stderr",
     "output_type": "stream",
     "text": [
      "100%|██████████| 100000/100000 [00:02<00:00, 36629.37it/s]\n"
     ]
    },
    {
     "name": "stdout",
     "output_type": "stream",
     "text": [
      "\b\b\b\b\b\b\b\b\b\b\b\b\b\b\b\b\b\b\b\b\b\b\b\b\b\b\b\b\b\b\b\b\b\b\b\b\b\b\b\b\b\b\b\b\b\b\b\b\b\b\b\b\b\b\b\b\b\b\b\b\b\b\b\b\b\b\b\r",
      "2000/2000 [==============================] - 164s 82ms/step - loss: 0.0700 - val_loss: 0.1170\n"
     ]
    },
    {
     "name": "stderr",
     "output_type": "stream",
     "text": [
      "100%|██████████| 10000/10000 [00:00<00:00, 64616.13it/s]\n"
     ]
    },
    {
     "name": "stdout",
     "output_type": "stream",
     "text": [
      "Epoch 1/1\n",
      "1999/2000 [============================>.] - ETA: 0s - loss: 0.0671"
     ]
    },
    {
     "name": "stderr",
     "output_type": "stream",
     "text": [
      "100%|██████████| 100000/100000 [00:02<00:00, 44791.26it/s]\n"
     ]
    },
    {
     "name": "stdout",
     "output_type": "stream",
     "text": [
      "\b\b\b\b\b\b\b\b\b\b\b\b\b\b\b\b\b\b\b\b\b\b\b\b\b\b\b\b\b\b\b\b\b\b\b\b\b\b\b\b\b\b\b\b\b\b\b\b\b\b\b\b\b\b\b\b\b\b\b\b\b\b\b\b\b\b\b\r",
      "2000/2000 [==============================] - 164s 82ms/step - loss: 0.0671 - val_loss: 0.1427\n"
     ]
    },
    {
     "name": "stderr",
     "output_type": "stream",
     "text": [
      "100%|██████████| 10000/10000 [00:00<00:00, 64514.16it/s]\n"
     ]
    },
    {
     "name": "stdout",
     "output_type": "stream",
     "text": [
      "Epoch 1/1\n",
      "1999/2000 [============================>.] - ETA: 0s - loss: 0.0674"
     ]
    },
    {
     "name": "stderr",
     "output_type": "stream",
     "text": [
      "100%|██████████| 100000/100000 [00:02<00:00, 43916.53it/s]\n"
     ]
    },
    {
     "name": "stdout",
     "output_type": "stream",
     "text": [
      "\b\b\b\b\b\b\b\b\b\b\b\b\b\b\b\b\b\b\b\b\b\b\b\b\b\b\b\b\b\b\b\b\b\b\b\b\b\b\b\b\b\b\b\b\b\b\b\b\b\b\b\b\b\b\b\b\b\b\b\b\b\b\b\b\b\b\b\r",
      "2000/2000 [==============================] - 164s 82ms/step - loss: 0.0673 - val_loss: 0.1091\n",
      "Epoch 1/1\n",
      "1999/2000 [============================>.] - ETA: 0s - loss: 0.0647"
     ]
    },
    {
     "name": "stderr",
     "output_type": "stream",
     "text": [
      "100%|██████████| 100000/100000 [00:02<00:00, 46130.11it/s]\n"
     ]
    },
    {
     "name": "stdout",
     "output_type": "stream",
     "text": [
      "\b\b\b\b\b\b\b\b\b\b\b\b\b\b\b\b\b\b\b\b\b\b\b\b\b\b\b\b\b\b\b\b\b\b\b\b\b\b\b\b\b\b\b\b\b\b\b\b\b\b\b\b\b\b\b\b\b\b\b\b\b\b\b\b\b\b\b\r",
      "2000/2000 [==============================] - 164s 82ms/step - loss: 0.0647 - val_loss: 0.1394\n",
      "Epoch 1/1\n",
      "1999/2000 [============================>.] - ETA: 0s - loss: 0.0679"
     ]
    },
    {
     "name": "stderr",
     "output_type": "stream",
     "text": [
      "100%|██████████| 100000/100000 [00:02<00:00, 46059.41it/s]\n"
     ]
    },
    {
     "name": "stdout",
     "output_type": "stream",
     "text": [
      "\b\b\b\b\b\b\b\b\b\b\b\b\b\b\b\b\b\b\b\b\b\b\b\b\b\b\b\b\b\b\b\b\b\b\b\b\b\b\b\b\b\b\b\b\b\b\b\b\b\b\b\b\b\b\b\b\b\b\b\b\b\b\b\b\b\b\b\r",
      "2000/2000 [==============================] - 164s 82ms/step - loss: 0.0679 - val_loss: 0.1098\n",
      "Epoch 1/1\n",
      "1999/2000 [============================>.] - ETA: 0s - loss: 0.0656"
     ]
    },
    {
     "name": "stderr",
     "output_type": "stream",
     "text": [
      "100%|██████████| 100000/100000 [00:02<00:00, 38680.89it/s]\n"
     ]
    },
    {
     "name": "stdout",
     "output_type": "stream",
     "text": [
      "\b\b\b\b\b\b\b\b\b\b\b\b\b\b\b\b\b\b\b\b\b\b\b\b\b\b\b\b\b\b\b\b\b\b\b\b\b\b\b\b\b\b\b\b\b\b\b\b\b\b\b\b\b\b\b\b\b\b\b\b\b\b\b\b\b\b\b\r",
      "2000/2000 [==============================] - 164s 82ms/step - loss: 0.0656 - val_loss: 0.1070\n"
     ]
    },
    {
     "name": "stderr",
     "output_type": "stream",
     "text": [
      "100%|██████████| 10000/10000 [00:00<00:00, 69142.54it/s]\n"
     ]
    },
    {
     "name": "stdout",
     "output_type": "stream",
     "text": [
      "Epoch 1/1\n",
      "1999/2000 [============================>.] - ETA: 0s - loss: 0.0671"
     ]
    },
    {
     "name": "stderr",
     "output_type": "stream",
     "text": [
      "100%|██████████| 100000/100000 [00:02<00:00, 36865.74it/s]\n"
     ]
    },
    {
     "name": "stdout",
     "output_type": "stream",
     "text": [
      "\b\b\b\b\b\b\b\b\b\b\b\b\b\b\b\b\b\b\b\b\b\b\b\b\b\b\b\b\b\b\b\b\b\b\b\b\b\b\b\b\b\b\b\b\b\b\b\b\b\b\b\b\b\b\b\b\b\b\b\b\b\b\b\b\b\b\b\r",
      "2000/2000 [==============================] - 164s 82ms/step - loss: 0.0671 - val_loss: 0.1252\n",
      "Epoch 1/1\n",
      "1999/2000 [============================>.] - ETA: 0s - loss: 0.0649"
     ]
    },
    {
     "name": "stderr",
     "output_type": "stream",
     "text": [
      "100%|██████████| 100000/100000 [00:02<00:00, 46066.91it/s]\n"
     ]
    },
    {
     "name": "stdout",
     "output_type": "stream",
     "text": [
      "\b\b\b\b\b\b\b\b\b\b\b\b\b\b\b\b\b\b\b\b\b\b\b\b\b\b\b\b\b\b\b\b\b\b\b\b\b\b\b\b\b\b\b\b\b\b\b\b\b\b\b\b\b\b\b\b\b\b\b\b\b\b\b\b\b\b\b\r",
      "2000/2000 [==============================] - 163s 82ms/step - loss: 0.0649 - val_loss: 0.1196\n"
     ]
    },
    {
     "name": "stderr",
     "output_type": "stream",
     "text": [
      "100%|██████████| 10000/10000 [00:00<00:00, 66959.09it/s]\n"
     ]
    },
    {
     "name": "stdout",
     "output_type": "stream",
     "text": [
      "Epoch 1/1\n",
      "1999/2000 [============================>.] - ETA: 0s - loss: 0.0661"
     ]
    },
    {
     "name": "stderr",
     "output_type": "stream",
     "text": [
      "100%|██████████| 100000/100000 [00:02<00:00, 44937.63it/s]\n"
     ]
    },
    {
     "name": "stdout",
     "output_type": "stream",
     "text": [
      "\b\b\b\b\b\b\b\b\b\b\b\b\b\b\b\b\b\b\b\b\b\b\b\b\b\b\b\b\b\b\b\b\b\b\b\b\b\b\b\b\b\b\b\b\b\b\b\b\b\b\b\b\b\b\b\b\b\b\b\b\b\b\b\b\b\b\b\r",
      "2000/2000 [==============================] - 164s 82ms/step - loss: 0.0661 - val_loss: 0.1402\n"
     ]
    },
    {
     "name": "stderr",
     "output_type": "stream",
     "text": [
      "100%|██████████| 10000/10000 [00:00<00:00, 66738.86it/s]\n"
     ]
    },
    {
     "name": "stdout",
     "output_type": "stream",
     "text": [
      "Epoch 1/1\n",
      "1999/2000 [============================>.] - ETA: 0s - loss: 0.0649"
     ]
    },
    {
     "name": "stderr",
     "output_type": "stream",
     "text": [
      "100%|██████████| 100000/100000 [00:02<00:00, 43363.63it/s]\n"
     ]
    },
    {
     "name": "stdout",
     "output_type": "stream",
     "text": [
      "\b\b\b\b\b\b\b\b\b\b\b\b\b\b\b\b\b\b\b\b\b\b\b\b\b\b\b\b\b\b\b\b\b\b\b\b\b\b\b\b\b\b\b\b\b\b\b\b\b\b\b\b\b\b\b\b\b\b\b\b\b\b\b\b\b\b\b\r",
      "2000/2000 [==============================] - 164s 82ms/step - loss: 0.0649 - val_loss: 0.1125\n"
     ]
    },
    {
     "name": "stderr",
     "output_type": "stream",
     "text": [
      "100%|██████████| 10000/10000 [00:00<00:00, 14559.38it/s]\n"
     ]
    },
    {
     "name": "stdout",
     "output_type": "stream",
     "text": [
      "Epoch 1/1\n",
      "1999/2000 [============================>.] - ETA: 0s - loss: 0.0694"
     ]
    },
    {
     "name": "stderr",
     "output_type": "stream",
     "text": [
      "100%|██████████| 100000/100000 [00:02<00:00, 43497.93it/s]\n"
     ]
    },
    {
     "name": "stdout",
     "output_type": "stream",
     "text": [
      "\b\b\b\b\b\b\b\b\b\b\b\b\b\b\b\b\b\b\b\b\b\b\b\b\b\b\b\b\b\b\b\b\b\b\b\b\b\b\b\b\b\b\b\b\b\b\b\b\b\b\b\b\b\b\b\b\b\b\b\b\b\b\b\b\b\b\b\r",
      "2000/2000 [==============================] - 163s 82ms/step - loss: 0.0693 - val_loss: 0.1347\n"
     ]
    },
    {
     "name": "stderr",
     "output_type": "stream",
     "text": [
      "100%|██████████| 10000/10000 [00:00<00:00, 16511.26it/s]\n"
     ]
    },
    {
     "name": "stdout",
     "output_type": "stream",
     "text": [
      "Epoch 1/1\n",
      "1999/2000 [============================>.] - ETA: 0s - loss: 0.0645"
     ]
    },
    {
     "name": "stderr",
     "output_type": "stream",
     "text": [
      "100%|██████████| 100000/100000 [00:02<00:00, 43232.22it/s]\n"
     ]
    },
    {
     "name": "stdout",
     "output_type": "stream",
     "text": [
      "\b\b\b\b\b\b\b\b\b\b\b\b\b\b\b\b\b\b\b\b\b\b\b\b\b\b\b\b\b\b\b\b\b\b\b\b\b\b\b\b\b\b\b\b\b\b\b\b\b\b\b\b\b\b\b\b\b\b\b\b\b\b\b\b\b\b\b\r",
      "2000/2000 [==============================] - 164s 82ms/step - loss: 0.0645 - val_loss: 0.1087\n"
     ]
    },
    {
     "name": "stderr",
     "output_type": "stream",
     "text": [
      "100%|██████████| 10000/10000 [00:00<00:00, 16483.84it/s]\n"
     ]
    },
    {
     "name": "stdout",
     "output_type": "stream",
     "text": [
      "Epoch 1/1\n",
      "1999/2000 [============================>.] - ETA: 0s - loss: 0.0642"
     ]
    },
    {
     "name": "stderr",
     "output_type": "stream",
     "text": [
      "100%|██████████| 100000/100000 [00:02<00:00, 43934.52it/s]\n"
     ]
    },
    {
     "name": "stdout",
     "output_type": "stream",
     "text": [
      "\b\b\b\b\b\b\b\b\b\b\b\b\b\b\b\b\b\b\b\b\b\b\b\b\b\b\b\b\b\b\b\b\b\b\b\b\b\b\b\b\b\b\b\b\b\b\b\b\b\b\b\b\b\b\b\b\b\b\b\b\b\b\b\b\b\b\b\r",
      "2000/2000 [==============================] - 163s 82ms/step - loss: 0.0642 - val_loss: 0.1171\n"
     ]
    },
    {
     "name": "stderr",
     "output_type": "stream",
     "text": [
      "100%|██████████| 10000/10000 [00:00<00:00, 15986.33it/s]\n"
     ]
    },
    {
     "name": "stdout",
     "output_type": "stream",
     "text": [
      "Epoch 1/1\n",
      "1999/2000 [============================>.] - ETA: 0s - loss: 0.0632"
     ]
    },
    {
     "name": "stderr",
     "output_type": "stream",
     "text": [
      "100%|██████████| 100000/100000 [00:02<00:00, 44214.07it/s]\n"
     ]
    },
    {
     "name": "stdout",
     "output_type": "stream",
     "text": [
      "\b\b\b\b\b\b\b\b\b\b\b\b\b\b\b\b\b\b\b\b\b\b\b\b\b\b\b\b\b\b\b\b\b\b\b\b\b\b\b\b\b\b\b\b\b\b\b\b\b\b\b\b\b\b\b\b\b\b\b\b\b\b\b\b\b\b\b\r",
      "2000/2000 [==============================] - 163s 82ms/step - loss: 0.0633 - val_loss: 0.1216\n"
     ]
    },
    {
     "name": "stderr",
     "output_type": "stream",
     "text": [
      "100%|██████████| 10000/10000 [00:00<00:00, 15594.14it/s]\n"
     ]
    },
    {
     "name": "stdout",
     "output_type": "stream",
     "text": [
      "Epoch 1/1\n",
      "1999/2000 [============================>.] - ETA: 0s - loss: 0.0631"
     ]
    },
    {
     "name": "stderr",
     "output_type": "stream",
     "text": [
      "100%|██████████| 100000/100000 [00:02<00:00, 45472.36it/s]\n"
     ]
    },
    {
     "name": "stdout",
     "output_type": "stream",
     "text": [
      "2000/2000 [==============================] - 164s 82ms/step - loss: 0.0632 - val_loss: 0.1553\n",
      "Epoch 1/1\n",
      "1999/2000 [============================>.] - ETA: 0s - loss: 0.0696"
     ]
    },
    {
     "name": "stderr",
     "output_type": "stream",
     "text": [
      "100%|██████████| 100000/100000 [00:02<00:00, 45539.39it/s]\n"
     ]
    },
    {
     "name": "stdout",
     "output_type": "stream",
     "text": [
      "2000/2000 [==============================] - 164s 82ms/step - loss: 0.0696 - val_loss: 0.1050\n",
      "Epoch 1/1\n",
      "1999/2000 [============================>.] - ETA: 0s - loss: 0.0624"
     ]
    },
    {
     "name": "stderr",
     "output_type": "stream",
     "text": [
      "100%|██████████| 100000/100000 [00:02<00:00, 35227.15it/s]\n"
     ]
    },
    {
     "name": "stdout",
     "output_type": "stream",
     "text": [
      "\b\b\b\b\b\b\b\b\b\b\b\b\b\b\b\b\b\b\b\b\b\b\b\b\b\b\b\b\b\b\b\b\b\b\b\b\b\b\b\b\b\b\b\b\b\b\b\b\b\b\b\b\b\b\b\b\b\b\b\b\b\b\b\b\b\b\b\r",
      "2000/2000 [==============================] - 164s 82ms/step - loss: 0.0625 - val_loss: 0.1079\n"
     ]
    },
    {
     "name": "stderr",
     "output_type": "stream",
     "text": [
      "100%|██████████| 10000/10000 [00:00<00:00, 68963.60it/s]\n"
     ]
    },
    {
     "name": "stdout",
     "output_type": "stream",
     "text": [
      "Epoch 1/1\n",
      "1999/2000 [============================>.] - ETA: 0s - loss: 0.0598"
     ]
    },
    {
     "name": "stderr",
     "output_type": "stream",
     "text": [
      "100%|██████████| 100000/100000 [00:02<00:00, 35622.06it/s]\n"
     ]
    },
    {
     "name": "stdout",
     "output_type": "stream",
     "text": [
      "\b\b\b\b\b\b\b\b\b\b\b\b\b\b\b\b\b\b\b\b\b\b\b\b\b\b\b\b\b\b\b\b\b\b\b\b\b\b\b\b\b\b\b\b\b\b\b\b\b\b\b\b\b\b\b\b\b\b\b\b\b\b\b\b\b\b\b\r",
      "2000/2000 [==============================] - 164s 82ms/step - loss: 0.0599 - val_loss: 0.1472\n"
     ]
    }
   ],
   "source": [
    "hpatches_dir = './hpatches'\n",
    "splits_path = './splits.json'\n",
    "\n",
    "splits_json = json.load(open(splits_path, 'rb'))\n",
    "split = splits_json['a']\n",
    "\n",
    "train_fnames = split['train']\n",
    "test_fnames = split['test']\n",
    "\n",
    "seqs = glob.glob(hpatches_dir+'/*')\n",
    "seqs = [os.path.abspath(p) for p in seqs]   \n",
    "seqs_train = list(filter(lambda x: x.split('/')[-1] in train_fnames, seqs)) \n",
    "seqs_test = list(filter(lambda x: x.split('/')[-1] in split['test'], seqs))\n",
    "\n",
    "\n",
    "### Descriptor loading and training\n",
    "# Loading images\n",
    "hPatches = HPatches(train_fnames=train_fnames, test_fnames=test_fnames,\n",
    "                    denoise_model=denoise_model, use_clean=False)\n",
    "# Creating training generator\n",
    "training_generator = DataGeneratorDesc(*hPatches.read_image_file(hpatches_dir, train=1), num_triplets=100000)\n",
    "# Creating validation generator\n",
    "val_generator = DataGeneratorDesc(*hPatches.read_image_file(hpatches_dir, train=0), num_triplets=10000)\n",
    "epochs = 50\n",
    "### As with the denoising model, we use a loop to save for each epoch \n",
    "## #the weights in an external website in case colab stops. \n",
    "### reset, so e.g. calling 5 times fit(epochs=1) behave as fit(epochs=5)\n",
    "\n",
    "### If you have a model saved from a previous training session\n",
    "### Load it in the next line\n",
    "# descriptor_model_trip.set_weights(keras.models.load_model('./descriptor.h5').get_weights())\n",
    "# descriptor_model_trip.optimizer = keras.models.load_model('./descriptor.h5').optimizer\n",
    "\n",
    "for e in range(epochs):\n",
    "  \n",
    "  descriptor_history = descriptor_model_trip.fit_generator(generator=training_generator, epochs=1, verbose=1, validation_data=val_generator)\n",
    "  \n",
    "  ### Saves optimizer and weights\n",
    "  descriptor_model_trip.save('descriptor.h5') "
   ]
  }
 ],
 "metadata": {
  "accelerator": "GPU",
  "colab": {
   "include_colab_link": true,
   "name": "denoise.ipynb",
   "provenance": [],
   "version": "0.3.2"
  },
  "kernelspec": {
   "display_name": "Python 3",
   "language": "python",
   "name": "python3"
  },
  "language_info": {
   "codemirror_mode": {
    "name": "ipython",
    "version": 3
   },
   "file_extension": ".py",
   "mimetype": "text/x-python",
   "name": "python",
   "nbconvert_exporter": "python",
   "pygments_lexer": "ipython3",
   "version": "3.5.2"
  }
 },
 "nbformat": 4,
 "nbformat_minor": 1
}
