{
  "nbformat": 4,
  "nbformat_minor": 0,
  "metadata": {
    "colab": {
      "name": "denoise.ipynb",
      "version": "0.3.2",
      "provenance": [],
      "include_colab_link": true
    },
    "kernelspec": {
      "display_name": "Python 3",
      "language": "python",
      "name": "python3"
    },
    "accelerator": "GPU"
  },
  "cells": [
    {
      "cell_type": "markdown",
      "metadata": {
        "id": "view-in-github",
        "colab_type": "text"
      },
      "source": [
        "<a href=\"https://colab.research.google.com/github/AlexMontgomerie/deepLearning/blob/master/denoise.ipynb\" target=\"_parent\"><img src=\"https://colab.research.google.com/assets/colab-badge.svg\" alt=\"Open In Colab\"/></a>"
      ]
    },
    {
      "metadata": {
        "colab_type": "text",
        "id": "dDzgB3PlxNwk"
      },
      "cell_type": "markdown",
      "source": [
        "# Denoise Network"
      ]
    },
    {
      "metadata": {
        "colab_type": "text",
        "id": "8NE2E99sxSpo"
      },
      "cell_type": "markdown",
      "source": [
        "## Google Setup"
      ]
    },
    {
      "metadata": {
        "colab_type": "code",
        "id": "Q7zEuV1zxUsw",
        "outputId": "656b1e89-667c-4ea3-e12d-a92ec8653744",
        "colab": {
          "base_uri": "https://localhost:8080/",
          "height": 513
        }
      },
      "cell_type": "code",
      "source": [
        "%cd /content\n",
        "#!rm -rf deepLearning\n",
        "!git clone https://github.com/AlexMontgomerie/deepLearning\n",
        "%cd deepLearning\n",
        "!git pull origin master\n",
        "!pip install gputil\n",
        "!pip install psutil\n",
        "!pip install humanize\n",
        "# Taken from\n",
        "# https://stackoverflow.com/questions/48750199/google-colaboratory-misleading-information-about-its-gpu-only-5-ram-available\n",
        "# memory footprint support libraries/code\n",
        "!ln -sf /opt/bin/nvidia-smi /usr/bin/nvidia-smi\n",
        "!pip install gputil\n",
        "!pip install psutil\n",
        "!pip install humanize\n",
        "import psutil\n",
        "import humanize\n",
        "import os\n",
        "import GPUtil as GPU\n",
        "GPUs = GPU.getGPUs()\n",
        "# Colab only provides one GPU and it is not always guaranteed\n",
        "gpu = GPUs[0]\n",
        "def printm():\n",
        "  process = psutil.Process(os.getpid())\n",
        "  print(\"RAM Free: \" + humanize.naturalsize( psutil.virtual_memory().available ), \" | Proc size: \" + humanize.naturalsize( process.memory_info().rss))\n",
        "  print(\"GPU RAM Free: {0:.0f}MB | Used: {1:.0f}MB | Util {2:3.0f}% | Total {3:.0f}MB\".format(gpu.memoryFree, gpu.memoryUsed, gpu.memoryUtil*100, gpu.memoryTotal))\n",
        "printm()\n"
      ],
      "execution_count": 1,
      "outputs": [
        {
          "output_type": "stream",
          "text": [
            "/content\n",
            "Cloning into 'deepLearning'...\n",
            "remote: Enumerating objects: 64, done.\u001b[K\n",
            "remote: Counting objects: 100% (64/64), done.\u001b[K\n",
            "remote: Compressing objects: 100% (50/50), done.\u001b[K\n",
            "remote: Total 309 (delta 33), reused 33 (delta 13), pack-reused 245\u001b[K\n",
            "Receiving objects: 100% (309/309), 150.34 MiB | 12.84 MiB/s, done.\n",
            "Resolving deltas: 100% (116/116), done.\n",
            "Checking out files: 100% (101/101), done.\n",
            "/content/deepLearning\n",
            "From https://github.com/AlexMontgomerie/deepLearning\n",
            " * branch            master     -> FETCH_HEAD\n",
            "Already up to date.\n",
            "Collecting gputil\n",
            "  Downloading https://files.pythonhosted.org/packages/ed/0e/5c61eedde9f6c87713e89d794f01e378cfd9565847d4576fa627d758c554/GPUtil-1.4.0.tar.gz\n",
            "Building wheels for collected packages: gputil\n",
            "  Building wheel for gputil (setup.py) ... \u001b[?25ldone\n",
            "\u001b[?25h  Stored in directory: /root/.cache/pip/wheels/3d/77/07/80562de4bb0786e5ea186911a2c831fdd0018bda69beab71fd\n",
            "Successfully built gputil\n",
            "Installing collected packages: gputil\n",
            "Successfully installed gputil-1.4.0\n",
            "Requirement already satisfied: psutil in /usr/local/lib/python3.6/dist-packages (5.4.8)\n",
            "Requirement already satisfied: humanize in /usr/local/lib/python3.6/dist-packages (0.5.1)\n",
            "Requirement already satisfied: gputil in /usr/local/lib/python3.6/dist-packages (1.4.0)\n",
            "Requirement already satisfied: psutil in /usr/local/lib/python3.6/dist-packages (5.4.8)\n",
            "Requirement already satisfied: humanize in /usr/local/lib/python3.6/dist-packages (0.5.1)\n",
            "RAM Free: 12.9 GB  | Proc size: 143.4 MB\n",
            "GPU RAM Free: 11441MB | Used: 0MB | Util   0% | Total 11441MB\n"
          ],
          "name": "stdout"
        }
      ]
    },
    {
      "metadata": {
        "colab_type": "text",
        "id": "APrJZ0fsxNwl"
      },
      "cell_type": "markdown",
      "source": [
        "## Setup"
      ]
    },
    {
      "metadata": {
        "colab_type": "code",
        "id": "Mrsas8WmxNwm",
        "outputId": "0b19e516-076f-49a5-f925-c3072a385114",
        "colab": {
          "base_uri": "https://localhost:8080/",
          "height": 479
        }
      },
      "cell_type": "code",
      "source": [
        "from common import *\n",
        "!./setup.sh"
      ],
      "execution_count": 2,
      "outputs": [
        {
          "output_type": "stream",
          "text": [
            "Using TensorFlow backend.\n"
          ],
          "name": "stderr"
        },
        {
          "output_type": "stream",
          "text": [
            "--2019-03-07 17:15:22--  https://imperialcollegelondon.box.com/shared/static/ah40eq7cxpwq4a6l4f62efzdyt8rm3ha.zip\n",
            "Resolving imperialcollegelondon.box.com (imperialcollegelondon.box.com)... 107.152.24.197, 107.152.25.197\n",
            "Connecting to imperialcollegelondon.box.com (imperialcollegelondon.box.com)|107.152.24.197|:443... connected.\n",
            "HTTP request sent, awaiting response... 301 Moved Permanently\n",
            "Location: /public/static/ah40eq7cxpwq4a6l4f62efzdyt8rm3ha.zip [following]\n",
            "--2019-03-07 17:15:22--  https://imperialcollegelondon.box.com/public/static/ah40eq7cxpwq4a6l4f62efzdyt8rm3ha.zip\n",
            "Reusing existing connection to imperialcollegelondon.box.com:443.\n",
            "HTTP request sent, awaiting response... 301 Moved Permanently\n",
            "Location: https://imperialcollegelondon.app.box.com/public/static/ah40eq7cxpwq4a6l4f62efzdyt8rm3ha.zip [following]\n",
            "--2019-03-07 17:15:23--  https://imperialcollegelondon.app.box.com/public/static/ah40eq7cxpwq4a6l4f62efzdyt8rm3ha.zip\n",
            "Resolving imperialcollegelondon.app.box.com (imperialcollegelondon.app.box.com)... 107.152.25.199\n",
            "Connecting to imperialcollegelondon.app.box.com (imperialcollegelondon.app.box.com)|107.152.25.199|:443... connected.\n",
            "HTTP request sent, awaiting response... 302 Found\n",
            "Location: https://public.boxcloud.com/d/1/b1!viEAmaYrDm0SzbO69obrr03KFmmLUd9h14PKw7AaZpCfR1g5NwwDcL-g-Y5_6fE7TZqeRr1shxZLXNpX2ll9Fd2UDdSSJQdv-mhsNBn_OK4AwTwtUt1_Sb0y6AdEMYWR8kB9iFUYFAqZvrLRHTqMv-oGk-CpBia32mxxV1Jbg2ESxAkaGGMjerEZTuwRu8uWZjN8tVu5iT9LebNHG-h26XTcIhU2FOU6tlqz983GFwAV0OAN0WIg8JW0riGhAfi7VIwPJ3x6eqDSQDwCas1U9y7Xpn8ReyWPxwAK_q2EljkckPl6XG-9E4bLiRLhv2ExRDuEafKw8dq4XxbywOzzWqfd6-7a2s4zMRQVPQiGJN62jab-xaPu2dcSXzO9-tAFYcIHrXaxnJ0ohoCbfgGqy92_1dSz0xRolqaZHF7jQ3K3txMFV5pOVICi8WlHwmz44ZvLwes1ITHavA9mmBahOFfoj6mUQ-8KhoFc5spxDZTNtzbLLwp3uIH3P1XWz_Cg6dRk1bDUjfM4M022R5PuMkeEV9LCAuc9FME6-ypDyknUDFO-HLVwrnfese7gzvYhKYdzclyGMsHx0WzFQeTfZs_U4wk5LcuMgFWhpXWUlOI4EdrU6scXaoE9VZS1hi4vRVcE6dCEjbZaMSW1FOFYM2vKrcr9uZ_HxaaBVh91umw1n4gls8NUWf0eNUWTTpry3jZ7Qyqlg3t09jc6QdolVCnDx2Wa_rH4Nel_bkv_WzDU5EPia50s6agXAbxOjSGY5tPLt7tZgGnxoTPTxhjQ2913xrzGhvEnsoeBrwPmjYOKNYxbvje8PF1ZoKFrGsz38jIBYCPWLTL-4rV_kGMaQWysMlU-x29OKhBBqEQcWgNF9TtN4UWUewAbUUrKYLl7nmZqqTW97USRt6hrImLfXYpN93MXg1gGVzSOCtEAV4h21uDTsoPT_xN7UvkE90xdgeWyFBo-aJ89y4jkkaFkVMIH-T1XMluvpmfyZGklX8u6Xu0pNEc082bAljEa_nbklM6pD2bkZXXCyaVDxIRt2aJ6KNochEGbsv2EJOBcrOr4PlltpIADxWevtLCXSrYZqiK32m05hIyJqAYyjxmiZSUTquv659zd5WrPBXl77h-26-tI2jdcs3c6g_BT5hkmCWY15p7NEu4agHn_QARk9iiHxQC63COeM4AZpKV4iBarnuWoqiMJxMUHoS85Hum4yZwQh7P8Vzt5jCJHuMx1hJFKdyZOJ0k_1zn0VlWmClqK3z7raHbFS7XuQr0kxB8NuUJxYCPYtDMdvVVvktCiGkhs_aY_BgeTxUfBbA1iFtpkbv9jhK5xKI6EGg88VZMVrhdbAakxBH9sYsqw4CFsIP2WgGGBWUJvKJBm_kz-MF33fYqTa5k6xJ7WwyJRzjDZ29ufnnfYjvcYobWRvc8wjamkQSa91mcPrm2NzetI-M0vJ41Xng8h-VmNCIqjYi7OpKtuYjROmWZuk351XMjMloKriuC1qIijIbHo1Q../download [following]\n",
            "--2019-03-07 17:15:24--  https://public.boxcloud.com/d/1/b1!viEAmaYrDm0SzbO69obrr03KFmmLUd9h14PKw7AaZpCfR1g5NwwDcL-g-Y5_6fE7TZqeRr1shxZLXNpX2ll9Fd2UDdSSJQdv-mhsNBn_OK4AwTwtUt1_Sb0y6AdEMYWR8kB9iFUYFAqZvrLRHTqMv-oGk-CpBia32mxxV1Jbg2ESxAkaGGMjerEZTuwRu8uWZjN8tVu5iT9LebNHG-h26XTcIhU2FOU6tlqz983GFwAV0OAN0WIg8JW0riGhAfi7VIwPJ3x6eqDSQDwCas1U9y7Xpn8ReyWPxwAK_q2EljkckPl6XG-9E4bLiRLhv2ExRDuEafKw8dq4XxbywOzzWqfd6-7a2s4zMRQVPQiGJN62jab-xaPu2dcSXzO9-tAFYcIHrXaxnJ0ohoCbfgGqy92_1dSz0xRolqaZHF7jQ3K3txMFV5pOVICi8WlHwmz44ZvLwes1ITHavA9mmBahOFfoj6mUQ-8KhoFc5spxDZTNtzbLLwp3uIH3P1XWz_Cg6dRk1bDUjfM4M022R5PuMkeEV9LCAuc9FME6-ypDyknUDFO-HLVwrnfese7gzvYhKYdzclyGMsHx0WzFQeTfZs_U4wk5LcuMgFWhpXWUlOI4EdrU6scXaoE9VZS1hi4vRVcE6dCEjbZaMSW1FOFYM2vKrcr9uZ_HxaaBVh91umw1n4gls8NUWf0eNUWTTpry3jZ7Qyqlg3t09jc6QdolVCnDx2Wa_rH4Nel_bkv_WzDU5EPia50s6agXAbxOjSGY5tPLt7tZgGnxoTPTxhjQ2913xrzGhvEnsoeBrwPmjYOKNYxbvje8PF1ZoKFrGsz38jIBYCPWLTL-4rV_kGMaQWysMlU-x29OKhBBqEQcWgNF9TtN4UWUewAbUUrKYLl7nmZqqTW97USRt6hrImLfXYpN93MXg1gGVzSOCtEAV4h21uDTsoPT_xN7UvkE90xdgeWyFBo-aJ89y4jkkaFkVMIH-T1XMluvpmfyZGklX8u6Xu0pNEc082bAljEa_nbklM6pD2bkZXXCyaVDxIRt2aJ6KNochEGbsv2EJOBcrOr4PlltpIADxWevtLCXSrYZqiK32m05hIyJqAYyjxmiZSUTquv659zd5WrPBXl77h-26-tI2jdcs3c6g_BT5hkmCWY15p7NEu4agHn_QARk9iiHxQC63COeM4AZpKV4iBarnuWoqiMJxMUHoS85Hum4yZwQh7P8Vzt5jCJHuMx1hJFKdyZOJ0k_1zn0VlWmClqK3z7raHbFS7XuQr0kxB8NuUJxYCPYtDMdvVVvktCiGkhs_aY_BgeTxUfBbA1iFtpkbv9jhK5xKI6EGg88VZMVrhdbAakxBH9sYsqw4CFsIP2WgGGBWUJvKJBm_kz-MF33fYqTa5k6xJ7WwyJRzjDZ29ufnnfYjvcYobWRvc8wjamkQSa91mcPrm2NzetI-M0vJ41Xng8h-VmNCIqjYi7OpKtuYjROmWZuk351XMjMloKriuC1qIijIbHo1Q../download\n",
            "Resolving public.boxcloud.com (public.boxcloud.com)... 107.152.24.200\n",
            "Connecting to public.boxcloud.com (public.boxcloud.com)|107.152.24.200|:443... connected.\n",
            "HTTP request sent, awaiting response... 200 OK\n",
            "Length: 4088106554 (3.8G) [application/zip]\n",
            "Saving to: ‘hpatches_data.zip’\n",
            "\n",
            "hpatches_data.zip   100%[===================>]   3.81G  20.6MB/s    in 3m 15s  \n",
            "\n",
            "2019-03-07 17:18:39 (20.0 MB/s) - ‘hpatches_data.zip’ saved [4088106554/4088106554]\n",
            "\n"
          ],
          "name": "stdout"
        }
      ]
    },
    {
      "metadata": {
        "colab_type": "text",
        "id": "FtXex_nAxNwq"
      },
      "cell_type": "markdown",
      "source": [
        "## Get Denoise Model (Add)"
      ]
    },
    {
      "metadata": {
        "colab_type": "code",
        "id": "FD4URA2g5-u2",
        "outputId": "ac3c92a3-0927-4589-d1a0-31419d98ac1b",
        "colab": {
          "base_uri": "https://localhost:8080/",
          "height": 51
        }
      },
      "cell_type": "code",
      "source": [
        "from denoise_network import *\n",
        "from get_data import get_data\n",
        "\n",
        "EPOCHS = 50\n",
        "\n",
        "seqs_train, seqs_test = get_data()\n",
        "\n",
        "# get traning data\n",
        "\n",
        "denoise_generator     = DenoiseHPatches(seqs_train, batch_size=500)\n",
        "denoise_generator_val = DenoiseHPatches(seqs_test, batch_size=500)\n",
        "    #np.save('data/denoise_data/denoise_generator.npy'    , denoise_generator    )\n",
        "    #np.save('data/denoise_data/denoise_generator_val.npy', denoise_generator_val)\n"
      ],
      "execution_count": 3,
      "outputs": [
        {
          "output_type": "stream",
          "text": [
            "100%|██████████| 76/76 [01:07<00:00,  1.29it/s]\n",
            "100%|██████████| 40/40 [00:41<00:00,  1.01s/it]\n"
          ],
          "name": "stderr"
        }
      ]
    },
    {
      "metadata": {
        "colab_type": "code",
        "id": "JaEJ4-DKxNwr",
        "colab": {
          "base_uri": "https://localhost:8080/",
          "height": 88
        },
        "outputId": "cd513959-389d-47bb-bb62-adec167e8a09"
      },
      "cell_type": "code",
      "source": [
        "\n",
        "import sys\n",
        "import json\n",
        "import os\n",
        "import glob\n",
        "import keras\n",
        "from keras import regularizers\n",
        "from keras import backend as K\n",
        "from keras.models import Sequential, Model\n",
        "from keras.layers import Dense, Dropout, Activation, Flatten, Input, Lambda, Reshape\n",
        "from keras.layers import Conv2D, MaxPooling2D, BatchNormalization\n",
        "from keras.layers import Input, UpSampling2D, concatenate\n",
        "import time\n",
        "import tensorflow as tf\n",
        "import numpy as np\n",
        "import cv2\n",
        "import random\n",
        "from read_data import HPatches, DataGeneratorDesc, hpatches_sequence_folder, DenoiseHPatches, tps\n",
        "from utils import generate_desc_csv, plot_denoise, plot_triplet\n",
        "import matplotlib.pyplot as plt\n",
        "\n",
        "# denoise model\n",
        "def get_denoise_model(shape):\n",
        "\n",
        "  inputs = Input(shape)\n",
        "  conv1 = Conv2D(16, 3, activation = 'relu', padding = 'same', kernel_initializer = 'he_normal')(inputs)\n",
        "\n",
        "  pool1 = MaxPooling2D(pool_size=(2, 2))(conv1)\n",
        "  ## Bottleneck\n",
        "  conv2 = Conv2D(32, 3, activation = 'relu', padding = 'same', kernel_initializer = 'he_normal')(pool1)\n",
        "\n",
        "  ## Now the decoder starts\n",
        "  up3 = Conv2D(64, 2, activation = 'relu', padding = 'same', kernel_initializer = 'he_normal')(UpSampling2D(size = (2,2))(conv2))\n",
        "  \n",
        "  merge3 = concatenate([conv1,up3], axis = -1)\n",
        "  conv3 = Conv2D(64, 3, activation = 'relu', padding = 'same', kernel_initializer = 'he_normal')(merge3)\n",
        "\n",
        "  conv4 = Conv2D(1, 3,  padding = 'same')(conv3)\n",
        "\n",
        "  shallow_unet = Model(inputs = inputs, outputs = conv4)\n",
        "  return shallow_unet\n",
        "\n",
        "# optimiser\n",
        "opt  = opt = keras.optimizers.nadam()\n",
        "\n",
        "# train network\n",
        "def ssim_loss(clean,noisy):\n",
        "  return 1 - tf.image.ssim(clean, noisy, max_val=1.0)\n"
      ],
      "execution_count": 4,
      "outputs": [
        {
          "output_type": "stream",
          "text": [
            "WARNING:tensorflow:From /usr/local/lib/python3.6/dist-packages/tensorflow/python/framework/op_def_library.py:263: colocate_with (from tensorflow.python.framework.ops) is deprecated and will be removed in a future version.\n",
            "Instructions for updating:\n",
            "Colocations handled automatically by placer.\n"
          ],
          "name": "stdout"
        }
      ]
    },
    {
      "metadata": {
        "id": "HVebhX2uTo5L",
        "colab_type": "code",
        "colab": {
          "base_uri": "https://localhost:8080/",
          "height": 1346
        },
        "outputId": "dfa9ba36-3bb2-4ffb-b33b-55ccd3b11faf"
      },
      "cell_type": "code",
      "source": [
        "# get model\n",
        "shape = (32, 32, 1)\n",
        "denoise_model = get_denoise_model(shape)\n",
        "\n",
        "# callbacks\n",
        "callbacks = [\n",
        "    keras.callbacks.EarlyStopping(monitor = 'val_loss', patience = 5, verbose = 3, mode= 'auto'),\n",
        "    keras.callbacks.ModelCheckpoint('data/denoise_model_mae.weights.{epoch:02d}-{val_loss:.2f}.hdf5', verbose=1, save_best_only=True)\n",
        "]\n",
        "\n",
        "denoise_model.compile(loss='mean_absolute_error', optimizer=opt, metrics=['accuracy'])\n",
        "denoise_history = denoise_model.fit_generator(generator=denoise_generator, epochs=EPOCHS, callbacks=callbacks,\n",
        "                                              verbose=1, validation_data=denoise_generator_val)"
      ],
      "execution_count": 5,
      "outputs": [
        {
          "output_type": "stream",
          "text": [
            "WARNING:tensorflow:From /usr/local/lib/python3.6/dist-packages/tensorflow/python/ops/math_ops.py:3066: to_int32 (from tensorflow.python.ops.math_ops) is deprecated and will be removed in a future version.\n",
            "Instructions for updating:\n",
            "Use tf.cast instead.\n",
            "Epoch 1/50\n",
            "3117/3117 [==============================] - 611s 196ms/step - loss: 7.5346 - acc: 0.0537 - val_loss: 5.9604 - val_acc: 0.0679\n",
            "\n",
            "Epoch 00001: val_loss improved from inf to 5.96037, saving model to data/denoise_model_mae.weights.01-5.96.hdf5\n",
            "Epoch 2/50\n",
            "3117/3117 [==============================] - 604s 194ms/step - loss: 5.8847 - acc: 0.0654 - val_loss: 5.5976 - val_acc: 0.0702\n",
            "\n",
            "Epoch 00002: val_loss improved from 5.96037 to 5.59763, saving model to data/denoise_model_mae.weights.02-5.60.hdf5\n",
            "Epoch 3/50\n",
            "3117/3117 [==============================] - 604s 194ms/step - loss: 5.5918 - acc: 0.0721 - val_loss: 5.4552 - val_acc: 0.0783\n",
            "\n",
            "Epoch 00003: val_loss improved from 5.59763 to 5.45522, saving model to data/denoise_model_mae.weights.03-5.46.hdf5\n",
            "Epoch 4/50\n",
            "3117/3117 [==============================] - 608s 195ms/step - loss: 5.4160 - acc: 0.0792 - val_loss: 5.4160 - val_acc: 0.0694\n",
            "\n",
            "Epoch 00004: val_loss improved from 5.45522 to 5.41596, saving model to data/denoise_model_mae.weights.04-5.42.hdf5\n",
            "Epoch 5/50\n",
            "3117/3117 [==============================] - 606s 194ms/step - loss: 5.3225 - acc: 0.0844 - val_loss: 5.2917 - val_acc: 0.0726\n",
            "\n",
            "Epoch 00005: val_loss improved from 5.41596 to 5.29175, saving model to data/denoise_model_mae.weights.05-5.29.hdf5\n",
            "Epoch 6/50\n",
            "3117/3117 [==============================] - 606s 194ms/step - loss: 5.2691 - acc: 0.0876 - val_loss: 5.1614 - val_acc: 0.0872\n",
            "\n",
            "Epoch 00006: val_loss improved from 5.29175 to 5.16139, saving model to data/denoise_model_mae.weights.06-5.16.hdf5\n",
            "Epoch 7/50\n",
            "3117/3117 [==============================] - 608s 195ms/step - loss: 5.2365 - acc: 0.0898 - val_loss: 5.1606 - val_acc: 0.0886\n",
            "\n",
            "Epoch 00007: val_loss improved from 5.16139 to 5.16055, saving model to data/denoise_model_mae.weights.07-5.16.hdf5\n",
            "Epoch 8/50\n",
            "3117/3117 [==============================] - 607s 195ms/step - loss: 5.2131 - acc: 0.0915 - val_loss: 5.1078 - val_acc: 0.1066\n",
            "\n",
            "Epoch 00008: val_loss improved from 5.16055 to 5.10779, saving model to data/denoise_model_mae.weights.08-5.11.hdf5\n",
            "Epoch 9/50\n",
            "3117/3117 [==============================] - 607s 195ms/step - loss: 5.1969 - acc: 0.0924 - val_loss: 5.1351 - val_acc: 0.1039\n",
            "\n",
            "Epoch 00009: val_loss did not improve from 5.10779\n",
            "Epoch 10/50\n",
            "3117/3117 [==============================] - 608s 195ms/step - loss: 5.1804 - acc: 0.0933 - val_loss: 5.1486 - val_acc: 0.0811\n",
            "\n",
            "Epoch 00010: val_loss did not improve from 5.10779\n",
            "Epoch 11/50\n",
            "3117/3117 [==============================] - 608s 195ms/step - loss: 5.1725 - acc: 0.0939 - val_loss: 5.1377 - val_acc: 0.0872\n",
            "\n",
            "Epoch 00011: val_loss did not improve from 5.10779\n",
            "Epoch 12/50\n",
            "3117/3117 [==============================] - 604s 194ms/step - loss: 5.1605 - acc: 0.0947 - val_loss: 5.1011 - val_acc: 0.1007\n",
            "\n",
            "Epoch 00012: val_loss improved from 5.10779 to 5.10110, saving model to data/denoise_model_mae.weights.12-5.10.hdf5\n",
            "Epoch 13/50\n",
            "3117/3117 [==============================] - 599s 192ms/step - loss: 5.1535 - acc: 0.0952 - val_loss: 5.1913 - val_acc: 0.0917\n",
            "\n",
            "Epoch 00013: val_loss did not improve from 5.10110\n",
            "Epoch 14/50\n",
            "3117/3117 [==============================] - 600s 192ms/step - loss: 5.1472 - acc: 0.0960 - val_loss: 5.1552 - val_acc: 0.0979\n",
            "\n",
            "Epoch 00014: val_loss did not improve from 5.10110\n",
            "Epoch 15/50\n",
            "3117/3117 [==============================] - 600s 193ms/step - loss: 5.1408 - acc: 0.0967 - val_loss: 5.0929 - val_acc: 0.1027\n",
            "\n",
            "Epoch 00015: val_loss improved from 5.10110 to 5.09294, saving model to data/denoise_model_mae.weights.15-5.09.hdf5\n",
            "Epoch 16/50\n",
            "3117/3117 [==============================] - 597s 192ms/step - loss: 5.1321 - acc: 0.0976 - val_loss: 5.0951 - val_acc: 0.1129\n",
            "\n",
            "Epoch 00016: val_loss did not improve from 5.09294\n",
            "Epoch 17/50\n",
            "3117/3117 [==============================] - 597s 192ms/step - loss: 5.1285 - acc: 0.0983 - val_loss: 5.0536 - val_acc: 0.1168\n",
            "\n",
            "Epoch 00017: val_loss improved from 5.09294 to 5.05361, saving model to data/denoise_model_mae.weights.17-5.05.hdf5\n",
            "Epoch 18/50\n",
            "3117/3117 [==============================] - 598s 192ms/step - loss: 5.1203 - acc: 0.0988 - val_loss: 5.0627 - val_acc: 0.1201\n",
            "\n",
            "Epoch 00018: val_loss did not improve from 5.05361\n",
            "Epoch 19/50\n",
            "2845/3117 [==========================>...] - ETA: 43s - loss: 5.1166 - acc: 0.0991Buffered data was truncated after reaching the output size limit."
          ],
          "name": "stdout"
        }
      ]
    },
    {
      "metadata": {
        "id": "0l3uN_kxU8vl",
        "colab_type": "code",
        "colab": {
          "base_uri": "https://localhost:8080/",
          "height": 559
        },
        "outputId": "6bbdb111-c15e-4a8a-a9b8-854ee2496a38"
      },
      "cell_type": "code",
      "source": [
        "plot_denoise(denoise_model)\n",
        "plt.plot(denoise_history.history['loss'])\n",
        "plt.plot(denoise_history.history['val_loss'])\n",
        "plt.title('model loss')\n",
        "plt.ylabel('loss')\n",
        "plt.xlabel('epoch')\n",
        "plt.legend(['train', 'test'], loc='upper left')\n",
        "plt.show()"
      ],
      "execution_count": 6,
      "outputs": [
        {
          "output_type": "stream",
          "text": [
            "100%|██████████| 1/1 [00:00<00:00,  1.54it/s]\n"
          ],
          "name": "stderr"
        },
        {
          "output_type": "display_data",
          "data": {
            "image/png": "[encoded data removed]",
            "text/plain": [
              "<Figure size 576x396 with 3 Axes>"
            ]
          },
          "metadata": {
            "tags": []
          }
        },
        {
          "output_type": "display_data",
          "data": {
            "image/png": "[encoded data removed]",
            "text/plain": [
              "<Figure size 576x396 with 1 Axes>"
            ]
          },
          "metadata": {
            "tags": []
          }
        }
      ]
    },
    {
      "metadata": {
        "id": "RUFCyCPNU9-C",
        "colab_type": "code",
        "colab": {
          "base_uri": "https://localhost:8080/",
          "height": 1074
        },
        "outputId": "3a7e6e64-a3ce-43b3-d938-d7b95c8eeb52"
      },
      "cell_type": "code",
      "source": [
        "# get model\n",
        "shape = (32, 32, 1)\n",
        "denoise_model = get_denoise_model(shape)\n",
        "\n",
        "# callbacks\n",
        "callbacks = [\n",
        "    keras.callbacks.EarlyStopping(monitor = 'val_loss', patience = 5, verbose = 3, mode= 'auto'),\n",
        "    keras.callbacks.ModelCheckpoint('data/denoise_model_ssim.weights.{epoch:02d}-{val_loss:.2f}.hdf5', verbose=1, save_best_only=True)\n",
        "]\n",
        "\n",
        "denoise_model.compile(loss=ssim_loss, optimizer=opt, metrics=['accuracy'])\n",
        "denoise_history = denoise_model.fit_generator(generator=denoise_generator, epochs=EPOCHS, callbacks=callbacks,\n",
        "                                              verbose=1, validation_data=denoise_generator_val)"
      ],
      "execution_count": 7,
      "outputs": [
        {
          "output_type": "stream",
          "text": [
            "Epoch 1/50\n",
            "3117/3117 [==============================] - 639s 205ms/step - loss: 0.9913 - acc: 1.4757e-04 - val_loss: 0.4483 - val_acc: 0.0105\n",
            "\n",
            "Epoch 00001: val_loss improved from inf to 0.44830, saving model to data/denoise_model_ssim.weights.01-0.45.hdf5\n",
            "Epoch 2/50\n",
            "3117/3117 [==============================] - 640s 205ms/step - loss: 0.3413 - acc: 0.0346 - val_loss: 0.3444 - val_acc: 0.0469\n",
            "\n",
            "Epoch 00002: val_loss improved from 0.44830 to 0.34443, saving model to data/denoise_model_ssim.weights.02-0.34.hdf5\n",
            "Epoch 3/50\n",
            "3117/3117 [==============================] - 641s 206ms/step - loss: 0.3295 - acc: 0.0373 - val_loss: 0.3448 - val_acc: 0.0502\n",
            "\n",
            "Epoch 00003: val_loss did not improve from 0.34443\n",
            "Epoch 4/50\n",
            "3117/3117 [==============================] - 642s 206ms/step - loss: 0.3271 - acc: 0.0380 - val_loss: 0.3420 - val_acc: 0.0495\n",
            "\n",
            "Epoch 00004: val_loss improved from 0.34443 to 0.34197, saving model to data/denoise_model_ssim.weights.04-0.34.hdf5\n",
            "Epoch 5/50\n",
            "3117/3117 [==============================] - 642s 206ms/step - loss: 0.3254 - acc: 0.0388 - val_loss: 0.3439 - val_acc: 0.0504\n",
            "\n",
            "Epoch 00005: val_loss did not improve from 0.34197\n",
            "Epoch 6/50\n",
            "3117/3117 [==============================] - 638s 205ms/step - loss: 0.3292 - acc: 0.0386 - val_loss: 0.3441 - val_acc: 0.0313\n",
            "\n",
            "Epoch 00006: val_loss did not improve from 0.34197\n",
            "Epoch 7/50\n",
            "3117/3117 [==============================] - 636s 204ms/step - loss: 0.3242 - acc: 0.0400 - val_loss: 0.3515 - val_acc: 0.0464\n",
            "\n",
            "Epoch 00007: val_loss did not improve from 0.34197\n",
            "Epoch 8/50\n",
            "3117/3117 [==============================] - 638s 205ms/step - loss: 0.3234 - acc: 0.0410 - val_loss: 0.3402 - val_acc: 0.0472\n",
            "\n",
            "Epoch 00008: val_loss improved from 0.34197 to 0.34021, saving model to data/denoise_model_ssim.weights.08-0.34.hdf5\n",
            "Epoch 9/50\n",
            "3117/3117 [==============================] - 637s 204ms/step - loss: 0.3220 - acc: 0.0415 - val_loss: 0.3370 - val_acc: 0.0520\n",
            "\n",
            "Epoch 00009: val_loss improved from 0.34021 to 0.33700, saving model to data/denoise_model_ssim.weights.09-0.34.hdf5\n",
            "Epoch 10/50\n",
            "3117/3117 [==============================] - 641s 206ms/step - loss: 0.3207 - acc: 0.0418 - val_loss: 0.3362 - val_acc: 0.0450\n",
            "\n",
            "Epoch 00010: val_loss improved from 0.33700 to 0.33619, saving model to data/denoise_model_ssim.weights.10-0.34.hdf5\n",
            "Epoch 11/50\n",
            "3117/3117 [==============================] - 638s 205ms/step - loss: 0.3204 - acc: 0.0423 - val_loss: 0.3376 - val_acc: 0.0431\n",
            "\n",
            "Epoch 00011: val_loss did not improve from 0.33619\n",
            "Epoch 12/50\n",
            "3117/3117 [==============================] - 638s 205ms/step - loss: 0.3204 - acc: 0.0421 - val_loss: 0.3466 - val_acc: 0.0393\n",
            "\n",
            "Epoch 00012: val_loss did not improve from 0.33619\n",
            "Epoch 13/50\n",
            "3117/3117 [==============================] - 636s 204ms/step - loss: 0.3207 - acc: 0.0425 - val_loss: 0.3369 - val_acc: 0.0465\n",
            "\n",
            "Epoch 00013: val_loss did not improve from 0.33619\n",
            "Epoch 14/50\n",
            "3117/3117 [==============================] - 635s 204ms/step - loss: 0.3223 - acc: 0.0413 - val_loss: 0.3408 - val_acc: 0.0446\n",
            "\n",
            "Epoch 00014: val_loss did not improve from 0.33619\n",
            "Epoch 15/50\n",
            "3117/3117 [==============================] - 637s 204ms/step - loss: 0.3202 - acc: 0.0423 - val_loss: 0.3365 - val_acc: 0.0473\n",
            "\n",
            "Epoch 00015: val_loss did not improve from 0.33619\n",
            "Epoch 00015: early stopping\n"
          ],
          "name": "stdout"
        }
      ]
    },
    {
      "metadata": {
        "id": "UbD0bWk3VJbj",
        "colab_type": "code",
        "colab": {
          "base_uri": "https://localhost:8080/",
          "height": 559
        },
        "outputId": "f0800a10-3388-4e09-ebab-7e2549645194"
      },
      "cell_type": "code",
      "source": [
        "plot_denoise(denoise_model)\n",
        "plt.plot(denoise_history.history['loss'])\n",
        "plt.plot(denoise_history.history['val_loss'])\n",
        "plt.title('model loss')\n",
        "plt.ylabel('loss')\n",
        "plt.xlabel('epoch')\n",
        "plt.legend(['train', 'test'], loc='upper left')\n",
        "plt.show()"
      ],
      "execution_count": 8,
      "outputs": [
        {
          "output_type": "stream",
          "text": [
            "100%|██████████| 1/1 [00:00<00:00,  1.84it/s]\n"
          ],
          "name": "stderr"
        },
        {
          "output_type": "display_data",
          "data": {
            "image/png": "[encoded data removed]",
            "text/plain": [
              "<Figure size 576x396 with 3 Axes>"
            ]
          },
          "metadata": {
            "tags": []
          }
        },
        {
          "output_type": "display_data",
          "data": {
            "image/png": "[encoded data removed]",
            "text/plain": [
              "<Figure size 576x396 with 1 Axes>"
            ]
          },
          "metadata": {
            "tags": []
          }
        }
      ]
    },
    {
      "metadata": {
        "colab_type": "code",
        "id": "juzxm6yHvGWd",
        "colab": {
          "base_uri": "https://localhost:8080/",
          "height": 887
        },
        "outputId": "da773a24-a131-466a-dd6f-39bc8ca422e1"
      },
      "cell_type": "code",
      "source": [
        "# get model\n",
        "shape = (32, 32, 1)\n",
        "denoise_model = get_denoise_model(shape)\n",
        "\n",
        "# train network\n",
        "def snr_loss(clean,noisy):\n",
        "  tmp = tf.image.psnr(clean, noisy, max_val=1.0)\n",
        "  print(tmp)\n",
        "  return - tmp\n",
        "\n",
        "# callbacks\n",
        "callbacks = [\n",
        "    keras.callbacks.EarlyStopping(monitor = 'val_loss', patience = 5, verbose = 3, mode= 'auto'),\n",
        "    keras.callbacks.ModelCheckpoint('data/denoise_model_snr.weights.{epoch:02d}-{val_loss:.2f}.hdf5', verbose=1, save_best_only=True)\n",
        "]\n",
        "\n",
        "denoise_model.compile(loss=snr_loss, optimizer=opt, metrics=['accuracy'])\n",
        "denoise_history = denoise_model.fit_generator(generator=denoise_generator, epochs=EPOCHS, callbacks=callbacks,\n",
        "                                              verbose=1, validation_data=denoise_generator_val)"
      ],
      "execution_count": 9,
      "outputs": [
        {
          "output_type": "stream",
          "text": [
            "Tensor(\"loss_2/conv2d_15_loss/PSNR/Identity_3:0\", shape=(?,), dtype=float32)\n",
            "Epoch 1/50\n",
            "3117/3117 [==============================] - 602s 193ms/step - loss: 17.0054 - acc: 0.0727 - val_loss: 16.0476 - val_acc: 0.0864\n",
            "\n",
            "Epoch 00001: val_loss improved from inf to 16.04762, saving model to data/denoise_model_snr.weights.01-16.05.hdf5\n",
            "Epoch 2/50\n",
            "3117/3117 [==============================] - 601s 193ms/step - loss: 16.1871 - acc: 0.0824 - val_loss: 15.7737 - val_acc: 0.0843\n",
            "\n",
            "Epoch 00002: val_loss improved from 16.04762 to 15.77366, saving model to data/denoise_model_snr.weights.02-15.77.hdf5\n",
            "Epoch 3/50\n",
            "3117/3117 [==============================] - 600s 192ms/step - loss: 16.0537 - acc: 0.0838 - val_loss: 16.0697 - val_acc: 0.0744\n",
            "\n",
            "Epoch 00003: val_loss did not improve from 15.77366\n",
            "Epoch 4/50\n",
            "3117/3117 [==============================] - 599s 192ms/step - loss: 15.9786 - acc: 0.0845 - val_loss: 16.2356 - val_acc: 0.0649\n",
            "\n",
            "Epoch 00004: val_loss did not improve from 15.77366\n",
            "Epoch 5/50\n",
            "3117/3117 [==============================] - 601s 193ms/step - loss: 15.9316 - acc: 0.0851 - val_loss: 15.5321 - val_acc: 0.0936\n",
            "\n",
            "Epoch 00005: val_loss improved from 15.77366 to 15.53211, saving model to data/denoise_model_snr.weights.05-15.53.hdf5\n",
            "Epoch 6/50\n",
            "3117/3117 [==============================] - 601s 193ms/step - loss: 15.9014 - acc: 0.0854 - val_loss: 15.2427 - val_acc: 0.1153\n",
            "\n",
            "Epoch 00006: val_loss improved from 15.53211 to 15.24269, saving model to data/denoise_model_snr.weights.06-15.24.hdf5\n",
            "Epoch 7/50\n",
            "3117/3117 [==============================] - 600s 193ms/step - loss: 15.8962 - acc: 0.0852 - val_loss: 14.8634 - val_acc: 0.1220\n",
            "\n",
            "Epoch 00007: val_loss improved from 15.24269 to 14.86342, saving model to data/denoise_model_snr.weights.07-14.86.hdf5\n",
            "Epoch 8/50\n",
            "3117/3117 [==============================] - 601s 193ms/step - loss: 15.8954 - acc: 0.0851 - val_loss: 16.1615 - val_acc: 0.0664\n",
            "\n",
            "Epoch 00008: val_loss did not improve from 14.86342\n",
            "Epoch 9/50\n",
            "3117/3117 [==============================] - 602s 193ms/step - loss: 15.8460 - acc: 0.0861 - val_loss: 15.2679 - val_acc: 0.1098\n",
            "\n",
            "Epoch 00009: val_loss did not improve from 14.86342\n",
            "Epoch 10/50\n",
            "3117/3117 [==============================] - 602s 193ms/step - loss: 15.8245 - acc: 0.0862 - val_loss: 15.2340 - val_acc: 0.1107\n",
            "\n",
            "Epoch 00010: val_loss did not improve from 14.86342\n",
            "Epoch 11/50\n",
            "3117/3117 [==============================] - 601s 193ms/step - loss: 15.7909 - acc: 0.0867 - val_loss: 15.8747 - val_acc: 0.0749\n",
            "\n",
            "Epoch 00011: val_loss did not improve from 14.86342\n",
            "Epoch 12/50\n",
            "3117/3117 [==============================] - 600s 193ms/step - loss: 15.8018 - acc: 0.0865 - val_loss: 15.6088 - val_acc: 0.0773\n",
            "\n",
            "Epoch 00012: val_loss did not improve from 14.86342\n",
            "Epoch 00012: early stopping\n"
          ],
          "name": "stdout"
        }
      ]
    },
    {
      "metadata": {
        "colab_type": "code",
        "id": "0ts61RhlYgIS",
        "colab": {
          "base_uri": "https://localhost:8080/",
          "height": 559
        },
        "outputId": "0374df19-3aef-4627-aa46-ea58485bbb78"
      },
      "cell_type": "code",
      "source": [
        "plot_denoise(denoise_model)\n",
        "plt.plot(denoise_history.history['loss'])\n",
        "plt.plot(denoise_history.history['val_loss'])\n",
        "plt.title('model loss')\n",
        "plt.ylabel('loss')\n",
        "plt.xlabel('epoch')\n",
        "plt.legend(['train', 'test'], loc='upper left')\n",
        "plt.show()"
      ],
      "execution_count": 10,
      "outputs": [
        {
          "output_type": "stream",
          "text": [
            "100%|██████████| 1/1 [00:00<00:00,  1.88it/s]\n"
          ],
          "name": "stderr"
        },
        {
          "output_type": "display_data",
          "data": {
            "image/png": "[encoded data removed]",
            "text/plain": [
              "<Figure size 576x396 with 3 Axes>"
            ]
          },
          "metadata": {
            "tags": []
          }
        },
        {
          "output_type": "display_data",
          "data": {
            "image/png": "[encoded data removed]",
            "text/plain": [
              "<Figure size 576x396 with 1 Axes>"
            ]
          },
          "metadata": {
            "tags": []
          }
        }
      ]
    },
    {
      "metadata": {
        "colab_type": "code",
        "id": "fs6GxPo3dlRE",
        "colab": {
          "base_uri": "https://localhost:8080/",
          "height": 88
        },
        "outputId": "c575c912-fe4f-4acb-fbf9-a63bd8e06cbb"
      },
      "cell_type": "code",
      "source": [
        "import sys\n",
        "import json\n",
        "import os\n",
        "import glob\n",
        "import keras\n",
        "from keras import regularizers\n",
        "from keras import backend as K\n",
        "from keras.models import Sequential, Model\n",
        "from keras.layers import Dense, Dropout, Activation, Flatten, Input, Lambda, Reshape\n",
        "from keras.layers import Conv2D, MaxPooling2D, BatchNormalization\n",
        "from keras.layers import Input, UpSampling2D, concatenate\n",
        "import time\n",
        "import tensorflow as tf\n",
        "import numpy as np\n",
        "import cv2\n",
        "import random\n",
        "from read_data import HPatches, DataGeneratorDesc, hpatches_sequence_folder, DenoiseHPatches, tps\n",
        "from utils import generate_desc_csv, plot_denoise, plot_triplet\n",
        "import matplotlib.pyplot as plt\n",
        "\n",
        "\n",
        "def get_descriptor_model(shape):\n",
        "  \n",
        "  '''Architecture copies HardNet architecture'''\n",
        "  \n",
        "  init_weights = keras.initializers.he_normal()\n",
        "  \n",
        "  descriptor_model = Sequential()\n",
        "  descriptor_model.add(Conv2D(32, 3, padding='same', input_shape=shape, use_bias = True, kernel_initializer=init_weights))\n",
        "  descriptor_model.add(BatchNormalization(axis = -1))\n",
        "  descriptor_model.add(Activation('relu'))\n",
        "\n",
        "  descriptor_model.add(Conv2D(32, 3, padding='same', use_bias = True, kernel_initializer=init_weights))\n",
        "  descriptor_model.add(BatchNormalization(axis = -1))\n",
        "  descriptor_model.add(Activation('relu'))\n",
        "\n",
        "  descriptor_model.add(Conv2D(64, 3, padding='same', strides=2, use_bias = True, kernel_initializer=init_weights))\n",
        "  descriptor_model.add(BatchNormalization(axis = -1))\n",
        "  descriptor_model.add(Activation('relu'))\n",
        "\n",
        "  descriptor_model.add(Conv2D(64, 3, padding='same', use_bias = True, kernel_initializer=init_weights))\n",
        "  descriptor_model.add(BatchNormalization(axis = -1))\n",
        "  descriptor_model.add(Activation('relu'))\n",
        "\n",
        "  descriptor_model.add(Conv2D(128, 3, padding='same', strides=2,  use_bias = True, kernel_initializer=init_weights))\n",
        "  descriptor_model.add(BatchNormalization(axis = -1))\n",
        "  descriptor_model.add(Activation('relu'))\n",
        "\n",
        "  descriptor_model.add(Conv2D(128, 3, padding='same', use_bias = True, kernel_initializer=init_weights))\n",
        "  descriptor_model.add(BatchNormalization(axis = -1))\n",
        "  descriptor_model.add(Activation('relu'))\n",
        "  descriptor_model.add(Dropout(0.3))\n",
        "\n",
        "  descriptor_model.add(Conv2D(128, 8, padding='valid', use_bias = True, kernel_initializer=init_weights))\n",
        "  \n",
        "  # Final descriptor reshape\n",
        "  descriptor_model.add(Reshape((128,)))\n",
        "  \n",
        "  return descriptor_model\n",
        "  \n",
        "\n",
        "from keras.layers import Lambda\n",
        "shape = (32, 32, 1)\n",
        "xa = Input(shape=shape, name='a')\n",
        "xp = Input(shape=shape, name='p')\n",
        "xn = Input(shape=shape, name='n')\n",
        "descriptor_model = get_descriptor_model(shape)\n",
        "ea = descriptor_model(xa)\n",
        "ep = descriptor_model(xp)\n",
        "en = descriptor_model(xn)\n",
        "\n",
        "  \n",
        "def triplet_loss(x):\n",
        "  \n",
        "  output_dim = 128\n",
        "  a, p, n = x\n",
        "  _alpha = 1.0\n",
        "  positive_distance = K.mean(K.square(a - p), axis=-1)\n",
        "  negative_distance = K.mean(K.square(a - n), axis=-1)\n",
        "  \n",
        "  return K.expand_dims(K.maximum(0.0, positive_distance - negative_distance + _alpha), axis = 1)\n",
        "\n",
        "\n",
        "loss = Lambda(triplet_loss)([ea, ep, en])\n",
        "\n",
        "descriptor_model_trip = Model(inputs=[xa, xp, xn], outputs=loss)\n",
        "sgd = keras.optimizers.SGD(lr=0.1)\n",
        "descriptor_model_trip.compile(loss='mean_absolute_error', optimizer=sgd)"
      ],
      "execution_count": 11,
      "outputs": [
        {
          "output_type": "stream",
          "text": [
            "WARNING:tensorflow:From /usr/local/lib/python3.6/dist-packages/keras/backend/tensorflow_backend.py:3445: calling dropout (from tensorflow.python.ops.nn_ops) with keep_prob is deprecated and will be removed in a future version.\n",
            "Instructions for updating:\n",
            "Please use `rate` instead of `keep_prob`. Rate should be set to `rate = 1 - keep_prob`.\n"
          ],
          "name": "stdout"
        }
      ]
    },
    {
      "metadata": {
        "id": "2DaoOrznsl2C",
        "colab_type": "code",
        "colab": {}
      },
      "cell_type": "code",
      "source": [
        "hpatches_dir = './hpatches'\n",
        "splits_path = './splits.json'\n",
        "\n",
        "splits_json = json.load(open(splits_path, 'rb'))\n",
        "split = splits_json['a']\n",
        "\n",
        "train_fnames = split['train']\n",
        "test_fnames = split['test']\n",
        "\n",
        "seqs = glob.glob(hpatches_dir+'/*')\n",
        "seqs = [os.path.abspath(p) for p in seqs]   \n",
        "seqs_train = list(filter(lambda x: x.split('/')[-1] in train_fnames, seqs)) \n",
        "seqs_test = list(filter(lambda x: x.split('/')[-1] in split['test'], seqs))\n",
        "\n",
        "\n",
        "### Descriptor loading and training\n",
        "# Loading images\n",
        "hPatches = HPatches(train_fnames=train_fnames, test_fnames=test_fnames,\n",
        "                    denoise_model=denoise_model, use_clean=True)\n",
        "# Creating training generator\n",
        "training_generator = DataGeneratorDesc(*hPatches.read_image_file(hpatches_dir, train=1), num_triplets=100000)\n",
        "# Creating validation generator\n",
        "val_generator = DataGeneratorDesc(*hPatches.read_image_file(hpatches_dir, train=0), num_triplets=10000)\n",
        "epochs = 50\n",
        "### As with the denoising model, we use a loop to save for each epoch \n",
        "## #the weights in an external website in case colab stops. \n",
        "### reset, so e.g. calling 5 times fit(epochs=1) behave as fit(epochs=5)\n",
        "\n",
        "### If you have a model saved from a previous training session\n",
        "### Load it in the next line\n",
        "# descriptor_model_trip.set_weights(keras.models.load_model('./descriptor.h5').get_weights())\n",
        "# descriptor_model_trip.optimizer = keras.models.load_model('./descriptor.h5').optimizer\n",
        "\n",
        "# callbacks\n",
        "callbacks = [\n",
        "    #keras.callbacks.EarlyStopping(monitor = 'val_loss', patience = 5, verbose = 3, mode= 'auto'),\n",
        "    keras.callbacks.ModelCheckpoint('data/descriptor_model.weights.{epoch:02d}-{val_loss:.2f}.hdf5', verbose=1, save_best_only=True)\n",
        "]\n",
        "\n",
        "descriptor_history = descriptor_model_trip.fit_generator(generator=training_generator, epochs=40, callbacks=callbacks,\n",
        "                                              verbose=1, validation_data=val_generator)\n"
      ],
      "execution_count": 0,
      "outputs": []
    }
  ]
}