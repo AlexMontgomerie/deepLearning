{
 "cells": [
  {
   "cell_type": "markdown",
   "metadata": {},
   "source": [
    "# Denoise Network"
   ]
  },
  {
   "cell_type": "markdown",
   "metadata": {},
   "source": [
    "## Setup"
   ]
  },
  {
   "cell_type": "code",
   "execution_count": 1,
   "metadata": {},
   "outputs": [
    {
     "name": "stderr",
     "output_type": "stream",
     "text": [
      "/usr/local/lib/python3.5/dist-packages/h5py/__init__.py:36: FutureWarning: Conversion of the second argument of issubdtype from `float` to `np.floating` is deprecated. In future, it will be treated as `np.float64 == np.dtype(float).type`.\n",
      "  from ._conv import register_converters as _register_converters\n",
      "Using TensorFlow backend.\n"
     ]
    }
   ],
   "source": [
    "from common import *\n",
    "!./setup.sh"
   ]
  },
  {
   "cell_type": "markdown",
   "metadata": {},
   "source": [
    "## Get Denoise Model (Add)"
   ]
  },
  {
   "cell_type": "code",
   "execution_count": 3,
   "metadata": {},
   "outputs": [
    {
     "ename": "ImportError",
     "evalue": "cannot import name 'get_denoise_model_add'",
     "output_type": "error",
     "traceback": [
      "\u001b[0;31m---------------------------------------------------------------------------\u001b[0m",
      "\u001b[0;31mImportError\u001b[0m                               Traceback (most recent call last)",
      "\u001b[0;32m<ipython-input-3-c6e1a630dfbc>\u001b[0m in \u001b[0;36m<module>\u001b[0;34m()\u001b[0m\n\u001b[0;32m----> 1\u001b[0;31m \u001b[0;32mfrom\u001b[0m \u001b[0mdenoise_network\u001b[0m \u001b[0;32mimport\u001b[0m \u001b[0mget_denoise_model_add\u001b[0m\u001b[0;34m\u001b[0m\u001b[0m\n\u001b[0m\u001b[1;32m      2\u001b[0m \u001b[0;32mfrom\u001b[0m \u001b[0mget_data\u001b[0m \u001b[0;32mimport\u001b[0m \u001b[0mget_data\u001b[0m\u001b[0;34m\u001b[0m\u001b[0m\n\u001b[1;32m      3\u001b[0m \u001b[0;34m\u001b[0m\u001b[0m\n\u001b[1;32m      4\u001b[0m \u001b[0mEPOCHS\u001b[0m \u001b[0;34m=\u001b[0m \u001b[0;36m50\u001b[0m\u001b[0;34m\u001b[0m\u001b[0m\n\u001b[1;32m      5\u001b[0m \u001b[0;34m\u001b[0m\u001b[0m\n",
      "\u001b[0;31mImportError\u001b[0m: cannot import name 'get_denoise_model_add'"
     ]
    }
   ],
   "source": [
    "from denoise_network import *\n",
    "from get_data import get_data\n",
    "\n",
    "EPOCHS = 50\n",
    "\n",
    "seqs_train, seqs_test = get_data()\n",
    "\n",
    "# get traning data\n",
    "if os.path.exists('data/denoise_data/denoise_generator.npy') and os.path.exists('data/denoise_data/denoise_generator_val.npy'):\n",
    "    denoise_generator     = np.load('data/denoise_data/denoise_generator.npy'    )\n",
    "    denoise_generator_val = np.load('data/denoise_data/denoise_generator_val.npy')\n",
    "\n",
    "else:\n",
    "    denoise_generator     = DenoiseHPatches(seqs_train, batch_size=500)\n",
    "    denoise_generator_val = DenoiseHPatches(seqs_test, batch_size=500)\n",
    "    np.save('data/denoise_data/denoise_generator.npy'    , denoise_generator    )\n",
    "    np.save('data/denoise_data/denoise_generator_val.npy', denoise_generator_val)\n",
    "\n",
    "\n",
    "# get model\n",
    "shape = (32, 32, 1)\n",
    "denoise_model = get_denoise_model(shape)\n",
    "\n",
    "# callbacks\n",
    "callbacks = [\n",
    "    keras.callbacks.EarlyStopping(monitor = 'val_loss', patience = 5, verbose = 3, mode= 'auto'),\n",
    "    keras.callbacks.ModelCheckpoint('data/denoise_model.weights.{epoch:02d}-{val_loss:.2f}.hdf5', verbose=1, save_best_only=True)\n",
    "]\n",
    "\n",
    "# optimiser\n",
    "opt  = opt = keras.optimizers.nadam()\n",
    "\n",
    "# loss\n",
    "loss = 'mean_absolute_error'\n",
    "\n",
    "# train network\n",
    "denoise_model.compile(loss=loss, optimizer=opt, metrics=['accuracy'])\n",
    "denoise_history = denoise_model.fit_generator(generator=denoise_generator, epochs=EPOCHS, callbacks=callbacks,\n",
    "                                              verbose=1, validation_data=denoise_generator_val)"
   ]
  },
  {
   "cell_type": "code",
   "execution_count": null,
   "metadata": {},
   "outputs": [],
   "source": []
  }
 ],
 "metadata": {
  "kernelspec": {
   "display_name": "Python 3",
   "language": "python",
   "name": "python3"
  },
  "language_info": {
   "codemirror_mode": {
    "name": "ipython",
    "version": 3
   },
   "file_extension": ".py",
   "mimetype": "text/x-python",
   "name": "python",
   "nbconvert_exporter": "python",
   "pygments_lexer": "ipython3",
   "version": "3.5.2"
  }
 },
 "nbformat": 4,
 "nbformat_minor": 2
}
